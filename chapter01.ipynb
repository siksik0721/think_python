{
 "cells": [
  {
   "cell_type": "markdown",
   "id": "5522cd35",
   "metadata": {},
   "source": [
    "# 1. Programming as a way of thinking"
   ]
  },
  {
   "cell_type": "markdown",
   "id": "3cc63b0b",
   "metadata": {},
   "source": [
    "## 1.1. Arithmetic operators"
   ]
  },
  {
   "cell_type": "code",
   "execution_count": 1,
   "id": "e73e3de4",
   "metadata": {},
   "outputs": [
    {
     "data": {
      "text/plain": [
       "42"
      ]
     },
     "execution_count": 1,
     "metadata": {},
     "output_type": "execute_result"
    }
   ],
   "source": [
    "30 + 12"
   ]
  },
  {
   "cell_type": "code",
   "execution_count": 2,
   "id": "1deee5e9",
   "metadata": {},
   "outputs": [
    {
     "data": {
      "text/plain": [
       "42"
      ]
     },
     "execution_count": 2,
     "metadata": {},
     "output_type": "execute_result"
    }
   ],
   "source": [
    "43 - 1"
   ]
  },
  {
   "cell_type": "code",
   "execution_count": 3,
   "id": "eed5fb51",
   "metadata": {},
   "outputs": [
    {
     "data": {
      "text/plain": [
       "42"
      ]
     },
     "execution_count": 3,
     "metadata": {},
     "output_type": "execute_result"
    }
   ],
   "source": [
    "6 * 7"
   ]
  },
  {
   "cell_type": "code",
   "execution_count": 4,
   "id": "3cb9a7ab",
   "metadata": {},
   "outputs": [
    {
     "data": {
      "text/plain": [
       "42.0"
      ]
     },
     "execution_count": 4,
     "metadata": {},
     "output_type": "execute_result"
    }
   ],
   "source": [
    "84 / 2"
   ]
  },
  {
   "cell_type": "code",
   "execution_count": 5,
   "id": "415f892f",
   "metadata": {},
   "outputs": [
    {
     "data": {
      "text/plain": [
       "42"
      ]
     },
     "execution_count": 5,
     "metadata": {},
     "output_type": "execute_result"
    }
   ],
   "source": [
    "84 // 2"
   ]
  },
  {
   "cell_type": "code",
   "execution_count": 6,
   "id": "604a2e62",
   "metadata": {},
   "outputs": [
    {
     "data": {
      "text/plain": [
       "42"
      ]
     },
     "execution_count": 6,
     "metadata": {},
     "output_type": "execute_result"
    }
   ],
   "source": [
    "85 // 2"
   ]
  },
  {
   "cell_type": "code",
   "execution_count": 7,
   "id": "26440a78",
   "metadata": {},
   "outputs": [
    {
     "data": {
      "text/plain": [
       "49"
      ]
     },
     "execution_count": 7,
     "metadata": {},
     "output_type": "execute_result"
    }
   ],
   "source": [
    "7 ** 2"
   ]
  },
  {
   "cell_type": "code",
   "execution_count": 8,
   "id": "5d9f1ceb",
   "metadata": {},
   "outputs": [
    {
     "data": {
      "text/plain": [
       "5"
      ]
     },
     "execution_count": 8,
     "metadata": {},
     "output_type": "execute_result"
    }
   ],
   "source": [
    "7 ^ 2"
   ]
  },
  {
   "cell_type": "markdown",
   "id": "9777b5b4",
   "metadata": {},
   "source": [
    "## 1.2. Expressions"
   ]
  },
  {
   "cell_type": "code",
   "execution_count": 9,
   "id": "7870115d",
   "metadata": {},
   "outputs": [
    {
     "data": {
      "text/plain": [
       "42"
      ]
     },
     "execution_count": 9,
     "metadata": {},
     "output_type": "execute_result"
    }
   ],
   "source": [
    "6 + 6 ** 2"
   ]
  },
  {
   "cell_type": "code",
   "execution_count": 10,
   "id": "0c9b53dd",
   "metadata": {},
   "outputs": [
    {
     "data": {
      "text/plain": [
       "42"
      ]
     },
     "execution_count": 10,
     "metadata": {},
     "output_type": "execute_result"
    }
   ],
   "source": [
    "12 + 5 * 6"
   ]
  },
  {
   "cell_type": "code",
   "execution_count": 11,
   "id": "b8e97a65",
   "metadata": {},
   "outputs": [
    {
     "data": {
      "text/plain": [
       "102"
      ]
     },
     "execution_count": 11,
     "metadata": {},
     "output_type": "execute_result"
    }
   ],
   "source": [
    "(12 + 5) * 6"
   ]
  },
  {
   "cell_type": "markdown",
   "id": "371dcbe9",
   "metadata": {},
   "source": [
    "## 1.3. Arithmetic functions"
   ]
  },
  {
   "cell_type": "code",
   "execution_count": 12,
   "id": "52d27cea",
   "metadata": {},
   "outputs": [
    {
     "data": {
      "text/plain": [
       "42"
      ]
     },
     "execution_count": 12,
     "metadata": {},
     "output_type": "execute_result"
    }
   ],
   "source": [
    "round(42.4)"
   ]
  },
  {
   "cell_type": "code",
   "execution_count": 13,
   "id": "6a540dd8",
   "metadata": {},
   "outputs": [
    {
     "data": {
      "text/plain": [
       "43"
      ]
     },
     "execution_count": 13,
     "metadata": {},
     "output_type": "execute_result"
    }
   ],
   "source": [
    "round(42.6)"
   ]
  },
  {
   "cell_type": "code",
   "execution_count": 14,
   "id": "e4bca0aa",
   "metadata": {},
   "outputs": [
    {
     "data": {
      "text/plain": [
       "42"
      ]
     },
     "execution_count": 14,
     "metadata": {},
     "output_type": "execute_result"
    }
   ],
   "source": [
    "abs(42)"
   ]
  },
  {
   "cell_type": "code",
   "execution_count": 15,
   "id": "b6103009",
   "metadata": {},
   "outputs": [
    {
     "data": {
      "text/plain": [
       "42"
      ]
     },
     "execution_count": 15,
     "metadata": {},
     "output_type": "execute_result"
    }
   ],
   "source": [
    "abs(-42)"
   ]
  },
  {
   "cell_type": "code",
   "execution_count": 16,
   "id": "f523cc56",
   "metadata": {},
   "outputs": [
    {
     "ename": "SyntaxError",
     "evalue": "invalid syntax (816474439.py, line 1)",
     "output_type": "error",
     "traceback": [
      "  \u001b[36mCell\u001b[39m\u001b[36m \u001b[39m\u001b[32mIn[16]\u001b[39m\u001b[32m, line 1\u001b[39m\n\u001b[31m    \u001b[39m\u001b[31mabs 42\u001b[39m\n        ^\n\u001b[31mSyntaxError\u001b[39m\u001b[31m:\u001b[39m invalid syntax\n"
     ]
    }
   ],
   "source": [
    "abs 42"
   ]
  },
  {
   "cell_type": "code",
   "execution_count": 17,
   "id": "1e7480ec",
   "metadata": {},
   "outputs": [
    {
     "data": {
      "text/plain": [
       "<function abs(x, /)>"
      ]
     },
     "execution_count": 17,
     "metadata": {},
     "output_type": "execute_result"
    }
   ],
   "source": [
    "abs"
   ]
  },
  {
   "cell_type": "markdown",
   "id": "a4039be9",
   "metadata": {},
   "source": [
    "## 1.4. Strings"
   ]
  },
  {
   "cell_type": "code",
   "execution_count": 18,
   "id": "cbd92e8f",
   "metadata": {},
   "outputs": [
    {
     "data": {
      "text/plain": [
       "'Hello'"
      ]
     },
     "execution_count": 18,
     "metadata": {},
     "output_type": "execute_result"
    }
   ],
   "source": [
    "'Hello'"
   ]
  },
  {
   "cell_type": "code",
   "execution_count": 19,
   "id": "bc537492",
   "metadata": {},
   "outputs": [
    {
     "data": {
      "text/plain": [
       "'world'"
      ]
     },
     "execution_count": 19,
     "metadata": {},
     "output_type": "execute_result"
    }
   ],
   "source": [
    "\"world\""
   ]
  },
  {
   "cell_type": "code",
   "execution_count": 20,
   "id": "33b7df0d",
   "metadata": {},
   "outputs": [
    {
     "data": {
      "text/plain": [
       "\"it's a small \""
      ]
     },
     "execution_count": 20,
     "metadata": {},
     "output_type": "execute_result"
    }
   ],
   "source": [
    "\"it's a small \""
   ]
  },
  {
   "cell_type": "code",
   "execution_count": 21,
   "id": "e5da9fb7",
   "metadata": {},
   "outputs": [
    {
     "data": {
      "text/plain": [
       "'Well, '"
      ]
     },
     "execution_count": 21,
     "metadata": {},
     "output_type": "execute_result"
    }
   ],
   "source": [
    "'Well, '"
   ]
  },
  {
   "cell_type": "code",
   "execution_count": 22,
   "id": "a909ea9f",
   "metadata": {},
   "outputs": [
    {
     "data": {
      "text/plain": [
       "\"Well, it's a small world.\""
      ]
     },
     "execution_count": 22,
     "metadata": {},
     "output_type": "execute_result"
    }
   ],
   "source": [
    "'Well, ' + \"it's a small \" + 'world.'"
   ]
  },
  {
   "cell_type": "code",
   "execution_count": 23,
   "id": "54c89615",
   "metadata": {},
   "outputs": [
    {
     "data": {
      "text/plain": [
       "'Spam, Spam, Spam, Spam, '"
      ]
     },
     "execution_count": 23,
     "metadata": {},
     "output_type": "execute_result"
    }
   ],
   "source": [
    "'Spam, ' * 4"
   ]
  },
  {
   "cell_type": "code",
   "execution_count": 24,
   "id": "293922bd",
   "metadata": {},
   "outputs": [
    {
     "data": {
      "text/plain": [
       "4"
      ]
     },
     "execution_count": 24,
     "metadata": {},
     "output_type": "execute_result"
    }
   ],
   "source": [
    "len('Spam')"
   ]
  },
  {
   "cell_type": "code",
   "execution_count": 25,
   "id": "06817c12",
   "metadata": {},
   "outputs": [
    {
     "ename": "SyntaxError",
     "evalue": "invalid syntax (3321520974.py, line 1)",
     "output_type": "error",
     "traceback": [
      "  \u001b[36mCell\u001b[39m\u001b[36m \u001b[39m\u001b[32mIn[25]\u001b[39m\u001b[32m, line 1\u001b[39m\n\u001b[31m    \u001b[39m\u001b[31m`Hello`\u001b[39m\n    ^\n\u001b[31mSyntaxError\u001b[39m\u001b[31m:\u001b[39m invalid syntax\n"
     ]
    }
   ],
   "source": [
    "`Hello`"
   ]
  },
  {
   "cell_type": "markdown",
   "id": "1fe8e711",
   "metadata": {},
   "source": [
    "## 1.5. Values and types"
   ]
  },
  {
   "cell_type": "code",
   "execution_count": 26,
   "id": "4bfdd899",
   "metadata": {},
   "outputs": [
    {
     "data": {
      "text/plain": [
       "int"
      ]
     },
     "execution_count": 26,
     "metadata": {},
     "output_type": "execute_result"
    }
   ],
   "source": [
    "type(2)"
   ]
  },
  {
   "cell_type": "code",
   "execution_count": 27,
   "id": "5a05f6e2",
   "metadata": {},
   "outputs": [
    {
     "data": {
      "text/plain": [
       "float"
      ]
     },
     "execution_count": 27,
     "metadata": {},
     "output_type": "execute_result"
    }
   ],
   "source": [
    "type(42.0)"
   ]
  },
  {
   "cell_type": "code",
   "execution_count": 28,
   "id": "7246a715",
   "metadata": {},
   "outputs": [
    {
     "data": {
      "text/plain": [
       "str"
      ]
     },
     "execution_count": 28,
     "metadata": {},
     "output_type": "execute_result"
    }
   ],
   "source": [
    "type('Hello, World!')"
   ]
  },
  {
   "cell_type": "code",
   "execution_count": 29,
   "id": "ad320a87",
   "metadata": {},
   "outputs": [
    {
     "data": {
      "text/plain": [
       "42"
      ]
     },
     "execution_count": 29,
     "metadata": {},
     "output_type": "execute_result"
    }
   ],
   "source": [
    "int(42.9)"
   ]
  },
  {
   "cell_type": "code",
   "execution_count": 30,
   "id": "b316a14d",
   "metadata": {},
   "outputs": [
    {
     "data": {
      "text/plain": [
       "42.0"
      ]
     },
     "execution_count": 30,
     "metadata": {},
     "output_type": "execute_result"
    }
   ],
   "source": [
    "float(42)"
   ]
  },
  {
   "cell_type": "code",
   "execution_count": 31,
   "id": "530f2352",
   "metadata": {},
   "outputs": [
    {
     "data": {
      "text/plain": [
       "'126'"
      ]
     },
     "execution_count": 31,
     "metadata": {},
     "output_type": "execute_result"
    }
   ],
   "source": [
    "'126'"
   ]
  },
  {
   "cell_type": "code",
   "execution_count": 32,
   "id": "30282509",
   "metadata": {},
   "outputs": [
    {
     "data": {
      "text/plain": [
       "str"
      ]
     },
     "execution_count": 32,
     "metadata": {},
     "output_type": "execute_result"
    }
   ],
   "source": [
    "type('126')"
   ]
  },
  {
   "cell_type": "code",
   "execution_count": 33,
   "id": "4372459f",
   "metadata": {},
   "outputs": [
    {
     "ename": "TypeError",
     "evalue": "unsupported operand type(s) for /: 'str' and 'int'",
     "output_type": "error",
     "traceback": [
      "\u001b[31m---------------------------------------------------------------------------\u001b[39m",
      "\u001b[31mTypeError\u001b[39m                                 Traceback (most recent call last)",
      "\u001b[36mCell\u001b[39m\u001b[36m \u001b[39m\u001b[32mIn[33]\u001b[39m\u001b[32m, line 1\u001b[39m\n\u001b[32m----> \u001b[39m\u001b[32m1\u001b[39m \u001b[33;43m'\u001b[39;49m\u001b[33;43m126\u001b[39;49m\u001b[33;43m'\u001b[39;49m\u001b[43m \u001b[49m\u001b[43m/\u001b[49m\u001b[43m \u001b[49m\u001b[32;43m3\u001b[39;49m\n",
      "\u001b[31mTypeError\u001b[39m: unsupported operand type(s) for /: 'str' and 'int'"
     ]
    }
   ],
   "source": [
    "'126' / 3"
   ]
  },
  {
   "cell_type": "code",
   "execution_count": 34,
   "id": "54173dd0",
   "metadata": {},
   "outputs": [
    {
     "data": {
      "text/plain": [
       "42.0"
      ]
     },
     "execution_count": 34,
     "metadata": {},
     "output_type": "execute_result"
    }
   ],
   "source": [
    "int('126') / 3"
   ]
  },
  {
   "cell_type": "code",
   "execution_count": 35,
   "id": "bd6c333b",
   "metadata": {},
   "outputs": [
    {
     "data": {
      "text/plain": [
       "12.6"
      ]
     },
     "execution_count": 35,
     "metadata": {},
     "output_type": "execute_result"
    }
   ],
   "source": [
    "float('12.6')"
   ]
  },
  {
   "cell_type": "code",
   "execution_count": 36,
   "id": "a090cec8",
   "metadata": {},
   "outputs": [
    {
     "data": {
      "text/plain": [
       "(1, 0, 0)"
      ]
     },
     "execution_count": 36,
     "metadata": {},
     "output_type": "execute_result"
    }
   ],
   "source": [
    "1,000,000"
   ]
  },
  {
   "cell_type": "code",
   "execution_count": 37,
   "id": "9d7fd34e",
   "metadata": {},
   "outputs": [
    {
     "data": {
      "text/plain": [
       "1000000"
      ]
     },
     "execution_count": 37,
     "metadata": {},
     "output_type": "execute_result"
    }
   ],
   "source": [
    "1_000_000"
   ]
  },
  {
   "cell_type": "markdown",
   "id": "6554b4bb",
   "metadata": {},
   "source": [
    "## 1.6. Formal and natural languages"
   ]
  },
  {
   "cell_type": "markdown",
   "id": "4ceb9dc2",
   "metadata": {},
   "source": [
    "## 1.7. Debugging"
   ]
  },
  {
   "cell_type": "markdown",
   "id": "378784d1",
   "metadata": {},
   "source": [
    "## 1.8. Glossary\n",
    "\n",
    "- arithmetic operator\n",
    "- integer\n",
    "- floating-point\n",
    "- integer division\n",
    "- expression\n",
    "- value\n",
    "- function\n",
    "- function call\n",
    "- syntax error\n",
    "- string\n",
    "- concatenation\n",
    "- type\n",
    "- operand\n",
    "- natural language\n",
    "- formal language\n",
    "- bug\n",
    "- debugging"
   ]
  },
  {
   "cell_type": "markdown",
   "id": "7b082dd6",
   "metadata": {},
   "source": [
    "## 1.9. Exercises"
   ]
  },
  {
   "cell_type": "markdown",
   "id": "4c4b19c2",
   "metadata": {},
   "source": [
    "### 1.9.1. Ask a virtual assistant\n",
    "\n",
    "- 7 XOR 2를 파이썬에서는 어떻게 계산해?\n",
    "    > 파이썬에서 `7 XOR 2`를 계산하려면, 비트 단위 연산자인 `^`를 사용하면 됩니다. 예를 들어:\n",
    "    > ```python\n",
    "    > result = 7 ^ 2\n",
    "    > print(result)\n",
    "    > ```\n",
    "    >\n",
    "    > 이 코드를 실행하면 `7 XOR 2`의 결과를 출력합니다.\n",
    "    >\n",
    "    > **비트 연산**:\n",
    "    >\n",
    "    > * `7`은 이진수로 `111`이고,\n",
    "    > * `2`는 이진수로 `010`입니다.\n",
    "    >\n",
    "    > XOR 연산은 각 비트가 다를 때 1을, 같을 때 0을 반환하므로, 계산은 다음과 같습니다:\n",
    "    > \n",
    "    > ```\n",
    "    > 111\n",
    "    > 010\n",
    "    > ---\n",
    "    > 101\n",
    "    > \n",
    "    > ```\n",
    "    > \n",
    "    > 결과적으로 `101`은 이진수로 `5`이므로, `7 XOR 2`의 결과는 `5`입니다.\n",
    "- 파이썬에서 연산자 우선순위는 어떻게 돼?\n",
    "    > 파이썬에서 연산자 우선순위는 기본적으로 수학에서 사용하는 우선순위 규칙과 유사합니다. 연산자는 우선순위에 따라 먼저 계산되며, 우선순위가 같은 연산자들은 왼쪽에서 오른쪽으로 계산됩니다. 아래는 파이썬에서의 연산자 우선순위를 높은 것부터 낮은 순으로 나열한 것입니다:\n",
    "    > \n",
    "    > 1. 괄호 ( )\n",
    "    > (): 괄호는 가장 높은 우선순위를 가집니다.\n",
    "    > 예: (3 + 5) * 2\n",
    "    > \n",
    "    > 2. 지수 (Exponentiation)\n",
    "    > **: 거듭제곱 연산자는 괄호보다 우선순위가 높습니다.\n",
    "    > 예: 2 ** 3 (2의 3제곱)\n",
    "    > \n",
    "    > 3. 단항 연산자 (Unary Operators)\n",
    "    > +, -, ~ (양수, 음수, 비트 반전)\n",
    "    > 예: -5, +3, ~7\n",
    "    > \n",
    "    > 4. 곱셈, 나눗셈, 나머지, 몫\n",
    "    > *, /, //, % (곱셈, 나눗셈, 몫, 나머지)\n",
    "    > 예: 3 * 5, 10 / 2, 10 // 3, 10 % 3\n",
    "    > \n",
    "    > 5. 덧셈과 뺄셈\n",
    "    > +, -: 덧셈과 뺄셈 연산자는 곱셈/나눗셈보다 우선순위가 낮습니다.\n",
    "    > 예: 5 + 3, 7 - 2\n",
    "    > \n",
    "    > 6. 비교 연산자\n",
    "    > ==, !=, >, <, >=, <= (같음, 다름, 크기 비교)\n",
    "    > 예: 5 == 3, 7 > 4\n",
    "    > \n",
    "    > 7. 논리 연산자\n",
    "    > and, or: 논리 AND, OR 연산자는 비교 연산자보다 우선순위가 낮습니다.\n",
    "    > 예: True and False, True or False\n",
    "    > \n",
    "    > 8. 대입 연산자\n",
    "    > =, +=, -=, *=, /=, //=, %=, **= 등 (변수에 값을 할당하거나 연산하면서 대입)\n",
    "    > 예: x = 5, x += 3\n",
    "- round 함수 파라미터는 어떤 게 있어?\n",
    "    > `round()` 함수는 파이썬에서 숫자를 반올림하는 데 사용됩니다. 이 함수는 두 가지 파라미터를 받을 수 있습니다:\n",
    "    > \n",
    "    > 1. **`number`**: 반올림할 숫자 (필수)\n",
    "    > 2. **`ndigits`**: 반올림할 소수점 자리수 (선택)\n",
    "    > \n",
    "    > ### 함수 정의\n",
    "    > \n",
    "    > ```python\n",
    "    > round(number, ndigits)\n",
    "    > ```\n",
    "    > \n",
    "    > * **`number`**: 반올림할 숫자입니다.\n",
    "    > * **`ndigits`**: 소수점 아래 몇 자리까지 반올림할지 지정하는 정수입니다. 기본값은 `0`이며, 이 경우 정수로 반올림합니다. 소수점 자리가 필요 없으면 이 파라미터를 생략할 수 있습니다.\n",
    "    > \n",
    "    > ### 예시\n",
    "    > \n",
    "    > 1. **소수점 없는 반올림**\n",
    "    >    `ndigits`를 생략하면 기본적으로 정수로 반올림합니다.\n",
    "    > \n",
    "    >    ```python\n",
    "    >    round(3.14159)   # 결과: 3\n",
    "    >    round(2.71828)   # 결과: 3\n",
    "    >    ```\n",
    "    > \n",
    "    > 2. **소수점 자릿수 지정하여 반올림**\n",
    "    >    `ndigits`를 지정하여 소수점 아래 자릿수를 반올림할 수 있습니다.\n",
    "    > \n",
    "    >    ```python\n",
    "    >    round(3.14159, 2)   # 결과: 3.14\n",
    "    >    round(2.71828, 3)   # 결과: 2.718\n",
    "    >    round(5.6789, 1)    # 결과: 5.7\n",
    "    >    ```\n",
    "    > \n",
    "    > 3. **반올림에서 반올림 규칙**\n",
    "    >    파이썬은 기본적으로 \"반올림 반향법\" (round half to even) 방식을 사용합니다. 즉, 반올림할 자리가 5일 때, 가장 가까운 짝수로 반올림합니다.\n",
    "    > \n",
    "    >    예시:\n",
    "    >    ```python\n",
    "    >    round(2.5)   # 결과: 2\n",
    "    >    round(3.5)   # 결과: 4\n",
    "    >    ```\n",
    "    > \n",
    "    > ### 주의사항\n",
    "    > \n",
    "    > * `ndigits`가 음수일 경우, 그 숫자만큼 자릿수 왼쪽에서 반올림합니다. 예를 들어:\n",
    "    >   ```python\n",
    "    >   round(1234.5678, -2)   # 결과: 1200.0\n",
    "    >   round(1234.5678, -1)   # 결과: 1230.0\n",
    "    >   ```\n",
    "    > \n",
    "    > 이렇게 `round()` 함수는 숫자의 반올림과 관련된 다양한 용도로 유용하게 사용될 수 있습니다.\n",
    "- 파이썬에서 나머지 연산자가 뭐야?\n",
    "    > 파이썬에서 **나머지 연산자**는 \\*\\*`%`\\*\\*입니다. 이 연산자는 두 숫자를 나눈 후, 그 나머지를 구하는 데 사용됩니다.\n",
    "    > \n",
    "    > ### 사용법\n",
    "    > \n",
    "    > ```python\n",
    "    > result = a % b\n",
    "    > ```\n",
    "    > \n",
    "    > * `a`: 나누려는 숫자 (피제수)\n",
    "    > * `b`: 나누는 숫자 (제수)\n",
    "    > \n",
    "    > 이 식은 `a`를 `b`로 나누었을 때 나머지를 반환합니다.\n",
    "    > \n",
    "    > ### 예시\n",
    "    > \n",
    "    > ```python\n",
    "    > print(10 % 3)  # 결과: 1 (10을 3으로 나누면 몫은 3, 나머지는 1)\n",
    "    > print(15 % 4)  # 결과: 3 (15를 4로 나누면 몫은 3, 나머지는 3)\n",
    "    > print(9 % 3)   # 결과: 0 (9를 3으로 나누면 나머지는 0)\n",
    "    > print(7 % 5)   # 결과: 2 (7을 5로 나누면 나머지는 2)\n",
    "    > ```\n",
    "    > \n",
    "    > ### 음수에 대한 나머지 연산\n",
    "    > \n",
    "    > 음수를 사용할 때도 `%` 연산자는 나머지를 계산합니다. 파이썬에서 `%`는 항상 **나머지가 0 이상**이 되도록 반환됩니다. 즉, 음수에서 나머지 연산을 할 때는 부호가 달라질 수 있습니다.\n",
    "    > \n",
    "    > ```python\n",
    "    > print(-10 % 3)  # 결과: 2 (-10을 3으로 나누면, 몫은 -4, 나머지는 2)\n",
    "    > print(10 % -3)  # 결과: -2 (10을 -3으로 나누면, 몫은 -4, 나머지는 -2)\n",
    "    > ```\n",
    "    > \n",
    "    > ### `divmod()` 함수와 나머지\n",
    "    > \n",
    "    > 파이썬에는 `divmod()`라는 함수가 있어, 몫과 나머지를 한 번에 구할 수 있습니다. `divmod(a, b)`는 `(몫, 나머지)`를 튜플로 반환합니다.\n",
    "    > \n",
    "    > ```python\n",
    "    > quotient, remainder = divmod(10, 3)\n",
    "    > print(quotient)  # 결과: 3\n",
    "    > print(remainder)  # 결과: 1\n",
    "    > ```\n",
    "    > \n",
    "    > 이렇게 `%` 연산자는 두 숫자의 나머지를 구할 때 유용하게 사용됩니다."
   ]
  },
  {
   "cell_type": "markdown",
   "id": "e879ac11",
   "metadata": {},
   "source": [
    "### 1.9.2. Exercise"
   ]
  },
  {
   "cell_type": "code",
   "execution_count": 38,
   "id": "df50a824",
   "metadata": {},
   "outputs": [
    {
     "data": {
      "text/plain": [
       "42"
      ]
     },
     "execution_count": 38,
     "metadata": {},
     "output_type": "execute_result"
    }
   ],
   "source": [
    "round(42.5)"
   ]
  },
  {
   "cell_type": "code",
   "execution_count": 39,
   "id": "43f25462",
   "metadata": {},
   "outputs": [
    {
     "data": {
      "text/plain": [
       "44"
      ]
     },
     "execution_count": 39,
     "metadata": {},
     "output_type": "execute_result"
    }
   ],
   "source": [
    "round(43.5)"
   ]
  },
  {
   "cell_type": "markdown",
   "id": "f42e7908",
   "metadata": {},
   "source": [
    "- 파이썬에서 0.5로 숫자가 끝나면 반올림이 어떻게 돼?\n",
    "    > 파이썬에서 `0.5`로 끝나는 숫자를 `round()` 함수로 반올림할 때는 우리가 흔히 알고 있는 **무조건 올림** 방식이 아닌, **\"은행식 반올림\"** 또는 \\*\\*\"짝수 쪽 반올림\"\\*\\*이 사용됩니다. 이 방식은 \\*\\*\"round half to even\"\\*\\*이라고 부릅니다.\n",
    "    > \n",
    "    > ### ✅ **\"round half to even\" 이란?**\n",
    "    > \n",
    "    > * `.5`인 경우, **가장 가까운 짝수**로 반올림합니다.\n",
    "    > * 이는 통계적 평균치를 더 정확하게 유지하기 위한 방식입니다.\n",
    "    > \n",
    "    > ### 📌 예시\n",
    "    > \n",
    "    > ```python\n",
    "    > print(round(0.5))   # 결과: 0 (짝수는 0)\n",
    "    > print(round(1.5))   # 결과: 2 (짝수는 2)\n",
    "    > print(round(2.5))   # 결과: 2 (짝수는 2)\n",
    "    > print(round(3.5))   # 결과: 4 (짝수는 4)\n",
    "    > print(round(4.5))   # 결과: 4 (짝수는 4)\n",
    "    > ```\n",
    "    > \n",
    "    > ### 💡 왜 이런 방식이 사용될까?\n",
    "    > \n",
    "    > 이 방식은 많은 수의 데이터를 반올림할 때 **올림/내림이 치우치지 않도록** 해줍니다. 전통적인 방식 (`.5`면 항상 올림)에서는 항상 수치가 커지는 방향으로 오차가 누적될 수 있는데, \"짝수 쪽 반올림\"은 그걸 줄여줍니다.\n",
    "    > \n",
    "    > ### 📍 참고: `decimal` 모듈로 반올림 방식 변경도 가능\n",
    "    > \n",
    "    > ```python\n",
    "    > from decimal import Decimal, ROUND_HALF_UP\n",
    "    > # 항상 .5에서 올림하는 방식\n",
    "    > num = Decimal('2.5')\n",
    "    > print(num.quantize(Decimal('1'), rounding=ROUND_HALF_UP))  # 결과: 3\n",
    "    > ```\n",
    "    > \n",
    "    > 필요에 따라 반올림 방식을 바꿔야 한다면 `decimal` 모듈이 유용합니다."
   ]
  },
  {
   "cell_type": "markdown",
   "id": "2a310cf8",
   "metadata": {},
   "source": [
    "### 1.9.3. Exercise"
   ]
  },
  {
   "cell_type": "code",
   "execution_count": 40,
   "id": "ef90c23f",
   "metadata": {},
   "outputs": [
    {
     "data": {
      "text/plain": [
       "4"
      ]
     },
     "execution_count": 40,
     "metadata": {},
     "output_type": "execute_result"
    }
   ],
   "source": [
    "2++2"
   ]
  },
  {
   "cell_type": "code",
   "execution_count": 41,
   "id": "8ce043ff",
   "metadata": {},
   "outputs": [
    {
     "ename": "SyntaxError",
     "evalue": "invalid syntax (4158639863.py, line 1)",
     "output_type": "error",
     "traceback": [
      "  \u001b[36mCell\u001b[39m\u001b[36m \u001b[39m\u001b[32mIn[41]\u001b[39m\u001b[32m, line 1\u001b[39m\n\u001b[31m    \u001b[39m\u001b[31m4 2\u001b[39m\n      ^\n\u001b[31mSyntaxError\u001b[39m\u001b[31m:\u001b[39m invalid syntax\n"
     ]
    }
   ],
   "source": [
    "\n",
    "4 2"
   ]
  },
  {
   "cell_type": "code",
   "execution_count": 42,
   "id": "b16b9121",
   "metadata": {},
   "outputs": [
    {
     "ename": "SyntaxError",
     "evalue": "incomplete input (3923528527.py, line 1)",
     "output_type": "error",
     "traceback": [
      "  \u001b[36mCell\u001b[39m\u001b[36m \u001b[39m\u001b[32mIn[42]\u001b[39m\u001b[32m, line 1\u001b[39m\n\u001b[31m    \u001b[39m\u001b[31mround(42.5\u001b[39m\n              ^\n\u001b[31mSyntaxError\u001b[39m\u001b[31m:\u001b[39m incomplete input\n"
     ]
    }
   ],
   "source": [
    "round(42.5"
   ]
  },
  {
   "cell_type": "code",
   "execution_count": 43,
   "id": "8df3665f",
   "metadata": {},
   "outputs": [
    {
     "ename": "SyntaxError",
     "evalue": "invalid syntax (2283105285.py, line 1)",
     "output_type": "error",
     "traceback": [
      "  \u001b[36mCell\u001b[39m\u001b[36m \u001b[39m\u001b[32mIn[43]\u001b[39m\u001b[32m, line 1\u001b[39m\n\u001b[31m    \u001b[39m\u001b[31mround 42.5\u001b[39m\n          ^\n\u001b[31mSyntaxError\u001b[39m\u001b[31m:\u001b[39m invalid syntax\n"
     ]
    }
   ],
   "source": [
    "round 42.5"
   ]
  },
  {
   "cell_type": "markdown",
   "id": "b1626544",
   "metadata": {},
   "source": [
    "### 1.9.4. Exercise"
   ]
  },
  {
   "cell_type": "code",
   "execution_count": 44,
   "id": "c898f2e6",
   "metadata": {},
   "outputs": [
    {
     "data": {
      "text/plain": [
       "int"
      ]
     },
     "execution_count": 44,
     "metadata": {},
     "output_type": "execute_result"
    }
   ],
   "source": [
    "type(765)"
   ]
  },
  {
   "cell_type": "code",
   "execution_count": 45,
   "id": "e978622a",
   "metadata": {},
   "outputs": [
    {
     "data": {
      "text/plain": [
       "float"
      ]
     },
     "execution_count": 45,
     "metadata": {},
     "output_type": "execute_result"
    }
   ],
   "source": [
    "type(2.718)"
   ]
  },
  {
   "cell_type": "code",
   "execution_count": 46,
   "id": "c531f057",
   "metadata": {},
   "outputs": [
    {
     "data": {
      "text/plain": [
       "str"
      ]
     },
     "execution_count": 46,
     "metadata": {},
     "output_type": "execute_result"
    }
   ],
   "source": [
    "type('2 pi')"
   ]
  },
  {
   "cell_type": "code",
   "execution_count": 47,
   "id": "d2047e50",
   "metadata": {},
   "outputs": [
    {
     "data": {
      "text/plain": [
       "int"
      ]
     },
     "execution_count": 47,
     "metadata": {},
     "output_type": "execute_result"
    }
   ],
   "source": [
    "type(abs(-7))"
   ]
  },
  {
   "cell_type": "code",
   "execution_count": 48,
   "id": "3d75cad1",
   "metadata": {},
   "outputs": [
    {
     "data": {
      "text/plain": [
       "float"
      ]
     },
     "execution_count": 48,
     "metadata": {},
     "output_type": "execute_result"
    }
   ],
   "source": [
    "type(abs(-7.0))"
   ]
  },
  {
   "cell_type": "code",
   "execution_count": 49,
   "id": "d97a1ca9",
   "metadata": {},
   "outputs": [
    {
     "data": {
      "text/plain": [
       "builtin_function_or_method"
      ]
     },
     "execution_count": 49,
     "metadata": {},
     "output_type": "execute_result"
    }
   ],
   "source": [
    "type(abs)"
   ]
  },
  {
   "cell_type": "code",
   "execution_count": 50,
   "id": "5635591a",
   "metadata": {},
   "outputs": [
    {
     "data": {
      "text/plain": [
       "type"
      ]
     },
     "execution_count": 50,
     "metadata": {},
     "output_type": "execute_result"
    }
   ],
   "source": [
    "type(int)"
   ]
  },
  {
   "cell_type": "code",
   "execution_count": 51,
   "id": "1ebf7e97",
   "metadata": {},
   "outputs": [
    {
     "data": {
      "text/plain": [
       "type"
      ]
     },
     "execution_count": 51,
     "metadata": {},
     "output_type": "execute_result"
    }
   ],
   "source": [
    "type(type)"
   ]
  },
  {
   "cell_type": "markdown",
   "id": "8a0e6fc5",
   "metadata": {},
   "source": [
    "### 1.9.5. Exercise"
   ]
  },
  {
   "cell_type": "code",
   "execution_count": 52,
   "id": "e9399865",
   "metadata": {},
   "outputs": [
    {
     "data": {
      "text/plain": [
       "2562"
      ]
     },
     "execution_count": 52,
     "metadata": {},
     "output_type": "execute_result"
    }
   ],
   "source": [
    "42 * 60 + 42"
   ]
  },
  {
   "cell_type": "code",
   "execution_count": 53,
   "id": "7b449ebe",
   "metadata": {},
   "outputs": [
    {
     "data": {
      "text/plain": [
       "6.211180124223602"
      ]
     },
     "execution_count": 53,
     "metadata": {},
     "output_type": "execute_result"
    }
   ],
   "source": [
    "10 / 1.61"
   ]
  },
  {
   "cell_type": "code",
   "execution_count": 54,
   "id": "ff74d85d",
   "metadata": {},
   "outputs": [
    {
     "data": {
      "text/plain": [
       "412.482"
      ]
     },
     "execution_count": 54,
     "metadata": {},
     "output_type": "execute_result"
    }
   ],
   "source": [
    "(42 * 60 + 42) / (10 / 1.61)"
   ]
  },
  {
   "cell_type": "code",
   "execution_count": 55,
   "id": "eb68505e",
   "metadata": {},
   "outputs": [
    {
     "data": {
      "text/plain": [
       "6.0"
      ]
     },
     "execution_count": 55,
     "metadata": {},
     "output_type": "execute_result"
    }
   ],
   "source": [
    "((42 * 60 + 42) / (10 / 1.61)) // 60"
   ]
  },
  {
   "cell_type": "code",
   "execution_count": 56,
   "id": "3d8a05b3",
   "metadata": {},
   "outputs": [
    {
     "data": {
      "text/plain": [
       "52.48200000000003"
      ]
     },
     "execution_count": 56,
     "metadata": {},
     "output_type": "execute_result"
    }
   ],
   "source": [
    "((42 * 60 + 42) / (10 / 1.61)) % 60"
   ]
  },
  {
   "cell_type": "code",
   "execution_count": 57,
   "id": "05782a17",
   "metadata": {},
   "outputs": [
    {
     "data": {
      "text/plain": [
       "8.727653570337614"
      ]
     },
     "execution_count": 57,
     "metadata": {},
     "output_type": "execute_result"
    }
   ],
   "source": [
    "3600 / ((42 * 60 + 42) / (10 / 1.61))"
   ]
  }
 ],
 "metadata": {
  "kernelspec": {
   "display_name": "venv",
   "language": "python",
   "name": "python3"
  },
  "language_info": {
   "codemirror_mode": {
    "name": "ipython",
    "version": 3
   },
   "file_extension": ".py",
   "mimetype": "text/x-python",
   "name": "python",
   "nbconvert_exporter": "python",
   "pygments_lexer": "ipython3",
   "version": "3.12.9"
  }
 },
 "nbformat": 4,
 "nbformat_minor": 5
}
