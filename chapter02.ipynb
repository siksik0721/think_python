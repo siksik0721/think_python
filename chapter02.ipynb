{
 "cells": [
  {
   "cell_type": "markdown",
   "id": "d82bb6b7",
   "metadata": {},
   "source": [
    "# 2. Variables and Statements"
   ]
  },
  {
   "cell_type": "markdown",
   "id": "9bdd5c8d",
   "metadata": {},
   "source": [
    "## 2.1. Variables"
   ]
  },
  {
   "cell_type": "code",
   "execution_count": 1,
   "id": "0da54a37",
   "metadata": {},
   "outputs": [],
   "source": [
    "n = 17"
   ]
  },
  {
   "cell_type": "code",
   "execution_count": 2,
   "id": "ea4a487e",
   "metadata": {},
   "outputs": [],
   "source": [
    "pi = 3.141592653589793"
   ]
  },
  {
   "cell_type": "code",
   "execution_count": 3,
   "id": "d4c6a02d",
   "metadata": {},
   "outputs": [],
   "source": [
    "message = 'And now for something completely different'"
   ]
  },
  {
   "cell_type": "code",
   "execution_count": 4,
   "id": "e1e59687",
   "metadata": {},
   "outputs": [
    {
     "data": {
      "text/plain": [
       "'And now for something completely different'"
      ]
     },
     "execution_count": 4,
     "metadata": {},
     "output_type": "execute_result"
    }
   ],
   "source": [
    "message"
   ]
  },
  {
   "cell_type": "code",
   "execution_count": 5,
   "id": "506f5b01",
   "metadata": {},
   "outputs": [
    {
     "data": {
      "text/plain": [
       "42"
      ]
     },
     "execution_count": 5,
     "metadata": {},
     "output_type": "execute_result"
    }
   ],
   "source": [
    "n + 25"
   ]
  },
  {
   "cell_type": "code",
   "execution_count": 6,
   "id": "a0e54253",
   "metadata": {},
   "outputs": [
    {
     "data": {
      "text/plain": [
       "6.283185307179586"
      ]
     },
     "execution_count": 6,
     "metadata": {},
     "output_type": "execute_result"
    }
   ],
   "source": [
    "2 * pi"
   ]
  },
  {
   "cell_type": "code",
   "execution_count": 7,
   "id": "0c6a077f",
   "metadata": {},
   "outputs": [
    {
     "data": {
      "text/plain": [
       "3"
      ]
     },
     "execution_count": 7,
     "metadata": {},
     "output_type": "execute_result"
    }
   ],
   "source": [
    "round(pi)"
   ]
  },
  {
   "cell_type": "code",
   "execution_count": 8,
   "id": "fbdf1e91",
   "metadata": {},
   "outputs": [
    {
     "data": {
      "text/plain": [
       "42"
      ]
     },
     "execution_count": 8,
     "metadata": {},
     "output_type": "execute_result"
    }
   ],
   "source": [
    "len(message)"
   ]
  },
  {
   "cell_type": "markdown",
   "id": "9d687d26",
   "metadata": {},
   "source": [
    "## 2.2 State diagrams\n",
    "\n",
    "- n -> 17\n",
    "- pi -> 3.141592653589793\n",
    "- message -> 'And now for something completely different'"
   ]
  },
  {
   "cell_type": "markdown",
   "id": "3e7e184b",
   "metadata": {},
   "source": [
    "## 2.3. Variable names"
   ]
  },
  {
   "cell_type": "code",
   "execution_count": 9,
   "id": "19a3f7d1",
   "metadata": {},
   "outputs": [
    {
     "ename": "SyntaxError",
     "evalue": "invalid syntax (347180775.py, line 1)",
     "output_type": "error",
     "traceback": [
      "  \u001b[36mCell\u001b[39m\u001b[36m \u001b[39m\u001b[32mIn[9]\u001b[39m\u001b[32m, line 1\u001b[39m\n\u001b[31m    \u001b[39m\u001b[31mmillion! = 1000000\u001b[39m\n           ^\n\u001b[31mSyntaxError\u001b[39m\u001b[31m:\u001b[39m invalid syntax\n"
     ]
    }
   ],
   "source": [
    "million! = 1000000"
   ]
  },
  {
   "cell_type": "code",
   "execution_count": 10,
   "id": "0c69ac9e",
   "metadata": {},
   "outputs": [
    {
     "ename": "SyntaxError",
     "evalue": "invalid decimal literal (3381618747.py, line 1)",
     "output_type": "error",
     "traceback": [
      "  \u001b[36mCell\u001b[39m\u001b[36m \u001b[39m\u001b[32mIn[10]\u001b[39m\u001b[32m, line 1\u001b[39m\n\u001b[31m    \u001b[39m\u001b[31m76trombones = 'big parade'\u001b[39m\n     ^\n\u001b[31mSyntaxError\u001b[39m\u001b[31m:\u001b[39m invalid decimal literal\n"
     ]
    }
   ],
   "source": [
    "76trombones = 'big parade'"
   ]
  },
  {
   "cell_type": "code",
   "execution_count": 11,
   "id": "fc529d24",
   "metadata": {},
   "outputs": [
    {
     "ename": "SyntaxError",
     "evalue": "invalid syntax (2069597409.py, line 1)",
     "output_type": "error",
     "traceback": [
      "  \u001b[36mCell\u001b[39m\u001b[36m \u001b[39m\u001b[32mIn[11]\u001b[39m\u001b[32m, line 1\u001b[39m\n\u001b[31m    \u001b[39m\u001b[31mclass = 'Self-Defence Against Fresh Fruit'\u001b[39m\n          ^\n\u001b[31mSyntaxError\u001b[39m\u001b[31m:\u001b[39m invalid syntax\n"
     ]
    }
   ],
   "source": [
    "class = 'Self-Defence Against Fresh Fruit'"
   ]
  },
  {
   "cell_type": "markdown",
   "id": "7cf5f918",
   "metadata": {},
   "source": [
    "## 2.4. The import statement"
   ]
  },
  {
   "cell_type": "code",
   "execution_count": 12,
   "id": "47dd54d3",
   "metadata": {},
   "outputs": [],
   "source": [
    "import math"
   ]
  },
  {
   "cell_type": "code",
   "execution_count": 13,
   "id": "e320debf",
   "metadata": {},
   "outputs": [
    {
     "data": {
      "text/plain": [
       "3.141592653589793"
      ]
     },
     "execution_count": 13,
     "metadata": {},
     "output_type": "execute_result"
    }
   ],
   "source": [
    "math.pi"
   ]
  },
  {
   "cell_type": "code",
   "execution_count": 14,
   "id": "5c8d9c88",
   "metadata": {},
   "outputs": [
    {
     "data": {
      "text/plain": [
       "5.0"
      ]
     },
     "execution_count": 14,
     "metadata": {},
     "output_type": "execute_result"
    }
   ],
   "source": [
    "math.sqrt(25)"
   ]
  },
  {
   "cell_type": "code",
   "execution_count": 15,
   "id": "68c69bf2",
   "metadata": {},
   "outputs": [
    {
     "data": {
      "text/plain": [
       "25.0"
      ]
     },
     "execution_count": 15,
     "metadata": {},
     "output_type": "execute_result"
    }
   ],
   "source": [
    "math.pow(5, 2)"
   ]
  },
  {
   "cell_type": "markdown",
   "id": "a4c0c970",
   "metadata": {},
   "source": [
    "## 2.5. Expressions and statements"
   ]
  },
  {
   "cell_type": "code",
   "execution_count": 16,
   "id": "b2216b8c",
   "metadata": {},
   "outputs": [
    {
     "data": {
      "text/plain": [
       "42"
      ]
     },
     "execution_count": 16,
     "metadata": {},
     "output_type": "execute_result"
    }
   ],
   "source": [
    "19 + n + round(math.pi) * 2"
   ]
  },
  {
   "cell_type": "code",
   "execution_count": 17,
   "id": "0ff267c2",
   "metadata": {},
   "outputs": [],
   "source": [
    "n = 17"
   ]
  },
  {
   "cell_type": "code",
   "execution_count": 18,
   "id": "3ca0ce9d",
   "metadata": {},
   "outputs": [],
   "source": [
    "import math"
   ]
  },
  {
   "cell_type": "markdown",
   "id": "47efb70b",
   "metadata": {},
   "source": [
    "## 2.6. The print function"
   ]
  },
  {
   "cell_type": "code",
   "execution_count": 19,
   "id": "4a473cde",
   "metadata": {},
   "outputs": [
    {
     "data": {
      "text/plain": [
       "18"
      ]
     },
     "execution_count": 19,
     "metadata": {},
     "output_type": "execute_result"
    }
   ],
   "source": [
    "n + 1"
   ]
  },
  {
   "cell_type": "code",
   "execution_count": 20,
   "id": "5979be73",
   "metadata": {},
   "outputs": [
    {
     "data": {
      "text/plain": [
       "20"
      ]
     },
     "execution_count": 20,
     "metadata": {},
     "output_type": "execute_result"
    }
   ],
   "source": [
    "n + 2\n",
    "n + 3"
   ]
  },
  {
   "cell_type": "code",
   "execution_count": 21,
   "id": "5e7f499c",
   "metadata": {},
   "outputs": [
    {
     "name": "stdout",
     "output_type": "stream",
     "text": [
      "19\n",
      "20\n"
     ]
    }
   ],
   "source": [
    "print(n + 2)\n",
    "print(n + 3)"
   ]
  },
  {
   "cell_type": "code",
   "execution_count": 22,
   "id": "cff47dc5",
   "metadata": {},
   "outputs": [
    {
     "name": "stdout",
     "output_type": "stream",
     "text": [
      "The value of pi is approximately\n",
      "3.141592653589793\n"
     ]
    }
   ],
   "source": [
    "print('The value of pi is approximately')\n",
    "print(math.pi)"
   ]
  },
  {
   "cell_type": "code",
   "execution_count": 23,
   "id": "944cca1f",
   "metadata": {},
   "outputs": [
    {
     "name": "stdout",
     "output_type": "stream",
     "text": [
      "The value of pi is approximately 3.141592653589793\n"
     ]
    }
   ],
   "source": [
    "print('The value of pi is approximately', math.pi)"
   ]
  },
  {
   "cell_type": "markdown",
   "id": "0c599370",
   "metadata": {},
   "source": [
    "## 2.7. Arguments"
   ]
  },
  {
   "cell_type": "code",
   "execution_count": 24,
   "id": "937fac23",
   "metadata": {},
   "outputs": [
    {
     "data": {
      "text/plain": [
       "101"
      ]
     },
     "execution_count": 24,
     "metadata": {},
     "output_type": "execute_result"
    }
   ],
   "source": [
    "int('101')"
   ]
  },
  {
   "cell_type": "code",
   "execution_count": 25,
   "id": "9aac11e4",
   "metadata": {},
   "outputs": [
    {
     "data": {
      "text/plain": [
       "25.0"
      ]
     },
     "execution_count": 25,
     "metadata": {},
     "output_type": "execute_result"
    }
   ],
   "source": [
    "math.pow(5, 2)"
   ]
  },
  {
   "cell_type": "code",
   "execution_count": 26,
   "id": "8b24bba1",
   "metadata": {},
   "outputs": [
    {
     "data": {
      "text/plain": [
       "5"
      ]
     },
     "execution_count": 26,
     "metadata": {},
     "output_type": "execute_result"
    }
   ],
   "source": [
    "int('101', 2)"
   ]
  },
  {
   "cell_type": "code",
   "execution_count": 27,
   "id": "37e804e2",
   "metadata": {},
   "outputs": [
    {
     "data": {
      "text/plain": [
       "3.142"
      ]
     },
     "execution_count": 27,
     "metadata": {},
     "output_type": "execute_result"
    }
   ],
   "source": [
    "round(math.pi, 3)"
   ]
  },
  {
   "cell_type": "code",
   "execution_count": 28,
   "id": "22015285",
   "metadata": {},
   "outputs": [
    {
     "name": "stdout",
     "output_type": "stream",
     "text": [
      "Any number of arguments\n"
     ]
    }
   ],
   "source": [
    "print('Any', 'number', 'of', 'arguments')"
   ]
  },
  {
   "cell_type": "code",
   "execution_count": 29,
   "id": "78d3099f",
   "metadata": {},
   "outputs": [
    {
     "ename": "TypeError",
     "evalue": "float expected at most 1 argument, got 2",
     "output_type": "error",
     "traceback": [
      "\u001b[31m---------------------------------------------------------------------------\u001b[39m",
      "\u001b[31mTypeError\u001b[39m                                 Traceback (most recent call last)",
      "\u001b[36mCell\u001b[39m\u001b[36m \u001b[39m\u001b[32mIn[29]\u001b[39m\u001b[32m, line 1\u001b[39m\n\u001b[32m----> \u001b[39m\u001b[32m1\u001b[39m \u001b[38;5;28;43mfloat\u001b[39;49m\u001b[43m(\u001b[49m\u001b[33;43m'\u001b[39;49m\u001b[33;43m123.0\u001b[39;49m\u001b[33;43m'\u001b[39;49m\u001b[43m,\u001b[49m\u001b[43m \u001b[49m\u001b[32;43m2\u001b[39;49m\u001b[43m)\u001b[49m\n",
      "\u001b[31mTypeError\u001b[39m: float expected at most 1 argument, got 2"
     ]
    }
   ],
   "source": [
    "float('123.0', 2)"
   ]
  },
  {
   "cell_type": "code",
   "execution_count": 30,
   "id": "ea670fbe",
   "metadata": {},
   "outputs": [
    {
     "ename": "TypeError",
     "evalue": "pow expected 2 arguments, got 1",
     "output_type": "error",
     "traceback": [
      "\u001b[31m---------------------------------------------------------------------------\u001b[39m",
      "\u001b[31mTypeError\u001b[39m                                 Traceback (most recent call last)",
      "\u001b[36mCell\u001b[39m\u001b[36m \u001b[39m\u001b[32mIn[30]\u001b[39m\u001b[32m, line 1\u001b[39m\n\u001b[32m----> \u001b[39m\u001b[32m1\u001b[39m \u001b[43mmath\u001b[49m\u001b[43m.\u001b[49m\u001b[43mpow\u001b[49m\u001b[43m(\u001b[49m\u001b[32;43m2\u001b[39;49m\u001b[43m)\u001b[49m\n",
      "\u001b[31mTypeError\u001b[39m: pow expected 2 arguments, got 1"
     ]
    }
   ],
   "source": [
    "math.pow(2)"
   ]
  },
  {
   "cell_type": "code",
   "execution_count": 31,
   "id": "c633ae4d",
   "metadata": {},
   "outputs": [
    {
     "ename": "TypeError",
     "evalue": "must be real number, not str",
     "output_type": "error",
     "traceback": [
      "\u001b[31m---------------------------------------------------------------------------\u001b[39m",
      "\u001b[31mTypeError\u001b[39m                                 Traceback (most recent call last)",
      "\u001b[36mCell\u001b[39m\u001b[36m \u001b[39m\u001b[32mIn[31]\u001b[39m\u001b[32m, line 1\u001b[39m\n\u001b[32m----> \u001b[39m\u001b[32m1\u001b[39m \u001b[43mmath\u001b[49m\u001b[43m.\u001b[49m\u001b[43msqrt\u001b[49m\u001b[43m(\u001b[49m\u001b[33;43m'\u001b[39;49m\u001b[33;43m123\u001b[39;49m\u001b[33;43m'\u001b[39;49m\u001b[43m)\u001b[49m\n",
      "\u001b[31mTypeError\u001b[39m: must be real number, not str"
     ]
    }
   ],
   "source": [
    "math.sqrt('123')"
   ]
  },
  {
   "cell_type": "markdown",
   "id": "5c3006fa",
   "metadata": {},
   "source": [
    "## 2.8. Comments"
   ]
  },
  {
   "cell_type": "code",
   "execution_count": 32,
   "id": "0afb8198",
   "metadata": {},
   "outputs": [],
   "source": [
    "# number of seconds in 42:42\n",
    "seconds = 42 * 60 + 42"
   ]
  },
  {
   "cell_type": "code",
   "execution_count": 33,
   "id": "793c7943",
   "metadata": {},
   "outputs": [],
   "source": [
    "miles = 10 / 1.61   # 10 kilometers in miles"
   ]
  },
  {
   "cell_type": "code",
   "execution_count": 34,
   "id": "14a26fe3",
   "metadata": {},
   "outputs": [],
   "source": [
    "v = 8   # assign 8 to v"
   ]
  },
  {
   "cell_type": "code",
   "execution_count": 35,
   "id": "70ffc5de",
   "metadata": {},
   "outputs": [],
   "source": [
    "v = 8   # velocity in miles per hour"
   ]
  },
  {
   "cell_type": "markdown",
   "id": "815a2fa3",
   "metadata": {},
   "source": [
    "## 2.9. Debugging"
   ]
  },
  {
   "cell_type": "code",
   "execution_count": 36,
   "id": "a8f77ef7",
   "metadata": {},
   "outputs": [
    {
     "ename": "SyntaxError",
     "evalue": "invalid syntax (347180775.py, line 1)",
     "output_type": "error",
     "traceback": [
      "  \u001b[36mCell\u001b[39m\u001b[36m \u001b[39m\u001b[32mIn[36]\u001b[39m\u001b[32m, line 1\u001b[39m\n\u001b[31m    \u001b[39m\u001b[31mmillion! = 1000000\u001b[39m\n           ^\n\u001b[31mSyntaxError\u001b[39m\u001b[31m:\u001b[39m invalid syntax\n"
     ]
    }
   ],
   "source": [
    "million! = 1000000"
   ]
  },
  {
   "cell_type": "code",
   "execution_count": 37,
   "id": "926e5d76",
   "metadata": {},
   "outputs": [
    {
     "ename": "TypeError",
     "evalue": "unsupported operand type(s) for /: 'str' and 'int'",
     "output_type": "error",
     "traceback": [
      "\u001b[31m---------------------------------------------------------------------------\u001b[39m",
      "\u001b[31mTypeError\u001b[39m                                 Traceback (most recent call last)",
      "\u001b[36mCell\u001b[39m\u001b[36m \u001b[39m\u001b[32mIn[37]\u001b[39m\u001b[32m, line 1\u001b[39m\n\u001b[32m----> \u001b[39m\u001b[32m1\u001b[39m \u001b[33;43m'\u001b[39;49m\u001b[33;43m126\u001b[39;49m\u001b[33;43m'\u001b[39;49m\u001b[43m \u001b[49m\u001b[43m/\u001b[49m\u001b[43m \u001b[49m\u001b[32;43m3\u001b[39;49m\n",
      "\u001b[31mTypeError\u001b[39m: unsupported operand type(s) for /: 'str' and 'int'"
     ]
    }
   ],
   "source": [
    "'126' / 3"
   ]
  },
  {
   "cell_type": "code",
   "execution_count": 38,
   "id": "a308f302",
   "metadata": {},
   "outputs": [
    {
     "data": {
      "text/plain": [
       "2.5"
      ]
     },
     "execution_count": 38,
     "metadata": {},
     "output_type": "execute_result"
    }
   ],
   "source": [
    "1 + 3 / 2"
   ]
  },
  {
   "cell_type": "markdown",
   "id": "1b565768",
   "metadata": {},
   "source": [
    "## 2.10. Glossary\n",
    "\n",
    "- variable\n",
    "- assignment statement\n",
    "- state diagram\n",
    "- keyword\n",
    "- import statement\n",
    "- module\n",
    "- dot operator\n",
    "- evaluate\n",
    "- statement\n",
    "- execute\n",
    "- argument\n",
    "- comment\n",
    "- runtime error\n",
    "- exception\n",
    "- semantic error"
   ]
  },
  {
   "cell_type": "markdown",
   "id": "6a7bcd2f",
   "metadata": {},
   "source": [
    "## 2.11. Exercises"
   ]
  },
  {
   "cell_type": "markdown",
   "id": "14afeec7",
   "metadata": {},
   "source": [
    "### 2.11.1. Ask a virtual assistant\n",
    "\n",
    "- 파이썬에서 키워드는 왜 변수 이름으로 쓸 수 없어?\n",
    "    > 좋은 질문이에요! 파이썬에서 \\*\\*키워드(keyword)\\*\\*를 변수 이름으로 쓸 수 없는 이유는, **키워드가 이미 파이썬 문법의 일부로 특별한 의미를 가지고 있기 때문**입니다.\n",
    "    > \n",
    "    > ### 🔑 키워드란?\n",
    "    > \n",
    "    > 키워드는 **파이썬이 문장을 이해하는 데 사용하는 예약어**입니다. 예를 들어, 다음과 같은 것들이 있죠:\n",
    "    > * `if`, `else`, `while`, `for`, `def`, `class`, `return`, `import`, `True`, `False`, `None` 등등\n",
    "    > 이런 키워드는 **파이썬이 특정한 문법 구조를 만들기 위해 쓰는 단어**들이에요. 그래서 이걸 변수 이름으로 쓰면, **파이썬이 헷갈려요**.\n",
    "    > \n",
    "    > ### ❌ 예시로 살펴보기\n",
    "    > \n",
    "    > ```python\n",
    "    > if = 5\n",
    "    > ```\n",
    "    > \n",
    "    > 이 코드를 실행하면 에러가 납니다:\n",
    "    > \n",
    "    > ```\n",
    "    > SyntaxError: invalid syntax\n",
    "    > ```\n",
    "    > \n",
    "    > 왜냐하면 `if`는 파이썬에서 **조건문을 시작하는 데 쓰이는 문법 요소**이기 때문이에요. 그런데 우리가 이걸 변수 이름으로 쓰면 파이썬은:\n",
    "    > > \"어? `if` 다음에 조건이 나와야 하는데... 숫자 5가 왜 있지?\"\n",
    "    > 라고 생각하게 되는 거죠. 즉, **문법이 깨지는 거예요.**\n",
    "    > \n",
    "    > ### 📌 정리하자면\n",
    "    > \n",
    "    > * 키워드는 **파이썬 문법을 만드는 핵심 단어**라서\n",
    "    > * 변수 이름으로 쓰면 **문법이 꼬일 수 있어서 금지**되어 있고\n",
    "    > * 따라서 파이썬은 **이 키워드들을 \"예약어\"로 따로 막아놨습니다**\n",
    "    > \n",
    "    > ### 🔍 팁: 키워드 목록 확인하는 방법\n",
    "    > \n",
    "    > 파이썬에서 어떤 단어들이 키워드인지 알고 싶다면, `keyword` 모듈을 써보세요:\n",
    "    > \n",
    "    > ```python\n",
    "    > import keyword\n",
    "    > print(keyword.kwlist)\n",
    "    > ```\n",
    "    > \n",
    "    > 이렇게 하면 현재 파이썬 버전에서 사용 중인 **모든 키워드 리스트**가 나옵니다.\n",
    "\n",
    "- 왜 변수 이름으로 int, float, str을 사용하는 게 나쁜 방식이야?\n",
    "    > 좋은 질문이에요! `int`, `float`, `str` 같은 이름은 **변수 이름으로 쓸 수는 있지만, 쓰면 안 좋은 이유**가 있어요. 그 이유는 이 이름들이 **파이썬의 내장 자료형 이름이기 때문**이에요.\n",
    "    > \n",
    "    > ### 📌 `int`, `float`, `str`는 뭐지?\n",
    "    > \n",
    "    > 이들은 파이썬의 **기본 자료형을 만드는 함수 또는 클래스**예요:\n",
    "    > \n",
    "    > * `int()` → 정수로 변환\n",
    "    > * `float()` → 실수로 변환\n",
    "    > * `str()` → 문자열로 변환\n",
    "    > \n",
    "    > 예시:\n",
    "    > ```python\n",
    "    > a = int(\"123\")     # 문자열 \"123\"을 정수 123으로 바꿈\n",
    "    > b = float(\"3.14\")  # 문자열 \"3.14\"를 실수 3.14로 바꿈\n",
    "    > c = str(456)       # 정수 456을 문자열 \"456\"으로 바꿈\n",
    "    > ```\n",
    "    > \n",
    "    > ### ❌ 그런데 이런 식으로 변수 이름을 쓰면?\n",
    "    > \n",
    "    > ```python\n",
    "    > int = 10\n",
    "    > print(int(\"123\"))\n",
    "    > ```\n",
    "    > \n",
    "    > 이걸 실행하면 어떻게 될까요?\n",
    "    > \n",
    "    > ```\n",
    "    > TypeError: 'int' object is not callable\n",
    "    > ```\n",
    "    > \n",
    "    > 왜냐하면, 우리가 `int`라는 이름을 **숫자 10을 담는 변수**로 덮어써버렸기 때문이에요. 이제 `int`는 더 이상 정수로 바꾸는 함수가 아니라 그냥 숫자 10이 되어버려서, `int(\"123\")` 같은 코드를 쓸 수 없게 된 거예요.\n",
    "    > \n",
    "    > ### 🔍 요약하자면\n",
    "    > \n",
    "    > | 항목                    | 설명                                                 |\n",
    "    > | --------------------- | -------------------------------------------------- |\n",
    "    > | `int`, `float`, `str` | 파이썬 내장 함수/클래스 (자료형 변환에 사용)                         |\n",
    "    > | 변수 이름으로 사용 가능?        | **가능하지만 추천하지 않음**                                  |\n",
    "    > | 왜 나쁠까?                | 내장 기능을 **덮어쓰게 되어서** 다른 코드에서 에러 발생 가능               |\n",
    "    > | 해결 방법                 | 변수 이름은 의미 있는 다른 이름으로 지정 (`num`, `value`, `text` 등) |\n",
    "    > \n",
    "    > ### ✅ 좋은 변수 이름 예시\n",
    "    > \n",
    "    > ```python\n",
    "    > number = 10\n",
    "    > price = 3.14\n",
    "    > name = \"Alice\"\n",
    "    > ```\n",
    "    > \n",
    "    > ### 💡 참고: 내장 이름 확인하는 법\n",
    "    > \n",
    "    > ```python\n",
    "    > dir(__builtins__)\n",
    "    > ```\n",
    "    > \n",
    "    > 위 코드를 실행하면, 파이썬의 모든 내장 함수, 클래스 이름을 볼 수 있어요. 이 이름들은 **가급적 변수 이름으로 피해야 해요.**\n",
    "\n",
    "- 파이썬에서 내장 함수는 어떤 게 있어?\n",
    "    > 파이썬에는 \\*\\*내장 함수(built-in function)\\*\\*가 꽤 많아요. 이 함수들은 **어디서든 바로 사용할 수 있도록 기본으로 제공**되는 함수들이고, `import` 없이도 바로 쓸 수 있어요.\n",
    "    > \n",
    "    > ## ✅ 대표적인 파이썬 내장 함수들\n",
    "    > \n",
    "    > 다양한 목적에 따라 나눠서 정리해볼게요.\n",
    "    > \n",
    "    > ### 📊 1. **기본 자료형 변환**\n",
    "    > \n",
    "    > | 함수        | 설명       |\n",
    "    > | --------- | -------- |\n",
    "    > | `int()`   | 정수로 변환   |\n",
    "    > | `float()` | 실수로 변환   |\n",
    "    > | `str()`   | 문자열로 변환  |\n",
    "    > | `bool()`  | 불리언으로 변환 |\n",
    "    > | `list()`  | 리스트로 변환  |\n",
    "    > | `tuple()` | 튜플로 변환   |\n",
    "    > | `dict()`  | 딕셔너리로 변환 |\n",
    "    > | `set()`   | 집합으로 변환  |\n",
    "    > \n",
    "    > ### 🔢 2. **수학 관련**\n",
    "    > \n",
    "    > | 함수             | 설명             |\n",
    "    > | -------------- | -------------- |\n",
    "    > | `abs()`        | 절댓값            |\n",
    "    > | `pow(x, y)`    | x의 y제곱         |\n",
    "    > | `round()`      | 반올림            |\n",
    "    > | `max()`        | 가장 큰 값         |\n",
    "    > | `min()`        | 가장 작은 값        |\n",
    "    > | `sum()`        | 합계             |\n",
    "    > | `divmod(a, b)` | (몫, 나머지) 튜플 반환 |\n",
    "    > \n",
    "    > ### 🔁 3. **반복/순회 관련**\n",
    "    > \n",
    "    > | 함수                       | 설명              |\n",
    "    > | ------------------------ | --------------- |\n",
    "    > | `range()`                | 숫자 범위 생성        |\n",
    "    > | `enumerate()`            | (인덱스, 값) 튜플로 반환 |\n",
    "    > | `zip()`                  | 여러 시퀀스를 묶음      |\n",
    "    > | `map(func, iterable)`    | 각 요소에 함수 적용     |\n",
    "    > | `filter(func, iterable)` | 조건을 만족하는 요소만 추출 |\n",
    "    > | `sorted()`               | 정렬된 리스트 반환      |\n",
    "    > | `reversed()`             | 반대 순서로 순회       |\n",
    "    > \n",
    "    > ### 🧪 4. **자료형 검사 및 객체 정보**\n",
    "    > \n",
    "    > | 함수                      | 설명            |\n",
    "    > | ----------------------- | ------------- |\n",
    "    > | `type()`                | 자료형 확인        |\n",
    "    > | `isinstance(obj, type)` | 특정 타입인지 확인    |\n",
    "    > | `id()`                  | 객체의 메모리 주소    |\n",
    "    > | `len()`                 | 길이 반환         |\n",
    "    > | `dir()`                 | 객체의 속성 리스트 확인 |\n",
    "    > | `help()`                | 내장 도움말 출력     |\n",
    "    > | `callable()`            | 호출 가능한지 확인    |\n",
    "    > \n",
    "    > ### 📦 5. **입출력**\n",
    "    > \n",
    "    > | 함수         | 설명        |\n",
    "    > | ---------- | --------- |\n",
    "    > | `print()`  | 출력        |\n",
    "    > | `input()`  | 사용자 입력 받기 |\n",
    "    > | `format()` | 문자열 포맷    |\n",
    "    > \n",
    "    > ### 🧩 6. **기타**\n",
    "    > \n",
    "    > | 함수                          | 설명                       |\n",
    "    > | --------------------------- | ------------------------ |\n",
    "    > | `eval()`                    | 문자열을 파이썬 코드로 실행          |\n",
    "    > | `exec()`                    | 코드 블록 실행                 |\n",
    "    > | `open()`                    | 파일 열기                    |\n",
    "    > | `globals()` / `locals()`    | 전역/지역 네임스페이스 반환          |\n",
    "    > | `any()`                     | 하나라도 참이면 True            |\n",
    "    > | `all()`                     | 모두 참이면 True              |\n",
    "    > | `bin()` / `oct()` / `hex()` | 2진수 / 8진수 / 16진수 문자열로 변환 |\n",
    "    > | `chr()` / `ord()`           | 유니코드 ↔ 문자 변환             |\n",
    "    > \n",
    "    > ## 🔍 전체 목록 확인 방법\n",
    "    > \n",
    "    > 파이썬에서 내장 함수 전체 목록은 아래처럼 확인할 수 있어요:\n",
    "    > \n",
    "    > ```python\n",
    "    > import builtins\n",
    "    > print(dir(builtins))\n",
    "    > ```\n",
    "\n",
    "- math 모듈에는 어떤 변수와 함수들이 있어?\n",
    "    > `math` 모듈은 파이썬에서 수학적 연산을 위한 **유용한 함수들**을 제공하는 모듈이에요. 이 모듈을 사용하면 복잡한 수학적 계산을 쉽게 처리할 수 있죠. `math` 모듈에 포함된 **변수**와 **함수**들에 대해 정리해볼게요.\n",
    "    > \n",
    "    > ### 🔢 **`math` 모듈 함수**\n",
    "    > \n",
    "    > #### 1. **기본 수학 연산**\n",
    "    > \n",
    "    > | 함수                  | 설명                            |\n",
    "    > | ------------------- | ----------------------------- |\n",
    "    > | `math.ceil(x)`      | `x`보다 크거나 같은 가장 작은 정수 반환 (올림) |\n",
    "    > | `math.floor(x)`     | `x`보다 작거나 같은 가장 큰 정수 반환 (내림)  |\n",
    "    > | `math.trunc(x)`     | `x`의 소수점 이하를 버림               |\n",
    "    > | `math.fabs(x)`      | `x`의 절댓값                      |\n",
    "    > | `math.factorial(x)` | `x`의 팩토리얼 (정수만)               |\n",
    "    > | `math.gcd(x, y)`    | `x`와 `y`의 최대 공약수 (GCD)        |\n",
    "    > | `math.lcm(x, y)`    | `x`와 `y`의 최소 공배수 (LCM)        |\n",
    "    > \n",
    "    > #### 2. **수학 상수 및 파이 관련**\n",
    "    > \n",
    "    > | 함수         | 설명                     |\n",
    "    > | ---------- | ---------------------- |\n",
    "    > | `math.pi`  | 원주율 (π)                |\n",
    "    > | `math.e`   | 자연상수 (e)               |\n",
    "    > | `math.tau` | 원의 한 바퀴 (τ = 2π)       |\n",
    "    > | `math.inf` | 양의 무한대                 |\n",
    "    > | `math.nan` | \"Not a Number\" (NaN) 값 |\n",
    "    > \n",
    "    > #### 3. **지수 및 로그**\n",
    "    > \n",
    "    > | 함수                  | 설명                                    |\n",
    "    > | ------------------- | ------------------------------------- |\n",
    "    > | `math.exp(x)`       | `e`의 `x`승                             |\n",
    "    > | `math.log(x, base)` | `base`를 밑으로 하는 `x`의 로그 (밑을 생략하면 자연로그) |\n",
    "    > | `math.log10(x)`     | 10을 밑으로 하는 `x`의 로그                    |\n",
    "    > | `math.log2(x)`      | 2를 밑으로 하는 `x`의 로그                     |\n",
    "    > | `math.pow(x, y)`    | `x`의 `y`승 (지수 연산)                     |\n",
    "    > \n",
    "    > #### 4. **삼각 함수**\n",
    "    > \n",
    "    > | 함수                 | 설명                     |\n",
    "    > | ------------------ | ---------------------- |\n",
    "    > | `math.sin(x)`      | `x`의 사인 (라디안 단위)       |\n",
    "    > | `math.cos(x)`      | `x`의 코사인 (라디안 단위)      |\n",
    "    > | `math.tan(x)`      | `x`의 탄젠트 (라디안 단위)      |\n",
    "    > | `math.asin(x)`     | `x`의 아크사인 (결과는 라디안)    |\n",
    "    > | `math.acos(x)`     | `x`의 아크코사인 (결과는 라디안)   |\n",
    "    > | `math.atan(x)`     | `x`의 아크탄젠트 (결과는 라디안)   |\n",
    "    > | `math.atan2(y, x)` | `y/x`의 아크탄젠트 (결과는 라디안) |\n",
    "    > \n",
    "    > #### 5. **각도 변환**\n",
    "    > \n",
    "    > | 함수                | 설명                 |\n",
    "    > | ----------------- | ------------------ |\n",
    "    > | `math.degrees(x)` | `x`를 라디안에서 각도로 변환  |\n",
    "    > | `math.radians(x)` | `x`를 각도에서 라디안으로 변환 |\n",
    "    > \n",
    "    > #### 6. **하이퍼볼릭 함수**\n",
    "    > \n",
    "    > | 함수              | 설명             |\n",
    "    > | --------------- | -------------- |\n",
    "    > | `math.sinh(x)`  | `x`의 쌍곡선 사인    |\n",
    "    > | `math.cosh(x)`  | `x`의 쌍곡선 코사인   |\n",
    "    > | `math.tanh(x)`  | `x`의 쌍곡선 탄젠트   |\n",
    "    > | `math.asinh(x)` | `x`의 아크쌍곡선 사인  |\n",
    "    > | `math.acosh(x)` | `x`의 아크쌍곡선 코사인 |\n",
    "    > | `math.atanh(x)` | `x`의 아크쌍곡선 탄젠트 |\n",
    "    > \n",
    "    > #### 7. **기타 함수**\n",
    "    > \n",
    "    > | 함수                    | 설명                         |\n",
    "    > | --------------------- | -------------------------- |\n",
    "    > | `math.modf(x)`        | `x`의 소수점 부분과 정수 부분을 튜플로 반환 |\n",
    "    > | `math.isnan(x)`       | `x`가 NaN인지 확인              |\n",
    "    > | `math.isfinite(x)`    | `x`가 유한한 값인지 확인            |\n",
    "    > | `math.isinf(x)`       | `x`가 무한대인지 확인              |\n",
    "    > | `math.copysign(x, y)` | `x`에 `y`의 부호를 복사           |\n",
    "    > \n",
    "    > ### 🌍 **`math` 모듈 상수**\n",
    "    > \n",
    "    > `math` 모듈에는 여러 가지 유용한 **수학 상수**들이 있습니다.\n",
    "    > \n",
    "    > * `math.pi`: 원주율 $\\pi$, 약 3.14159\n",
    "    > * `math.e`: 자연 상수 $e$, 약 2.71828\n",
    "    > * `math.tau`: $2 \\pi$, 약 6.28318 (원 둘레와 관련된 값)\n",
    "    > * `math.inf`: 양의 무한대\n",
    "    > * `math.nan`: \"Not a Number\" (NaN, 정의되지 않은 값)\n",
    "    > \n",
    "    > ### 📌 **사용 예시**\n",
    "    > \n",
    "    > ```python\n",
    "    > import math\n",
    "    > \n",
    "    > # 1. 원주율 사용\n",
    "    > print(\"pi:\", math.pi)\n",
    "    > \n",
    "    > # 2. 로그 계산\n",
    "    > print(\"log10(1000):\", math.log10(1000))\n",
    "    > \n",
    "    > # 3. 제곱근 계산\n",
    "    > print(\"sqrt(16):\", math.sqrt(16))\n",
    "    > \n",
    "    > # 4. 삼각 함수\n",
    "    > angle_in_radians = math.radians(45)  # 45도를 라디안으로 변환\n",
    "    > print(\"sin(45°):\", math.sin(angle_in_radians))\n",
    "    > \n",
    "    > # 5. 올림/내림\n",
    "    > print(\"ceil(4.2):\", math.ceil(4.2))  # 올림\n",
    "    > print(\"floor(4.7):\", math.floor(4.7))  # 내림\n",
    "    > ```\n",
    "    > \n",
    "    > ### ❓ **자주 쓰이는 함수들**\n",
    "    > \n",
    "    > * `math.sqrt(x)`: 제곱근을 구할 때 자주 사용\n",
    "    > * `math.sin()`, `math.cos()`, `math.tan()`: 삼각 함수는 기하학적 계산에 유용\n",
    "    > * `math.exp()`, `math.log()`: 지수 및 로그 계산\n",
    "    > * `math.gcd()`: 두 수의 최대공약수를 구할 때 유용\n",
    "    > \n",
    "    > 이 외에도 `math` 모듈에는 다양한 함수들이 있어, **수학적 계산을 할 때** 매우 유용합니다.\n",
    "\n",
    "- math 모듈 외에 파이썬 핵심 모듈이 뭐가 있어?\n",
    "    > 파이썬에는 **math** 모듈 외에도 매우 유용하고 중요한 **핵심 모듈**들이 많아요. 이런 모듈들은 파이썬의 **표준 라이브러리**에 포함되어 있어서, 추가 설치 없이 바로 사용할 수 있습니다.\n",
    "    > \n",
    "    > 다음은 **주요 핵심 모듈**들을 소개할게요:\n",
    "    > \n",
    "    > ## 1. **`os` 모듈** (운영체제 관련)\n",
    "    > \n",
    "    > `os` 모듈은 운영체제와 관련된 다양한 기능을 제공합니다. 파일과 디렉토리 작업, 환경 변수 등을 처리할 수 있어요.\n",
    "    > \n",
    "    > ### 주요 기능:\n",
    "    > \n",
    "    > * `os.getcwd()` → 현재 작업 디렉토리 반환\n",
    "    > * `os.chdir(path)` → 작업 디렉토리 변경\n",
    "    > * `os.listdir(path)` → 디렉토리 내 파일 목록\n",
    "    > * `os.rename(old_name, new_name)` → 파일/디렉토리 이름 변경\n",
    "    > * `os.remove(path)` → 파일 삭제\n",
    "    > * `os.mkdir(path)` → 디렉토리 생성\n",
    "    > * `os.environ` → 환경 변수 다루기\n",
    "    > \n",
    "    > ## 2. **`sys` 모듈** (시스템 관련)\n",
    "    > \n",
    "    > `sys` 모듈은 파이썬 인터프리터와 관련된 작업을 다룹니다. 프로그램 실행과 관련된 다양한 정보를 얻거나, 파이썬 인터프리터에 영향을 줄 수 있어요.\n",
    "    > \n",
    "    > ### 주요 기능:\n",
    "    > \n",
    "    > * `sys.argv` → 명령줄 인자 목록\n",
    "    > * `sys.exit()` → 프로그램 종료\n",
    "    > * `sys.version` → 파이썬 버전 확인\n",
    "    > * `sys.path` → 모듈 검색 경로\n",
    "    > \n",
    "    > ## 3. **`datetime` 모듈** (날짜와 시간 처리)\n",
    "    > \n",
    "    > `datetime` 모듈은 날짜와 시간을 처리하는 데 매우 유용합니다. 날짜 차이를 계산하거나, 포맷을 지정하여 출력할 수 있어요.\n",
    "    > \n",
    "    > ### 주요 기능:\n",
    "    > \n",
    "    > * `datetime.datetime.now()` → 현재 날짜와 시간\n",
    "    > * `datetime.datetime.strptime(date_string, format)` → 문자열을 `datetime` 객체로 변환\n",
    "    > * `datetime.timedelta(days=0, seconds=0)` → 날짜 차이 계산\n",
    "    > * `datetime.date.today()` → 현재 날짜\n",
    "    > * `datetime.datetime.today()` → 현재 날짜와 시간\n",
    "    > \n",
    "    > ## 4. **`random` 모듈** (난수 생성)\n",
    "    > \n",
    "    > `random` 모듈은 무작위 숫자 생성 및 셔플, 샘플링 등을 할 수 있는 함수들을 제공합니다.\n",
    "    > \n",
    "    > ### 주요 기능:\n",
    "    > \n",
    "    > * `random.random()` → 0에서 1 사이의 랜덤 실수\n",
    "    > * `random.randint(a, b)` → `a`와 `b` 사이의 랜덤 정수\n",
    "    > * `random.choice(sequence)` → 시퀀스에서 랜덤한 항목 선택\n",
    "    > * `random.shuffle(sequence)` → 시퀀스 항목의 순서 랜덤하게 섞기\n",
    "    > * `random.sample(sequence, k)` → 시퀀스에서 중복 없이 `k`개 항목 샘플링\n",
    "    > \n",
    "    > ## 5. **`json` 모듈** (JSON 처리)\n",
    "    > \n",
    "    > `json` 모듈은 JSON 데이터의 직렬화(파이썬 객체를 JSON 문자열로 변환)와 역직렬화(JSON 문자열을 파이썬 객체로 변환)를 처리합니다.\n",
    "    > \n",
    "    > ### 주요 기능:\n",
    "    > \n",
    "    > * `json.dumps(obj)` → 파이썬 객체를 JSON 문자열로 변환\n",
    "    > * `json.loads(json_string)` → JSON 문자열을 파이썬 객체로 변환\n",
    "    > * `json.dump(obj, file)` → 파이썬 객체를 JSON 형식으로 파일에 기록\n",
    "    > * `json.load(file)` → 파일에서 JSON 데이터를 읽어 파이썬 객체로 변환\n",
    "    > \n",
    "    > ## 6. **`re` 모듈** (정규 표현식)\n",
    "    > \n",
    "    > `re` 모듈은 문자열 패턴 매칭을 위해 정규 표현식을 다루는 기능을 제공합니다.\n",
    "    > \n",
    "    > ### 주요 기능:\n",
    "    > \n",
    "    > * `re.match(pattern, string)` → 문자열이 패턴에 맞는지 확인\n",
    "    > * `re.search(pattern, string)` → 문자열에서 패턴 찾기\n",
    "    > * `re.findall(pattern, string)` → 문자열에서 패턴과 일치하는 모든 부분 찾기\n",
    "    > * `re.sub(pattern, replacement, string)` → 패턴을 다른 문자열로 치환\n",
    "    > \n",
    "    > ## 7. **`collections` 모듈** (특수한 컬렉션 데이터 구조)\n",
    "    > \n",
    "    > `collections` 모듈은 기본적인 `list`, `dict`, `tuple` 외에도 유용한 데이터 구조들을 제공합니다.\n",
    "    > \n",
    "    > ### 주요 기능:\n",
    "    > \n",
    "    > * `collections.Counter` → 항목의 개수를 셀 수 있는 딕셔너리 서브클래스\n",
    "    > * `collections.defaultdict` → 기본값을 제공하는 딕셔너리\n",
    "    > * `collections.namedtuple()` → 이름이 붙은 튜플 객체 생성\n",
    "    > * `collections.deque` → 양쪽 끝에서 빠르게 append, pop이 가능한 큐\n",
    "    > \n",
    "    > ## 8. **`itertools` 모듈** (반복자 관련 도구)\n",
    "    > \n",
    "    > `itertools` 모듈은 반복자(iterator)와 관련된 여러 가지 유용한 함수를 제공합니다. 순열, 조합, 카르타시안 곱 등 다양한 반복 작업을 처리할 수 있어요.\n",
    "    > \n",
    "    > ### 주요 기능:\n",
    "    > \n",
    "    > * `itertools.count(start=0, step=1)` → 시작 값부터 무한 반복 생성\n",
    "    > * `itertools.cycle(iterable)` → 순차적으로 반복\n",
    "    > * `itertools.permutations(iterable, r)` → 순열 생성\n",
    "    > * `itertools.combinations(iterable, r)` → 조합 생성\n",
    "    > \n",
    "    > ## 9. **`subprocess` 모듈** (서브프로세스 관리)\n",
    "    > \n",
    "    > `subprocess` 모듈은 외부 프로세스를 생성하고 관리하는 데 사용됩니다. 다른 프로그램을 호출하거나 파이썬 코드에서 외부 명령어를 실행할 수 있어요.\n",
    "    > \n",
    "    > ### 주요 기능:\n",
    "    > \n",
    "    > * `subprocess.run()` → 외부 명령어 실행\n",
    "    > * `subprocess.Popen()` → 프로세스 실행 후, 제어권 반환\n",
    "    > \n",
    "    > ## 10. **`socket` 모듈** (네트워크 관련)\n",
    "    > \n",
    "    > `socket` 모듈은 네트워크 소켓을 통해 통신할 수 있게 해줍니다. 서버와 클라이언트 간의 연결을 설정하거나 데이터를 송수신할 수 있어요.\n",
    "    > \n",
    "    > ### 주요 기능:\n",
    "    > \n",
    "    > * `socket.socket()` → 소켓 객체 생성\n",
    "    > * `socket.connect()` → 서버에 연결\n",
    "    > * `socket.send()` → 데이터 송신\n",
    "    > * `socket.recv()` → 데이터 수신\n",
    "    > \n",
    "    > ### 📌 **기타 중요한 파이썬 모듈**\n",
    "    > \n",
    "    > * **`socket`**: 네트워크 통신\n",
    "    > * **`shutil`**: 파일 및 디렉토리 작업\n",
    "    > * **`email`**: 이메일 처리\n",
    "    > * **`sqlite3`**: SQLite 데이터베이스 작업\n",
    "    > * **`csv`**: CSV 파일 읽기/쓰기\n",
    "    > * **`hashlib`**: 해시 함수 (MD5, SHA 등)\n",
    "    > * **`pdb`**: 파이썬 디버거\n",
    "    > * **`logging`**: 로그 기록\n",
    "    > * **`argparse`**: 명령줄 인자 처리\n",
    "    > \n",
    "    > ### 🛠️ **모듈 사용 예시**\n",
    "    > \n",
    "    > ```python\n",
    "    > # os 모듈 예시: 현재 작업 디렉토리 확인\n",
    "    > import os\n",
    "    > print(os.getcwd())  # 현재 작업 디렉토리 출력\n",
    "    > \n",
    "    > # sys 모듈 예시: 파이썬 버전 확인\n",
    "    > import sys\n",
    "    > print(sys.version)  # 파이썬 버전 출력\n",
    "    > \n",
    "    > # json 모듈 예시: 파이썬 객체를 JSON 문자열로 변환\n",
    "    > import json\n",
    "    > data = {\"name\": \"Alice\", \"age\": 25}\n",
    "    > json_str = json.dumps(data)\n",
    "    > print(json_str)  # {\"name\": \"Alice\", \"age\": 25}\n",
    "    > ```\n",
    "    > \n",
    "    > ### **정리**\n",
    "    > \n",
    "    > 파이썬에서 **핵심 모듈**들은 다양한 작업을 효율적으로 처리할 수 있게 도와주는 도구들이에요. 기본적인 **파일 처리**, **수학적 연산**, **네트워크**, **문자열 처리** 등 다양한 분야에서 사용됩니다. 이런 모듈을 잘 활용하면, 파이썬을 더욱 강력하게 사용할 수 있습니다."
   ]
  },
  {
   "cell_type": "markdown",
   "id": "e456263f",
   "metadata": {},
   "source": [
    "### 2.11.2. Exercise"
   ]
  },
  {
   "cell_type": "code",
   "execution_count": 39,
   "id": "a407bb47",
   "metadata": {},
   "outputs": [
    {
     "ename": "SyntaxError",
     "evalue": "cannot assign to literal here. Maybe you meant '==' instead of '='? (1575534540.py, line 1)",
     "output_type": "error",
     "traceback": [
      "  \u001b[36mCell\u001b[39m\u001b[36m \u001b[39m\u001b[32mIn[39]\u001b[39m\u001b[32m, line 1\u001b[39m\n\u001b[31m    \u001b[39m\u001b[31m17 = n\u001b[39m\n    ^\n\u001b[31mSyntaxError\u001b[39m\u001b[31m:\u001b[39m cannot assign to literal here. Maybe you meant '==' instead of '='?\n"
     ]
    }
   ],
   "source": [
    "17 = n"
   ]
  },
  {
   "cell_type": "code",
   "execution_count": 40,
   "id": "be330289",
   "metadata": {},
   "outputs": [],
   "source": [
    "x = y = 1"
   ]
  },
  {
   "cell_type": "code",
   "execution_count": 41,
   "id": "c91a2253",
   "metadata": {},
   "outputs": [],
   "source": [
    "n = 17;"
   ]
  },
  {
   "cell_type": "code",
   "execution_count": 42,
   "id": "7f0241f4",
   "metadata": {},
   "outputs": [],
   "source": [
    "n = 17."
   ]
  },
  {
   "cell_type": "code",
   "execution_count": 43,
   "id": "a15c430c",
   "metadata": {},
   "outputs": [
    {
     "ename": "SyntaxError",
     "evalue": "invalid syntax (2959997231.py, line 1)",
     "output_type": "error",
     "traceback": [
      "  \u001b[36mCell\u001b[39m\u001b[36m \u001b[39m\u001b[32mIn[43]\u001b[39m\u001b[32m, line 1\u001b[39m\n\u001b[31m    \u001b[39m\u001b[31mprint(n).\u001b[39m\n             ^\n\u001b[31mSyntaxError\u001b[39m\u001b[31m:\u001b[39m invalid syntax\n"
     ]
    }
   ],
   "source": [
    "print(n)."
   ]
  },
  {
   "cell_type": "code",
   "execution_count": 44,
   "id": "824efb33",
   "metadata": {},
   "outputs": [
    {
     "ename": "ModuleNotFoundError",
     "evalue": "No module named 'maath'",
     "output_type": "error",
     "traceback": [
      "\u001b[31m---------------------------------------------------------------------------\u001b[39m",
      "\u001b[31mModuleNotFoundError\u001b[39m                       Traceback (most recent call last)",
      "\u001b[36mCell\u001b[39m\u001b[36m \u001b[39m\u001b[32mIn[44]\u001b[39m\u001b[32m, line 1\u001b[39m\n\u001b[32m----> \u001b[39m\u001b[32m1\u001b[39m \u001b[38;5;28;01mimport\u001b[39;00m\u001b[38;5;250m \u001b[39m\u001b[34;01mmaath\u001b[39;00m\n",
      "\u001b[31mModuleNotFoundError\u001b[39m: No module named 'maath'"
     ]
    }
   ],
   "source": [
    "import maath"
   ]
  },
  {
   "cell_type": "markdown",
   "id": "9bd0173a",
   "metadata": {},
   "source": [
    "### 2.11.3. Exercise"
   ]
  },
  {
   "cell_type": "code",
   "execution_count": 45,
   "id": "4d5c02e6",
   "metadata": {},
   "outputs": [
    {
     "name": "stdout",
     "output_type": "stream",
     "text": [
      "523.5987755982989\n"
     ]
    }
   ],
   "source": [
    "radius = 5  # centimeters\n",
    "volume = (4 / 3) * math.pi * (radius ** 3)  # cubic centimeters\n",
    "print(volume)"
   ]
  },
  {
   "cell_type": "code",
   "execution_count": 46,
   "id": "ed453301",
   "metadata": {},
   "outputs": [
    {
     "name": "stdout",
     "output_type": "stream",
     "text": [
      "1.0\n"
     ]
    }
   ],
   "source": [
    "x = 42\n",
    "print((math.cos(42) ** 2) + (math.sin(42) ** 2))"
   ]
  },
  {
   "cell_type": "code",
   "execution_count": 47,
   "id": "89388d7a",
   "metadata": {},
   "outputs": [
    {
     "name": "stdout",
     "output_type": "stream",
     "text": [
      "7.3890560989306495\n",
      "7.3890560989306495\n",
      "7.38905609893065\n"
     ]
    }
   ],
   "source": [
    "print(math.e ** 2)\n",
    "print(math.pow(math.e, 2))\n",
    "print(math.exp(2))"
   ]
  }
 ],
 "metadata": {
  "kernelspec": {
   "display_name": "venv",
   "language": "python",
   "name": "python3"
  },
  "language_info": {
   "codemirror_mode": {
    "name": "ipython",
    "version": 3
   },
   "file_extension": ".py",
   "mimetype": "text/x-python",
   "name": "python",
   "nbconvert_exporter": "python",
   "pygments_lexer": "ipython3",
   "version": "3.12.9"
  }
 },
 "nbformat": 4,
 "nbformat_minor": 5
}
