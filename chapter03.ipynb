{
 "cells": [
  {
   "cell_type": "markdown",
   "id": "94086c19",
   "metadata": {},
   "source": [
    "# 3. Functions"
   ]
  },
  {
   "cell_type": "markdown",
   "id": "ff492ce6",
   "metadata": {},
   "source": [
    "## 3.1. Defining new functions"
   ]
  },
  {
   "cell_type": "code",
   "execution_count": 1,
   "id": "d80d2d02",
   "metadata": {},
   "outputs": [],
   "source": [
    "def print_lyrics():\n",
    "    print(\"I'm a lumberjack, and I'm okay.\")\n",
    "    print(\"I sleep all night and I work all day.\")"
   ]
  },
  {
   "cell_type": "code",
   "execution_count": 2,
   "id": "fec96936",
   "metadata": {},
   "outputs": [
    {
     "data": {
      "text/plain": [
       "<function __main__.print_lyrics()>"
      ]
     },
     "execution_count": 2,
     "metadata": {},
     "output_type": "execute_result"
    }
   ],
   "source": [
    "print_lyrics"
   ]
  },
  {
   "cell_type": "code",
   "execution_count": 3,
   "id": "a8986b95",
   "metadata": {},
   "outputs": [
    {
     "name": "stdout",
     "output_type": "stream",
     "text": [
      "I'm a lumberjack, and I'm okay.\n",
      "I sleep all night and I work all day.\n"
     ]
    }
   ],
   "source": [
    "print_lyrics()"
   ]
  },
  {
   "cell_type": "markdown",
   "id": "e7045932",
   "metadata": {},
   "source": [
    "## 3.2. Parameters"
   ]
  },
  {
   "cell_type": "code",
   "execution_count": 4,
   "id": "8e3a4d5a",
   "metadata": {},
   "outputs": [],
   "source": [
    "def print_twice(string):\n",
    "    print(string)\n",
    "    print(string)"
   ]
  },
  {
   "cell_type": "code",
   "execution_count": 5,
   "id": "ebe4e78d",
   "metadata": {},
   "outputs": [
    {
     "name": "stdout",
     "output_type": "stream",
     "text": [
      "Dennis Moore, \n",
      "Dennis Moore, \n"
     ]
    }
   ],
   "source": [
    "print_twice('Dennis Moore, ')"
   ]
  },
  {
   "cell_type": "code",
   "execution_count": 6,
   "id": "636916a5",
   "metadata": {},
   "outputs": [
    {
     "name": "stdout",
     "output_type": "stream",
     "text": [
      "Dennis Moore, \n",
      "Dennis Moore, \n"
     ]
    }
   ],
   "source": [
    "string = 'Dennis Moore, '\n",
    "print(string)\n",
    "print(string)"
   ]
  },
  {
   "cell_type": "code",
   "execution_count": 7,
   "id": "e93ed667",
   "metadata": {},
   "outputs": [
    {
     "name": "stdout",
     "output_type": "stream",
     "text": [
      "Dennis Moore, \n",
      "Dennis Moore, \n"
     ]
    }
   ],
   "source": [
    "line = 'Dennis Moore, '\n",
    "print_twice(line)"
   ]
  },
  {
   "cell_type": "markdown",
   "id": "73f56e51",
   "metadata": {},
   "source": [
    "## 3.3. Calling functions"
   ]
  },
  {
   "cell_type": "code",
   "execution_count": 8,
   "id": "0d2e7b28",
   "metadata": {},
   "outputs": [],
   "source": [
    "def repeat(word, n):\n",
    "    print(word * n)"
   ]
  },
  {
   "cell_type": "code",
   "execution_count": 9,
   "id": "43ae4a02",
   "metadata": {},
   "outputs": [
    {
     "name": "stdout",
     "output_type": "stream",
     "text": [
      "Spam, Spam, Spam, Spam, \n"
     ]
    }
   ],
   "source": [
    "spam = 'Spam, '\n",
    "repeat(spam, 4)"
   ]
  },
  {
   "cell_type": "code",
   "execution_count": 10,
   "id": "d8d06dcf",
   "metadata": {},
   "outputs": [],
   "source": [
    "def first_two_lines():\n",
    "    repeat(spam, 4)\n",
    "    repeat(spam, 4)"
   ]
  },
  {
   "cell_type": "code",
   "execution_count": 11,
   "id": "93f1868e",
   "metadata": {},
   "outputs": [
    {
     "name": "stdout",
     "output_type": "stream",
     "text": [
      "Spam, Spam, Spam, Spam, \n",
      "Spam, Spam, Spam, Spam, \n"
     ]
    }
   ],
   "source": [
    "first_two_lines()"
   ]
  },
  {
   "cell_type": "code",
   "execution_count": 12,
   "id": "7ca6d9ed",
   "metadata": {},
   "outputs": [],
   "source": [
    "def last_three_lines():\n",
    "    repeat(spam, 2)\n",
    "    print('(Lovely Spam, Wonderful Spam!)')\n",
    "    repeat(spam, 2)"
   ]
  },
  {
   "cell_type": "code",
   "execution_count": 13,
   "id": "8594313d",
   "metadata": {},
   "outputs": [
    {
     "name": "stdout",
     "output_type": "stream",
     "text": [
      "Spam, Spam, \n",
      "(Lovely Spam, Wonderful Spam!)\n",
      "Spam, Spam, \n"
     ]
    }
   ],
   "source": [
    "last_three_lines()"
   ]
  },
  {
   "cell_type": "code",
   "execution_count": 14,
   "id": "df885c0e",
   "metadata": {},
   "outputs": [],
   "source": [
    "def print_verse():\n",
    "    first_two_lines()\n",
    "    last_three_lines()"
   ]
  },
  {
   "cell_type": "code",
   "execution_count": 15,
   "id": "299a98f9",
   "metadata": {},
   "outputs": [
    {
     "name": "stdout",
     "output_type": "stream",
     "text": [
      "Spam, Spam, Spam, Spam, \n",
      "Spam, Spam, Spam, Spam, \n",
      "Spam, Spam, \n",
      "(Lovely Spam, Wonderful Spam!)\n",
      "Spam, Spam, \n"
     ]
    }
   ],
   "source": [
    "print_verse()"
   ]
  },
  {
   "cell_type": "markdown",
   "id": "d16a19a0",
   "metadata": {},
   "source": [
    "## 3.4. Repetition"
   ]
  },
  {
   "cell_type": "code",
   "execution_count": 16,
   "id": "a7d8875d",
   "metadata": {},
   "outputs": [
    {
     "name": "stdout",
     "output_type": "stream",
     "text": [
      "0\n",
      "1\n"
     ]
    }
   ],
   "source": [
    "for i in range(2):\n",
    "    print(i)"
   ]
  },
  {
   "cell_type": "code",
   "execution_count": 17,
   "id": "340ad3dc",
   "metadata": {},
   "outputs": [
    {
     "name": "stdout",
     "output_type": "stream",
     "text": [
      "Verse 0\n",
      "Spam, Spam, Spam, Spam, \n",
      "Spam, Spam, Spam, Spam, \n",
      "Spam, Spam, \n",
      "(Lovely Spam, Wonderful Spam!)\n",
      "Spam, Spam, \n",
      "\n",
      "Verse 1\n",
      "Spam, Spam, Spam, Spam, \n",
      "Spam, Spam, Spam, Spam, \n",
      "Spam, Spam, \n",
      "(Lovely Spam, Wonderful Spam!)\n",
      "Spam, Spam, \n",
      "\n"
     ]
    }
   ],
   "source": [
    "for i in range(2):\n",
    "    print(\"Verse\", i)\n",
    "    print_verse()\n",
    "    print()"
   ]
  },
  {
   "cell_type": "code",
   "execution_count": 18,
   "id": "574fad8e",
   "metadata": {},
   "outputs": [],
   "source": [
    "def print_n_verse(n):\n",
    "    for i in range(n):\n",
    "        print_verse()\n",
    "        print()"
   ]
  },
  {
   "cell_type": "markdown",
   "id": "a65c2476",
   "metadata": {},
   "source": [
    "## 3.5. Variables and parameters are local"
   ]
  },
  {
   "cell_type": "code",
   "execution_count": 19,
   "id": "c9b384eb",
   "metadata": {},
   "outputs": [],
   "source": [
    "def cat_twice(part1, part2):\n",
    "    cat = part1 + part2\n",
    "    print_twice(cat)"
   ]
  },
  {
   "cell_type": "code",
   "execution_count": 20,
   "id": "8fe99906",
   "metadata": {},
   "outputs": [
    {
     "name": "stdout",
     "output_type": "stream",
     "text": [
      "Always look on the bright side of life.\n",
      "Always look on the bright side of life.\n"
     ]
    }
   ],
   "source": [
    "line1 = 'Always look on the '\n",
    "line2 = 'bright side of life.'\n",
    "cat_twice(line1, line2)"
   ]
  },
  {
   "cell_type": "code",
   "execution_count": 21,
   "id": "b7b9a75b",
   "metadata": {},
   "outputs": [
    {
     "ename": "NameError",
     "evalue": "name 'cat' is not defined",
     "output_type": "error",
     "traceback": [
      "\u001b[31m---------------------------------------------------------------------------\u001b[39m",
      "\u001b[31mNameError\u001b[39m                                 Traceback (most recent call last)",
      "\u001b[36mCell\u001b[39m\u001b[36m \u001b[39m\u001b[32mIn[21]\u001b[39m\u001b[32m, line 1\u001b[39m\n\u001b[32m----> \u001b[39m\u001b[32m1\u001b[39m \u001b[38;5;28mprint\u001b[39m(\u001b[43mcat\u001b[49m)\n",
      "\u001b[31mNameError\u001b[39m: name 'cat' is not defined"
     ]
    }
   ],
   "source": [
    "print(cat)"
   ]
  },
  {
   "cell_type": "markdown",
   "id": "95a3f9b8",
   "metadata": {},
   "source": [
    "## 3.6. Stack diagrams\n",
    "\n",
    "- \\_\\_main\\_\\_\n",
    "    ```\n",
    "    line1 -> 'Always look on the '\n",
    "    line2 -> 'bright side of life.'\n",
    "    ```\n",
    "    - cat_twice\n",
    "        ```\n",
    "        part1 -> 'Always look on the '\n",
    "        part2 -> 'bright side of life.'\n",
    "        cat -> 'Always look on the bright side of life.'\n",
    "        ```\n",
    "        - print_twice\n",
    "            ```\n",
    "            string -> 'Always look on the bright side of life.'\n",
    "            ```\n",
    "            - print\n",
    "                ```\n",
    "                ? -> 'Always look on the bright side of life.'\n",
    "                ```"
   ]
  },
  {
   "cell_type": "markdown",
   "id": "b04786c5",
   "metadata": {},
   "source": [
    "## 3.7. Tracebacks"
   ]
  },
  {
   "cell_type": "code",
   "execution_count": 22,
   "id": "6308e415",
   "metadata": {},
   "outputs": [],
   "source": [
    "def print_twice(string):\n",
    "    print(cat)  # NameError\n",
    "    print(cat)"
   ]
  },
  {
   "cell_type": "code",
   "execution_count": 23,
   "id": "be73a39f",
   "metadata": {},
   "outputs": [
    {
     "name": "stdout",
     "output_type": "stream",
     "text": [
      "Exception reporting mode: Verbose\n"
     ]
    }
   ],
   "source": [
    "# This cell tells Jupyter to provide detailed debugging information\n",
    "# when a runtime error occurs, including a traceback.\n",
    "\n",
    "%xmode Verbose"
   ]
  },
  {
   "cell_type": "code",
   "execution_count": 24,
   "id": "95f2f932",
   "metadata": {},
   "outputs": [
    {
     "ename": "NameError",
     "evalue": "name 'cat' is not defined",
     "output_type": "error",
     "traceback": [
      "\u001b[31m---------------------------------------------------------------------------\u001b[39m",
      "\u001b[31mNameError\u001b[39m                                 Traceback (most recent call last)",
      "\u001b[36mCell\u001b[39m\u001b[36m \u001b[39m\u001b[32mIn[24]\u001b[39m\u001b[32m, line 1\u001b[39m\n\u001b[32m----> \u001b[39m\u001b[32m1\u001b[39m \u001b[43mcat_twice\u001b[49m\u001b[43m(\u001b[49m\u001b[43mline1\u001b[49m\u001b[43m,\u001b[49m\u001b[43m \u001b[49m\u001b[43mline2\u001b[49m\u001b[43m)\u001b[49m\n        line1 \u001b[34m= \u001b[39m\u001b[34m'Always look on the '\u001b[39m\n        line2 \u001b[34m= \u001b[39m\u001b[34m'bright side of life.'\u001b[39m",
      "\u001b[36mCell\u001b[39m\u001b[36m \u001b[39m\u001b[32mIn[19]\u001b[39m\u001b[32m, line 3\u001b[39m, in \u001b[36mcat_twice\u001b[39m\u001b[34m(part1='Always look on the ', part2='bright side of life.')\u001b[39m\n\u001b[32m      1\u001b[39m \u001b[38;5;28;01mdef\u001b[39;00m\u001b[38;5;250m \u001b[39m\u001b[34mcat_twice\u001b[39m(part1, part2):\n\u001b[32m      2\u001b[39m     cat = part1 + part2\n\u001b[32m----> \u001b[39m\u001b[32m3\u001b[39m     \u001b[43mprint_twice\u001b[49m\u001b[43m(\u001b[49m\u001b[43mcat\u001b[49m\u001b[43m)\u001b[49m\n        cat \u001b[34m= \u001b[39m\u001b[34m'Always look on the bright side of life.'\u001b[39m",
      "\u001b[36mCell\u001b[39m\u001b[36m \u001b[39m\u001b[32mIn[22]\u001b[39m\u001b[32m, line 2\u001b[39m, in \u001b[36mprint_twice\u001b[39m\u001b[34m(string='Always look on the bright side of life.')\u001b[39m\n\u001b[32m      1\u001b[39m \u001b[38;5;28;01mdef\u001b[39;00m\u001b[38;5;250m \u001b[39m\u001b[34mprint_twice\u001b[39m(string):\n\u001b[32m----> \u001b[39m\u001b[32m2\u001b[39m     \u001b[38;5;28mprint\u001b[39m(\u001b[43mcat\u001b[49m)  \u001b[38;5;66;03m# NameError\u001b[39;00m\n\u001b[32m      3\u001b[39m     \u001b[38;5;28mprint\u001b[39m(cat)\n",
      "\u001b[31mNameError\u001b[39m: name 'cat' is not defined"
     ]
    }
   ],
   "source": [
    "cat_twice(line1, line2)"
   ]
  },
  {
   "cell_type": "markdown",
   "id": "76de09c8",
   "metadata": {},
   "source": [
    "## 3.8. Why functions?"
   ]
  },
  {
   "cell_type": "markdown",
   "id": "71e78462",
   "metadata": {},
   "source": [
    "## 3.9. Debugging"
   ]
  },
  {
   "cell_type": "markdown",
   "id": "40078a30",
   "metadata": {},
   "source": [
    "## 3.10. Glossary\n",
    "\n",
    "- function definition\n",
    "- header\n",
    "- body\n",
    "- function object\n",
    "- parameter\n",
    "- loop\n",
    "- local variable\n",
    "- stack diagram\n",
    "- frame\n",
    "- traceback"
   ]
  },
  {
   "cell_type": "markdown",
   "id": "75a06a25",
   "metadata": {},
   "source": [
    "## 3.11. Exercises"
   ]
  },
  {
   "cell_type": "markdown",
   "id": "e8a56bf7",
   "metadata": {},
   "source": [
    "### 3.11.1. Ask a virtual assistant\n",
    "\n",
    "- string과 integer를 받아 문자열을 주어진 수만큼 반복 출력하는 repeat 함수 만들어줘.\n",
    "    > 물론입니다! 아래는 문자열(`string`)과 정수(`integer`)를 받아 문자열을 해당 숫자만큼 반복 출력하는 `repeat` 함수입니다. Python으로 작성했습니다:\n",
    "    > \n",
    "    > ```python\n",
    "    > def repeat(text: str, count: int):\n",
    "    >     if not isinstance(text, str):\n",
    "    >         raise TypeError(\"첫 번째 인자는 문자열이어야 합니다.\")\n",
    "    >     if not isinstance(count, int):\n",
    "    >         raise TypeError(\"두 번째 인자는 정수이어야 합니다.\")\n",
    "    >     if count < 0:\n",
    "    >         raise ValueError(\"반복 횟수는 0 이상이어야 합니다.\")\n",
    "    > \n",
    "    >     print(text * count)\n",
    "    > ```\n",
    "    > \n",
    "    > ### 사용 예시:\n",
    "    > \n",
    "    > ```python\n",
    "    > repeat(\"hello\", 3)\n",
    "    > ```\n",
    "    > \n",
    "    > ### 출력:\n",
    "    > \n",
    "    > ```\n",
    "    > hellohellohello\n",
    "    > ```\n",
    "\n",
    "    - for문을 사용해서 만들 수 있어?\n",
    "        > 물론입니다! `for`문을 사용해서 문자열을 주어진 정수만큼 반복 **출력**하는 `repeat` 함수를 만들어볼게요.\n",
    "        > \n",
    "        > ### ✅ `for`문을 사용해서 `print`하는 버전:\n",
    "        > \n",
    "        > ```python\n",
    "        > def repeat(text: str, count: int):\n",
    "        >     if not isinstance(text, str):\n",
    "        >         raise TypeError(\"첫 번째 인자는 문자열이어야 합니다.\")\n",
    "        >     if not isinstance(count, int):\n",
    "        >         raise TypeError(\"두 번째 인자는 정수이어야 합니다.\")\n",
    "        >     if count < 0:\n",
    "        >         raise ValueError(\"반복 횟수는 0 이상이어야 합니다.\")\n",
    "        > \n",
    "        >     for _ in range(count):\n",
    "        >         print(text, end='')\n",
    "        > ```\n",
    "        > \n",
    "        > ### 사용 예시:\n",
    "        > \n",
    "        > ```python\n",
    "        > repeat(\"hi\", 3)\n",
    "        > ```\n",
    "        > \n",
    "        > ### 출력:\n",
    "        > \n",
    "        > ```\n",
    "        > hihihi\n",
    "        > ```\n",
    "        > \n",
    "        > ### ✅ 또는 줄바꿈되게 출력하고 싶다면:\n",
    "        > \n",
    "        > ```python\n",
    "        > def repeat(text: str, count: int):\n",
    "        >     for _ in range(count):\n",
    "        >         print(text)\n",
    "        > ```\n",
    "        > \n",
    "        > ### 출력:\n",
    "        > \n",
    "        > ```\n",
    "        > hi\n",
    "        > hi\n",
    "        > hi\n",
    "        > ```\n",
    "\n",
    "- 줄바꿈하도록 만들어준 함수를 for 반복문 없이 만들어줘.\n",
    "    > 좋습니다! 이번에는 **`for` 반복문 없이**, 문자열을 줄바꿈되게 **여러 번 출력**하는 `repeat` 함수를 만들어보겠습니다.\n",
    "    > \n",
    "    > ### ✅ `for`문 없이 줄바꿈 출력 (`print`):\n",
    "    > \n",
    "    > ```python\n",
    "    > def repeat(text: str, count: int):\n",
    "    >     if not isinstance(text, str):\n",
    "    >         raise TypeError(\"첫 번째 인자는 문자열이어야 합니다.\")\n",
    "    >     if not isinstance(count, int):\n",
    "    >         raise TypeError(\"두 번째 인자는 정수이어야 합니다.\")\n",
    "    >     if count < 0:\n",
    "    >         raise ValueError(\"반복 횟수는 0 이상이어야 합니다.\")\n",
    "    > \n",
    "    >     print((text + '\\n') * count, end='')\n",
    "    > ```\n",
    "    > \n",
    "    > ### 어떻게 작동하냐면:\n",
    "    > \n",
    "    > * `(text + '\\n') * count` : 문자열과 줄바꿈을 하나로 붙인 걸 `count`만큼 반복.\n",
    "    > * `print(..., end='')` : 마지막 줄에서 추가 줄바꿈이 생기지 않도록 `end=''` 사용.\n",
    "    > \n",
    "    > ### ✅ 사용 예시:\n",
    "    > \n",
    "    > ```python\n",
    "    > repeat(\"hello\", 3)\n",
    "    > ```\n",
    "    > \n",
    "    > ### 출력:\n",
    "    > \n",
    "    > ```\n",
    "    > hello\n",
    "    > hello\n",
    "    > hello\n",
    "    > ```\n",
    "\n",
    "- 입력된 문자열을 두 번 반복해서 출력하는 print_twice 함수를 만들어줘. 이 함수는 for 같은 반복문을 사용하지 않아야 해.\n",
    "    > 물론이죠! 아래는 **`for`문이나 다른 반복문 없이**, 입력된 문자열을 **두 번 반복하여 출력**하는 `print_twice` 함수입니다.\n",
    "    > \n",
    "    > ### ✅ `print_twice` 함수 (반복문 없이):\n",
    "    > \n",
    "    > ```python\n",
    "    > def print_twice(text: str):\n",
    "    >     if not isinstance(text, str):\n",
    "    >         raise TypeError(\"입력은 문자열이어야 합니다.\")\n",
    "    > \n",
    "    >     print(text + text)\n",
    "    > ```\n",
    "    > \n",
    "    > ### ✅ 사용 예시:\n",
    "    > \n",
    "    > ```python\n",
    "    > print_twice(\"hi\")\n",
    "    > ```\n",
    "    > \n",
    "    > ### 출력:\n",
    "    > \n",
    "    > ```\n",
    "    > hihi\n",
    "    > ```\n",
    "    > \n",
    "    > ### ✅ 줄바꿈하여 두 줄로 출력하고 싶다면:\n",
    "    > \n",
    "    > ```python\n",
    "    > def print_twice(text: str):\n",
    "    >     if not isinstance(text, str):\n",
    "    >         raise TypeError(\"입력은 문자열이어야 합니다.\")\n",
    "    > \n",
    "    >     print((text + '\\n') * 2, end='')\n",
    "    > ```\n",
    "    > \n",
    "    > ### 출력:\n",
    "    > \n",
    "    > ```\n",
    "    > hi\n",
    "    > hi\n",
    "    > ```\n",
    "\n",
    "- 아래 함수에서 어떤 부분이 잘못되었어?\n",
    "    ```python\n",
    "    def print_twice(string):\n",
    "        print(cat)\n",
    "        print(cat)\n",
    "    ```\n",
    "    > 좋은 질문입니다! 아래 함수에서 문제가 되는 부분을 짚어드릴게요:\n",
    "    > \n",
    "    > ```python\n",
    "    > def print_twice(string):\n",
    "    >     print(cat)\n",
    "    >     print(cat)\n",
    "    > ```\n",
    "    > \n",
    "    > ### ❌ 문제점:\n",
    "    > \n",
    "    > * `cat`이라는 **변수를 사용하고 있지만**, 이 변수는 정의되어 있지 않습니다.\n",
    "    > * 대신, 함수의 매개변수로 `string`이라는 변수를 이미 받고 있는데, 그걸 사용하지 않고 있어요.\n",
    "    > \n",
    "    > ### 🔧 수정 방법:\n",
    "    > \n",
    "    > * `string`을 출력해야 하므로 `cat`을 `string`으로 바꿔야 합니다.\n",
    "    > \n",
    "    > ### ✅ 올바른 코드:\n",
    "    > \n",
    "    > ```python\n",
    "    > def print_twice(string):\n",
    "    >     print(string)\n",
    "    >     print(string)\n",
    "    > ```\n",
    "    > \n",
    "    > ### 🧪 사용 예시:\n",
    "    > \n",
    "    > ```python\n",
    "    > print_twice(\"hello\")\n",
    "    > ```\n",
    "    > \n",
    "    > ### 출력:\n",
    "    > \n",
    "    > ```\n",
    "    > hello\n",
    "    > hello\n",
    "    > ```\n",
    "    > \n",
    "    > ### 요약:\n",
    "    > \n",
    "    > * `NameError: name 'cat' is not defined` 오류가 발생합니다.\n",
    "    > * 이유는 `cat`이라는 이름이 정의되지 않았기 때문입니다.\n",
    "    > * 매개변수 이름인 `string`을 사용해야 합니다.\n",
    "    > \n",
    "    > 필요하면 `cat`이라는 변수 이름을 써도 되지만, 그 경우에는 함수 안에서 정의해주어야 합니다:\n",
    "    > \n",
    "    > ```python\n",
    "    > def print_twice(string):\n",
    "    >     cat = string\n",
    "    >     print(cat)\n",
    "    >     print(cat)\n",
    "    > ```\n",
    "    > \n",
    "    > 하지만 이건 불필요하게 변수 하나를 더 만드는 것이기 때문에, 바로 `print(string)` 쓰는 게 더 깔끔합니다."
   ]
  },
  {
   "cell_type": "markdown",
   "id": "74e12d99",
   "metadata": {},
   "source": [
    "### 3.11.2. Exercise"
   ]
  },
  {
   "cell_type": "code",
   "execution_count": 25,
   "id": "dc40a969",
   "metadata": {},
   "outputs": [
    {
     "name": "stdout",
     "output_type": "stream",
     "text": [
      "                                   Monty\n",
      "                                Python's\n",
      "                           Flying Circus\n"
     ]
    }
   ],
   "source": [
    "def print_right(text):\n",
    "    print(\" \" * (40 - len(text)) + text)\n",
    "\n",
    "print_right(\"Monty\")\n",
    "print_right(\"Python's\")\n",
    "print_right(\"Flying Circus\")"
   ]
  },
  {
   "cell_type": "markdown",
   "id": "5702834c",
   "metadata": {},
   "source": [
    "### 3.11.3. Exercise"
   ]
  },
  {
   "cell_type": "code",
   "execution_count": 26,
   "id": "011ed831",
   "metadata": {},
   "outputs": [
    {
     "name": "stdout",
     "output_type": "stream",
     "text": [
      "L\n",
      "LL\n",
      "LLL\n",
      "LLLL\n",
      "LLLLL\n"
     ]
    }
   ],
   "source": [
    "def triangle(letter, level):\n",
    "    for i in range(level):\n",
    "        print(letter * (i + 1))\n",
    "\n",
    "triangle('L', 5)"
   ]
  },
  {
   "cell_type": "markdown",
   "id": "1f6e45ad",
   "metadata": {},
   "source": [
    "### 3.11.4. Exercise"
   ]
  },
  {
   "cell_type": "code",
   "execution_count": 27,
   "id": "98d8bb7f",
   "metadata": {},
   "outputs": [
    {
     "name": "stdout",
     "output_type": "stream",
     "text": [
      "HHHHH\n",
      "HHHHH\n",
      "HHHHH\n",
      "HHHHH\n"
     ]
    }
   ],
   "source": [
    "def rectangle(letter, width, height):\n",
    "    for i in range(height):\n",
    "        print(letter * width)\n",
    "\n",
    "rectangle('H', 5, 4)"
   ]
  },
  {
   "cell_type": "markdown",
   "id": "bb93fb2f",
   "metadata": {},
   "source": [
    "### 3.11.5. Exercise"
   ]
  },
  {
   "cell_type": "code",
   "execution_count": 28,
   "id": "544502ee",
   "metadata": {},
   "outputs": [],
   "source": [
    "def bottle_verse(num):\n",
    "    bottle_first(num)\n",
    "    bottle_second(num)\n",
    "    bottle_third()\n",
    "    bottle_first(num - 1)\n",
    "\n",
    "def bottle_first(num):\n",
    "    print(num, \"bottles of beer on the wall\")\n",
    "\n",
    "def bottle_second(num):\n",
    "    print(num, \"bottles of beer\")\n",
    "\n",
    "def bottle_third():\n",
    "    print(\"Take one down, pass it around\")"
   ]
  },
  {
   "cell_type": "code",
   "execution_count": 29,
   "id": "1cfc4d27",
   "metadata": {},
   "outputs": [
    {
     "name": "stdout",
     "output_type": "stream",
     "text": [
      "99 bottles of beer on the wall\n",
      "99 bottles of beer\n",
      "Take one down, pass it around\n",
      "98 bottles of beer on the wall\n"
     ]
    }
   ],
   "source": [
    "bottle_verse(99)"
   ]
  },
  {
   "cell_type": "code",
   "execution_count": 30,
   "id": "b0a31a64",
   "metadata": {},
   "outputs": [
    {
     "name": "stdout",
     "output_type": "stream",
     "text": [
      "99 bottles of beer on the wall\n",
      "99 bottles of beer\n",
      "Take one down, pass it around\n",
      "98 bottles of beer on the wall\n",
      "\n",
      "98 bottles of beer on the wall\n",
      "98 bottles of beer\n",
      "Take one down, pass it around\n",
      "97 bottles of beer on the wall\n",
      "\n",
      "97 bottles of beer on the wall\n",
      "97 bottles of beer\n",
      "Take one down, pass it around\n",
      "96 bottles of beer on the wall\n",
      "\n",
      "96 bottles of beer on the wall\n",
      "96 bottles of beer\n",
      "Take one down, pass it around\n",
      "95 bottles of beer on the wall\n",
      "\n",
      "95 bottles of beer on the wall\n",
      "95 bottles of beer\n",
      "Take one down, pass it around\n",
      "94 bottles of beer on the wall\n",
      "\n",
      "94 bottles of beer on the wall\n",
      "94 bottles of beer\n",
      "Take one down, pass it around\n",
      "93 bottles of beer on the wall\n",
      "\n",
      "93 bottles of beer on the wall\n",
      "93 bottles of beer\n",
      "Take one down, pass it around\n",
      "92 bottles of beer on the wall\n",
      "\n",
      "92 bottles of beer on the wall\n",
      "92 bottles of beer\n",
      "Take one down, pass it around\n",
      "91 bottles of beer on the wall\n",
      "\n",
      "91 bottles of beer on the wall\n",
      "91 bottles of beer\n",
      "Take one down, pass it around\n",
      "90 bottles of beer on the wall\n",
      "\n",
      "90 bottles of beer on the wall\n",
      "90 bottles of beer\n",
      "Take one down, pass it around\n",
      "89 bottles of beer on the wall\n",
      "\n",
      "89 bottles of beer on the wall\n",
      "89 bottles of beer\n",
      "Take one down, pass it around\n",
      "88 bottles of beer on the wall\n",
      "\n",
      "88 bottles of beer on the wall\n",
      "88 bottles of beer\n",
      "Take one down, pass it around\n",
      "87 bottles of beer on the wall\n",
      "\n",
      "87 bottles of beer on the wall\n",
      "87 bottles of beer\n",
      "Take one down, pass it around\n",
      "86 bottles of beer on the wall\n",
      "\n",
      "86 bottles of beer on the wall\n",
      "86 bottles of beer\n",
      "Take one down, pass it around\n",
      "85 bottles of beer on the wall\n",
      "\n",
      "85 bottles of beer on the wall\n",
      "85 bottles of beer\n",
      "Take one down, pass it around\n",
      "84 bottles of beer on the wall\n",
      "\n",
      "84 bottles of beer on the wall\n",
      "84 bottles of beer\n",
      "Take one down, pass it around\n",
      "83 bottles of beer on the wall\n",
      "\n",
      "83 bottles of beer on the wall\n",
      "83 bottles of beer\n",
      "Take one down, pass it around\n",
      "82 bottles of beer on the wall\n",
      "\n",
      "82 bottles of beer on the wall\n",
      "82 bottles of beer\n",
      "Take one down, pass it around\n",
      "81 bottles of beer on the wall\n",
      "\n",
      "81 bottles of beer on the wall\n",
      "81 bottles of beer\n",
      "Take one down, pass it around\n",
      "80 bottles of beer on the wall\n",
      "\n",
      "80 bottles of beer on the wall\n",
      "80 bottles of beer\n",
      "Take one down, pass it around\n",
      "79 bottles of beer on the wall\n",
      "\n",
      "79 bottles of beer on the wall\n",
      "79 bottles of beer\n",
      "Take one down, pass it around\n",
      "78 bottles of beer on the wall\n",
      "\n",
      "78 bottles of beer on the wall\n",
      "78 bottles of beer\n",
      "Take one down, pass it around\n",
      "77 bottles of beer on the wall\n",
      "\n",
      "77 bottles of beer on the wall\n",
      "77 bottles of beer\n",
      "Take one down, pass it around\n",
      "76 bottles of beer on the wall\n",
      "\n",
      "76 bottles of beer on the wall\n",
      "76 bottles of beer\n",
      "Take one down, pass it around\n",
      "75 bottles of beer on the wall\n",
      "\n",
      "75 bottles of beer on the wall\n",
      "75 bottles of beer\n",
      "Take one down, pass it around\n",
      "74 bottles of beer on the wall\n",
      "\n",
      "74 bottles of beer on the wall\n",
      "74 bottles of beer\n",
      "Take one down, pass it around\n",
      "73 bottles of beer on the wall\n",
      "\n",
      "73 bottles of beer on the wall\n",
      "73 bottles of beer\n",
      "Take one down, pass it around\n",
      "72 bottles of beer on the wall\n",
      "\n",
      "72 bottles of beer on the wall\n",
      "72 bottles of beer\n",
      "Take one down, pass it around\n",
      "71 bottles of beer on the wall\n",
      "\n",
      "71 bottles of beer on the wall\n",
      "71 bottles of beer\n",
      "Take one down, pass it around\n",
      "70 bottles of beer on the wall\n",
      "\n",
      "70 bottles of beer on the wall\n",
      "70 bottles of beer\n",
      "Take one down, pass it around\n",
      "69 bottles of beer on the wall\n",
      "\n",
      "69 bottles of beer on the wall\n",
      "69 bottles of beer\n",
      "Take one down, pass it around\n",
      "68 bottles of beer on the wall\n",
      "\n",
      "68 bottles of beer on the wall\n",
      "68 bottles of beer\n",
      "Take one down, pass it around\n",
      "67 bottles of beer on the wall\n",
      "\n",
      "67 bottles of beer on the wall\n",
      "67 bottles of beer\n",
      "Take one down, pass it around\n",
      "66 bottles of beer on the wall\n",
      "\n",
      "66 bottles of beer on the wall\n",
      "66 bottles of beer\n",
      "Take one down, pass it around\n",
      "65 bottles of beer on the wall\n",
      "\n",
      "65 bottles of beer on the wall\n",
      "65 bottles of beer\n",
      "Take one down, pass it around\n",
      "64 bottles of beer on the wall\n",
      "\n",
      "64 bottles of beer on the wall\n",
      "64 bottles of beer\n",
      "Take one down, pass it around\n",
      "63 bottles of beer on the wall\n",
      "\n",
      "63 bottles of beer on the wall\n",
      "63 bottles of beer\n",
      "Take one down, pass it around\n",
      "62 bottles of beer on the wall\n",
      "\n",
      "62 bottles of beer on the wall\n",
      "62 bottles of beer\n",
      "Take one down, pass it around\n",
      "61 bottles of beer on the wall\n",
      "\n",
      "61 bottles of beer on the wall\n",
      "61 bottles of beer\n",
      "Take one down, pass it around\n",
      "60 bottles of beer on the wall\n",
      "\n",
      "60 bottles of beer on the wall\n",
      "60 bottles of beer\n",
      "Take one down, pass it around\n",
      "59 bottles of beer on the wall\n",
      "\n",
      "59 bottles of beer on the wall\n",
      "59 bottles of beer\n",
      "Take one down, pass it around\n",
      "58 bottles of beer on the wall\n",
      "\n",
      "58 bottles of beer on the wall\n",
      "58 bottles of beer\n",
      "Take one down, pass it around\n",
      "57 bottles of beer on the wall\n",
      "\n",
      "57 bottles of beer on the wall\n",
      "57 bottles of beer\n",
      "Take one down, pass it around\n",
      "56 bottles of beer on the wall\n",
      "\n",
      "56 bottles of beer on the wall\n",
      "56 bottles of beer\n",
      "Take one down, pass it around\n",
      "55 bottles of beer on the wall\n",
      "\n",
      "55 bottles of beer on the wall\n",
      "55 bottles of beer\n",
      "Take one down, pass it around\n",
      "54 bottles of beer on the wall\n",
      "\n",
      "54 bottles of beer on the wall\n",
      "54 bottles of beer\n",
      "Take one down, pass it around\n",
      "53 bottles of beer on the wall\n",
      "\n",
      "53 bottles of beer on the wall\n",
      "53 bottles of beer\n",
      "Take one down, pass it around\n",
      "52 bottles of beer on the wall\n",
      "\n",
      "52 bottles of beer on the wall\n",
      "52 bottles of beer\n",
      "Take one down, pass it around\n",
      "51 bottles of beer on the wall\n",
      "\n",
      "51 bottles of beer on the wall\n",
      "51 bottles of beer\n",
      "Take one down, pass it around\n",
      "50 bottles of beer on the wall\n",
      "\n",
      "50 bottles of beer on the wall\n",
      "50 bottles of beer\n",
      "Take one down, pass it around\n",
      "49 bottles of beer on the wall\n",
      "\n",
      "49 bottles of beer on the wall\n",
      "49 bottles of beer\n",
      "Take one down, pass it around\n",
      "48 bottles of beer on the wall\n",
      "\n",
      "48 bottles of beer on the wall\n",
      "48 bottles of beer\n",
      "Take one down, pass it around\n",
      "47 bottles of beer on the wall\n",
      "\n",
      "47 bottles of beer on the wall\n",
      "47 bottles of beer\n",
      "Take one down, pass it around\n",
      "46 bottles of beer on the wall\n",
      "\n",
      "46 bottles of beer on the wall\n",
      "46 bottles of beer\n",
      "Take one down, pass it around\n",
      "45 bottles of beer on the wall\n",
      "\n",
      "45 bottles of beer on the wall\n",
      "45 bottles of beer\n",
      "Take one down, pass it around\n",
      "44 bottles of beer on the wall\n",
      "\n",
      "44 bottles of beer on the wall\n",
      "44 bottles of beer\n",
      "Take one down, pass it around\n",
      "43 bottles of beer on the wall\n",
      "\n",
      "43 bottles of beer on the wall\n",
      "43 bottles of beer\n",
      "Take one down, pass it around\n",
      "42 bottles of beer on the wall\n",
      "\n",
      "42 bottles of beer on the wall\n",
      "42 bottles of beer\n",
      "Take one down, pass it around\n",
      "41 bottles of beer on the wall\n",
      "\n",
      "41 bottles of beer on the wall\n",
      "41 bottles of beer\n",
      "Take one down, pass it around\n",
      "40 bottles of beer on the wall\n",
      "\n",
      "40 bottles of beer on the wall\n",
      "40 bottles of beer\n",
      "Take one down, pass it around\n",
      "39 bottles of beer on the wall\n",
      "\n",
      "39 bottles of beer on the wall\n",
      "39 bottles of beer\n",
      "Take one down, pass it around\n",
      "38 bottles of beer on the wall\n",
      "\n",
      "38 bottles of beer on the wall\n",
      "38 bottles of beer\n",
      "Take one down, pass it around\n",
      "37 bottles of beer on the wall\n",
      "\n",
      "37 bottles of beer on the wall\n",
      "37 bottles of beer\n",
      "Take one down, pass it around\n",
      "36 bottles of beer on the wall\n",
      "\n",
      "36 bottles of beer on the wall\n",
      "36 bottles of beer\n",
      "Take one down, pass it around\n",
      "35 bottles of beer on the wall\n",
      "\n",
      "35 bottles of beer on the wall\n",
      "35 bottles of beer\n",
      "Take one down, pass it around\n",
      "34 bottles of beer on the wall\n",
      "\n",
      "34 bottles of beer on the wall\n",
      "34 bottles of beer\n",
      "Take one down, pass it around\n",
      "33 bottles of beer on the wall\n",
      "\n",
      "33 bottles of beer on the wall\n",
      "33 bottles of beer\n",
      "Take one down, pass it around\n",
      "32 bottles of beer on the wall\n",
      "\n",
      "32 bottles of beer on the wall\n",
      "32 bottles of beer\n",
      "Take one down, pass it around\n",
      "31 bottles of beer on the wall\n",
      "\n",
      "31 bottles of beer on the wall\n",
      "31 bottles of beer\n",
      "Take one down, pass it around\n",
      "30 bottles of beer on the wall\n",
      "\n",
      "30 bottles of beer on the wall\n",
      "30 bottles of beer\n",
      "Take one down, pass it around\n",
      "29 bottles of beer on the wall\n",
      "\n",
      "29 bottles of beer on the wall\n",
      "29 bottles of beer\n",
      "Take one down, pass it around\n",
      "28 bottles of beer on the wall\n",
      "\n",
      "28 bottles of beer on the wall\n",
      "28 bottles of beer\n",
      "Take one down, pass it around\n",
      "27 bottles of beer on the wall\n",
      "\n",
      "27 bottles of beer on the wall\n",
      "27 bottles of beer\n",
      "Take one down, pass it around\n",
      "26 bottles of beer on the wall\n",
      "\n",
      "26 bottles of beer on the wall\n",
      "26 bottles of beer\n",
      "Take one down, pass it around\n",
      "25 bottles of beer on the wall\n",
      "\n",
      "25 bottles of beer on the wall\n",
      "25 bottles of beer\n",
      "Take one down, pass it around\n",
      "24 bottles of beer on the wall\n",
      "\n",
      "24 bottles of beer on the wall\n",
      "24 bottles of beer\n",
      "Take one down, pass it around\n",
      "23 bottles of beer on the wall\n",
      "\n",
      "23 bottles of beer on the wall\n",
      "23 bottles of beer\n",
      "Take one down, pass it around\n",
      "22 bottles of beer on the wall\n",
      "\n",
      "22 bottles of beer on the wall\n",
      "22 bottles of beer\n",
      "Take one down, pass it around\n",
      "21 bottles of beer on the wall\n",
      "\n",
      "21 bottles of beer on the wall\n",
      "21 bottles of beer\n",
      "Take one down, pass it around\n",
      "20 bottles of beer on the wall\n",
      "\n",
      "20 bottles of beer on the wall\n",
      "20 bottles of beer\n",
      "Take one down, pass it around\n",
      "19 bottles of beer on the wall\n",
      "\n",
      "19 bottles of beer on the wall\n",
      "19 bottles of beer\n",
      "Take one down, pass it around\n",
      "18 bottles of beer on the wall\n",
      "\n",
      "18 bottles of beer on the wall\n",
      "18 bottles of beer\n",
      "Take one down, pass it around\n",
      "17 bottles of beer on the wall\n",
      "\n",
      "17 bottles of beer on the wall\n",
      "17 bottles of beer\n",
      "Take one down, pass it around\n",
      "16 bottles of beer on the wall\n",
      "\n",
      "16 bottles of beer on the wall\n",
      "16 bottles of beer\n",
      "Take one down, pass it around\n",
      "15 bottles of beer on the wall\n",
      "\n",
      "15 bottles of beer on the wall\n",
      "15 bottles of beer\n",
      "Take one down, pass it around\n",
      "14 bottles of beer on the wall\n",
      "\n",
      "14 bottles of beer on the wall\n",
      "14 bottles of beer\n",
      "Take one down, pass it around\n",
      "13 bottles of beer on the wall\n",
      "\n",
      "13 bottles of beer on the wall\n",
      "13 bottles of beer\n",
      "Take one down, pass it around\n",
      "12 bottles of beer on the wall\n",
      "\n",
      "12 bottles of beer on the wall\n",
      "12 bottles of beer\n",
      "Take one down, pass it around\n",
      "11 bottles of beer on the wall\n",
      "\n",
      "11 bottles of beer on the wall\n",
      "11 bottles of beer\n",
      "Take one down, pass it around\n",
      "10 bottles of beer on the wall\n",
      "\n",
      "10 bottles of beer on the wall\n",
      "10 bottles of beer\n",
      "Take one down, pass it around\n",
      "9 bottles of beer on the wall\n",
      "\n",
      "9 bottles of beer on the wall\n",
      "9 bottles of beer\n",
      "Take one down, pass it around\n",
      "8 bottles of beer on the wall\n",
      "\n",
      "8 bottles of beer on the wall\n",
      "8 bottles of beer\n",
      "Take one down, pass it around\n",
      "7 bottles of beer on the wall\n",
      "\n",
      "7 bottles of beer on the wall\n",
      "7 bottles of beer\n",
      "Take one down, pass it around\n",
      "6 bottles of beer on the wall\n",
      "\n",
      "6 bottles of beer on the wall\n",
      "6 bottles of beer\n",
      "Take one down, pass it around\n",
      "5 bottles of beer on the wall\n",
      "\n",
      "5 bottles of beer on the wall\n",
      "5 bottles of beer\n",
      "Take one down, pass it around\n",
      "4 bottles of beer on the wall\n",
      "\n",
      "4 bottles of beer on the wall\n",
      "4 bottles of beer\n",
      "Take one down, pass it around\n",
      "3 bottles of beer on the wall\n",
      "\n",
      "3 bottles of beer on the wall\n",
      "3 bottles of beer\n",
      "Take one down, pass it around\n",
      "2 bottles of beer on the wall\n",
      "\n",
      "2 bottles of beer on the wall\n",
      "2 bottles of beer\n",
      "Take one down, pass it around\n",
      "1 bottles of beer on the wall\n",
      "\n",
      "1 bottles of beer on the wall\n",
      "1 bottles of beer\n",
      "Take one down, pass it around\n",
      "0 bottles of beer on the wall\n",
      "\n"
     ]
    }
   ],
   "source": [
    "for n in range(99, 0, -1):\n",
    "    bottle_verse(n)\n",
    "    print()"
   ]
  }
 ],
 "metadata": {
  "kernelspec": {
   "display_name": "venv",
   "language": "python",
   "name": "python3"
  },
  "language_info": {
   "codemirror_mode": {
    "name": "ipython",
    "version": 3
   },
   "file_extension": ".py",
   "mimetype": "text/x-python",
   "name": "python",
   "nbconvert_exporter": "python",
   "pygments_lexer": "ipython3",
   "version": "3.12.9"
  }
 },
 "nbformat": 4,
 "nbformat_minor": 5
}
