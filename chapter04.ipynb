{
 "cells": [
  {
   "cell_type": "markdown",
   "id": "79bd15cb",
   "metadata": {},
   "source": [
    "# 4. Functions and Interfaces"
   ]
  },
  {
   "cell_type": "markdown",
   "id": "eb3a42c0",
   "metadata": {},
   "source": [
    "## 4.1. The jupyturtle module"
   ]
  },
  {
   "cell_type": "code",
   "execution_count": 1,
   "id": "3f1a94b2",
   "metadata": {},
   "outputs": [],
   "source": [
    "import jupyturtle"
   ]
  },
  {
   "cell_type": "code",
   "execution_count": 2,
   "id": "ea43ed06",
   "metadata": {},
   "outputs": [
    {
     "data": {
      "text/html": [
       "<svg width=\"300\" height=\"150\" style=\"fill:none; stroke-linecap:round;\">\n",
       "    <rect width=\"100%\" height=\"100%\" fill=\"#F3F3F7\" />\n",
       "\n",
       "\n",
       "<path stroke=\"#663399\" stroke-width=\"2\" d=\"M 150,75 250,75\" />'\n",
       "\n",
       "<g transform=\"rotate(-90.0,250.0,75.0) translate(250.0, 75.0)\">\n",
       "    <circle stroke=\"#63A375\" stroke-width=\"2\" fill=\"transparent\" r=\"5.5\" cx=\"0\" cy=\"0\"/>\n",
       "    <polygon points=\"0,12 2,9 -2,9\" style=\"fill:#63A375;stroke:#63A375;stroke-width:2\"/>\n",
       "</g>\n",
       "\n",
       "</svg>"
      ],
      "text/plain": [
       "<IPython.core.display.HTML object>"
      ]
     },
     "metadata": {},
     "output_type": "display_data"
    }
   ],
   "source": [
    "jupyturtle.make_turtle()\n",
    "jupyturtle.forward(100)"
   ]
  },
  {
   "cell_type": "code",
   "execution_count": 3,
   "id": "13698f1c",
   "metadata": {},
   "outputs": [],
   "source": [
    "from jupyturtle import make_turtle, forward"
   ]
  },
  {
   "cell_type": "code",
   "execution_count": 4,
   "id": "4e93e157",
   "metadata": {},
   "outputs": [
    {
     "data": {
      "text/html": [
       "<svg width=\"300\" height=\"150\" style=\"fill:none; stroke-linecap:round;\">\n",
       "    <rect width=\"100%\" height=\"100%\" fill=\"#F3F3F7\" />\n",
       "\n",
       "\n",
       "<path stroke=\"#663399\" stroke-width=\"2\" d=\"M 150,75 250,75\" />'\n",
       "\n",
       "<g transform=\"rotate(-90.0,250.0,75.0) translate(250.0, 75.0)\">\n",
       "    <circle stroke=\"#63A375\" stroke-width=\"2\" fill=\"transparent\" r=\"5.5\" cx=\"0\" cy=\"0\"/>\n",
       "    <polygon points=\"0,12 2,9 -2,9\" style=\"fill:#63A375;stroke:#63A375;stroke-width:2\"/>\n",
       "</g>\n",
       "\n",
       "</svg>"
      ],
      "text/plain": [
       "<IPython.core.display.HTML object>"
      ]
     },
     "metadata": {},
     "output_type": "display_data"
    }
   ],
   "source": [
    "make_turtle()\n",
    "forward(100)"
   ]
  },
  {
   "cell_type": "code",
   "execution_count": 5,
   "id": "b45cc643",
   "metadata": {},
   "outputs": [],
   "source": [
    "from jupyturtle import left, right"
   ]
  },
  {
   "cell_type": "code",
   "execution_count": 6,
   "id": "5d250369",
   "metadata": {},
   "outputs": [
    {
     "data": {
      "text/html": [
       "<svg width=\"300\" height=\"150\" style=\"fill:none; stroke-linecap:round;\">\n",
       "    <rect width=\"100%\" height=\"100%\" fill=\"#F3F3F7\" />\n",
       "\n",
       "\n",
       "<path stroke=\"#663399\" stroke-width=\"2\" d=\"M 150,75 200,75 200,25\" />'\n",
       "\n",
       "<g transform=\"rotate(180.0,200.0,25.0) translate(200.0, 25.0)\">\n",
       "    <circle stroke=\"#63A375\" stroke-width=\"2\" fill=\"transparent\" r=\"5.5\" cx=\"0\" cy=\"0\"/>\n",
       "    <polygon points=\"0,12 2,9 -2,9\" style=\"fill:#63A375;stroke:#63A375;stroke-width:2\"/>\n",
       "</g>\n",
       "\n",
       "</svg>"
      ],
      "text/plain": [
       "<IPython.core.display.HTML object>"
      ]
     },
     "metadata": {},
     "output_type": "display_data"
    }
   ],
   "source": [
    "make_turtle()\n",
    "forward(50)\n",
    "left(90)\n",
    "forward(50)"
   ]
  },
  {
   "cell_type": "markdown",
   "id": "26e10d65",
   "metadata": {},
   "source": [
    "## 4.2. Making a square"
   ]
  },
  {
   "cell_type": "code",
   "execution_count": 7,
   "id": "4ac0d20e",
   "metadata": {},
   "outputs": [
    {
     "data": {
      "text/html": [
       "<svg width=\"300\" height=\"150\" style=\"fill:none; stroke-linecap:round;\">\n",
       "    <rect width=\"100%\" height=\"100%\" fill=\"#F3F3F7\" />\n",
       "\n",
       "\n",
       "<path stroke=\"#663399\" stroke-width=\"2\" d=\"M 150,75 200,75 200,25 150,25 150,75\" />'\n",
       "\n",
       "<g transform=\"rotate(-90.0,150.0,75.0) translate(150.0, 75.0)\">\n",
       "    <circle stroke=\"#63A375\" stroke-width=\"2\" fill=\"transparent\" r=\"5.5\" cx=\"0\" cy=\"0\"/>\n",
       "    <polygon points=\"0,12 2,9 -2,9\" style=\"fill:#63A375;stroke:#63A375;stroke-width:2\"/>\n",
       "</g>\n",
       "\n",
       "</svg>"
      ],
      "text/plain": [
       "<IPython.core.display.HTML object>"
      ]
     },
     "metadata": {},
     "output_type": "display_data"
    }
   ],
   "source": [
    "make_turtle()\n",
    "\n",
    "forward(50)\n",
    "left(90)\n",
    "\n",
    "forward(50)\n",
    "left(90)\n",
    "\n",
    "forward(50)\n",
    "left(90)\n",
    "\n",
    "forward(50)\n",
    "left(90)"
   ]
  },
  {
   "cell_type": "code",
   "execution_count": 8,
   "id": "2ae9d8d7",
   "metadata": {},
   "outputs": [
    {
     "data": {
      "text/html": [
       "<svg width=\"300\" height=\"150\" style=\"fill:none; stroke-linecap:round;\">\n",
       "    <rect width=\"100%\" height=\"100%\" fill=\"#F3F3F7\" />\n",
       "\n",
       "\n",
       "<path stroke=\"#663399\" stroke-width=\"2\" d=\"M 150,75 200,75 200,25 150,25 150,75\" />'\n",
       "\n",
       "<g transform=\"rotate(-90.0,150.0,75.0) translate(150.0, 75.0)\">\n",
       "    <circle stroke=\"#63A375\" stroke-width=\"2\" fill=\"transparent\" r=\"5.5\" cx=\"0\" cy=\"0\"/>\n",
       "    <polygon points=\"0,12 2,9 -2,9\" style=\"fill:#63A375;stroke:#63A375;stroke-width:2\"/>\n",
       "</g>\n",
       "\n",
       "</svg>"
      ],
      "text/plain": [
       "<IPython.core.display.HTML object>"
      ]
     },
     "metadata": {},
     "output_type": "display_data"
    }
   ],
   "source": [
    "make_turtle()\n",
    "for i in range(4):\n",
    "    forward(50)\n",
    "    left(90)"
   ]
  },
  {
   "cell_type": "markdown",
   "id": "524f6f5c",
   "metadata": {},
   "source": [
    "## 4.3. Encapsulation and generalization"
   ]
  },
  {
   "cell_type": "code",
   "execution_count": 9,
   "id": "020780fb",
   "metadata": {},
   "outputs": [],
   "source": [
    "def square():\n",
    "    for i in range(4):\n",
    "        forward(50)\n",
    "        left(90)"
   ]
  },
  {
   "cell_type": "code",
   "execution_count": 10,
   "id": "fcbb9f2a",
   "metadata": {},
   "outputs": [
    {
     "data": {
      "text/html": [
       "<svg width=\"300\" height=\"150\" style=\"fill:none; stroke-linecap:round;\">\n",
       "    <rect width=\"100%\" height=\"100%\" fill=\"#F3F3F7\" />\n",
       "\n",
       "\n",
       "<path stroke=\"#663399\" stroke-width=\"2\" d=\"M 150,75 200,75 200,25 150,25 150,75\" />'\n",
       "\n",
       "<g transform=\"rotate(-90.0,150.0,75.0) translate(150.0, 75.0)\">\n",
       "    <circle stroke=\"#63A375\" stroke-width=\"2\" fill=\"transparent\" r=\"5.5\" cx=\"0\" cy=\"0\"/>\n",
       "    <polygon points=\"0,12 2,9 -2,9\" style=\"fill:#63A375;stroke:#63A375;stroke-width:2\"/>\n",
       "</g>\n",
       "\n",
       "</svg>"
      ],
      "text/plain": [
       "<IPython.core.display.HTML object>"
      ]
     },
     "metadata": {},
     "output_type": "display_data"
    }
   ],
   "source": [
    "make_turtle()\n",
    "square()"
   ]
  },
  {
   "cell_type": "code",
   "execution_count": 11,
   "id": "764f90d1",
   "metadata": {},
   "outputs": [],
   "source": [
    "def square(length):\n",
    "    for i in range(4):\n",
    "        forward(length)\n",
    "        left(90)"
   ]
  },
  {
   "cell_type": "code",
   "execution_count": 12,
   "id": "72b26f21",
   "metadata": {},
   "outputs": [
    {
     "data": {
      "text/html": [
       "<svg width=\"300\" height=\"150\" style=\"fill:none; stroke-linecap:round;\">\n",
       "    <rect width=\"100%\" height=\"100%\" fill=\"#F3F3F7\" />\n",
       "\n",
       "\n",
       "<path stroke=\"#663399\" stroke-width=\"2\" d=\"M 150,75 180,75 180,45 150,45 150,75 210,75 210,15 150,15 150,75\" />'\n",
       "\n",
       "<g transform=\"rotate(-90.0,150.0,75.0) translate(150.0, 75.0)\">\n",
       "    <circle stroke=\"#63A375\" stroke-width=\"2\" fill=\"transparent\" r=\"5.5\" cx=\"0\" cy=\"0\"/>\n",
       "    <polygon points=\"0,12 2,9 -2,9\" style=\"fill:#63A375;stroke:#63A375;stroke-width:2\"/>\n",
       "</g>\n",
       "\n",
       "</svg>"
      ],
      "text/plain": [
       "<IPython.core.display.HTML object>"
      ]
     },
     "metadata": {},
     "output_type": "display_data"
    }
   ],
   "source": [
    "make_turtle()\n",
    "square(30)\n",
    "square(60)"
   ]
  },
  {
   "cell_type": "code",
   "execution_count": 13,
   "id": "1fcd3aa0",
   "metadata": {},
   "outputs": [],
   "source": [
    "def polygon(n, length):\n",
    "    angle = 360 / n\n",
    "    for i in range(n):\n",
    "        forward(length)\n",
    "        left(angle)"
   ]
  },
  {
   "cell_type": "code",
   "execution_count": 14,
   "id": "479ee2c0",
   "metadata": {},
   "outputs": [
    {
     "data": {
      "text/html": [
       "<svg width=\"300\" height=\"150\" style=\"fill:none; stroke-linecap:round;\">\n",
       "    <rect width=\"100%\" height=\"100%\" fill=\"#F3F3F7\" />\n",
       "\n",
       "\n",
       "<path stroke=\"#663399\" stroke-width=\"2\" d=\"M 150,75 180,75 198.7,51.5 192,22.3 165,9.3 138,22.3 131.3,51.5 150,75\" />'\n",
       "\n",
       "<g transform=\"rotate(270.0,150.0,75.0) translate(150.0, 75.0)\">\n",
       "    <circle stroke=\"#63A375\" stroke-width=\"2\" fill=\"transparent\" r=\"5.5\" cx=\"0\" cy=\"0\"/>\n",
       "    <polygon points=\"0,12 2,9 -2,9\" style=\"fill:#63A375;stroke:#63A375;stroke-width:2\"/>\n",
       "</g>\n",
       "\n",
       "</svg>"
      ],
      "text/plain": [
       "<IPython.core.display.HTML object>"
      ]
     },
     "metadata": {},
     "output_type": "display_data"
    }
   ],
   "source": [
    "make_turtle()\n",
    "polygon(7, 30)"
   ]
  },
  {
   "cell_type": "code",
   "execution_count": 15,
   "id": "32e81498",
   "metadata": {},
   "outputs": [
    {
     "data": {
      "text/html": [
       "<svg width=\"300\" height=\"150\" style=\"fill:none; stroke-linecap:round;\">\n",
       "    <rect width=\"100%\" height=\"100%\" fill=\"#F3F3F7\" />\n",
       "\n",
       "\n",
       "<path stroke=\"#663399\" stroke-width=\"2\" d=\"M 150,75 180,75 198.7,51.5 192,22.3 165,9.3 138,22.3 131.3,51.5 150,75\" />'\n",
       "\n",
       "<g transform=\"rotate(270.0,150.0,75.0) translate(150.0, 75.0)\">\n",
       "    <circle stroke=\"#63A375\" stroke-width=\"2\" fill=\"transparent\" r=\"5.5\" cx=\"0\" cy=\"0\"/>\n",
       "    <polygon points=\"0,12 2,9 -2,9\" style=\"fill:#63A375;stroke:#63A375;stroke-width:2\"/>\n",
       "</g>\n",
       "\n",
       "</svg>"
      ],
      "text/plain": [
       "<IPython.core.display.HTML object>"
      ]
     },
     "metadata": {},
     "output_type": "display_data"
    }
   ],
   "source": [
    "make_turtle()\n",
    "polygon(n=7, length=30)"
   ]
  },
  {
   "cell_type": "markdown",
   "id": "fb9032bc",
   "metadata": {},
   "source": [
    "## 4.4. Approximating a circle"
   ]
  },
  {
   "cell_type": "code",
   "execution_count": 16,
   "id": "91d3a9b4",
   "metadata": {},
   "outputs": [],
   "source": [
    "import math\n",
    "\n",
    "def circle(radius):\n",
    "    circumference = 2 * math.pi * radius\n",
    "    n = 30\n",
    "    length = circumference / n\n",
    "    polygon(n, length)"
   ]
  },
  {
   "cell_type": "code",
   "execution_count": 17,
   "id": "c9477ea5",
   "metadata": {},
   "outputs": [
    {
     "data": {
      "text/html": [
       "<svg width=\"300\" height=\"150\" style=\"fill:none; stroke-linecap:round;\">\n",
       "    <rect width=\"100%\" height=\"100%\" fill=\"#F3F3F7\" />\n",
       "\n",
       "\n",
       "<path stroke=\"#663399\" stroke-width=\"2\" d=\"M 150,75 156.3,75 162.4,73.7 168.2,71.1 173.3,67.4 177.5,62.8 180.6,57.3 182.5,51.4 183.2,45.1 182.5,38.9 180.6,32.9 177.5,27.4 173.3,22.8 168.2,19.1 162.4,16.5 156.3,15.2 150,15.2 143.9,16.5 138.1,19.1 133,22.8 128.8,27.4 125.7,32.9 123.7,38.9 123.1,45.1 123.7,51.4 125.7,57.3 128.8,62.8 133,67.4 138.1,71.1 143.9,73.7 150,75\" />'\n",
       "\n",
       "<g transform=\"rotate(-90.0,150.0,75.0) translate(150.0, 75.0)\">\n",
       "    <circle stroke=\"#63A375\" stroke-width=\"2\" fill=\"transparent\" r=\"5.5\" cx=\"0\" cy=\"0\"/>\n",
       "    <polygon points=\"0,12 2,9 -2,9\" style=\"fill:#63A375;stroke:#63A375;stroke-width:2\"/>\n",
       "</g>\n",
       "\n",
       "</svg>"
      ],
      "text/plain": [
       "<IPython.core.display.HTML object>"
      ]
     },
     "metadata": {},
     "output_type": "display_data"
    }
   ],
   "source": [
    "make_turtle(delay=0.02)\n",
    "circle(30)"
   ]
  },
  {
   "cell_type": "markdown",
   "id": "e430ad9d",
   "metadata": {},
   "source": [
    "## 4.5. Refactoring"
   ]
  },
  {
   "cell_type": "code",
   "execution_count": 18,
   "id": "6c30a142",
   "metadata": {},
   "outputs": [],
   "source": [
    "def polyline(n, length, angle):\n",
    "    for i in range(n):\n",
    "        forward(length)\n",
    "        left(angle)"
   ]
  },
  {
   "cell_type": "code",
   "execution_count": 19,
   "id": "8208f1e2",
   "metadata": {},
   "outputs": [],
   "source": [
    "def polygon(n, length):\n",
    "    angle = 360.0 / n\n",
    "    polyline(n, length, angle)"
   ]
  },
  {
   "cell_type": "code",
   "execution_count": 20,
   "id": "fc8c7227",
   "metadata": {},
   "outputs": [],
   "source": [
    "def arc(radius, angle):\n",
    "    arc_length = 2 * math.pi * radius * angle / 360\n",
    "    n = 30\n",
    "    length = arc_length / n\n",
    "    step_angle = angle / n\n",
    "    polyline(n, length, step_angle)"
   ]
  },
  {
   "cell_type": "code",
   "execution_count": 21,
   "id": "0378d836",
   "metadata": {},
   "outputs": [],
   "source": [
    "def circle(radius):\n",
    "    arc(radius, 360)"
   ]
  },
  {
   "cell_type": "code",
   "execution_count": 22,
   "id": "0305d4b7",
   "metadata": {},
   "outputs": [
    {
     "data": {
      "text/html": [
       "<svg width=\"300\" height=\"150\" style=\"fill:none; stroke-linecap:round;\">\n",
       "    <rect width=\"100%\" height=\"100%\" fill=\"#F3F3F7\" />\n",
       "\n",
       "\n",
       "<path stroke=\"#663399\" stroke-width=\"2\" d=\"M 150,75 159,75 167.6,72.2 174.8,66.9 180.1,59.6 182.9,51.1 182.9,42.1 180.1,33.5 174.8,26.2 167.6,21 159,18.2 150,18.2 141.4,21 134.2,26.2 128.9,33.5 126.1,42.1 126.1,51.1 128.9,59.6 134.2,66.9 141.4,72.2 150,75 152.9,75 155.7,74.9 158.5,74.7 161.4,74.3 164.2,73.8 167,73.3 169.7,72.6 172.5,71.8 175.2,70.9 177.8,69.8 180.5,68.7 183,67.5 185.5,66.1 188,64.7 190.4,63.2 192.7,61.5 195,59.8 197.2,58 199.3,56.1 201.4,54.1 203.3,52 205.2,49.9 207,47.6 208.7,45.3 210.2,43 211.7,40.5 213.1,38.1 214.4,35.5 215.6,32.9 216.7,30.3 217.4,28.3 217.7,26.2 217.6,24.2 217,22.1 216,20.3 214.7,18.7 213,17.4 211.1,16.5 209.1,16 207,15.9 204.9,16.3 203,17 201.3,18.2 199.8,19.7 198.7,21.5 198,23.5 197.7,25.5 197.8,27.6 198.4,29.6 199.4,31.5 200.7,33.1 202.4,34.4 204.3,35.3 206.3,35.8 208.4,35.9 210.5,35.5 212.4,34.7 214.1,33.6 215.6,32.1 216.7,30.3\" />'\n",
       "\n",
       "<g transform=\"rotate(200.0,216.7,30.3) translate(216.7, 30.3)\">\n",
       "    <circle stroke=\"#63A375\" stroke-width=\"2\" fill=\"transparent\" r=\"5.5\" cx=\"0\" cy=\"0\"/>\n",
       "    <polygon points=\"0,12 2,9 -2,9\" style=\"fill:#63A375;stroke:#63A375;stroke-width:2\"/>\n",
       "</g>\n",
       "\n",
       "</svg>"
      ],
      "text/plain": [
       "<IPython.core.display.HTML object>"
      ]
     },
     "metadata": {},
     "output_type": "display_data"
    }
   ],
   "source": [
    "make_turtle(delay=0)\n",
    "polygon(n=20, length=9)\n",
    "arc(radius=70, angle=70)\n",
    "circle(radius=10)"
   ]
  },
  {
   "cell_type": "markdown",
   "id": "539f26a9",
   "metadata": {},
   "source": [
    "## 4.6. Stack diagram\n",
    "\n",
    "- circle\n",
    "    ```\n",
    "    radius -> 30\n",
    "    ```\n",
    "    - arc\n",
    "        ```\n",
    "        radius -> 30\n",
    "        angle -> 360\n",
    "        ```\n",
    "        - polyline\n",
    "            ```\n",
    "            n -> 60\n",
    "            length -> 3.04\n",
    "            angle -> 5.8\n",
    "            ```"
   ]
  },
  {
   "cell_type": "markdown",
   "id": "d983d5d0",
   "metadata": {},
   "source": [
    "## 4.7. A development plan"
   ]
  },
  {
   "cell_type": "markdown",
   "id": "3bf3547b",
   "metadata": {},
   "source": [
    "## 4.8. Docstrings"
   ]
  },
  {
   "cell_type": "code",
   "execution_count": 23,
   "id": "c0a5f7d1",
   "metadata": {},
   "outputs": [],
   "source": [
    "def polyline(n, length, angle):\n",
    "    \"\"\"Draws line segments with the given length and angle between them.\n",
    "    \n",
    "    n: integer number of line segments\n",
    "    length: length of the line segments\n",
    "    angle: angle between segments (in degrees)\n",
    "    \"\"\"\n",
    "    for i in range(n):\n",
    "        forward(length)\n",
    "        left(angle)"
   ]
  },
  {
   "cell_type": "markdown",
   "id": "d92c6c16",
   "metadata": {},
   "source": [
    "## 4.9. Debugging"
   ]
  },
  {
   "cell_type": "markdown",
   "id": "eb1fe93a",
   "metadata": {},
   "source": [
    "## 4.10. Glossary\n",
    "\n",
    "- interface design\n",
    "- canvas\n",
    "- encapsulation\n",
    "- generalization\n",
    "- keyword argument\n",
    "- refactoring\n",
    "- development plan\n",
    "- docstring\n",
    "- multiline string\n",
    "- precondition\n",
    "- postcondition"
   ]
  },
  {
   "cell_type": "markdown",
   "id": "346d5dec",
   "metadata": {},
   "source": [
    "## 4.11. Exercises"
   ]
  },
  {
   "cell_type": "code",
   "execution_count": 24,
   "id": "2f1a825a",
   "metadata": {},
   "outputs": [],
   "source": [
    "from jupyturtle import penup, pendown\n",
    "\n",
    "def jump(length):\n",
    "    \"\"\"Move forward length units without leaving a trail.\n",
    "    \n",
    "    Postcondition: Leaves the pen down.\n",
    "    \"\"\"\n",
    "    penup()\n",
    "    forward(length)\n",
    "    pendown()"
   ]
  },
  {
   "cell_type": "markdown",
   "id": "e66c5ffa",
   "metadata": {},
   "source": [
    "### 4.11.1. Exercise"
   ]
  },
  {
   "cell_type": "code",
   "execution_count": 25,
   "id": "8a76c3fe",
   "metadata": {},
   "outputs": [],
   "source": [
    "def rectangle(wide, tall):\n",
    "    for i in range(2):\n",
    "        forward(wide)\n",
    "        left(90)\n",
    "        forward(tall)\n",
    "        left(90)"
   ]
  },
  {
   "cell_type": "code",
   "execution_count": 26,
   "id": "f40ffe14",
   "metadata": {},
   "outputs": [
    {
     "data": {
      "text/html": [
       "<svg width=\"300\" height=\"150\" style=\"fill:none; stroke-linecap:round;\">\n",
       "    <rect width=\"100%\" height=\"100%\" fill=\"#F3F3F7\" />\n",
       "\n",
       "\n",
       "<path stroke=\"#663399\" stroke-width=\"2\" d=\"M 150,75 230,75 230,35 150,35 150,75\" />'\n",
       "\n",
       "<g transform=\"rotate(-90.0,150.0,75.0) translate(150.0, 75.0)\">\n",
       "    <circle stroke=\"#63A375\" stroke-width=\"2\" fill=\"transparent\" r=\"5.5\" cx=\"0\" cy=\"0\"/>\n",
       "    <polygon points=\"0,12 2,9 -2,9\" style=\"fill:#63A375;stroke:#63A375;stroke-width:2\"/>\n",
       "</g>\n",
       "\n",
       "</svg>"
      ],
      "text/plain": [
       "<IPython.core.display.HTML object>"
      ]
     },
     "metadata": {},
     "output_type": "display_data"
    }
   ],
   "source": [
    "make_turtle()\n",
    "rectangle(80, 40)"
   ]
  },
  {
   "cell_type": "markdown",
   "id": "13f8e9fd",
   "metadata": {},
   "source": [
    "### 4.11.2. Exercise"
   ]
  },
  {
   "cell_type": "code",
   "execution_count": 27,
   "id": "19ad7c35",
   "metadata": {},
   "outputs": [],
   "source": [
    "def rhombus(length, angle):\n",
    "    for i in range(2):\n",
    "        forward(length)\n",
    "        left(angle)\n",
    "        forward(length)\n",
    "        left(180 - angle)"
   ]
  },
  {
   "cell_type": "code",
   "execution_count": 28,
   "id": "143dc5ca",
   "metadata": {},
   "outputs": [
    {
     "data": {
      "text/html": [
       "<svg width=\"300\" height=\"150\" style=\"fill:none; stroke-linecap:round;\">\n",
       "    <rect width=\"100%\" height=\"100%\" fill=\"#F3F3F7\" />\n",
       "\n",
       "\n",
       "<path stroke=\"#663399\" stroke-width=\"2\" d=\"M 150,75 200,75 225,31.7 175,31.7 150,75\" />'\n",
       "\n",
       "<g transform=\"rotate(-90.0,150.0,75.0) translate(150.0, 75.0)\">\n",
       "    <circle stroke=\"#63A375\" stroke-width=\"2\" fill=\"transparent\" r=\"5.5\" cx=\"0\" cy=\"0\"/>\n",
       "    <polygon points=\"0,12 2,9 -2,9\" style=\"fill:#63A375;stroke:#63A375;stroke-width:2\"/>\n",
       "</g>\n",
       "\n",
       "</svg>"
      ],
      "text/plain": [
       "<IPython.core.display.HTML object>"
      ]
     },
     "metadata": {},
     "output_type": "display_data"
    }
   ],
   "source": [
    "make_turtle()\n",
    "rhombus(50, 60)"
   ]
  },
  {
   "cell_type": "markdown",
   "id": "5045db51",
   "metadata": {},
   "source": [
    "### 4.11.3. Exercise"
   ]
  },
  {
   "cell_type": "code",
   "execution_count": 29,
   "id": "0cf83250",
   "metadata": {},
   "outputs": [],
   "source": [
    "def parallelogram(wide, tall, angle):\n",
    "    for i in range(2):\n",
    "        forward(wide)\n",
    "        left(angle)\n",
    "        forward(tall)\n",
    "        left(180 - angle)\n",
    "\n",
    "def rhombus(length, angle):\n",
    "    parallelogram(length, length, angle)\n",
    "\n",
    "def rectangle(wide, tall):\n",
    "    parallelogram(wide, tall, 90)"
   ]
  },
  {
   "cell_type": "code",
   "execution_count": 30,
   "id": "12ea0261",
   "metadata": {},
   "outputs": [
    {
     "data": {
      "text/html": [
       "<svg width=\"400\" height=\"150\" style=\"fill:none; stroke-linecap:round;\">\n",
       "    <rect width=\"100%\" height=\"100%\" fill=\"#F3F3F7\" />\n",
       "\n",
       "\n",
       "<path stroke=\"#663399\" stroke-width=\"2\" d=\"M 200,75\" />'\n",
       "\n",
       "<path stroke=\"#663399\" stroke-width=\"2\" d=\"M 80,75 160,75 160,35 80,35 80,75\" />'\n",
       "\n",
       "<path stroke=\"#663399\" stroke-width=\"2\" d=\"M 180,75 230,75 255,31.7 205,31.7 180,75\" />'\n",
       "\n",
       "<path stroke=\"#663399\" stroke-width=\"2\" d=\"M 260,75 340,75 365,31.7 285,31.7 260,75\" />'\n",
       "\n",
       "<g transform=\"rotate(-90.0,260.0,75.0) translate(260.0, 75.0)\">\n",
       "    <circle stroke=\"#63A375\" stroke-width=\"2\" fill=\"transparent\" r=\"5.5\" cx=\"0\" cy=\"0\"/>\n",
       "    <polygon points=\"0,12 2,9 -2,9\" style=\"fill:#63A375;stroke:#63A375;stroke-width:2\"/>\n",
       "</g>\n",
       "\n",
       "</svg>"
      ],
      "text/plain": [
       "<IPython.core.display.HTML object>"
      ]
     },
     "metadata": {},
     "output_type": "display_data"
    }
   ],
   "source": [
    "make_turtle(width=400)\n",
    "jump(-120)\n",
    "\n",
    "rectangle(80, 40)\n",
    "jump(100)\n",
    "rhombus(50, 60)\n",
    "jump(80)\n",
    "parallelogram(80, 50, 60)"
   ]
  },
  {
   "cell_type": "markdown",
   "id": "bcda35b7",
   "metadata": {},
   "source": [
    "### 4.11.4. Exercise"
   ]
  },
  {
   "cell_type": "code",
   "execution_count": 31,
   "id": "f9cf2e45",
   "metadata": {},
   "outputs": [],
   "source": [
    "def triangle(radius, angle):\n",
    "    y = radius * math.sin((angle / 2) * math.pi / 180)\n",
    "    \n",
    "    right(angle / 2)\n",
    "    forward(radius)\n",
    "    left(90 + angle / 2)\n",
    "    forward(2 * y)\n",
    "    left(90 + angle / 2)\n",
    "    forward(radius)\n",
    "    left(180 + angle / 2)\n",
    "\n",
    "def draw_pie(n, radius):\n",
    "    for i in range(n):\n",
    "        triangle(radius, 360 / n)"
   ]
  },
  {
   "cell_type": "code",
   "execution_count": 32,
   "id": "3526c6b4",
   "metadata": {},
   "outputs": [
    {
     "data": {
      "text/html": [
       "<svg width=\"300\" height=\"150\" style=\"fill:none; stroke-linecap:round;\">\n",
       "    <rect width=\"100%\" height=\"100%\" fill=\"#F3F3F7\" />\n",
       "\n",
       "\n",
       "<path stroke=\"#663399\" stroke-width=\"2\" d=\"M 150,75\" />'\n",
       "\n",
       "<path stroke=\"#663399\" stroke-width=\"2\" d=\"M 70,75 102.4,98.5 102.4,51.5 70,75 102.4,51.5 57.6,37 70,75 57.6,37 30,75 70,75 30,75 57.6,113 70,75 57.6,113 102.4,98.5 70,75\" />'\n",
       "\n",
       "<path stroke=\"#663399\" stroke-width=\"2\" d=\"M 150,75 184.6,95 184.6,55 150,75 184.6,55 150,35 150,75 150,35 115.4,55 150,75 115.4,55 115.4,95 150,75 115.4,95 150,115 150,75 150,115 184.6,95 150,75\" />'\n",
       "\n",
       "<path stroke=\"#663399\" stroke-width=\"2\" d=\"M 230,75 266,92.4 266,57.6 230,75 266,57.6 238.9,36 230,75 238.9,36 205.1,43.7 230,75 205.1,43.7 190,75 230,75 190,75 205.1,106.3 230,75 205.1,106.3 238.9,114 230,75 238.9,114 266,92.4 230,75\" />'\n",
       "\n",
       "<g transform=\"rotate(270.0,230.0,75.0) translate(230.0, 75.0)\">\n",
       "    <circle stroke=\"#63A375\" stroke-width=\"2\" fill=\"transparent\" r=\"5.5\" cx=\"0\" cy=\"0\"/>\n",
       "    <polygon points=\"0,12 2,9 -2,9\" style=\"fill:#63A375;stroke:#63A375;stroke-width:2\"/>\n",
       "</g>\n",
       "\n",
       "</svg>"
      ],
      "text/plain": [
       "<IPython.core.display.HTML object>"
      ]
     },
     "metadata": {},
     "output_type": "display_data"
    }
   ],
   "source": [
    "turtle = make_turtle(delay=0)\n",
    "jump(-80)\n",
    "\n",
    "size = 40\n",
    "draw_pie(5, size)\n",
    "jump(2*size)\n",
    "draw_pie(6, size)\n",
    "jump(2*size)\n",
    "draw_pie(7, size)"
   ]
  },
  {
   "cell_type": "markdown",
   "id": "5dd8bfa4",
   "metadata": {},
   "source": [
    "### 4.11.5. Exercise"
   ]
  },
  {
   "cell_type": "code",
   "execution_count": 33,
   "id": "20d9b048",
   "metadata": {},
   "outputs": [],
   "source": [
    "def petal(radius, angle):\n",
    "    for i in range(2):\n",
    "        arc(radius, angle)\n",
    "        left(180 - angle)\n",
    "\n",
    "def flower(n, radius, angle):\n",
    "    for i in range(n):\n",
    "        petal(radius, angle)\n",
    "        left(360 / n)"
   ]
  },
  {
   "cell_type": "code",
   "execution_count": 34,
   "id": "d8b47b92",
   "metadata": {},
   "outputs": [
    {
     "data": {
      "text/html": [
       "<svg width=\"300\" height=\"150\" style=\"fill:none; stroke-linecap:round;\">\n",
       "    <rect width=\"100%\" height=\"100%\" fill=\"#F3F3F7\" />\n",
       "\n",
       "\n",
       "<path stroke=\"#663399\" stroke-width=\"2\" d=\"M 150,75\" />'\n",
       "\n",
       "<path stroke=\"#663399\" stroke-width=\"2\" d=\"M 90,75 92.1,75 94.2,74.9 96.3,74.8 98.4,74.6 100.4,74.3 102.5,73.9 104.5,73.5 106.6,73 108.6,72.4 110.6,71.7 112.6,71 114.5,70.2 116.4,69.4 118.3,68.5 120.1,67.5 122,66.4 123.7,65.3 125.5,64.2 127.2,62.9 128.8,61.6 130.4,60.3 132,58.9 133.5,57.4 134.9,55.9 136.3,54.4 137.7,52.8 139,51.1 140.2,49.4 141.4,47.7 142.5,45.9 140.4,45.9 138.3,46 136.2,46.1 134.1,46.3 132,46.6 130,47 127.9,47.4 125.9,47.9 123.9,48.5 121.9,49.2 119.9,49.9 118,50.7 116.1,51.5 114.2,52.4 112.3,53.4 110.5,54.5 108.8,55.6 107,56.8 105.3,58 103.7,59.3 102.1,60.6 100.5,62 99,63.5 97.5,65 96.1,66.5 94.8,68.1 93.5,69.8 92.3,71.5 91.1,73.2 90,75 91.3,73.4 92.6,71.7 93.7,70 94.9,68.2 95.9,66.4 96.9,64.5 97.9,62.7 98.7,60.8 99.5,58.8 100.3,56.9 101,54.9 101.5,52.9 102.1,50.9 102.5,48.8 102.9,46.8 103.2,44.7 103.5,42.6 103.6,40.5 103.7,38.4 103.7,36.3 103.7,34.2 103.6,32.1 103.4,30.1 103.1,28 102.8,25.9 102.3,23.9 101.9,21.8 101.3,19.8 100.7,17.8 100,15.8 98.7,17.5 97.4,19.2 96.2,20.9 95.1,22.6 94,24.4 93,26.3 92.1,28.2 91.2,30.1 90.4,32 89.7,34 89,35.9 88.4,37.9 87.9,40 87.4,42 87.1,44.1 86.7,46.2 86.5,48.2 86.3,50.3 86.2,52.4 86.2,54.5 86.3,56.6 86.4,58.7 86.6,60.8 86.9,62.9 87.2,64.9 87.6,67 88.1,69 88.7,71 89.3,73 90,75 89.5,73 89,70.9 88.4,68.9 87.7,66.9 87,65 86.2,63.1 85.3,61.2 84.3,59.3 83.3,57.5 82.2,55.7 81.1,53.9 79.9,52.2 78.7,50.5 77.3,48.9 76,47.3 74.5,45.8 73.1,44.3 71.5,42.8 70,41.5 68.3,40.1 66.7,38.9 65,37.7 63.2,36.5 61.4,35.4 59.6,34.4 57.7,33.5 55.8,32.6 53.9,31.8 51.9,31 50,30.3 50.4,32.4 51,34.4 51.6,36.4 52.2,38.4 53,40.3 53.8,42.2 54.7,44.1 55.6,46 56.6,47.9 57.7,49.6 58.9,51.4 60.1,53.1 61.3,54.8 62.6,56.4 64,58 65.4,59.6 66.9,61 68.4,62.5 70,63.8 71.6,65.2 73.3,66.4 75,67.6 76.8,68.8 78.6,69.9 80.4,70.9 82.2,71.8 84.1,72.7 86.1,73.6 88,74.3 90,75 88.1,74.1 86.2,73.2 84.2,72.5 82.3,71.8 80.3,71.1 78.3,70.6 76.2,70.1 74.2,69.6 72.1,69.3 70,69 68,68.8 65.9,68.7 63.8,68.6 61.7,68.6 59.6,68.7 57.5,68.9 55.4,69.1 53.3,69.4 51.3,69.8 49.2,70.2 47.2,70.7 45.2,71.3 43.2,72 41.2,72.7 39.3,73.5 37.4,74.3 35.5,75.3 33.7,76.3 31.9,77.3 30.1,78.4 32,79.3 33.9,80.2 35.8,81 37.8,81.7 39.8,82.3 41.8,82.9 43.9,83.4 45.9,83.8 48,84.2 50.1,84.4 52.1,84.6 54.2,84.8 56.3,84.8 58.4,84.8 60.5,84.7 62.6,84.6 64.7,84.4 66.8,84.1 68.8,83.7 70.9,83.2 72.9,82.7 74.9,82.1 76.9,81.5 78.9,80.8 80.8,80 82.7,79.1 84.6,78.2 86.4,77.2 88.2,76.1 90,75 88.1,75.9 86.3,76.9 84.4,77.9 82.7,79 80.9,80.2 79.2,81.4 77.6,82.7 75.9,84 74.4,85.4 72.9,86.9 71.4,88.4 70,89.9 68.6,91.5 67.3,93.2 66.1,94.8 64.9,96.6 63.8,98.3 62.8,100.2 61.8,102 60.8,103.9 60,105.8 59.2,107.7 58.5,109.7 57.8,111.7 57.2,113.7 56.7,115.7 56.2,117.8 55.9,119.8 55.6,121.9 55.3,124 57.2,123.1 59.1,122.1 60.9,121.1 62.7,120 64.4,118.8 66.1,117.6 67.8,116.3 69.4,115 71,113.6 72.5,112.1 73.9,110.6 75.3,109.1 76.7,107.5 78,105.8 79.2,104.1 80.4,102.4 81.5,100.6 82.6,98.8 83.6,97 84.5,95.1 85.4,93.2 86.2,91.3 86.9,89.3 87.5,87.3 88.1,85.3 88.6,83.3 89.1,81.2 89.5,79.2 89.8,77.1 90,75 89.5,77 89.1,79.1 88.8,81.2 88.6,83.2 88.4,85.3 88.3,87.4 88.3,89.5 88.3,91.6 88.4,93.7 88.6,95.8 88.9,97.9 89.2,99.9 89.6,102 90.1,104 90.6,106.1 91.2,108.1 91.9,110 92.7,112 93.5,113.9 94.4,115.8 95.3,117.7 96.4,119.5 97.5,121.3 98.6,123 99.8,124.8 101.1,126.4 102.4,128.1 103.8,129.6 105.2,131.2 106.7,132.6 107.1,130.6 107.5,128.5 107.9,126.5 108.1,124.4 108.3,122.3 108.4,120.2 108.4,118.1 108.4,116 108.3,113.9 108.1,111.8 107.8,109.8 107.5,107.7 107.1,105.6 106.6,103.6 106.1,101.6 105.4,99.6 104.8,97.6 104,95.7 103.2,93.7 102.3,91.8 101.3,90 100.3,88.1 99.2,86.3 98.1,84.6 96.9,82.9 95.6,81.2 94.3,79.6 92.9,78 91.5,76.5 90,75 91.3,76.6 92.7,78.2 94.1,79.8 95.6,81.3 97.1,82.7 98.6,84.1 100.3,85.4 101.9,86.7 103.6,87.9 105.4,89.1 107.2,90.2 109,91.2 110.9,92.1 112.7,93 114.7,93.9 116.6,94.6 118.6,95.3 120.6,96 122.6,96.5 124.6,97 126.7,97.4 128.8,97.8 130.8,98 132.9,98.2 135,98.4 137.1,98.4 139.2,98.4 141.3,98.3 143.4,98.1 145.5,97.9 144.2,96.3 142.8,94.7 141.4,93.1 139.9,91.6 138.4,90.2 136.8,88.8 135.2,87.5 133.5,86.2 131.8,85 130.1,83.8 128.3,82.7 126.5,81.7 124.6,80.7 122.7,79.8 120.8,79 118.8,78.3 116.9,77.6 114.9,76.9 112.9,76.4 110.8,75.9 108.8,75.5 106.7,75.1 104.6,74.9 102.5,74.7 100.4,74.5 98.4,74.5 96.3,74.5 94.2,74.6 92.1,74.8 90,75\" />'\n",
       "\n",
       "<path stroke=\"#663399\" stroke-width=\"2\" d=\"M 210,75 212,75 214,74.9 215.9,74.7 217.9,74.4 219.8,74 221.7,73.5 223.6,73 225.5,72.3 227.3,71.5 229.1,70.7 230.8,69.7 232.5,68.7 234.2,67.6 235.8,66.4 237.3,65.2 238.7,63.8 240.1,62.4 241.4,60.9 242.7,59.4 243.9,57.8 244.9,56.2 245.9,54.5 246.9,52.7 247.7,50.9 248.4,49.1 249.1,47.2 249.6,45.3 250.1,43.4 250.5,41.4 250.7,39.5 248.8,39.5 246.8,39.6 244.8,39.8 242.9,40.1 240.9,40.5 239,40.9 237.1,41.5 235.3,42.2 233.4,42.9 231.6,43.8 229.9,44.7 228.2,45.8 226.6,46.9 225,48.1 223.5,49.3 222,50.7 220.6,52.1 219.3,53.5 218.1,55.1 216.9,56.7 215.8,58.3 214.8,60 213.9,61.8 213,63.6 212.3,65.4 211.7,67.3 211.1,69.2 210.6,71.1 210.3,73 210,75 211.5,73.7 213,72.4 214.3,71 215.7,69.5 216.9,67.9 218.1,66.3 219.1,64.7 220.1,63 221,61.2 221.9,59.4 222.6,57.6 223.2,55.7 223.8,53.8 224.2,51.9 224.6,49.9 224.8,48 225,46 225.1,44 225,42 224.9,40.1 224.7,38.1 224.3,36.2 223.9,34.2 223.4,32.3 222.8,30.4 222.1,28.6 221.3,26.8 220.4,25 219.4,23.3 218.4,21.6 216.9,22.9 215.4,24.2 214,25.6 212.7,27.1 211.5,28.7 210.3,30.3 209.2,31.9 208.3,33.6 207.3,35.4 206.5,37.2 205.8,39 205.2,40.9 204.6,42.8 204.2,44.7 203.8,46.7 203.5,48.6 203.4,50.6 203.3,52.6 203.4,54.6 203.5,56.5 203.7,58.5 204,60.4 204.5,62.4 205,64.3 205.6,66.2 206.3,68 207.1,69.8 208,71.6 208.9,73.3 210,75 210.3,73.1 210.6,71.1 210.7,69.1 210.8,67.1 210.7,65.2 210.6,63.2 210.4,61.2 210,59.3 209.6,57.3 209.1,55.4 208.4,53.6 207.7,51.7 206.9,49.9 206,48.1 205,46.4 204,44.8 202.8,43.1 201.6,41.6 200.3,40.1 199,38.7 197.5,37.3 196,36 194.4,34.8 192.8,33.7 191.1,32.6 189.4,31.7 187.6,30.8 185.8,30 184,29.3 182.1,28.7 181.7,30.7 181.5,32.6 181.4,34.6 181.3,36.6 181.3,38.5 181.5,40.5 181.7,42.5 182.1,44.4 182.5,46.4 183,48.3 183.7,50.1 184.4,52 185.2,53.8 186.1,55.6 187,57.3 188.1,58.9 189.3,60.6 190.5,62.1 191.8,63.6 193.1,65 194.6,66.4 196.1,67.7 197.7,68.9 199.3,70 201,71.1 202.7,72 204.5,72.9 206.3,73.7 208.1,74.4 210,75 209,73.3 207.9,71.6 206.8,70 205.6,68.5 204.2,67 202.9,65.6 201.4,64.2 199.9,62.9 198.3,61.7 196.7,60.6 195,59.6 193.3,58.6 191.5,57.8 189.7,57 187.8,56.3 186,55.7 184,55.2 182.1,54.8 180.2,54.5 178.2,54.3 176.2,54.2 174.2,54.1 172.3,54.2 170.3,54.4 168.3,54.7 166.4,55 164.5,55.5 162.6,56.1 160.7,56.7 158.9,57.5 159.9,59.2 160.9,60.9 162.1,62.5 163.3,64 164.6,65.5 166,66.9 167.4,68.3 169,69.5 170.5,70.7 172.2,71.9 173.8,72.9 175.6,73.8 177.4,74.7 179.2,75.5 181,76.2 182.9,76.8 184.8,77.3 186.8,77.7 188.7,78 190.7,78.2 192.7,78.3 194.6,78.3 196.6,78.3 198.6,78.1 200.5,77.8 202.5,77.4 204.4,77 206.3,76.4 208.2,75.7 210,75 208.1,74.3 206.3,73.7 204.3,73.2 202.4,72.9 200.4,72.6 198.5,72.4 196.5,72.3 194.5,72.2 192.5,72.3 190.6,72.5 188.6,72.8 186.7,73.2 184.8,73.7 182.9,74.2 181,74.9 179.2,75.7 177.4,76.5 175.6,77.5 173.9,78.5 172.3,79.6 170.7,80.8 169.2,82 167.7,83.3 166.3,84.7 165,86.2 163.8,87.8 162.6,89.3 161.5,91 160.5,92.7 159.6,94.4 161.4,95.1 163.3,95.7 165.2,96.2 167.2,96.6 169.1,96.9 171.1,97.1 173.1,97.2 175,97.2 177,97.1 179,96.9 180.9,96.6 182.9,96.2 184.8,95.8 186.7,95.2 188.6,94.5 190.4,93.8 192.2,92.9 193.9,92 195.6,91 197.3,89.9 198.8,88.7 200.4,87.4 201.8,86.1 203.2,84.7 204.6,83.2 205.8,81.7 207,80.1 208.1,78.5 209.1,76.7 210,75 208.1,75.7 206.3,76.4 204.5,77.3 202.8,78.2 201.1,79.3 199.5,80.4 197.9,81.6 196.4,82.8 194.9,84.2 193.5,85.6 192.2,87.1 191,88.6 189.8,90.2 188.7,91.9 187.7,93.6 186.8,95.3 186,97.1 185.3,99 184.6,100.8 184.1,102.7 183.6,104.7 183.2,106.6 183,108.6 182.8,110.5 182.7,112.5 182.8,114.5 182.9,116.5 183.1,118.4 183.4,120.4 183.9,122.3 185.7,121.6 187.5,120.9 189.3,120 191.1,119.1 192.8,118 194.4,116.9 196,115.7 197.5,114.5 198.9,113.1 200.3,111.7 201.6,110.2 202.9,108.7 204.1,107.1 205.1,105.4 206.1,103.7 207,102 207.9,100.2 208.6,98.4 209.2,96.5 209.8,94.6 210.3,92.7 210.6,90.7 210.9,88.8 211,86.8 211.1,84.8 211.1,82.8 211,80.9 210.7,78.9 210.4,76.9 210,75 209,76.7 208.1,78.5 207.3,80.3 206.6,82.1 205.9,84 205.4,85.9 205,87.8 204.6,89.8 204.3,91.7 204.2,93.7 204.1,95.7 204.2,97.7 204.3,99.6 204.5,101.6 204.9,103.5 205.3,105.5 205.8,107.4 206.4,109.3 207.2,111.1 208,112.9 208.8,114.7 209.8,116.4 210.9,118.1 212,119.7 213.2,121.3 214.5,122.7 215.9,124.2 217.3,125.5 218.8,126.8 220.4,128 221.4,126.3 222.3,124.6 223.1,122.8 223.8,120.9 224.5,119.1 225,117.2 225.4,115.2 225.8,113.3 226,111.3 226.2,109.3 226.3,107.4 226.2,105.4 226.1,103.4 225.8,101.5 225.5,99.5 225.1,97.6 224.6,95.7 223.9,93.8 223.2,91.9 222.4,90.1 221.5,88.4 220.6,86.6 219.5,85 218.4,83.4 217.2,81.8 215.9,80.3 214.5,78.9 213.1,77.5 211.6,76.2 210,75 210.3,76.9 210.8,78.9 211.3,80.8 211.9,82.7 212.7,84.5 213.5,86.3 214.4,88.1 215.4,89.8 216.4,91.4 217.6,93.1 218.8,94.6 220.1,96.1 221.5,97.5 222.9,98.9 224.4,100.2 226,101.4 227.6,102.5 229.3,103.5 231,104.5 232.8,105.4 234.6,106.1 236.5,106.8 238.4,107.4 240.3,107.9 242.2,108.4 244.2,108.7 246.1,108.9 248.1,109 250.1,109 252.1,109 251.7,107 251.3,105.1 250.7,103.2 250.1,101.3 249.4,99.5 248.6,97.7 247.7,95.9 246.7,94.2 245.6,92.5 244.5,90.9 243.3,89.3 242,87.9 240.6,86.4 239.1,85.1 237.6,83.8 236.1,82.6 234.4,81.5 232.8,80.4 231,79.5 229.2,78.6 227.4,77.8 225.6,77.1 223.7,76.5 221.8,76 219.8,75.6 217.9,75.3 215.9,75.1 214,74.9 212,74.9 210,75 211.5,76.3 213.1,77.5 214.7,78.6 216.4,79.6 218.1,80.6 219.9,81.4 221.7,82.2 223.6,82.9 225.5,83.5 227.4,84 229.3,84.4 231.3,84.7 233.3,84.9 235.2,85 237.2,85 239.2,84.9 241.2,84.7 243.1,84.4 245.1,84.1 247,83.6 248.9,83 250.7,82.4 252.6,81.6 254.4,80.8 256.1,79.8 257.8,78.8 259.5,77.7 261,76.6 262.6,75.3 264,74 262.5,72.7 261,71.5 259.3,70.4 257.6,69.4 255.9,68.4 254.1,67.6 252.3,66.8 250.4,66.1 248.5,65.5 246.6,65 244.7,64.6 242.7,64.3 240.8,64.1 238.8,64 236.8,64 234.8,64.1 232.9,64.3 230.9,64.5 229,64.9 227.1,65.4 225.2,65.9 223.3,66.6 221.5,67.4 219.7,68.2 217.9,69.1 216.2,70.1 214.6,71.2 213,72.4 211.5,73.7 210,75\" />'\n",
       "\n",
       "<g transform=\"rotate(-90.0,210.0,75.0) translate(210.0, 75.0)\">\n",
       "    <circle stroke=\"#63A375\" stroke-width=\"2\" fill=\"transparent\" r=\"5.5\" cx=\"0\" cy=\"0\"/>\n",
       "    <polygon points=\"0,12 2,9 -2,9\" style=\"fill:#63A375;stroke:#63A375;stroke-width:2\"/>\n",
       "</g>\n",
       "\n",
       "</svg>"
      ],
      "text/plain": [
       "<IPython.core.display.HTML object>"
      ]
     },
     "metadata": {},
     "output_type": "display_data"
    }
   ],
   "source": [
    "turtle = make_turtle(delay=0)\n",
    "\n",
    "jump(-60)\n",
    "flower(7, 60, 60)\n",
    "\n",
    "jump(120)\n",
    "flower(9, 40, 85)"
   ]
  },
  {
   "cell_type": "markdown",
   "id": "1d9346c2",
   "metadata": {},
   "source": [
    "### 4.11.6. Ask a virtual assistant\n",
    "\n",
    "- 아래 코드는 원을 그리기 위해 거북 그래픽 모듈을 사용해:\n",
    "    ```python\n",
    "    from jupyturtle import make_turtle, forward, left\n",
    "    import math\n",
    "\n",
    "    def polygon(n, length):\n",
    "        angle = 360 / n\n",
    "        for i in range(n):\n",
    "            forward(length)\n",
    "            left(angle)\n",
    "            \n",
    "    def circle(radius):\n",
    "        circumference = 2 * math.pi * radius\n",
    "        n = 30\n",
    "        length = circumference / n\n",
    "        polygon(n, length)\n",
    "        \n",
    "    make_turtle(delay=0)\n",
    "    circle(30)\n",
    "    ```\n",
    "    나선형을 그리는 코드를 만들어줘.\n",
    "    > 나선형을 그리기 위해서는 선의 길이를 점점 늘리거나, 회전 각도를 조정하면서 선을 계속 그려나가야 합니다. 거북이 모듈을 이용해 나선형을 그리는 가장 일반적인 방법은, 선의 길이를 반복문 안에서 조금씩 증가시키면서 그리는 것입니다.\n",
    "    > \n",
    "    > 다음은 당신이 사용한 `jupyturtle` 환경과 호환되도록 작성한 **간단한 나선형 그리기 코드**입니다:\n",
    "    > \n",
    "    > ```python\n",
    "    > from jupyturtle import make_turtle, forward, left\n",
    "    > \n",
    "    > def spiral_line(start_length=5, increment=2, angle=30, turns=50):\n",
    "    >     length = start_length\n",
    "    >     for i in range(turns):\n",
    "    >         forward(length)\n",
    "    >         left(angle)\n",
    "    >         length += increment  # 선의 길이를 점점 늘림\n",
    "    > \n",
    "    > make_turtle(delay=0)\n",
    "    > spiral_line()\n",
    "    > ```\n",
    "    > \n",
    "    > ### 매개변수 설명:\n",
    "    > \n",
    "    > * `start_length`: 시작 선 길이\n",
    "    > * `increment`: 회전할 때마다 선 길이를 얼마나 늘릴지\n",
    "    > * `angle`: 회전 각도 (값이 작으면 더 촘촘한 나선, 크면 퍼짐)\n",
    "    > * `turns`: 몇 번 회전할지 (전체 스텝 수)\n",
    "    > \n",
    "    > ### 예시 응용:\n",
    "    > \n",
    "    > * **조밀한 나선**을 원하면 `angle`을 작게 (예: 10), `increment`를 작게 (예: 1) 설정하세요.\n",
    "    > * **헐거운 나선**을 원하면 `angle`을 크게 (예: 45), `increment`를 크게 하세요.\n",
    "    > \n",
    "    > 원형 나선(로그 나선) 등 더 복잡한 형태가 필요하면 `math` 함수를 이용해 `length`를 점점 곱셈적으로 증가시키거나 `angle`을 변화시킬 수도 있어요. 필요하면 그 방식도 알려줄게요!"
   ]
  },
  {
   "cell_type": "code",
   "execution_count": 35,
   "id": "832f60e2",
   "metadata": {},
   "outputs": [
    {
     "data": {
      "text/html": [
       "<svg width=\"300\" height=\"150\" style=\"fill:none; stroke-linecap:round;\">\n",
       "    <rect width=\"100%\" height=\"100%\" fill=\"#F3F3F7\" />\n",
       "\n",
       "\n",
       "<path stroke=\"#663399\" stroke-width=\"2\" d=\"M 150,75 155,75 161.1,71.5 165.6,63.7 165.6,52.7 159.1,41.4 146.1,33.9 129.1,33.9 112.6,43.4 102.1,61.6 102.1,84.6 114.6,106.3 138,119.8 167,119.8 193.8,104.3 210.3,75.7 210.3,40.7 191.8,8.7 158.1,-10.8 117.1,-10.8 79.8,10.7 57.3,49.6 57.3,96.6 81.8,139.1 126,164.6 179,164.6 226.6,137.1 255.1,87.7 255.1,28.7 224.6,-24.1 170.1,-55.6 105.1,-55.6 47,-22.1 12.5,37.6 12.5,108.6 49,171.9 114,209.4 191,209.4 259.4,169.9 299.9,99.7 299.9,16.7 257.4,-56.9 182.1,-100.4 93.1,-100.4 14.3,-54.9 -32.2,25.6 -32.2,120.6 16.3,204.6 102,254.1 203,254.1 292.2,202.6\" />'\n",
       "\n",
       "<g transform=\"rotate(210.0,292.2,202.6) translate(292.2, 202.6)\">\n",
       "    <circle stroke=\"#63A375\" stroke-width=\"2\" fill=\"transparent\" r=\"5.5\" cx=\"0\" cy=\"0\"/>\n",
       "    <polygon points=\"0,12 2,9 -2,9\" style=\"fill:#63A375;stroke:#63A375;stroke-width:2\"/>\n",
       "</g>\n",
       "\n",
       "</svg>"
      ],
      "text/plain": [
       "<IPython.core.display.HTML object>"
      ]
     },
     "metadata": {},
     "output_type": "display_data"
    }
   ],
   "source": [
    "from jupyturtle import make_turtle, forward, left\n",
    "\n",
    "def spiral_line(start_length=5, increment=2, angle=30, turns=50):\n",
    "    length = start_length\n",
    "    for i in range(turns):\n",
    "        forward(length)\n",
    "        left(angle)\n",
    "        length += increment  # 선의 길이를 점점 늘림\n",
    "\n",
    "make_turtle(delay=0)\n",
    "spiral_line()"
   ]
  },
  {
   "cell_type": "code",
   "execution_count": 36,
   "id": "01b13480",
   "metadata": {},
   "outputs": [
    {
     "data": {
      "text/html": [
       "<svg width=\"300\" height=\"150\" style=\"fill:none; stroke-linecap:round;\">\n",
       "    <rect width=\"100%\" height=\"100%\" fill=\"#F3F3F7\" />\n",
       "\n",
       "\n",
       "<path stroke=\"#663399\" stroke-width=\"2\" d=\"M 150,75 155,75 160.9,74 167.5,71.6 174.4,67.6 181.3,61.8 187.7,54.1 193.2,44.6 197.3,33.3 199.6,20.5 199.6,6.5 197,-8.3 191.5,-23.3 183,-38 171.5,-51.8 156.9,-64 139.6,-74 119.8,-81.2 98.2,-85 75.2,-85 51.5,-80.9 28,-72.3 5.5,-59.3 -15.2,-41.9 -33.1,-20.5 -47.6,4.6 -57.9,32.8 -63.3,63.3 -63.3,95.3 -57.6,127.8 -45.9,159.8 -28.4,190.1 -5.3,217.7 23.1,241.5 56,260.5 92.6,273.8 132,280.7 173,280.7 214.4,273.4 254.8,258.7 292.9,236.7 327.3,207.8 356.9,172.6 380.4,131.9 396.8,86.8 405.3,38.5 405.3,-11.5 396.5,-61.7 378.7,-110.6 352.2,-156.5 317.5,-197.8\" />'\n",
       "\n",
       "<g transform=\"rotate(130.0,317.5,-197.8) translate(317.5, -197.8)\">\n",
       "    <circle stroke=\"#63A375\" stroke-width=\"2\" fill=\"transparent\" r=\"5.5\" cx=\"0\" cy=\"0\"/>\n",
       "    <polygon points=\"0,12 2,9 -2,9\" style=\"fill:#63A375;stroke:#63A375;stroke-width:2\"/>\n",
       "</g>\n",
       "\n",
       "</svg>"
      ],
      "text/plain": [
       "<IPython.core.display.HTML object>"
      ]
     },
     "metadata": {},
     "output_type": "display_data"
    }
   ],
   "source": [
    "make_turtle(delay=0)\n",
    "spiral_line(increment=1, angle=10)"
   ]
  },
  {
   "cell_type": "code",
   "execution_count": 37,
   "id": "9d29e4c2",
   "metadata": {},
   "outputs": [
    {
     "data": {
      "text/html": [
       "<svg width=\"300\" height=\"150\" style=\"fill:none; stroke-linecap:round;\">\n",
       "    <rect width=\"100%\" height=\"100%\" fill=\"#F3F3F7\" />\n",
       "\n",
       "\n",
       "<path stroke=\"#663399\" stroke-width=\"2\" d=\"M 150,75 155,75 160.7,69.3 160.7,58.3 150.8,48.4 133.8,48.4 119.6,62.6 119.6,85.6 138,104 167,104 189.6,81.3 189.6,46.3 162.8,19.5 121.8,19.5 90.6,50.6 90.6,97.6 126,132.9 179,132.9 218.6,93.3 218.6,34.3 174.8,-9.5 109.8,-9.5 61.7,38.6 61.7,109.6 114,161.9 191,161.9 247.6,105.3 247.6,22.3 186.8,-38.5 97.8,-38.5 32.7,26.6 32.7,121.6 102,190.9 203,190.9 276.5,117.3 276.5,10.3 198.8,-67.4 85.8,-67.4 3.7,14.6 3.7,133.6 90,219.9 215,219.9 305.5,129.3 305.5,-1.7 210.8,-96.4 73.8,-96.4 -25.2,2.6 -25.2,145.6 78,248.8 227,248.8 334.5,141.3\" />'\n",
       "\n",
       "<g transform=\"rotate(180.0,334.5,141.3) translate(334.5, 141.3)\">\n",
       "    <circle stroke=\"#63A375\" stroke-width=\"2\" fill=\"transparent\" r=\"5.5\" cx=\"0\" cy=\"0\"/>\n",
       "    <polygon points=\"0,12 2,9 -2,9\" style=\"fill:#63A375;stroke:#63A375;stroke-width:2\"/>\n",
       "</g>\n",
       "\n",
       "</svg>"
      ],
      "text/plain": [
       "<IPython.core.display.HTML object>"
      ]
     },
     "metadata": {},
     "output_type": "display_data"
    }
   ],
   "source": [
    "make_turtle(delay=0)\n",
    "spiral_line(increment=3, angle=45)"
   ]
  }
 ],
 "metadata": {
  "kernelspec": {
   "display_name": "venv",
   "language": "python",
   "name": "python3"
  },
  "language_info": {
   "codemirror_mode": {
    "name": "ipython",
    "version": 3
   },
   "file_extension": ".py",
   "mimetype": "text/x-python",
   "name": "python",
   "nbconvert_exporter": "python",
   "pygments_lexer": "ipython3",
   "version": "3.12.9"
  }
 },
 "nbformat": 4,
 "nbformat_minor": 5
}
