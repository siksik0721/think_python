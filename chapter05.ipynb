{
 "cells": [
  {
   "cell_type": "markdown",
   "id": "c67c3526",
   "metadata": {},
   "source": [
    "# 5. Conditionals and Recursion"
   ]
  },
  {
   "cell_type": "markdown",
   "id": "4e96c9d3",
   "metadata": {},
   "source": [
    "## 5.1. Integer division and modulus"
   ]
  },
  {
   "cell_type": "code",
   "execution_count": 1,
   "id": "954f3cca",
   "metadata": {},
   "outputs": [
    {
     "data": {
      "text/plain": [
       "1.75"
      ]
     },
     "execution_count": 1,
     "metadata": {},
     "output_type": "execute_result"
    }
   ],
   "source": [
    "minutes = 105\n",
    "minutes / 60"
   ]
  },
  {
   "cell_type": "code",
   "execution_count": 2,
   "id": "c149540c",
   "metadata": {},
   "outputs": [
    {
     "data": {
      "text/plain": [
       "1"
      ]
     },
     "execution_count": 2,
     "metadata": {},
     "output_type": "execute_result"
    }
   ],
   "source": [
    "minutes = 105\n",
    "hours = minutes // 60\n",
    "hours"
   ]
  },
  {
   "cell_type": "code",
   "execution_count": 3,
   "id": "33b9bb65",
   "metadata": {},
   "outputs": [
    {
     "data": {
      "text/plain": [
       "45"
      ]
     },
     "execution_count": 3,
     "metadata": {},
     "output_type": "execute_result"
    }
   ],
   "source": [
    "remainder = minutes - hours * 60\n",
    "remainder"
   ]
  },
  {
   "cell_type": "code",
   "execution_count": 4,
   "id": "b1ffe1b6",
   "metadata": {},
   "outputs": [
    {
     "data": {
      "text/plain": [
       "45"
      ]
     },
     "execution_count": 4,
     "metadata": {},
     "output_type": "execute_result"
    }
   ],
   "source": [
    "remainder = minutes % 60\n",
    "remainder"
   ]
  },
  {
   "cell_type": "code",
   "execution_count": 5,
   "id": "0aa6e510",
   "metadata": {},
   "outputs": [
    {
     "data": {
      "text/plain": [
       "3"
      ]
     },
     "execution_count": 5,
     "metadata": {},
     "output_type": "execute_result"
    }
   ],
   "source": [
    "x = 123\n",
    "x % 10"
   ]
  },
  {
   "cell_type": "code",
   "execution_count": 6,
   "id": "4b703150",
   "metadata": {},
   "outputs": [
    {
     "data": {
      "text/plain": [
       "23"
      ]
     },
     "execution_count": 6,
     "metadata": {},
     "output_type": "execute_result"
    }
   ],
   "source": [
    "x % 100"
   ]
  },
  {
   "cell_type": "code",
   "execution_count": 7,
   "id": "280560da",
   "metadata": {},
   "outputs": [
    {
     "data": {
      "text/plain": [
       "2"
      ]
     },
     "execution_count": 7,
     "metadata": {},
     "output_type": "execute_result"
    }
   ],
   "source": [
    "start = 11\n",
    "duration = 3\n",
    "end = (start + duration) % 12\n",
    "end"
   ]
  },
  {
   "cell_type": "markdown",
   "id": "6f925c05",
   "metadata": {},
   "source": [
    "## 5.2. Boolean Expressions"
   ]
  },
  {
   "cell_type": "code",
   "execution_count": 8,
   "id": "cc399966",
   "metadata": {},
   "outputs": [
    {
     "data": {
      "text/plain": [
       "True"
      ]
     },
     "execution_count": 8,
     "metadata": {},
     "output_type": "execute_result"
    }
   ],
   "source": [
    "5 == 5"
   ]
  },
  {
   "cell_type": "code",
   "execution_count": 9,
   "id": "05624cd6",
   "metadata": {},
   "outputs": [
    {
     "data": {
      "text/plain": [
       "False"
      ]
     },
     "execution_count": 9,
     "metadata": {},
     "output_type": "execute_result"
    }
   ],
   "source": [
    "5 == 7"
   ]
  },
  {
   "cell_type": "code",
   "execution_count": 10,
   "id": "caa135f3",
   "metadata": {},
   "outputs": [],
   "source": [
    "x = 5\n",
    "y = 7"
   ]
  },
  {
   "cell_type": "code",
   "execution_count": 11,
   "id": "ff6e598d",
   "metadata": {},
   "outputs": [
    {
     "data": {
      "text/plain": [
       "False"
      ]
     },
     "execution_count": 11,
     "metadata": {},
     "output_type": "execute_result"
    }
   ],
   "source": [
    "x == y"
   ]
  },
  {
   "cell_type": "code",
   "execution_count": 12,
   "id": "f747190f",
   "metadata": {},
   "outputs": [
    {
     "data": {
      "text/plain": [
       "bool"
      ]
     },
     "execution_count": 12,
     "metadata": {},
     "output_type": "execute_result"
    }
   ],
   "source": [
    "type(True)"
   ]
  },
  {
   "cell_type": "code",
   "execution_count": 13,
   "id": "3153ab85",
   "metadata": {},
   "outputs": [
    {
     "data": {
      "text/plain": [
       "bool"
      ]
     },
     "execution_count": 13,
     "metadata": {},
     "output_type": "execute_result"
    }
   ],
   "source": [
    "type(False)"
   ]
  },
  {
   "cell_type": "code",
   "execution_count": 14,
   "id": "60d16b2b",
   "metadata": {},
   "outputs": [
    {
     "data": {
      "text/plain": [
       "True"
      ]
     },
     "execution_count": 14,
     "metadata": {},
     "output_type": "execute_result"
    }
   ],
   "source": [
    "x != y  # x is not equal to y"
   ]
  },
  {
   "cell_type": "code",
   "execution_count": 15,
   "id": "449d0038",
   "metadata": {},
   "outputs": [
    {
     "data": {
      "text/plain": [
       "False"
      ]
     },
     "execution_count": 15,
     "metadata": {},
     "output_type": "execute_result"
    }
   ],
   "source": [
    "x > y   # x is greater than y"
   ]
  },
  {
   "cell_type": "code",
   "execution_count": 16,
   "id": "f235f669",
   "metadata": {},
   "outputs": [
    {
     "data": {
      "text/plain": [
       "True"
      ]
     },
     "execution_count": 16,
     "metadata": {},
     "output_type": "execute_result"
    }
   ],
   "source": [
    "x < y   # x is less than y"
   ]
  },
  {
   "cell_type": "code",
   "execution_count": 17,
   "id": "ed67c008",
   "metadata": {},
   "outputs": [
    {
     "data": {
      "text/plain": [
       "False"
      ]
     },
     "execution_count": 17,
     "metadata": {},
     "output_type": "execute_result"
    }
   ],
   "source": [
    "x >= y  # x is greater than or equal to y"
   ]
  },
  {
   "cell_type": "code",
   "execution_count": 18,
   "id": "4161ff80",
   "metadata": {},
   "outputs": [
    {
     "data": {
      "text/plain": [
       "True"
      ]
     },
     "execution_count": 18,
     "metadata": {},
     "output_type": "execute_result"
    }
   ],
   "source": [
    "x <= y  # x is less than or equal to y"
   ]
  },
  {
   "cell_type": "markdown",
   "id": "6849d6d2",
   "metadata": {},
   "source": [
    "## 5.3. Logical operators"
   ]
  },
  {
   "cell_type": "code",
   "execution_count": 19,
   "id": "9e16da19",
   "metadata": {},
   "outputs": [
    {
     "data": {
      "text/plain": [
       "True"
      ]
     },
     "execution_count": 19,
     "metadata": {},
     "output_type": "execute_result"
    }
   ],
   "source": [
    "x > 0 and x < 10"
   ]
  },
  {
   "cell_type": "code",
   "execution_count": 20,
   "id": "90b13ef4",
   "metadata": {},
   "outputs": [
    {
     "data": {
      "text/plain": [
       "False"
      ]
     },
     "execution_count": 20,
     "metadata": {},
     "output_type": "execute_result"
    }
   ],
   "source": [
    "x % 2 == 0 or x % 3 == 0"
   ]
  },
  {
   "cell_type": "code",
   "execution_count": 21,
   "id": "b6d73ced",
   "metadata": {},
   "outputs": [
    {
     "data": {
      "text/plain": [
       "True"
      ]
     },
     "execution_count": 21,
     "metadata": {},
     "output_type": "execute_result"
    }
   ],
   "source": [
    "not x > y"
   ]
  },
  {
   "cell_type": "code",
   "execution_count": 22,
   "id": "4b77749f",
   "metadata": {},
   "outputs": [
    {
     "data": {
      "text/plain": [
       "True"
      ]
     },
     "execution_count": 22,
     "metadata": {},
     "output_type": "execute_result"
    }
   ],
   "source": [
    "42 and True"
   ]
  },
  {
   "cell_type": "markdown",
   "id": "579fab40",
   "metadata": {},
   "source": [
    "## 5.4. if statements"
   ]
  },
  {
   "cell_type": "code",
   "execution_count": 23,
   "id": "9ce34145",
   "metadata": {},
   "outputs": [
    {
     "name": "stdout",
     "output_type": "stream",
     "text": [
      "x is positive\n"
     ]
    }
   ],
   "source": [
    "if x > 0:\n",
    "    print('x is positive')"
   ]
  },
  {
   "cell_type": "code",
   "execution_count": 24,
   "id": "7ccb8005",
   "metadata": {},
   "outputs": [],
   "source": [
    "if x < 0:\n",
    "    pass    # TODO: need to handle negative values!"
   ]
  },
  {
   "cell_type": "markdown",
   "id": "8da0c80a",
   "metadata": {},
   "source": [
    "## 5.5. The `else` clause"
   ]
  },
  {
   "cell_type": "code",
   "execution_count": 25,
   "id": "df7512f6",
   "metadata": {},
   "outputs": [
    {
     "name": "stdout",
     "output_type": "stream",
     "text": [
      "x is odd\n"
     ]
    }
   ],
   "source": [
    "if x % 2 == 0:\n",
    "    print('x is even')\n",
    "else:\n",
    "    print('x is odd')"
   ]
  },
  {
   "cell_type": "markdown",
   "id": "eda8a47e",
   "metadata": {},
   "source": [
    "## 5.6. Chained conditionals"
   ]
  },
  {
   "cell_type": "code",
   "execution_count": 26,
   "id": "bdbcf12b",
   "metadata": {},
   "outputs": [
    {
     "name": "stdout",
     "output_type": "stream",
     "text": [
      "x is less than y\n"
     ]
    }
   ],
   "source": [
    "if x < y:\n",
    "    print('x is less than y')\n",
    "elif x > y:\n",
    "    print('x is greater than y')\n",
    "else:\n",
    "    print('x and y are equal')"
   ]
  },
  {
   "cell_type": "markdown",
   "id": "a8b5cf6c",
   "metadata": {},
   "source": [
    "## 5.7. Nested Conditionals"
   ]
  },
  {
   "cell_type": "code",
   "execution_count": 27,
   "id": "31896fb0",
   "metadata": {},
   "outputs": [
    {
     "name": "stdout",
     "output_type": "stream",
     "text": [
      "x is less than y\n"
     ]
    }
   ],
   "source": [
    "if x == y:\n",
    "    print('x and y are equal')\n",
    "else:\n",
    "    if x < y:\n",
    "        print('x is less than y')\n",
    "    else:\n",
    "        print('x is greater than y')"
   ]
  },
  {
   "cell_type": "code",
   "execution_count": 28,
   "id": "60ec42ce",
   "metadata": {},
   "outputs": [
    {
     "name": "stdout",
     "output_type": "stream",
     "text": [
      "x is a positive single-digit number.\n"
     ]
    }
   ],
   "source": [
    "if 0 < x:\n",
    "    if x < 10:\n",
    "        print('x is a positive single-digit number.')"
   ]
  },
  {
   "cell_type": "code",
   "execution_count": 29,
   "id": "d1093350",
   "metadata": {},
   "outputs": [
    {
     "name": "stdout",
     "output_type": "stream",
     "text": [
      "x is a positive single-digit number.\n"
     ]
    }
   ],
   "source": [
    "if 0 < x and x < 10:\n",
    "    print('x is a positive single-digit number.')"
   ]
  },
  {
   "cell_type": "code",
   "execution_count": 30,
   "id": "6cffd64e",
   "metadata": {},
   "outputs": [
    {
     "name": "stdout",
     "output_type": "stream",
     "text": [
      "x is a positive single-digit number.\n"
     ]
    }
   ],
   "source": [
    "if 0 < x < 10:\n",
    "    print('x is a positive single-digit number.')"
   ]
  },
  {
   "cell_type": "markdown",
   "id": "a4a04324",
   "metadata": {},
   "source": [
    "## 5.8. Recursion"
   ]
  },
  {
   "cell_type": "code",
   "execution_count": 31,
   "id": "7ee1a6d7",
   "metadata": {},
   "outputs": [],
   "source": [
    "def countdown(n):\n",
    "    if n <= 0:\n",
    "        print('Blastoff!')\n",
    "    else:\n",
    "        print(n)\n",
    "        countdown(n - 1)"
   ]
  },
  {
   "cell_type": "code",
   "execution_count": 32,
   "id": "ab50f73c",
   "metadata": {},
   "outputs": [
    {
     "name": "stdout",
     "output_type": "stream",
     "text": [
      "3\n",
      "2\n",
      "1\n",
      "Blastoff!\n"
     ]
    }
   ],
   "source": [
    "countdown(3)"
   ]
  },
  {
   "cell_type": "code",
   "execution_count": 33,
   "id": "04251922",
   "metadata": {},
   "outputs": [],
   "source": [
    "def print_n_times(string, n):\n",
    "    if n > 0:\n",
    "        print(string)\n",
    "        print_n_times(string, n - 1)"
   ]
  },
  {
   "cell_type": "code",
   "execution_count": 34,
   "id": "d18c5446",
   "metadata": {},
   "outputs": [
    {
     "name": "stdout",
     "output_type": "stream",
     "text": [
      "Spam\n",
      "Spam\n",
      "Spam\n",
      "Spam\n"
     ]
    }
   ],
   "source": [
    "print_n_times('Spam', 4)"
   ]
  },
  {
   "cell_type": "markdown",
   "id": "6a557ba3",
   "metadata": {},
   "source": [
    "## 5.9. Stack diagrams for recursive functions\n",
    "\n",
    "- countdown\n",
    "    ```\n",
    "    n -> 3\n",
    "    ```\n",
    "    - countdown\n",
    "        ```\n",
    "        n -> 2\n",
    "        ```\n",
    "        - countdown\n",
    "            ```\n",
    "            n -> 1\n",
    "            ```\n",
    "            - countdown\n",
    "                ```\n",
    "                n -> 0\n",
    "                ```"
   ]
  },
  {
   "cell_type": "markdown",
   "id": "dadac57b",
   "metadata": {},
   "source": [
    "## 5.10. Infinite recursion"
   ]
  },
  {
   "cell_type": "code",
   "execution_count": 35,
   "id": "290686f9",
   "metadata": {},
   "outputs": [],
   "source": [
    "def recurse():\n",
    "    recurse()"
   ]
  },
  {
   "cell_type": "code",
   "execution_count": 36,
   "id": "749e2e17",
   "metadata": {},
   "outputs": [
    {
     "ename": "RecursionError",
     "evalue": "maximum recursion depth exceeded",
     "output_type": "error",
     "traceback": [
      "\u001b[31m---------------------------------------------------------------------------\u001b[39m",
      "\u001b[31mRecursionError\u001b[39m                            Traceback (most recent call last)",
      "\u001b[36mCell\u001b[39m\u001b[36m \u001b[39m\u001b[32mIn[36]\u001b[39m\u001b[32m, line 1\u001b[39m\n\u001b[32m----> \u001b[39m\u001b[32m1\u001b[39m \u001b[43mrecurse\u001b[49m\u001b[43m(\u001b[49m\u001b[43m)\u001b[49m\n",
      "\u001b[36mCell\u001b[39m\u001b[36m \u001b[39m\u001b[32mIn[35]\u001b[39m\u001b[32m, line 2\u001b[39m, in \u001b[36mrecurse\u001b[39m\u001b[34m()\u001b[39m\n\u001b[32m      1\u001b[39m \u001b[38;5;28;01mdef\u001b[39;00m\u001b[38;5;250m \u001b[39m\u001b[34mrecurse\u001b[39m():\n\u001b[32m----> \u001b[39m\u001b[32m2\u001b[39m     \u001b[43mrecurse\u001b[49m\u001b[43m(\u001b[49m\u001b[43m)\u001b[49m\n",
      "\u001b[36mCell\u001b[39m\u001b[36m \u001b[39m\u001b[32mIn[35]\u001b[39m\u001b[32m, line 2\u001b[39m, in \u001b[36mrecurse\u001b[39m\u001b[34m()\u001b[39m\n\u001b[32m      1\u001b[39m \u001b[38;5;28;01mdef\u001b[39;00m\u001b[38;5;250m \u001b[39m\u001b[34mrecurse\u001b[39m():\n\u001b[32m----> \u001b[39m\u001b[32m2\u001b[39m     \u001b[43mrecurse\u001b[49m\u001b[43m(\u001b[49m\u001b[43m)\u001b[49m\n",
      "    \u001b[31m[... skipping similar frames: recurse at line 2 (2974 times)]\u001b[39m\n",
      "\u001b[36mCell\u001b[39m\u001b[36m \u001b[39m\u001b[32mIn[35]\u001b[39m\u001b[32m, line 2\u001b[39m, in \u001b[36mrecurse\u001b[39m\u001b[34m()\u001b[39m\n\u001b[32m      1\u001b[39m \u001b[38;5;28;01mdef\u001b[39;00m\u001b[38;5;250m \u001b[39m\u001b[34mrecurse\u001b[39m():\n\u001b[32m----> \u001b[39m\u001b[32m2\u001b[39m     \u001b[43mrecurse\u001b[49m\u001b[43m(\u001b[49m\u001b[43m)\u001b[49m\n",
      "\u001b[31mRecursionError\u001b[39m: maximum recursion depth exceeded"
     ]
    }
   ],
   "source": [
    "recurse()"
   ]
  },
  {
   "cell_type": "markdown",
   "id": "64249a75",
   "metadata": {},
   "source": [
    "## 5.11. Keyboard input"
   ]
  },
  {
   "cell_type": "code",
   "execution_count": 37,
   "id": "0325b5c1",
   "metadata": {},
   "outputs": [
    {
     "data": {
      "text/plain": [
       "'It is Arthur, King of the Britons'"
      ]
     },
     "execution_count": 37,
     "metadata": {},
     "output_type": "execute_result"
    }
   ],
   "source": [
    "name = input('What...is your name?\\n')\n",
    "name"
   ]
  },
  {
   "cell_type": "code",
   "execution_count": 38,
   "id": "b3cbb421",
   "metadata": {},
   "outputs": [
    {
     "data": {
      "text/plain": [
       "'What do you mean: an African or European swallow?'"
      ]
     },
     "execution_count": 38,
     "metadata": {},
     "output_type": "execute_result"
    }
   ],
   "source": [
    "prompt = 'What...is the airspeed velocity of an unladen swallow?\\n'\n",
    "speed = input(prompt)\n",
    "speed"
   ]
  },
  {
   "cell_type": "code",
   "execution_count": 39,
   "id": "a8c0c625",
   "metadata": {},
   "outputs": [
    {
     "ename": "ValueError",
     "evalue": "invalid literal for int() with base 10: 'What do you mean: an African or European swallow?'",
     "output_type": "error",
     "traceback": [
      "\u001b[31m---------------------------------------------------------------------------\u001b[39m",
      "\u001b[31mValueError\u001b[39m                                Traceback (most recent call last)",
      "\u001b[36mCell\u001b[39m\u001b[36m \u001b[39m\u001b[32mIn[39]\u001b[39m\u001b[32m, line 1\u001b[39m\n\u001b[32m----> \u001b[39m\u001b[32m1\u001b[39m \u001b[38;5;28;43mint\u001b[39;49m\u001b[43m(\u001b[49m\u001b[43mspeed\u001b[49m\u001b[43m)\u001b[49m\n",
      "\u001b[31mValueError\u001b[39m: invalid literal for int() with base 10: 'What do you mean: an African or European swallow?'"
     ]
    }
   ],
   "source": [
    "int(speed)"
   ]
  },
  {
   "cell_type": "markdown",
   "id": "8d37bf11",
   "metadata": {},
   "source": [
    "## 5.12. Debugging"
   ]
  },
  {
   "cell_type": "code",
   "execution_count": 40,
   "id": "05cf479d",
   "metadata": {},
   "outputs": [
    {
     "ename": "IndentationError",
     "evalue": "unexpected indent (1537741481.py, line 2)",
     "output_type": "error",
     "traceback": [
      "  \u001b[36mCell\u001b[39m\u001b[36m \u001b[39m\u001b[32mIn[40]\u001b[39m\u001b[32m, line 2\u001b[39m\n\u001b[31m    \u001b[39m\u001b[31my = 6\u001b[39m\n    ^\n\u001b[31mIndentationError\u001b[39m\u001b[31m:\u001b[39m unexpected indent\n"
     ]
    }
   ],
   "source": [
    "x = 5\n",
    " y = 6"
   ]
  },
  {
   "cell_type": "code",
   "execution_count": 41,
   "id": "e185c802",
   "metadata": {},
   "outputs": [
    {
     "ename": "ValueError",
     "evalue": "math domain error",
     "output_type": "error",
     "traceback": [
      "\u001b[31m---------------------------------------------------------------------------\u001b[39m",
      "\u001b[31mValueError\u001b[39m                                Traceback (most recent call last)",
      "\u001b[36mCell\u001b[39m\u001b[36m \u001b[39m\u001b[32mIn[41]\u001b[39m\u001b[32m, line 6\u001b[39m\n\u001b[32m      4\u001b[39m denominator = \u001b[32m10\u001b[39m\n\u001b[32m      5\u001b[39m ratio = numerator // denominator\n\u001b[32m----> \u001b[39m\u001b[32m6\u001b[39m decibels = \u001b[32m10\u001b[39m * \u001b[43mmath\u001b[49m\u001b[43m.\u001b[49m\u001b[43mlog10\u001b[49m\u001b[43m(\u001b[49m\u001b[43mratio\u001b[49m\u001b[43m)\u001b[49m\n",
      "\u001b[31mValueError\u001b[39m: math domain error"
     ]
    }
   ],
   "source": [
    "import math\n",
    "\n",
    "numerator = 9\n",
    "denominator = 10\n",
    "ratio = numerator // denominator\n",
    "decibels = 10 * math.log10(ratio)"
   ]
  },
  {
   "cell_type": "markdown",
   "id": "adaee3d4",
   "metadata": {},
   "source": [
    "## 5.13. Glossary\n",
    "\n",
    "- recursion\n",
    "- modulus operator\n",
    "- boolean expression\n",
    "- relational operator\n",
    "- logical operator\n",
    "- conditional statement\n",
    "- condition\n",
    "- block\n",
    "- branch\n",
    "- chained conditional\n",
    "- nested conditional\n",
    "- recursive\n",
    "- base case\n",
    "- infinite recursion\n",
    "- newline"
   ]
  },
  {
   "cell_type": "markdown",
   "id": "917932c8",
   "metadata": {},
   "source": [
    "## 5.14. Exercises"
   ]
  },
  {
   "cell_type": "markdown",
   "id": "fea64280",
   "metadata": {},
   "source": [
    "### 5.14.1. Ask a virtual assistant\n",
    "\n",
    "- 나머지 연산자를 어떤 경우에 활용해?\n",
    "    > 나머지 연산자 `%`는 어떤 수를 다른 수로 나누었을 때 **나머지 값**을 구할 때 사용돼. 다양한 상황에서 유용하게 쓰이는데, 대표적인 활용 예시는 아래와 같아:\n",
    "    > \n",
    "    > ### ✅ 1. **짝수/홀수 판별**\n",
    "    > \n",
    "    > * 어떤 수가 짝수인지 홀수인지를 확인할 때\n",
    "    > \n",
    "    > ```python\n",
    "    > n = 7\n",
    "    > if n % 2 == 0:\n",
    "    >     print(\"짝수\")\n",
    "    > else:\n",
    "    >     print(\"홀수\")\n",
    "    > ```\n",
    "    > \n",
    "    > * `% 2 == 0` → **짝수**\n",
    "    > * `% 2 == 1` → **홀수**\n",
    "    > \n",
    "    > ### ✅ 2. **주기적인 패턴 처리**\n",
    "    > \n",
    "    > * 예: 요일 계산, 달력 순환, 시계 등에서 주기적으로 반복되는 패턴 처리\n",
    "    > \n",
    "    > ```python\n",
    "    > days = [\"월\", \"화\", \"수\", \"목\", \"금\", \"토\", \"일\"]\n",
    "    > today_index = 5  # 토요일\n",
    "    > after_days = 3\n",
    "    > print(days[(today_index + after_days) % 7])  # 화요일\n",
    "    > ```\n",
    "    > \n",
    "    > ### ✅ 3. **배수 확인**\n",
    "    > \n",
    "    > * 어떤 수가 다른 수의 배수인지 확인할 때\n",
    "    > \n",
    "    > ```python\n",
    "    > if num % 3 == 0:\n",
    "    >     print(\"3의 배수입니다\")\n",
    "    > ```\n",
    "    > \n",
    "    > ### ✅ 4. **원형(순환) 구조 만들기**\n",
    "    > \n",
    "    > * 배열, 리스트 등에서 끝에 도달하면 다시 처음으로 돌아가야 할 때\n",
    "    > \n",
    "    > ```python\n",
    "    > arr = [10, 20, 30, 40]\n",
    "    > for i in range(10):\n",
    "    >     print(arr[i % len(arr)])  # 인덱스를 계속 순환시킴\n",
    "    > ```\n",
    "    > \n",
    "    > ### ✅ 5. **게임, 알고리즘 문제 풀이 등에서 패턴 구현**\n",
    "    > \n",
    "    > * 예: 두 사람의 턴을 번갈아 가며 실행\n",
    "    > \n",
    "    > ```python\n",
    "    > if turn % 2 == 0:\n",
    "    >     print(\"Player 1\")\n",
    "    > else:\n",
    "    >     print(\"Player 2\")\n",
    "    > ```\n",
    "    > \n",
    "    > ### ✅ 6. **시간 계산 (초 → 시/분/초)**\n",
    "    > \n",
    "    > ```python\n",
    "    > total_seconds = 3672\n",
    "    > hours = total_seconds // 3600\n",
    "    > minutes = (total_seconds % 3600) // 60\n",
    "    > seconds = total_seconds % 60\n",
    "    > print(f\"{hours}시간 {minutes}분 {seconds}초\")\n",
    "    > ```\n",
    "    > \n",
    "    > 필요할 때 나눗셈의 **몫이 아니라 나머지**가 중요한 상황에서 `%` 연산자가 필수야.\n",
    "\n",
    "- XOR 연산이 어떤 것이고, 파이썬에서는 어떻게 계산할 수 있어?\n",
    "    > 좋은 질문이야!\n",
    "    > **XOR 연산**은 **비트 단위 연산** 중 하나로, 두 비트가 **다를 때 1**, 같을 때는 **0**이 되는 연산이야.\n",
    "    > \n",
    "    > ### ✅ XOR 연산의 의미 (배타적 논리합)\n",
    "    > \n",
    "    > | A | B | A ^ B |\n",
    "    > | - | - | ----- |\n",
    "    > | 0 | 0 | 0     |\n",
    "    > | 0 | 1 | 1     |\n",
    "    > | 1 | 0 | 1     |\n",
    "    > | 1 | 1 | 0     |\n",
    "    > \n",
    "    > > 한 마디로, **\"다르면 1, 같으면 0\"** 이라고 기억하면 돼.\n",
    "    > \n",
    "    > ### ✅ 파이썬에서 XOR 연산자: `^`\n",
    "    > \n",
    "    > 파이썬에서는 `^` 기호를 사용해서 XOR 연산을 할 수 있어.\n",
    "    > \n",
    "    > ```python\n",
    "    > a = 5      # 0b0101\n",
    "    > b = 3      # 0b0011\n",
    "    > \n",
    "    > result = a ^ b\n",
    "    > print(result)  # 출력: 6 (0b0110)\n",
    "    > ```\n",
    "    > \n",
    "    > ### ✅ XOR 연산의 특이한 성질\n",
    "    > \n",
    "    > XOR은 아주 유용한 특징이 많아서 알고리즘 문제에서 자주 사용돼:\n",
    "    > \n",
    "    > 1. **a ^ a = 0**\n",
    "    > 2. **a ^ 0 = a**\n",
    "    > 3. **XOR은 교환법칙/결합법칙이 성립함**\n",
    "    > \n",
    "    >    * a ^ b = b ^ a\n",
    "    >    * (a ^ b) ^ c = a ^ (b ^ c)\n",
    "    > \n",
    "    > ### ✅ 활용 예시\n",
    "    > \n",
    "    > #### ✔️ 1. 두 값의 교환 (임시 변수 없이)\n",
    "    > \n",
    "    > ```python\n",
    "    > a = 10\n",
    "    > b = 20\n",
    "    > \n",
    "    > a = a ^ b\n",
    "    > b = a ^ b\n",
    "    > a = a ^ b\n",
    "    > \n",
    "    > print(a, b)  # 20, 10\n",
    "    > ```\n",
    "    > \n",
    "    > #### ✔️ 2. 한 번만 등장하는 수 찾기\n",
    "    > \n",
    "    > 리스트에서 **하나만 홀로 있는 수**를 찾을 때:\n",
    "    > \n",
    "    > ```python\n",
    "    > arr = [2, 3, 5, 3, 2]\n",
    "    > \n",
    "    > unique = 0\n",
    "    > for num in arr:\n",
    "    >     unique ^= num\n",
    "    > \n",
    "    > print(unique)  # 출력: 5\n",
    "    > ```\n",
    "    > \n",
    "    > > 다른 수는 짝수 번 등장하므로, XOR하면 다 사라지고 홀수 번 등장한 값만 남아.\n",
    "\n",
    "- 아래 코드를 chained conditional로 변환해줘.\n",
    "    ```python\n",
    "    if x == y:\n",
    "        print('x and y are equal')\n",
    "    else:\n",
    "        if x < y:\n",
    "            print('x is less than y')\n",
    "        else:\n",
    "            print('x is greater than y')\n",
    "    ```\n",
    "    > 물론이야!\n",
    "    > 주어진 코드를 **chained conditional** (연쇄 조건문, `if` / `elif` / `else`) 형태로 바꾸면 이렇게 돼:\n",
    "    > \n",
    "    > ```python\n",
    "    > if x == y:\n",
    "    >     print('x and y are equal')\n",
    "    > elif x < y:\n",
    "    >     print('x is less than y')\n",
    "    > else:\n",
    "    >     print('x is greater than y')\n",
    "    > ```\n",
    "    > \n",
    "    > ### ✅ 설명\n",
    "    > \n",
    "    > * `if` → 첫 번째 조건 검사 (`x == y`)\n",
    "    > * `elif` → 위 조건이 거짓이면 두 번째 조건 검사 (`x < y`)\n",
    "    > * `else` → 위 모든 조건이 거짓이면 실행 (`x > y`)\n",
    "    > \n",
    "    > 이렇게 하면 **들여쓰기도 간결**하고, **조건 흐름도 명확**해져.\n",
    "    > 추가로 궁금한 코드 있으면 언제든지 알려줘!\n",
    "\n",
    "- 아래 코드를 하나의 조건문으로 바꿔줘.\n",
    "    ```python\n",
    "    if 0 < x:\n",
    "        if x < 10:\n",
    "            print('x is a positive single-digit number.')\n",
    "    ```\n",
    "    > 좋아!\n",
    "    > 이중 `if` 문을 하나의 조건문으로 바꾸면 **논리 연산자 `and`**를 사용해서 다음과 같이 표현할 수 있어:\n",
    "    > \n",
    "    > ```python\n",
    "    > if 0 < x and x < 10:\n",
    "    >     print('x is a positive single-digit number.')\n",
    "    > ```\n",
    "    > \n",
    "    > ### ✅ 참고: 파이썬만의 간결한 표현\n",
    "    > \n",
    "    > 파이썬에서는 **연속된 비교 연산**을 간결하게 이렇게도 쓸 수 있어:\n",
    "    > \n",
    "    > ```python\n",
    "    > if 0 < x < 10:\n",
    "    >     print('x is a positive single-digit number.')\n",
    "    > ```\n",
    "    > \n",
    "    > 이건 수학에서 쓰는 부등식처럼 읽히기 때문에 **가독성**도 좋고, 파이썬다운 표현이야.\n",
    "    > 둘 중 아무거나 써도 되지만, 보통은 두 번째 방식(`0 < x < 10`)을 선호해.\n",
    "\n",
    "- 아래 코드를 단순화해줘.\n",
    "    ```python\n",
    "    if not x <= 0 and not x >= 10:\n",
    "        print('x is a positive single-digit number.')\n",
    "    ```\n",
    "    > 좋은 질문이야!\n",
    "    > 주어진 조건문은 **이중 부정**을 사용하고 있어서 조금 복잡해 보이는데, 이걸 **간단한 범위 비교**로 바꿔줄 수 있어.\n",
    "    > \n",
    "    > ### 🔸 원래 코드:\n",
    "    > \n",
    "    > ```python\n",
    "    > if not x <= 0 and not x >= 10:\n",
    "    >     print('x is a positive single-digit number.')\n",
    "    > ```\n",
    "    > \n",
    "    > ### ✅ 단순화한 코드:\n",
    "    > \n",
    "    > ```python\n",
    "    > if 0 < x < 10:\n",
    "    >     print('x is a positive single-digit number.')\n",
    "    > ```\n",
    "    > \n",
    "    > ### 💡 왜 이렇게 되는가?\n",
    "    > \n",
    "    > * `not x <= 0` → `x > 0`\n",
    "    > * `not x >= 10` → `x < 10`\n",
    "    > \n",
    "    > 두 조건을 `and`로 묶으면:\n",
    "    > \n",
    "    > ```python\n",
    "    > x > 0 and x < 10\n",
    "    > ```\n",
    "    > \n",
    "    > → 이건 파이썬에서 `0 < x < 10`으로 **연속 비교**가 가능해.\n",
    "    > 읽기도 쉽고, 더 파이썬다운 방식이야.\n",
    "\n",
    "- 아래 코드에는 에러가 있어. 어떤 경우에 에러가 발생하고 어떻게 수정할 수 있을지 알려줘.\n",
    "    ```python\n",
    "    def countdown_by_two(n):\n",
    "        if n == 0:\n",
    "            print('Blastoff!')\n",
    "        else:\n",
    "            print(n)\n",
    "            countdown_by_two(n-2)\n",
    "    ```\n",
    "    > 좋은 질문이야!\n",
    "    > 이 코드에서 발생할 수 있는 **문제(에러)**는 **무한 재귀 호출**이 일어나는 경우야.\n",
    "    > 어떤 경우냐면, `n`이 **0보다 작지 않은 짝수가 아닐 때**, 즉 **홀수거나 음수일 때** 문제가 생겨.\n",
    "    > \n",
    "    > ## 🔍 어떤 에러가 발생하나?\n",
    "    > \n",
    "    > 예를 들어, `n = 3`일 때 호출하면:\n",
    "    > \n",
    "    > ```python\n",
    "    > countdown_by_two(3) → 3\n",
    "    > → countdown_by_two(1) → 1\n",
    "    > → countdown_by_two(-1) → -1\n",
    "    > → countdown_by_two(-3) → -3\n",
    "    > → ...\n",
    "    > ```\n",
    "    > \n",
    "    > 계속 `-1, -3, -5...` 이렇게 줄어들면서 **기저 조건 `n == 0`에 절대 도달하지 못함**\n",
    "    > 결국 **`RecursionError: maximum recursion depth exceeded`** 발생하게 됨.\n",
    "    > \n",
    "    > ## ✅ 어떻게 수정할 수 있을까?\n",
    "    > \n",
    "    > ### ✔️ 방법 1: **기저 조건을 n <= 0 으로 변경**\n",
    "    > \n",
    "    > ```python\n",
    "    > def countdown_by_two(n):\n",
    "    >     if n <= 0:\n",
    "    >         print('Blastoff!')\n",
    "    >     else:\n",
    "    >         print(n)\n",
    "    >         countdown_by_two(n - 2)\n",
    "    > ```\n",
    "    > \n",
    "    > > 이렇게 하면 `n`이 0이거나 음수일 때도 재귀가 멈춰서 **무한 재귀 방지** 가능.\n",
    "    > \n",
    "    > ### ✔️ 방법 2: **입력 검사를 추가해서 양의 짝수만 허용**\n",
    "    > \n",
    "    > ```python\n",
    "    > def countdown_by_two(n):\n",
    "    >     if n % 2 != 0 or n < 0:\n",
    "    >         print(\"Please enter a non-negative even number.\")\n",
    "    >         return\n",
    "    >     if n == 0:\n",
    "    >         print('Blastoff!')\n",
    "    >     else:\n",
    "    >         print(n)\n",
    "    >         countdown_by_two(n - 2)\n",
    "    > ```\n",
    "    > \n",
    "    > > 이렇게 하면 사용자가 잘못된 값을 넣을 때 미리 알려주고 함수 실행을 중단할 수 있어.\n",
    "    > \n",
    "    > ## 🎯 결론\n",
    "    > \n",
    "    > * 현재 코드는 `n <= 0`이 아닐 경우 무한 재귀가 발생할 수 있어.\n",
    "    > * `if n == 0` → `if n <= 0`으로 고치면 안전하게 작동함.\n",
    "    > * 입력값 검사를 추가하면 더 안정적인 코드가 됨."
   ]
  },
  {
   "cell_type": "markdown",
   "id": "29fa22e8",
   "metadata": {},
   "source": [
    "### 5.14.2. Exercise"
   ]
  },
  {
   "cell_type": "code",
   "execution_count": 42,
   "id": "646015e3",
   "metadata": {},
   "outputs": [
    {
     "data": {
      "text/plain": [
       "1759061125.2941334"
      ]
     },
     "execution_count": 42,
     "metadata": {},
     "output_type": "execute_result"
    }
   ],
   "source": [
    "from time import time\n",
    "\n",
    "now = time()\n",
    "now"
   ]
  },
  {
   "cell_type": "code",
   "execution_count": 43,
   "id": "e1f3f846",
   "metadata": {},
   "outputs": [
    {
     "name": "stdout",
     "output_type": "stream",
     "text": [
      "20359.0 12.0 5.0 25.29413342475891\n"
     ]
    }
   ],
   "source": [
    "day = now // (24 * 60 * 60)\n",
    "remainder = now % (24 * 60 *60)\n",
    "hours = remainder // (60 * 60)\n",
    "remainder = remainder % (60 * 60)\n",
    "minutes = remainder // 60\n",
    "seconds = remainder % 60\n",
    "\n",
    "print(day, hours, minutes, seconds)"
   ]
  },
  {
   "cell_type": "markdown",
   "id": "8e9d1782",
   "metadata": {},
   "source": [
    "### 5.14.3. Exercise"
   ]
  },
  {
   "cell_type": "code",
   "execution_count": 44,
   "id": "638b49bc",
   "metadata": {},
   "outputs": [],
   "source": [
    "def is_triangle(a, b, c):\n",
    "    if a > b + c:\n",
    "        print(\"No\")\n",
    "    elif b > a + c:\n",
    "        print(\"No\")\n",
    "    elif c > a + b:\n",
    "        print(\"No\")\n",
    "    else:\n",
    "        print(\"Yes\")"
   ]
  },
  {
   "cell_type": "code",
   "execution_count": 45,
   "id": "5006e196",
   "metadata": {},
   "outputs": [
    {
     "name": "stdout",
     "output_type": "stream",
     "text": [
      "Yes\n",
      "Yes\n",
      "No\n",
      "No\n"
     ]
    }
   ],
   "source": [
    "is_triangle(4, 5, 6)\n",
    "is_triangle(1, 2, 3)\n",
    "is_triangle(6, 2, 3)\n",
    "is_triangle(1, 1, 12)"
   ]
  },
  {
   "cell_type": "markdown",
   "id": "b0fc2db7",
   "metadata": {},
   "source": [
    "### 5.14.4. Exercise"
   ]
  },
  {
   "cell_type": "code",
   "execution_count": 46,
   "id": "c0c06023",
   "metadata": {},
   "outputs": [
    {
     "name": "stdout",
     "output_type": "stream",
     "text": [
      "6\n"
     ]
    }
   ],
   "source": [
    "def recurse(n, s):\n",
    "    if n == 0:\n",
    "        print(s)\n",
    "    else:\n",
    "        recurse(n-1, n+s)\n",
    "\n",
    "recurse(3, 0)"
   ]
  },
  {
   "cell_type": "markdown",
   "id": "5d60f3ec",
   "metadata": {},
   "source": [
    "- recurse\n",
    "    ```\n",
    "    n -> 3\n",
    "    s -> 0\n",
    "    ```\n",
    "    - recurse\n",
    "        ```\n",
    "        n -> 2\n",
    "        s -> 3\n",
    "        ```\n",
    "        - recurse\n",
    "            ```\n",
    "            n -> 1\n",
    "            s -> 5\n",
    "            ```\n",
    "            - recurse\n",
    "                ```\n",
    "                n -> 0\n",
    "                s -> 6\n",
    "                ```\n",
    "                - print\n",
    "                    ```\n",
    "                    ? -> 6\n",
    "                    ```"
   ]
  },
  {
   "cell_type": "markdown",
   "id": "398de7fd",
   "metadata": {},
   "source": [
    "### 5.14.5. Exercise"
   ]
  },
  {
   "cell_type": "code",
   "execution_count": 47,
   "id": "ae6cb193",
   "metadata": {},
   "outputs": [],
   "source": [
    "from jupyturtle import forward, left, right, back\n",
    "\n",
    "def draw(length):\n",
    "    angle = 50\n",
    "    factor = 0.6\n",
    "    \n",
    "    if length > 5:\n",
    "        forward(length)\n",
    "        left(angle)\n",
    "        draw(factor * length)\n",
    "        right(2 * angle)\n",
    "        draw(factor * length)\n",
    "        left(angle)\n",
    "        back(length)"
   ]
  },
  {
   "cell_type": "code",
   "execution_count": 48,
   "id": "61eeb333",
   "metadata": {},
   "outputs": [
    {
     "data": {
      "text/html": [
       "<svg width=\"300\" height=\"150\" style=\"fill:none; stroke-linecap:round;\">\n",
       "    <rect width=\"100%\" height=\"100%\" fill=\"#F3F3F7\" />\n",
       "\n",
       "\n",
       "<path stroke=\"#663399\" stroke-width=\"2\" d=\"M 150,75 200,75 219.3,52 216.2,34.3 206.8,28.9 200.7,31.1 206.8,28.9 205.7,22.5 206.8,28.9 216.2,34.3 223.1,26 222,19.6 223.1,26 229.6,26 223.1,26 216.2,34.3 219.3,52 237.3,52 244.2,43.7 243.1,37.4 244.2,43.7 250.7,43.7 244.2,43.7 237.3,52 244.2,60.3 250.7,60.3 244.2,60.3 243.1,66.7 244.2,60.3 237.3,52 219.3,52 200,75 219.3,98 237.3,98 244.2,89.7 243.1,83.3 244.2,89.7 250.7,89.7 244.2,89.7 237.3,98 244.2,106.3 250.7,106.3 244.2,106.3 243.1,112.6 244.2,106.3 237.3,98 219.3,98 216.2,115.7 223.1,124 229.6,124 223.1,124 222,130.4 223.1,124 216.2,115.7 206.8,121.1 205.7,127.5 206.8,121.1 200.7,118.9 206.8,121.1 216.2,115.7 219.3,98 200,75 150,75\" />'\n",
       "\n",
       "<g transform=\"rotate(-90.0,150.0,75.0) translate(150.0, 75.0)\">\n",
       "    <circle stroke=\"#63A375\" stroke-width=\"2\" fill=\"transparent\" r=\"5.5\" cx=\"0\" cy=\"0\"/>\n",
       "    <polygon points=\"0,12 2,9 -2,9\" style=\"fill:#63A375;stroke:#63A375;stroke-width:2\"/>\n",
       "</g>\n",
       "\n",
       "</svg>"
      ],
      "text/plain": [
       "<IPython.core.display.HTML object>"
      ]
     },
     "metadata": {},
     "output_type": "display_data"
    }
   ],
   "source": [
    "from jupyturtle import make_turtle\n",
    "\n",
    "make_turtle(delay=0)\n",
    "draw(50)"
   ]
  },
  {
   "cell_type": "markdown",
   "id": "537c5514",
   "metadata": {},
   "source": [
    "### 5.14.6. Exercise\n",
    "\n",
    "- Koch curve가 뭐야?\n",
    "    > **Koch curve (코흐 곡선)**은 대표적인 **프랙탈(Fractal)** 도형 중 하나야.\n",
    "    > 스웨덴의 수학자 **헬게 폰 코흐 (Helge von Koch)**가 1904년에 고안한 도형이지.\n",
    "    > \n",
    "    > ## 🌟 한 줄 요약\n",
    "    > \n",
    "    > **Koch curve는 선분을 계속 세 갈래로 나누고, 중간 부분을 삼각형처럼 뾰족하게 만든 \"끝없이 반복되는 눈송이 모양의 곡선\"이야.**\n",
    "    > \n",
    "    > ## 📐 Koch 곡선 만드는 과정\n",
    "    > \n",
    "    > 시작은 단순하지만 반복할수록 복잡해져:\n",
    "    > \n",
    "    > ### 단계별 설명:\n",
    "    > \n",
    "    > 1. **1단계 (초기)**:\n",
    "    >    * 길이 `L`짜리 **직선 하나**를 그림.\n",
    "    > 2. **2단계**:\n",
    "    >    * 선분을 **3등분**.\n",
    "    >    * 가운데 1/3 자리에 **정삼각형 모양을 위로 추가**.\n",
    "    >    * 가운데 선분을 **지움**.\n",
    "    > 3. **3단계**:\n",
    "    >    * 만들어진 4개의 선분 **각각에 대해** 같은 작업 반복.\n",
    "    > 4. **계속 반복**하면 곡선이 점점 더 뾰족하고 복잡한 형태가 됨.\n",
    "    > \n",
    "    > ## 🧊 Koch Snowflake (코흐 눈송이)\n",
    "    > \n",
    "    > * Koch curve를 **삼각형의 세 변에 적용**하면, 마치 눈송이 같은 닫힌 형태가 만들어져.\n",
    "    >   → 이것이 **Koch snowflake** (코흐 눈송이)라고 불리는 도형이야.\n",
    "    > \n",
    "    > ## 🧠 수학적 특징\n",
    "    > \n",
    "    > | 특징            | 설명                                                 |\n",
    "    > | ------------- | -------------------------------------------------- |\n",
    "    > | **프랙탈 차원**    | 유클리드 차원은 1이지만, Koch curve는 **차원이 약 1.2619**로 비정수야. |\n",
    "    > | **무한한 길이**    | 반복을 무한히 하면, **선의 길이는 무한히 길어짐**.                    |\n",
    "    > | **0 면적 (곡선)** | 곡선 자체는 **면적이 없음**. (눈송이 버전은 유한한 면적 가짐)             |\n",
    "    > | **자기유사성**     | 확대해도 **전체와 부분의 구조가 같음** → 프랙탈의 핵심 특징               |\n",
    "    > \n",
    "    > ## 🖼️ 시각적 이미지 (간단 예)\n",
    "    > \n",
    "    > * Koch Curve (Level 0~3)\n",
    "    > \n",
    "    > ```\n",
    "    > Level 0: ───────\n",
    "    > Level 1: ─┐ ┌─\n",
    "    > Level 2: ─┐┌┐┌─\n",
    "    > Level 3: ─┐┌┐┌┐┌─  (각 선분이 더 뾰족하게 나뉘어감)\n",
    "    > ```\n",
    "    > \n",
    "    > ## 🧑‍💻 파이썬에서 그리기 (선택)\n",
    "    > \n",
    "    > 프랙탈 라이브러리나 `turtle` 모듈로 Koch curve를 그릴 수 있어. 원하면 예제 코드도 보여줄게!"
   ]
  },
  {
   "cell_type": "code",
   "execution_count": 49,
   "id": "dc7034fb",
   "metadata": {},
   "outputs": [],
   "source": [
    "def koch(x):\n",
    "    if x < 5:\n",
    "        forward(x)\n",
    "    else:\n",
    "        koch(x / 3)\n",
    "        left(60)\n",
    "        koch(x / 3)\n",
    "        right(120)\n",
    "        koch(x / 3)\n",
    "        left(60)\n",
    "        koch(x / 3)"
   ]
  },
  {
   "cell_type": "code",
   "execution_count": 50,
   "id": "717ae9eb",
   "metadata": {},
   "outputs": [
    {
     "data": {
      "text/html": [
       "<svg width=\"300\" height=\"150\" style=\"fill:none; stroke-linecap:round;\">\n",
       "    <rect width=\"100%\" height=\"100%\" fill=\"#F3F3F7\" />\n",
       "\n",
       "\n",
       "<path stroke=\"#663399\" stroke-width=\"2\" d=\"M 150,75 154.4,75 156.7,71.2 158.9,75 163.3,75 165.6,71.2 163.3,67.3 167.8,67.3 170,63.5 172.2,67.3 176.7,67.3 174.4,71.2 176.7,75 181.1,75 183.3,71.2 185.6,75 190,75 192.2,71.2 190,67.3 194.4,67.3 196.7,63.5 194.4,59.6 190,59.6 192.2,55.8 190,51.9 194.4,51.9 196.7,48.1 198.9,51.9 203.3,51.9 205.6,48.1 203.3,44.2 207.8,44.2 210,40.4 212.2,44.2 216.7,44.2 214.4,48.1 216.7,51.9 221.1,51.9 223.3,48.1 225.6,51.9 230,51.9 227.8,55.8 230,59.6 225.6,59.6 223.3,63.5 225.6,67.3 230,67.3 227.8,71.2 230,75 234.4,75 236.7,71.2 238.9,75 243.3,75 245.6,71.2 243.3,67.3 247.8,67.3 250,63.5 252.2,67.3 256.7,67.3 254.4,71.2 256.7,75 261.1,75 263.3,71.2 265.6,75 270,75\" />'\n",
       "\n",
       "<g transform=\"rotate(-90.0,270.0,75.0) translate(270.0, 75.0)\">\n",
       "    <circle stroke=\"#63A375\" stroke-width=\"2\" fill=\"transparent\" r=\"5.5\" cx=\"0\" cy=\"0\"/>\n",
       "    <polygon points=\"0,12 2,9 -2,9\" style=\"fill:#63A375;stroke:#63A375;stroke-width:2\"/>\n",
       "</g>\n",
       "\n",
       "</svg>"
      ],
      "text/plain": [
       "<IPython.core.display.HTML object>"
      ]
     },
     "metadata": {},
     "output_type": "display_data"
    }
   ],
   "source": [
    "make_turtle(delay=0)\n",
    "koch(120)"
   ]
  },
  {
   "cell_type": "markdown",
   "id": "6a24abee",
   "metadata": {},
   "source": [
    "### 5.14.7. Exercise"
   ]
  },
  {
   "cell_type": "markdown",
   "id": "606fe432",
   "metadata": {},
   "source": [
    "- jupyturtle 모듈을 사용해서 시에르핀스키 삼각형을 그리는 draw_sierpinski 함수를 만들어줘. 이 함수는 아래와 같은 형태로 호출해서 사용할거야.\n",
    "    ```python\n",
    "    make_turtle(delay=0, height=200)\n",
    "    draw_sierpinski(100, 3)\n",
    "    ```\n",
    "    > 좋아! `jupyturtle` 모듈을 사용해서 **시에르핀스키 삼각형 (Sierpinski Triangle)**을 그리는 `draw_sierpinski(length, depth)` 함수를 만들어줄게.\n",
    "    > \n",
    "    > ## ✅ 목표\n",
    "    > \n",
    "    > * `length`: 삼각형 한 변의 길이\n",
    "    > * `depth`: 재귀 깊이\n",
    "    > * `make_turtle(delay=0, height=200)`을 호출한 후 사용할 수 있게 만들기\n",
    "    > \n",
    "    > ## ✅ 전체 코드 (Jupyter Notebook에서 실행)\n",
    "    > \n",
    "    > ```python\n",
    "    > from jupyturtle import Turtle, make_turtle\n",
    "    > \n",
    "    > # 시에르핀스키 삼각형을 재귀적으로 그리는 함수\n",
    "    > def draw_sierpinski(length, depth):\n",
    "    >     def sierpinski(t, length, depth):\n",
    "    >         if depth == 0:\n",
    "    >             for _ in range(3):\n",
    "    >                 t.forward(length)\n",
    "    >                 t.left(120)\n",
    "    >         else:\n",
    "    >             sierpinski(t, length / 2, depth - 1)\n",
    "    >             t.forward(length / 2)\n",
    "    >             sierpinski(t, length / 2, depth - 1)\n",
    "    >             t.backward(length / 2)\n",
    "    >             t.left(60)\n",
    "    >             t.forward(length / 2)\n",
    "    >             t.right(60)\n",
    "    >             sierpinski(t, length / 2, depth - 1)\n",
    "    >             t.left(60)\n",
    "    >             t.backward(length / 2)\n",
    "    >             t.right(60)\n",
    "    > \n",
    "    >     # 거북이 가져오기\n",
    "    >     t = Turtle()\n",
    "    >     sierpinski(t, length, depth)\n",
    "    > \n",
    "    > # 거북이 생성 (실행 전 반드시 호출)\n",
    "    > make_turtle(delay=0, height=200)\n",
    "    > \n",
    "    > # 예시 호출\n",
    "    > draw_sierpinski(100, 3)\n",
    "    > ```\n",
    "    > \n",
    "    > ## 🔍 설명\n",
    "    > \n",
    "    > * 함수 내부에서 `Turtle()` 객체를 만들어 `sierpinski` 재귀 함수에 넘겨줌.\n",
    "    > * 깊이가 0이 되면 기본 삼각형을 그림.\n",
    "    > * 그 외에는 **왼쪽 아래 / 오른쪽 아래 / 위쪽** 세 부분으로 나눠 재귀 호출.\n",
    "    > * `make_turtle()`은 캔버스를 초기화하고, `delay`는 애니메이션 속도 조절용이야.\n",
    "    > \n",
    "    > ## 📝 실행 방법 (Jupyter Notebook 셀)\n",
    "    > \n",
    "    > 1. 먼저 아래 셀 실행:\n",
    "    >    ```python\n",
    "    >    from jupyturtle import make_turtle\n",
    "    >    make_turtle(delay=0, height=200)\n",
    "    >    ```\n",
    "    > \n",
    "    > 2. 다음 셀에서 호출:\n",
    "    >    ```python\n",
    "    >    draw_sierpinski(100, 3)\n",
    "    >    ```\n",
    "    > \n",
    "    > 필요하면 색상이나 위치 조정, 더 높은 깊이까지 확장하는 것도 도와줄 수 있어!\n",
    "\n",
    "- 이미 forward, left, right, back이 import되었다고 생각하고 Turtle을 만들지 않고 draw_sierpinski 함수 안에 바로 그리는 로직이 들어가게 해줘.\n",
    "    > 좋아, 조건을 정리하면 이렇게야:\n",
    "    > \n",
    "    > ## ✅ 조건\n",
    "    > \n",
    "    > * `Turtle()` 객체를 직접 만들지 **않고**,\n",
    "    > * 이미 전역에서 `forward`, `left`, `right`, `backward` 등이 **import되어 사용 가능**하다고 가정\n",
    "    > * `draw_sierpinski(length, depth)` 함수 **하나 안에서** 바로 그림을 그려야 함\n",
    "    > \n",
    "    > ## ✅ 수정된 코드\n",
    "    > \n",
    "    > ```python\n",
    "    > def draw_sierpinski(length, depth):\n",
    "    >     if depth == 0:\n",
    "    >         for _ in range(3):\n",
    "    >             forward(length)\n",
    "    >             left(120)\n",
    "    >     else:\n",
    "    >         draw_sierpinski(length / 2, depth - 1)\n",
    "    >         forward(length / 2)\n",
    "    >         draw_sierpinski(length / 2, depth - 1)\n",
    "    >         backward(length / 2)\n",
    "    >         left(60)\n",
    "    >         forward(length / 2)\n",
    "    >         right(60)\n",
    "    >         draw_sierpinski(length / 2, depth - 1)\n",
    "    >         left(60)\n",
    "    >         backward(length / 2)\n",
    "    >         right(60)\n",
    "    > ```\n",
    "    > \n",
    "    > ## ✅ 어떻게 작동하냐면\n",
    "    > \n",
    "    > * 깊이(`depth`)가 0이면 그냥 **정삼각형 한 개**를 그림\n",
    "    > * 그 외에는 다음 **3개의 작은 삼각형**을 재귀적으로 그림:\n",
    "    > \n",
    "    >   1. **왼쪽 아래**\n",
    "    >   2. **오른쪽 아래** (→ 앞으로 이동)\n",
    "    >   3. **위쪽** (↗ 대각선 이동 후 그림)\n",
    "    > \n",
    "    > ## ✅ 예시 호출 (캔버스 초기화 후)\n",
    "    > \n",
    "    > ```python\n",
    "    > make_turtle(delay=0, height=200)\n",
    "    > draw_sierpinski(100, 3)\n",
    "    > ```\n",
    "    > \n",
    "    > > `make_turtle`이 전역에 거북이 명령어들을 미리 바인딩해 놓기 때문에 `forward`, `left` 등을 직접 쓸 수 있어.\n",
    "    > \n",
    "    > 필요하다면 시작 위치를 이동하거나, 삼각형을 중심 정렬되게 만드는 것도 가능해!"
   ]
  },
  {
   "cell_type": "code",
   "execution_count": 51,
   "id": "850eaa9a",
   "metadata": {},
   "outputs": [],
   "source": [
    "def draw_sierpinski(length, depth):\n",
    "    if depth == 0:\n",
    "        for _ in range(3):\n",
    "            forward(length)\n",
    "            left(120)\n",
    "    else:\n",
    "        draw_sierpinski(length / 2, depth - 1)\n",
    "        \n",
    "        forward(length / 2)\n",
    "        draw_sierpinski(length / 2, depth - 1)\n",
    "        back(length / 2)\n",
    "        \n",
    "        left(60)\n",
    "        forward(length / 2)\n",
    "        right(60)\n",
    "        draw_sierpinski(length / 2, depth - 1)\n",
    "        left(60)\n",
    "        back(length / 2)\n",
    "        right(60)"
   ]
  },
  {
   "cell_type": "code",
   "execution_count": 52,
   "id": "809f473c",
   "metadata": {},
   "outputs": [
    {
     "data": {
      "text/html": [
       "<svg width=\"300\" height=\"200\" style=\"fill:none; stroke-linecap:round;\">\n",
       "    <rect width=\"100%\" height=\"100%\" fill=\"#F3F3F7\" />\n",
       "\n",
       "\n",
       "<path stroke=\"#663399\" stroke-width=\"2\" d=\"M 150,100 162.5,100 156.2,89.2 150,100 162.5,100 175,100 168.8,89.2 162.5,100 150,100 156.2,89.2 168.8,89.2 162.5,78.3 156.2,89.2 150,100 175,100 187.5,100 181.2,89.2 175,100 187.5,100 200,100 193.8,89.2 187.5,100 175,100 181.2,89.2 193.8,89.2 187.5,78.3 181.2,89.2 175,100 150,100 162.5,78.3 175,78.3 168.8,67.5 162.5,78.3 175,78.3 187.5,78.3 181.2,67.5 175,78.3 162.5,78.3 168.8,67.5 181.2,67.5 175,56.7 168.8,67.5 162.5,78.3 150,100 200,100 212.5,100 206.2,89.2 200,100 212.5,100 225,100 218.8,89.2 212.5,100 200,100 206.2,89.2 218.8,89.2 212.5,78.3 206.2,89.2 200,100 225,100 237.5,100 231.2,89.2 225,100 237.5,100 250,100 243.8,89.2 237.5,100 225,100 231.2,89.2 243.8,89.2 237.5,78.3 231.2,89.2 225,100 200,100 212.5,78.3 225,78.3 218.8,67.5 212.5,78.3 225,78.3 237.5,78.3 231.2,67.5 225,78.3 212.5,78.3 218.8,67.5 231.2,67.5 225,56.7 218.8,67.5 212.5,78.3 200,100 150,100 175,56.7 187.5,56.7 181.2,45.9 175,56.7 187.5,56.7 200,56.7 193.8,45.9 187.5,56.7 175,56.7 181.2,45.9 193.8,45.9 187.5,35 181.2,45.9 175,56.7 200,56.7 212.5,56.7 206.2,45.9 200,56.7 212.5,56.7 225,56.7 218.8,45.9 212.5,56.7 200,56.7 206.2,45.9 218.8,45.9 212.5,35 206.2,45.9 200,56.7 175,56.7 187.5,35 200,35 193.8,24.2 187.5,35 200,35 212.5,35 206.2,24.2 200,35 187.5,35 193.8,24.2 206.2,24.2 200,13.4 193.8,24.2 187.5,35 175,56.7 150,100\" />'\n",
       "\n",
       "<g transform=\"rotate(-90.0,150.0,100.0) translate(150.0, 100.0)\">\n",
       "    <circle stroke=\"#63A375\" stroke-width=\"2\" fill=\"transparent\" r=\"5.5\" cx=\"0\" cy=\"0\"/>\n",
       "    <polygon points=\"0,12 2,9 -2,9\" style=\"fill:#63A375;stroke:#63A375;stroke-width:2\"/>\n",
       "</g>\n",
       "\n",
       "</svg>"
      ],
      "text/plain": [
       "<IPython.core.display.HTML object>"
      ]
     },
     "metadata": {},
     "output_type": "display_data"
    }
   ],
   "source": [
    "make_turtle(delay=0, height=200)\n",
    "\n",
    "draw_sierpinski(100, 3)"
   ]
  }
 ],
 "metadata": {
  "kernelspec": {
   "display_name": "venv",
   "language": "python",
   "name": "python3"
  },
  "language_info": {
   "codemirror_mode": {
    "name": "ipython",
    "version": 3
   },
   "file_extension": ".py",
   "mimetype": "text/x-python",
   "name": "python",
   "nbconvert_exporter": "python",
   "pygments_lexer": "ipython3",
   "version": "3.12.9"
  }
 },
 "nbformat": 4,
 "nbformat_minor": 5
}
