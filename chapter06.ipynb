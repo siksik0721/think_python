{
 "cells": [
  {
   "cell_type": "markdown",
   "id": "88be2a4d",
   "metadata": {},
   "source": [
    "# 6. Return Values"
   ]
  },
  {
   "cell_type": "markdown",
   "id": "88e629f1",
   "metadata": {},
   "source": [
    "## 6.1. Some functions have return values"
   ]
  },
  {
   "cell_type": "code",
   "execution_count": 1,
   "id": "1426bc39",
   "metadata": {},
   "outputs": [
    {
     "data": {
      "text/plain": [
       "3.656366395715726"
      ]
     },
     "execution_count": 1,
     "metadata": {},
     "output_type": "execute_result"
    }
   ],
   "source": [
    "import math\n",
    "\n",
    "math.sqrt(42 / math.pi)"
   ]
  },
  {
   "cell_type": "code",
   "execution_count": 2,
   "id": "f2734b70",
   "metadata": {},
   "outputs": [],
   "source": [
    "radius = math.sqrt(42 / math.pi)"
   ]
  },
  {
   "cell_type": "code",
   "execution_count": 3,
   "id": "aea1c5e3",
   "metadata": {},
   "outputs": [
    {
     "data": {
      "text/plain": [
       "3.656366395715726"
      ]
     },
     "execution_count": 3,
     "metadata": {},
     "output_type": "execute_result"
    }
   ],
   "source": [
    "radius"
   ]
  },
  {
   "cell_type": "code",
   "execution_count": 4,
   "id": "1b45768e",
   "metadata": {},
   "outputs": [
    {
     "data": {
      "text/plain": [
       "7.312732791431452"
      ]
     },
     "execution_count": 4,
     "metadata": {},
     "output_type": "execute_result"
    }
   ],
   "source": [
    "radius + math.sqrt(42 / math.pi)"
   ]
  },
  {
   "cell_type": "code",
   "execution_count": 5,
   "id": "f946ed25",
   "metadata": {},
   "outputs": [],
   "source": [
    "def circle_area(radius):\n",
    "    area = math.pi * radius**2\n",
    "    return area"
   ]
  },
  {
   "cell_type": "code",
   "execution_count": 6,
   "id": "ad102bf5",
   "metadata": {},
   "outputs": [
    {
     "data": {
      "text/plain": [
       "42.00000000000001"
      ]
     },
     "execution_count": 6,
     "metadata": {},
     "output_type": "execute_result"
    }
   ],
   "source": [
    "circle_area(radius)"
   ]
  },
  {
   "cell_type": "code",
   "execution_count": 7,
   "id": "a1589370",
   "metadata": {},
   "outputs": [],
   "source": [
    "a = circle_area(radius)"
   ]
  },
  {
   "cell_type": "code",
   "execution_count": 8,
   "id": "ce2a2a80",
   "metadata": {},
   "outputs": [
    {
     "data": {
      "text/plain": [
       "63.000000000000014"
      ]
     },
     "execution_count": 8,
     "metadata": {},
     "output_type": "execute_result"
    }
   ],
   "source": [
    "circle_area(radius) + 2 * circle_area(radius / 2)"
   ]
  },
  {
   "cell_type": "code",
   "execution_count": 9,
   "id": "6dc7af26",
   "metadata": {},
   "outputs": [
    {
     "data": {
      "text/plain": [
       "42.00000000000001"
      ]
     },
     "execution_count": 9,
     "metadata": {},
     "output_type": "execute_result"
    }
   ],
   "source": [
    "a"
   ]
  },
  {
   "cell_type": "code",
   "execution_count": 10,
   "id": "4a8df6a5",
   "metadata": {},
   "outputs": [
    {
     "ename": "NameError",
     "evalue": "name 'area' is not defined",
     "output_type": "error",
     "traceback": [
      "\u001b[31m---------------------------------------------------------------------------\u001b[39m",
      "\u001b[31mNameError\u001b[39m                                 Traceback (most recent call last)",
      "\u001b[36mCell\u001b[39m\u001b[36m \u001b[39m\u001b[32mIn[10]\u001b[39m\u001b[32m, line 1\u001b[39m\n\u001b[32m----> \u001b[39m\u001b[32m1\u001b[39m \u001b[43marea\u001b[49m\n",
      "\u001b[31mNameError\u001b[39m: name 'area' is not defined"
     ]
    }
   ],
   "source": [
    "area"
   ]
  },
  {
   "cell_type": "markdown",
   "id": "b1b46919",
   "metadata": {},
   "source": [
    "## 6.2. And some have None"
   ]
  },
  {
   "cell_type": "code",
   "execution_count": 11,
   "id": "9a347f8a",
   "metadata": {},
   "outputs": [],
   "source": [
    "def repeat(word, n):\n",
    "    print(word * n)"
   ]
  },
  {
   "cell_type": "code",
   "execution_count": 12,
   "id": "bc225cbd",
   "metadata": {},
   "outputs": [
    {
     "name": "stdout",
     "output_type": "stream",
     "text": [
      "Finland, Finland, Finland, \n"
     ]
    }
   ],
   "source": [
    "repeat('Finland, ', 3)"
   ]
  },
  {
   "cell_type": "code",
   "execution_count": 13,
   "id": "0da31b02",
   "metadata": {},
   "outputs": [
    {
     "name": "stdout",
     "output_type": "stream",
     "text": [
      "Finland, Finland, Finland, \n"
     ]
    }
   ],
   "source": [
    "result = repeat('Finland, ', 3)"
   ]
  },
  {
   "cell_type": "code",
   "execution_count": 14,
   "id": "d0a2416b",
   "metadata": {},
   "outputs": [],
   "source": [
    "result"
   ]
  },
  {
   "cell_type": "code",
   "execution_count": 15,
   "id": "ef3aa3ae",
   "metadata": {},
   "outputs": [
    {
     "name": "stdout",
     "output_type": "stream",
     "text": [
      "None\n"
     ]
    }
   ],
   "source": [
    "print(result)"
   ]
  },
  {
   "cell_type": "code",
   "execution_count": 16,
   "id": "020e4398",
   "metadata": {},
   "outputs": [],
   "source": [
    "def repeat_string(word, n):\n",
    "    return word * n"
   ]
  },
  {
   "cell_type": "code",
   "execution_count": 17,
   "id": "ab51066e",
   "metadata": {},
   "outputs": [],
   "source": [
    "line = repeat_string('Spam, ', 4)"
   ]
  },
  {
   "cell_type": "code",
   "execution_count": 18,
   "id": "60dba0e9",
   "metadata": {},
   "outputs": [
    {
     "data": {
      "text/plain": [
       "'Spam, Spam, Spam, Spam, '"
      ]
     },
     "execution_count": 18,
     "metadata": {},
     "output_type": "execute_result"
    }
   ],
   "source": [
    "line"
   ]
  },
  {
   "cell_type": "markdown",
   "id": "52525038",
   "metadata": {},
   "source": [
    "## 6.3. Return values and conditionals"
   ]
  },
  {
   "cell_type": "code",
   "execution_count": 19,
   "id": "c3114af2",
   "metadata": {},
   "outputs": [],
   "source": [
    "def absolute_value(x):\n",
    "    if x < 0:\n",
    "        return -x\n",
    "    else:\n",
    "        return x"
   ]
  },
  {
   "cell_type": "code",
   "execution_count": 20,
   "id": "b89f1414",
   "metadata": {},
   "outputs": [],
   "source": [
    "def absolute_value_wrong(x):\n",
    "    if x < 0:\n",
    "        return -x\n",
    "    if x > 0:\n",
    "        return x"
   ]
  },
  {
   "cell_type": "code",
   "execution_count": 21,
   "id": "209dc3e8",
   "metadata": {},
   "outputs": [],
   "source": [
    "absolute_value_wrong(0)"
   ]
  },
  {
   "cell_type": "code",
   "execution_count": 22,
   "id": "0ab76c0e",
   "metadata": {},
   "outputs": [],
   "source": [
    "def absolute_value_extra_return(x):\n",
    "    if x < 0:\n",
    "        return -x\n",
    "    else:\n",
    "        return x\n",
    "    \n",
    "    return 'This is dead code'"
   ]
  },
  {
   "cell_type": "markdown",
   "id": "e6a9cab6",
   "metadata": {},
   "source": [
    "## 6.4. Incremental development"
   ]
  },
  {
   "cell_type": "code",
   "execution_count": 23,
   "id": "13645a04",
   "metadata": {},
   "outputs": [],
   "source": [
    "def distance(x1, y1, x2, y2):\n",
    "    return 0.0"
   ]
  },
  {
   "cell_type": "code",
   "execution_count": 24,
   "id": "f6e1ddd4",
   "metadata": {},
   "outputs": [
    {
     "data": {
      "text/plain": [
       "0.0"
      ]
     },
     "execution_count": 24,
     "metadata": {},
     "output_type": "execute_result"
    }
   ],
   "source": [
    "distance(1, 2, 4, 6)"
   ]
  },
  {
   "cell_type": "code",
   "execution_count": 25,
   "id": "79e68624",
   "metadata": {},
   "outputs": [],
   "source": [
    "def distance(x1, y1, x2, y2):\n",
    "    dx = x2 - x1\n",
    "    dy = y2 - y1\n",
    "    print('dx is', dx)\n",
    "    print('dy is', dy)\n",
    "    return 0.0"
   ]
  },
  {
   "cell_type": "code",
   "execution_count": 26,
   "id": "c6a4ae6b",
   "metadata": {},
   "outputs": [
    {
     "name": "stdout",
     "output_type": "stream",
     "text": [
      "dx is 3\n",
      "dy is 4\n"
     ]
    },
    {
     "data": {
      "text/plain": [
       "0.0"
      ]
     },
     "execution_count": 26,
     "metadata": {},
     "output_type": "execute_result"
    }
   ],
   "source": [
    "distance(1, 2, 4, 6)"
   ]
  },
  {
   "cell_type": "code",
   "execution_count": 27,
   "id": "6941c90b",
   "metadata": {},
   "outputs": [],
   "source": [
    "def distance(x1, y1, x2, y2):\n",
    "    dx = x2 - x1\n",
    "    dy = y2 - y1\n",
    "    dsquared = dx**2 + dy**2\n",
    "    print('dsquared is:', dsquared)\n",
    "    return 0.0"
   ]
  },
  {
   "cell_type": "code",
   "execution_count": 28,
   "id": "d13c1dae",
   "metadata": {},
   "outputs": [
    {
     "name": "stdout",
     "output_type": "stream",
     "text": [
      "dsquared is: 25\n"
     ]
    },
    {
     "data": {
      "text/plain": [
       "0.0"
      ]
     },
     "execution_count": 28,
     "metadata": {},
     "output_type": "execute_result"
    }
   ],
   "source": [
    "distance(1, 2, 4, 6)"
   ]
  },
  {
   "cell_type": "code",
   "execution_count": 29,
   "id": "fca9916e",
   "metadata": {},
   "outputs": [],
   "source": [
    "def distance(x1, y1, x2, y2):\n",
    "    dx = x2 - x1\n",
    "    dy = y2 - y1\n",
    "    dsquared = dx**2 + dy**2\n",
    "    result = math.sqrt(dsquared)\n",
    "    print('result is', result)"
   ]
  },
  {
   "cell_type": "code",
   "execution_count": 30,
   "id": "a048a228",
   "metadata": {},
   "outputs": [
    {
     "name": "stdout",
     "output_type": "stream",
     "text": [
      "result is 5.0\n"
     ]
    }
   ],
   "source": [
    "distance(1, 2, 4, 6)"
   ]
  },
  {
   "cell_type": "code",
   "execution_count": 31,
   "id": "c136d8fb",
   "metadata": {},
   "outputs": [],
   "source": [
    "def distance(x1, y1, x2, y2):\n",
    "    dx = x2 - x1\n",
    "    dy = y2 - y1\n",
    "    dsquared = dx**2 + dy**2\n",
    "    result = math.sqrt(dsquared)\n",
    "    return result"
   ]
  },
  {
   "cell_type": "code",
   "execution_count": 32,
   "id": "5d86df08",
   "metadata": {},
   "outputs": [
    {
     "data": {
      "text/plain": [
       "5.0"
      ]
     },
     "execution_count": 32,
     "metadata": {},
     "output_type": "execute_result"
    }
   ],
   "source": [
    "distance(1, 2, 4, 6)"
   ]
  },
  {
   "cell_type": "code",
   "execution_count": 33,
   "id": "2f8de7bb",
   "metadata": {},
   "outputs": [],
   "source": [
    "d = distance(1, 2, 4, 6)"
   ]
  },
  {
   "cell_type": "markdown",
   "id": "6a61cae0",
   "metadata": {},
   "source": [
    "## 6.5. Boolean functions"
   ]
  },
  {
   "cell_type": "code",
   "execution_count": 34,
   "id": "190be0c5",
   "metadata": {},
   "outputs": [],
   "source": [
    "def is_divisible(x, y):\n",
    "    if x % y == 0:\n",
    "        return True\n",
    "    else:\n",
    "        return False"
   ]
  },
  {
   "cell_type": "code",
   "execution_count": 35,
   "id": "62cb68e5",
   "metadata": {},
   "outputs": [
    {
     "data": {
      "text/plain": [
       "False"
      ]
     },
     "execution_count": 35,
     "metadata": {},
     "output_type": "execute_result"
    }
   ],
   "source": [
    "is_divisible(6, 4)"
   ]
  },
  {
   "cell_type": "code",
   "execution_count": 36,
   "id": "939fd14f",
   "metadata": {},
   "outputs": [
    {
     "data": {
      "text/plain": [
       "True"
      ]
     },
     "execution_count": 36,
     "metadata": {},
     "output_type": "execute_result"
    }
   ],
   "source": [
    "is_divisible(6, 3)"
   ]
  },
  {
   "cell_type": "code",
   "execution_count": 37,
   "id": "5b230f8f",
   "metadata": {},
   "outputs": [],
   "source": [
    "def is_divisible(x, y):\n",
    "    return x % y == 0"
   ]
  },
  {
   "cell_type": "code",
   "execution_count": 38,
   "id": "e7d11fc8",
   "metadata": {},
   "outputs": [
    {
     "name": "stdout",
     "output_type": "stream",
     "text": [
      "divisible\n"
     ]
    }
   ],
   "source": [
    "if is_divisible(6, 2):\n",
    "    print('divisible')"
   ]
  },
  {
   "cell_type": "code",
   "execution_count": 39,
   "id": "a5e03375",
   "metadata": {},
   "outputs": [
    {
     "name": "stdout",
     "output_type": "stream",
     "text": [
      "divisible\n"
     ]
    }
   ],
   "source": [
    "if is_divisible(6, 2) == True:\n",
    "    print('divisible')"
   ]
  },
  {
   "cell_type": "markdown",
   "id": "800a56af",
   "metadata": {},
   "source": [
    "## 6.6. Recursion with return values"
   ]
  },
  {
   "cell_type": "code",
   "execution_count": 40,
   "id": "02e62126",
   "metadata": {},
   "outputs": [],
   "source": [
    "def factorial(n):\n",
    "    return 0"
   ]
  },
  {
   "cell_type": "code",
   "execution_count": 41,
   "id": "7e964d4c",
   "metadata": {},
   "outputs": [],
   "source": [
    "def factorial(n):\n",
    "    if n == 0:\n",
    "        return 1\n",
    "    else:\n",
    "        return 0"
   ]
  },
  {
   "cell_type": "code",
   "execution_count": 42,
   "id": "95aef309",
   "metadata": {},
   "outputs": [],
   "source": [
    "def factorial(n):\n",
    "    if n == 0:\n",
    "        return 1\n",
    "    else:\n",
    "        recurse = factorial(n - 1)\n",
    "        return n * recurse"
   ]
  },
  {
   "cell_type": "markdown",
   "id": "82aaabf5",
   "metadata": {},
   "source": [
    "- \\_\\_main\\_\\_\n",
    "    - factorial\n",
    "        ```\n",
    "        n -> 3\n",
    "        ```\n",
    "        - factorial\n",
    "            ```\n",
    "            n -> 2\n",
    "            ```\n",
    "            - factorial\n",
    "                ```\n",
    "                n -> 1\n",
    "                ```\n",
    "                - factorial\n",
    "                    ```\n",
    "                    n -> 0\n",
    "                    ```\n",
    "                ```\n",
    "                recurse -> 1\n",
    "                ```\n",
    "            ```\n",
    "            recurse -> 1\n",
    "            ```\n",
    "        ```\n",
    "        recurse -> 2\n",
    "        ```\n",
    "    ```\n",
    "    6\n",
    "    ```\n"
   ]
  },
  {
   "cell_type": "markdown",
   "id": "9c1ec97c",
   "metadata": {},
   "source": [
    "## 6.7. Leap of faith\n",
    "\n",
    "- 재귀 함수를 작성할 때, 재귀 호출이 더 작은 문제를 해결할 것이라는 것을 미리 믿고 코드를 완성하는 접근 방식\n",
    "- 팩토리얼(Factorial) 예시\n",
    "    - `factorial(n)` 함수 작성 시, `factorial(n-1)`이 이미 올바르게 계산된다고 믿고 `n * factorial(n-1)`로 코드 개발\n",
    "    - `factorial(n-1)`이 어떻게 계산되는지는 일단 생각하지 않고, 결과가 올바를 것이라고 믿고 나아가는 방식"
   ]
  },
  {
   "cell_type": "markdown",
   "id": "4d6c756f",
   "metadata": {},
   "source": [
    "## 6.8. Fibonacci"
   ]
  },
  {
   "cell_type": "code",
   "execution_count": 43,
   "id": "887bd86b",
   "metadata": {},
   "outputs": [],
   "source": [
    "def fibonacci(n):\n",
    "    if n == 0:\n",
    "        return 0\n",
    "    elif n == 1:\n",
    "        return 1\n",
    "    else:\n",
    "        return fibonacci(n - 1) + fibonacci(n - 2)"
   ]
  },
  {
   "cell_type": "markdown",
   "id": "ffb0f1f4",
   "metadata": {},
   "source": [
    "## 6.9. Checking types"
   ]
  },
  {
   "cell_type": "code",
   "execution_count": 44,
   "id": "9959f3a5",
   "metadata": {},
   "outputs": [
    {
     "ename": "RecursionError",
     "evalue": "maximum recursion depth exceeded",
     "output_type": "error",
     "traceback": [
      "\u001b[31m---------------------------------------------------------------------------\u001b[39m",
      "\u001b[31mRecursionError\u001b[39m                            Traceback (most recent call last)",
      "\u001b[36mCell\u001b[39m\u001b[36m \u001b[39m\u001b[32mIn[44]\u001b[39m\u001b[32m, line 1\u001b[39m\n\u001b[32m----> \u001b[39m\u001b[32m1\u001b[39m \u001b[43mfactorial\u001b[49m\u001b[43m(\u001b[49m\u001b[32;43m1.5\u001b[39;49m\u001b[43m)\u001b[49m\n",
      "\u001b[36mCell\u001b[39m\u001b[36m \u001b[39m\u001b[32mIn[42]\u001b[39m\u001b[32m, line 5\u001b[39m, in \u001b[36mfactorial\u001b[39m\u001b[34m(n)\u001b[39m\n\u001b[32m      3\u001b[39m     \u001b[38;5;28;01mreturn\u001b[39;00m \u001b[32m1\u001b[39m\n\u001b[32m      4\u001b[39m \u001b[38;5;28;01melse\u001b[39;00m:\n\u001b[32m----> \u001b[39m\u001b[32m5\u001b[39m     recurse = \u001b[43mfactorial\u001b[49m\u001b[43m(\u001b[49m\u001b[43mn\u001b[49m\u001b[43m \u001b[49m\u001b[43m-\u001b[49m\u001b[43m \u001b[49m\u001b[32;43m1\u001b[39;49m\u001b[43m)\u001b[49m\n\u001b[32m      6\u001b[39m     \u001b[38;5;28;01mreturn\u001b[39;00m n * recurse\n",
      "\u001b[36mCell\u001b[39m\u001b[36m \u001b[39m\u001b[32mIn[42]\u001b[39m\u001b[32m, line 5\u001b[39m, in \u001b[36mfactorial\u001b[39m\u001b[34m(n)\u001b[39m\n\u001b[32m      3\u001b[39m     \u001b[38;5;28;01mreturn\u001b[39;00m \u001b[32m1\u001b[39m\n\u001b[32m      4\u001b[39m \u001b[38;5;28;01melse\u001b[39;00m:\n\u001b[32m----> \u001b[39m\u001b[32m5\u001b[39m     recurse = \u001b[43mfactorial\u001b[49m\u001b[43m(\u001b[49m\u001b[43mn\u001b[49m\u001b[43m \u001b[49m\u001b[43m-\u001b[49m\u001b[43m \u001b[49m\u001b[32;43m1\u001b[39;49m\u001b[43m)\u001b[49m\n\u001b[32m      6\u001b[39m     \u001b[38;5;28;01mreturn\u001b[39;00m n * recurse\n",
      "    \u001b[31m[... skipping similar frames: factorial at line 5 (2974 times)]\u001b[39m\n",
      "\u001b[36mCell\u001b[39m\u001b[36m \u001b[39m\u001b[32mIn[42]\u001b[39m\u001b[32m, line 5\u001b[39m, in \u001b[36mfactorial\u001b[39m\u001b[34m(n)\u001b[39m\n\u001b[32m      3\u001b[39m     \u001b[38;5;28;01mreturn\u001b[39;00m \u001b[32m1\u001b[39m\n\u001b[32m      4\u001b[39m \u001b[38;5;28;01melse\u001b[39;00m:\n\u001b[32m----> \u001b[39m\u001b[32m5\u001b[39m     recurse = \u001b[43mfactorial\u001b[49m\u001b[43m(\u001b[49m\u001b[43mn\u001b[49m\u001b[43m \u001b[49m\u001b[43m-\u001b[49m\u001b[43m \u001b[49m\u001b[32;43m1\u001b[39;49m\u001b[43m)\u001b[49m\n\u001b[32m      6\u001b[39m     \u001b[38;5;28;01mreturn\u001b[39;00m n * recurse\n",
      "\u001b[31mRecursionError\u001b[39m: maximum recursion depth exceeded"
     ]
    }
   ],
   "source": [
    "factorial(1.5)"
   ]
  },
  {
   "cell_type": "code",
   "execution_count": 45,
   "id": "15b021f6",
   "metadata": {},
   "outputs": [
    {
     "data": {
      "text/plain": [
       "True"
      ]
     },
     "execution_count": 45,
     "metadata": {},
     "output_type": "execute_result"
    }
   ],
   "source": [
    "isinstance(3, int)"
   ]
  },
  {
   "cell_type": "code",
   "execution_count": 46,
   "id": "3725c855",
   "metadata": {},
   "outputs": [
    {
     "data": {
      "text/plain": [
       "False"
      ]
     },
     "execution_count": 46,
     "metadata": {},
     "output_type": "execute_result"
    }
   ],
   "source": [
    "isinstance(1.5, int)"
   ]
  },
  {
   "cell_type": "code",
   "execution_count": 47,
   "id": "0da096aa",
   "metadata": {},
   "outputs": [],
   "source": [
    "def factorial(n):\n",
    "    if not isinstance(n, int):\n",
    "        print('factorial is only defined for integers.')\n",
    "        return None\n",
    "    elif n < 0:\n",
    "        print('factorial is not defined for negative numbers.')\n",
    "        return None\n",
    "    elif n == 0:\n",
    "        return 1\n",
    "    else:\n",
    "        return n * factorial(n - 1)"
   ]
  },
  {
   "cell_type": "code",
   "execution_count": 48,
   "id": "3185cd94",
   "metadata": {},
   "outputs": [
    {
     "name": "stdout",
     "output_type": "stream",
     "text": [
      "factorial is only defined for integers.\n"
     ]
    }
   ],
   "source": [
    "factorial('crunchy frog')"
   ]
  },
  {
   "cell_type": "code",
   "execution_count": 49,
   "id": "eab293ac",
   "metadata": {},
   "outputs": [
    {
     "name": "stdout",
     "output_type": "stream",
     "text": [
      "factorial is not defined for negative numbers.\n"
     ]
    }
   ],
   "source": [
    "factorial(-2)"
   ]
  },
  {
   "cell_type": "markdown",
   "id": "e4599ed4",
   "metadata": {},
   "source": [
    "## 6.10. Debugging"
   ]
  },
  {
   "cell_type": "code",
   "execution_count": 50,
   "id": "e134d800",
   "metadata": {},
   "outputs": [],
   "source": [
    "def factorial(n):\n",
    "    space = ' ' * (4 * n)\n",
    "    print(space, 'factorial', n)\n",
    "    if n == 0:\n",
    "        print(space, 'returning 1')\n",
    "        return 1\n",
    "    else:\n",
    "        recurse = factorial(n - 1)\n",
    "        result = n * recurse\n",
    "        print(space, 'returning', result)\n",
    "        return result"
   ]
  },
  {
   "cell_type": "code",
   "execution_count": 51,
   "id": "e54ff44e",
   "metadata": {},
   "outputs": [
    {
     "name": "stdout",
     "output_type": "stream",
     "text": [
      "             factorial 3\n",
      "         factorial 2\n",
      "     factorial 1\n",
      " factorial 0\n",
      " returning 1\n",
      "     returning 1\n",
      "         returning 2\n",
      "             returning 6\n"
     ]
    },
    {
     "data": {
      "text/plain": [
       "6"
      ]
     },
     "execution_count": 51,
     "metadata": {},
     "output_type": "execute_result"
    }
   ],
   "source": [
    "factorial(3)"
   ]
  },
  {
   "cell_type": "markdown",
   "id": "630b0709",
   "metadata": {},
   "source": [
    "## 6.11. Glossary\n",
    "\n",
    "- return value\n",
    "- pure function\n",
    "- dead code\n",
    "- incremental development\n",
    "- scaffolding\n",
    "- Turing complete\n",
    "- input validation"
   ]
  },
  {
   "cell_type": "markdown",
   "id": "2401bb54",
   "metadata": {},
   "source": [
    "## 6.12. Exercises"
   ]
  },
  {
   "cell_type": "markdown",
   "id": "19b15bda",
   "metadata": {},
   "source": [
    "### 6.12.1. Ask a virtual assistant\n",
    "\n",
    "- 아래 코드의 문제점을 찾아서 고쳐줘.\n",
    "    ```python\n",
    "    def absolute_value_wrong(x):\n",
    "        if x < 0:\n",
    "            return -x\n",
    "        if x > 0:\n",
    "            return x\n",
    "    ```\n",
    "    > 이 함수의 문제점은 **입력값이 0일 때 결과를 반환하지 않는다**는 것입니다. `x == 0`인 경우, 두 조건 `x < 0` 및 `x > 0` 모두 `False`가 되어 어떤 `return`도 실행되지 않으므로, 이 경우 **`None`**을 반환하게 됩니다. 이는 `absolute_value` 함수의 의도에 어긋납니다.\n",
    "    > \n",
    "    > ### 잘못된 코드:\n",
    "    > \n",
    "    > ```python\n",
    "    > def absolute_value_wrong(x):\n",
    "    >     if x < 0:\n",
    "    >         return -x\n",
    "    >     if x > 0:\n",
    "    >         return x\n",
    "    >     # x == 0 일 경우 반환 없음 → None 반환됨\n",
    "    > ```\n",
    "    > \n",
    "    > ### 수정된 코드:\n",
    "    > \n",
    "    > 가장 간단한 방법은 `if`, `elif`, `else`를 사용하는 것입니다:\n",
    "    > \n",
    "    > ```python\n",
    "    > def absolute_value(x):\n",
    "    >     if x < 0:\n",
    "    >         return -x\n",
    "    >     else:\n",
    "    >         return x\n",
    "    > ```\n",
    "    > \n",
    "    > 또는 명확히 3가지 경우로 분기할 수도 있습니다:\n",
    "    > \n",
    "    > ```python\n",
    "    > def absolute_value(x):\n",
    "    >     if x < 0:\n",
    "    >         return -x\n",
    "    >     elif x > 0:\n",
    "    >         return x\n",
    "    >     else:\n",
    "    >         return 0\n",
    "    > ```\n",
    "    > \n",
    "    > ### 더 간단한 방법 (파이썬 내장 함수 사용):\n",
    "    > \n",
    "    > ```python\n",
    "    > def absolute_value(x):\n",
    "    >     return abs(x)\n",
    "    > ```\n",
    "    > \n",
    "    > 하지만 아마도 너는 `abs()` 없이 구현하는 방법을 연습 중일 거라고 생각해요. 그렇다면 `if-else`를 사용하는 첫 번째 혹은 두 번째 방식이 좋습니다.\n",
    "\n",
    "- 아래 코드의 문제점을 찾아서 고쳐줘.\n",
    "    ```python\n",
    "    def absolute_value_extra_return(x):\n",
    "        if x < 0:\n",
    "            return -x\n",
    "        else:\n",
    "            return x\n",
    "        \n",
    "        return 'This is dead code.'\n",
    "    ```\n",
    "    > 이 코드의 **문제점**은 다음과 같습니다:\n",
    "    > \n",
    "    > ### ✅ 문제점: **불필요하고 도달할 수 없는 코드 (`dead code`)**\n",
    "    > \n",
    "    > ```python\n",
    "    >     return 'This is dead code.'\n",
    "    > ```\n",
    "    > \n",
    "    > 위 줄은 **절대로 실행되지 않습니다**. 함수는 `return`문을 실행하면 즉시 종료되므로, 그 아래에 있는 코드는 **절대 실행되지 않는 죽은 코드(dead code)** 입니다.\n",
    "    > \n",
    "    > 이런 코드는 다음과 같은 이유로 문제입니다:\n",
    "    > \n",
    "    > * **가독성 저하**: 다른 개발자들이 코드를 읽을 때 혼란을 줄 수 있음\n",
    "    > * **유지보수에 불필요한 부담**\n",
    "    > * **정적 분석 도구나 컴파일러의 경고 유발 가능성**\n",
    "    > \n",
    "    > ### 🔧 수정된 코드:\n",
    "    > \n",
    "    > ```python\n",
    "    > def absolute_value(x):\n",
    "    >     if x < 0:\n",
    "    >         return -x\n",
    "    >     else:\n",
    "    >         return x\n",
    "    > ```\n",
    "    > \n",
    "    > 또는 더 간단하게:\n",
    "    > \n",
    "    > ```python\n",
    "    > def absolute_value(x):\n",
    "    >     return -x if x < 0 else x\n",
    "    > ```\n",
    "    > \n",
    "    > ### ✅ 요약\n",
    "    > \n",
    "    > | 문제        | 설명                      | 해결 방법   |\n",
    "    > | --------- | ----------------------- | ------- |\n",
    "    > | Dead code | `return` 이후 코드는 실행되지 않음 | 해당 줄 삭제 |\n",
    "    > \n",
    "    > `return 'This is dead code.'`는 단순히 제거하면 됩니다.\n",
    "\n",
    "- 아래 코드의 문제점을 찾아서 고쳐줘.\n",
    "    ```python\n",
    "    def is_divisible(x, y):\n",
    "        if x % y == 0:\n",
    "            return True\n",
    "        else:\n",
    "            return False\n",
    "    ```\n",
    "    > 이 코드는 **논리적으로는 동작하지만**, 다음과 같은 **문제점**이 있습니다:\n",
    "    > \n",
    "    > ### ✅ **문제점 1: 불필요한 `if-else` 사용**\n",
    "    > \n",
    "    > `x % y == 0` 자체가 이미 **불리언 표현식**입니다. 따라서 이 값을 그대로 `return`하면 더 **간결하고 파이썬답게** 쓸 수 있습니다.\n",
    "    > \n",
    "    > ### ✅ **문제점 2: 0으로 나누는 경우 (`y == 0`) 예외 처리 없음**\n",
    "    > \n",
    "    > 만약 `y == 0`이면, `x % y`는 `ZeroDivisionError`를 발생시킵니다. 따라서 **예외 처리**를 추가해야 더 안전한 함수가 됩니다.\n",
    "    > \n",
    "    > ### 🔧 **개선된 코드:**\n",
    "    > \n",
    "    > ```python\n",
    "    > def is_divisible(x, y):\n",
    "    >     if y == 0:\n",
    "    >         raise ValueError(\"0으로 나눌 수 없습니다.\")\n",
    "    >     return x % y == 0\n",
    "    > ```\n",
    "    > \n",
    "    > ### 💡 요약\n",
    "    > \n",
    "    > | 문제점          | 설명                                      | 해결 방법                        |\n",
    "    > | ------------ | --------------------------------------- | ---------------------------- |\n",
    "    > | 불필요한 if-else | `x % y == 0` 자체가 `True` 또는 `False`를 반환함 | `return x % y == 0`          |\n",
    "    > | 0으로 나누기      | `y == 0`일 경우 예외 발생                      | `ValueError` 또는 사용자 정의 처리 추가 |\n",
    "    > \n",
    "    > 필요하다면 `try-except`를 이용해 호출하는 쪽에서 예외를 처리할 수도 있어요.\n",
    "\n",
    "- 좌표 상의 두 점을 입력 받아서 두 점 사이의 거리를 반환하는 distance라는 이름의 함수를 만들어줘.\n",
    "    > 물론입니다! 두 점 사이의 거리를 구하려면 **유클리드 거리 공식(Euclidean distance formula)**을 사용하면 됩니다.\n",
    "    > \n",
    "    > ### 📐 유클리드 거리 공식 (2차원 기준):\n",
    "    > \n",
    "    > 두 점 `(x1, y1)`과 `(x2, y2)` 사이의 거리는 다음과 같이 계산됩니다:\n",
    "    > \n",
    "    > [\n",
    "    > \\text{distance} = \\sqrt{(x2 - x1)^2 + (y2 - y1)^2}\n",
    "    > ]\n",
    "    > \n",
    "    > ### ✅ 파이썬 함수 예시:\n",
    "    > \n",
    "    > ```python\n",
    "    > import math\n",
    "    > \n",
    "    > def distance(x1, y1, x2, y2):\n",
    "    >     dx = x2 - x1\n",
    "    >     dy = y2 - y1\n",
    "    >     return math.sqrt(dx**2 + dy**2)\n",
    "    > ```\n",
    "    > \n",
    "    > ### 🔍 사용 예시:\n",
    "    > \n",
    "    > ```python\n",
    "    > print(distance(0, 0, 3, 4))  # 출력: 5.0\n",
    "    > ```\n",
    "    > \n",
    "    > > (0, 0)에서 (3, 4)까지의 거리는 5입니다 (3-4-5 직각삼각형)\n",
    "    > \n",
    "    > ### 📝 참고:\n",
    "    > \n",
    "    > * `math.sqrt()`를 사용해 제곱근을 구합니다.\n",
    "    > * `math.hypot(dx, dy)`를 써도 같은 결과를 얻을 수 있습니다:\n",
    "    > \n",
    "    > ```python\n",
    "    > def distance(x1, y1, x2, y2):\n",
    "    >     return math.hypot(x2 - x1, y2 - y1)\n",
    "    > ```\n",
    "    > \n",
    "    > 이 버전은 **더 간결하고 안정적**입니다 (언더플로우/오버플로우 방지)."
   ]
  },
  {
   "cell_type": "markdown",
   "id": "d2680ac3",
   "metadata": {},
   "source": [
    "### 6.12.2. Exercise"
   ]
  },
  {
   "cell_type": "code",
   "execution_count": 52,
   "id": "fcef25d0",
   "metadata": {},
   "outputs": [
    {
     "data": {
      "text/plain": [
       "0.0"
      ]
     },
     "execution_count": 52,
     "metadata": {},
     "output_type": "execute_result"
    }
   ],
   "source": [
    "def hypot(a, b):\n",
    "    return 0.0\n",
    "\n",
    "hypot(3, 4)"
   ]
  },
  {
   "cell_type": "code",
   "execution_count": 53,
   "id": "955cc370",
   "metadata": {},
   "outputs": [
    {
     "name": "stdout",
     "output_type": "stream",
     "text": [
      "c^2 is 25\n"
     ]
    },
    {
     "data": {
      "text/plain": [
       "0.0"
      ]
     },
     "execution_count": 53,
     "metadata": {},
     "output_type": "execute_result"
    }
   ],
   "source": [
    "def hypot(a, b):\n",
    "    c_square = a ** 2 + b ** 2\n",
    "    print('c^2 is', c_square)\n",
    "    return 0.0\n",
    "\n",
    "hypot(3, 4)"
   ]
  },
  {
   "cell_type": "code",
   "execution_count": 54,
   "id": "365c210d",
   "metadata": {},
   "outputs": [
    {
     "name": "stdout",
     "output_type": "stream",
     "text": [
      "c is 5.0\n"
     ]
    },
    {
     "data": {
      "text/plain": [
       "0.0"
      ]
     },
     "execution_count": 54,
     "metadata": {},
     "output_type": "execute_result"
    }
   ],
   "source": [
    "def hypot(a, b):\n",
    "    c_square = a ** 2 + b ** 2\n",
    "    c = math.sqrt(c_square)\n",
    "    print('c is', c)\n",
    "    return 0.0\n",
    "\n",
    "hypot(3, 4)"
   ]
  },
  {
   "cell_type": "code",
   "execution_count": 55,
   "id": "45976ca5",
   "metadata": {},
   "outputs": [
    {
     "data": {
      "text/plain": [
       "5.0"
      ]
     },
     "execution_count": 55,
     "metadata": {},
     "output_type": "execute_result"
    }
   ],
   "source": [
    "def hypot(a, b):\n",
    "    return math.sqrt(a ** 2 + b ** 2)\n",
    "\n",
    "hypot(3, 4)"
   ]
  },
  {
   "cell_type": "markdown",
   "id": "25e0da7e",
   "metadata": {},
   "source": [
    "### 6.12.3. Exercise"
   ]
  },
  {
   "cell_type": "code",
   "execution_count": 56,
   "id": "5954bec8",
   "metadata": {},
   "outputs": [],
   "source": [
    "def is_between(x, y, z):\n",
    "    if x < y < z or z < y < x:\n",
    "        return True\n",
    "    else:\n",
    "        return False"
   ]
  },
  {
   "cell_type": "code",
   "execution_count": 57,
   "id": "815a61c5",
   "metadata": {},
   "outputs": [
    {
     "name": "stdout",
     "output_type": "stream",
     "text": [
      "True\n",
      "True\n",
      "False\n",
      "False\n"
     ]
    }
   ],
   "source": [
    "print(is_between(1, 2, 3))\n",
    "print(is_between(3, 2, 1))\n",
    "print(is_between(1, 3, 2))\n",
    "print(is_between(2, 3, 1))"
   ]
  },
  {
   "cell_type": "markdown",
   "id": "ce97ff0a",
   "metadata": {},
   "source": [
    "### 6.12.4. Exercise"
   ]
  },
  {
   "cell_type": "code",
   "execution_count": 58,
   "id": "f32647d8",
   "metadata": {},
   "outputs": [],
   "source": [
    "def ackermann(m, n):\n",
    "    if m == 0:\n",
    "        return n + 1\n",
    "    elif m > 0 and n == 0:\n",
    "        return ackermann(m - 1, 1)\n",
    "    else:\n",
    "        return ackermann(m - 1, ackermann(m, n - 1))"
   ]
  },
  {
   "cell_type": "code",
   "execution_count": 59,
   "id": "0d3f9617",
   "metadata": {},
   "outputs": [
    {
     "name": "stdout",
     "output_type": "stream",
     "text": [
      "29\n",
      "61\n",
      "125\n"
     ]
    },
    {
     "ename": "RecursionError",
     "evalue": "maximum recursion depth exceeded",
     "output_type": "error",
     "traceback": [
      "\u001b[31m---------------------------------------------------------------------------\u001b[39m",
      "\u001b[31mRecursionError\u001b[39m                            Traceback (most recent call last)",
      "\u001b[36mCell\u001b[39m\u001b[36m \u001b[39m\u001b[32mIn[59]\u001b[39m\u001b[32m, line 4\u001b[39m\n\u001b[32m      2\u001b[39m \u001b[38;5;28mprint\u001b[39m(ackermann(\u001b[32m3\u001b[39m, \u001b[32m3\u001b[39m))\n\u001b[32m      3\u001b[39m \u001b[38;5;28mprint\u001b[39m(ackermann(\u001b[32m3\u001b[39m, \u001b[32m4\u001b[39m))\n\u001b[32m----> \u001b[39m\u001b[32m4\u001b[39m \u001b[38;5;28mprint\u001b[39m(\u001b[43mackermann\u001b[49m\u001b[43m(\u001b[49m\u001b[32;43m5\u001b[39;49m\u001b[43m,\u001b[49m\u001b[43m \u001b[49m\u001b[32;43m5\u001b[39;49m\u001b[43m)\u001b[49m)\n",
      "\u001b[36mCell\u001b[39m\u001b[36m \u001b[39m\u001b[32mIn[58]\u001b[39m\u001b[32m, line 7\u001b[39m, in \u001b[36mackermann\u001b[39m\u001b[34m(m, n)\u001b[39m\n\u001b[32m      5\u001b[39m     \u001b[38;5;28;01mreturn\u001b[39;00m ackermann(m - \u001b[32m1\u001b[39m, \u001b[32m1\u001b[39m)\n\u001b[32m      6\u001b[39m \u001b[38;5;28;01melse\u001b[39;00m:\n\u001b[32m----> \u001b[39m\u001b[32m7\u001b[39m     \u001b[38;5;28;01mreturn\u001b[39;00m ackermann(m - \u001b[32m1\u001b[39m, \u001b[43mackermann\u001b[49m\u001b[43m(\u001b[49m\u001b[43mm\u001b[49m\u001b[43m,\u001b[49m\u001b[43m \u001b[49m\u001b[43mn\u001b[49m\u001b[43m \u001b[49m\u001b[43m-\u001b[49m\u001b[43m \u001b[49m\u001b[32;43m1\u001b[39;49m\u001b[43m)\u001b[49m)\n",
      "\u001b[36mCell\u001b[39m\u001b[36m \u001b[39m\u001b[32mIn[58]\u001b[39m\u001b[32m, line 7\u001b[39m, in \u001b[36mackermann\u001b[39m\u001b[34m(m, n)\u001b[39m\n\u001b[32m      5\u001b[39m     \u001b[38;5;28;01mreturn\u001b[39;00m ackermann(m - \u001b[32m1\u001b[39m, \u001b[32m1\u001b[39m)\n\u001b[32m      6\u001b[39m \u001b[38;5;28;01melse\u001b[39;00m:\n\u001b[32m----> \u001b[39m\u001b[32m7\u001b[39m     \u001b[38;5;28;01mreturn\u001b[39;00m ackermann(m - \u001b[32m1\u001b[39m, \u001b[43mackermann\u001b[49m\u001b[43m(\u001b[49m\u001b[43mm\u001b[49m\u001b[43m,\u001b[49m\u001b[43m \u001b[49m\u001b[43mn\u001b[49m\u001b[43m \u001b[49m\u001b[43m-\u001b[49m\u001b[43m \u001b[49m\u001b[32;43m1\u001b[39;49m\u001b[43m)\u001b[49m)\n",
      "    \u001b[31m[... skipping similar frames: ackermann at line 7 (2 times)]\u001b[39m\n",
      "\u001b[36mCell\u001b[39m\u001b[36m \u001b[39m\u001b[32mIn[58]\u001b[39m\u001b[32m, line 7\u001b[39m, in \u001b[36mackermann\u001b[39m\u001b[34m(m, n)\u001b[39m\n\u001b[32m      5\u001b[39m     \u001b[38;5;28;01mreturn\u001b[39;00m ackermann(m - \u001b[32m1\u001b[39m, \u001b[32m1\u001b[39m)\n\u001b[32m      6\u001b[39m \u001b[38;5;28;01melse\u001b[39;00m:\n\u001b[32m----> \u001b[39m\u001b[32m7\u001b[39m     \u001b[38;5;28;01mreturn\u001b[39;00m ackermann(m - \u001b[32m1\u001b[39m, \u001b[43mackermann\u001b[49m\u001b[43m(\u001b[49m\u001b[43mm\u001b[49m\u001b[43m,\u001b[49m\u001b[43m \u001b[49m\u001b[43mn\u001b[49m\u001b[43m \u001b[49m\u001b[43m-\u001b[49m\u001b[43m \u001b[49m\u001b[32;43m1\u001b[39;49m\u001b[43m)\u001b[49m)\n",
      "\u001b[36mCell\u001b[39m\u001b[36m \u001b[39m\u001b[32mIn[58]\u001b[39m\u001b[32m, line 5\u001b[39m, in \u001b[36mackermann\u001b[39m\u001b[34m(m, n)\u001b[39m\n\u001b[32m      3\u001b[39m     \u001b[38;5;28;01mreturn\u001b[39;00m n + \u001b[32m1\u001b[39m\n\u001b[32m      4\u001b[39m \u001b[38;5;28;01melif\u001b[39;00m m > \u001b[32m0\u001b[39m \u001b[38;5;129;01mand\u001b[39;00m n == \u001b[32m0\u001b[39m:\n\u001b[32m----> \u001b[39m\u001b[32m5\u001b[39m     \u001b[38;5;28;01mreturn\u001b[39;00m \u001b[43mackermann\u001b[49m\u001b[43m(\u001b[49m\u001b[43mm\u001b[49m\u001b[43m \u001b[49m\u001b[43m-\u001b[49m\u001b[43m \u001b[49m\u001b[32;43m1\u001b[39;49m\u001b[43m,\u001b[49m\u001b[43m \u001b[49m\u001b[32;43m1\u001b[39;49m\u001b[43m)\u001b[49m\n\u001b[32m      6\u001b[39m \u001b[38;5;28;01melse\u001b[39;00m:\n\u001b[32m      7\u001b[39m     \u001b[38;5;28;01mreturn\u001b[39;00m ackermann(m - \u001b[32m1\u001b[39m, ackermann(m, n - \u001b[32m1\u001b[39m))\n",
      "\u001b[36mCell\u001b[39m\u001b[36m \u001b[39m\u001b[32mIn[58]\u001b[39m\u001b[32m, line 7\u001b[39m, in \u001b[36mackermann\u001b[39m\u001b[34m(m, n)\u001b[39m\n\u001b[32m      5\u001b[39m     \u001b[38;5;28;01mreturn\u001b[39;00m ackermann(m - \u001b[32m1\u001b[39m, \u001b[32m1\u001b[39m)\n\u001b[32m      6\u001b[39m \u001b[38;5;28;01melse\u001b[39;00m:\n\u001b[32m----> \u001b[39m\u001b[32m7\u001b[39m     \u001b[38;5;28;01mreturn\u001b[39;00m \u001b[43mackermann\u001b[49m\u001b[43m(\u001b[49m\u001b[43mm\u001b[49m\u001b[43m \u001b[49m\u001b[43m-\u001b[49m\u001b[43m \u001b[49m\u001b[32;43m1\u001b[39;49m\u001b[43m,\u001b[49m\u001b[43m \u001b[49m\u001b[43mackermann\u001b[49m\u001b[43m(\u001b[49m\u001b[43mm\u001b[49m\u001b[43m,\u001b[49m\u001b[43m \u001b[49m\u001b[43mn\u001b[49m\u001b[43m \u001b[49m\u001b[43m-\u001b[49m\u001b[43m \u001b[49m\u001b[32;43m1\u001b[39;49m\u001b[43m)\u001b[49m\u001b[43m)\u001b[49m\n",
      "\u001b[36mCell\u001b[39m\u001b[36m \u001b[39m\u001b[32mIn[58]\u001b[39m\u001b[32m, line 7\u001b[39m, in \u001b[36mackermann\u001b[39m\u001b[34m(m, n)\u001b[39m\n\u001b[32m      5\u001b[39m     \u001b[38;5;28;01mreturn\u001b[39;00m ackermann(m - \u001b[32m1\u001b[39m, \u001b[32m1\u001b[39m)\n\u001b[32m      6\u001b[39m \u001b[38;5;28;01melse\u001b[39;00m:\n\u001b[32m----> \u001b[39m\u001b[32m7\u001b[39m     \u001b[38;5;28;01mreturn\u001b[39;00m ackermann(m - \u001b[32m1\u001b[39m, \u001b[43mackermann\u001b[49m\u001b[43m(\u001b[49m\u001b[43mm\u001b[49m\u001b[43m,\u001b[49m\u001b[43m \u001b[49m\u001b[43mn\u001b[49m\u001b[43m \u001b[49m\u001b[43m-\u001b[49m\u001b[43m \u001b[49m\u001b[32;43m1\u001b[39;49m\u001b[43m)\u001b[49m)\n",
      "    \u001b[31m[... skipping similar frames: ackermann at line 7 (2967 times)]\u001b[39m\n",
      "\u001b[36mCell\u001b[39m\u001b[36m \u001b[39m\u001b[32mIn[58]\u001b[39m\u001b[32m, line 7\u001b[39m, in \u001b[36mackermann\u001b[39m\u001b[34m(m, n)\u001b[39m\n\u001b[32m      5\u001b[39m     \u001b[38;5;28;01mreturn\u001b[39;00m ackermann(m - \u001b[32m1\u001b[39m, \u001b[32m1\u001b[39m)\n\u001b[32m      6\u001b[39m \u001b[38;5;28;01melse\u001b[39;00m:\n\u001b[32m----> \u001b[39m\u001b[32m7\u001b[39m     \u001b[38;5;28;01mreturn\u001b[39;00m ackermann(m - \u001b[32m1\u001b[39m, \u001b[43mackermann\u001b[49m\u001b[43m(\u001b[49m\u001b[43mm\u001b[49m\u001b[43m,\u001b[49m\u001b[43m \u001b[49m\u001b[43mn\u001b[49m\u001b[43m \u001b[49m\u001b[43m-\u001b[49m\u001b[43m \u001b[49m\u001b[32;43m1\u001b[39;49m\u001b[43m)\u001b[49m)\n",
      "\u001b[36mCell\u001b[39m\u001b[36m \u001b[39m\u001b[32mIn[58]\u001b[39m\u001b[32m, line 5\u001b[39m, in \u001b[36mackermann\u001b[39m\u001b[34m(m, n)\u001b[39m\n\u001b[32m      3\u001b[39m     \u001b[38;5;28;01mreturn\u001b[39;00m n + \u001b[32m1\u001b[39m\n\u001b[32m      4\u001b[39m \u001b[38;5;28;01melif\u001b[39;00m m > \u001b[32m0\u001b[39m \u001b[38;5;129;01mand\u001b[39;00m n == \u001b[32m0\u001b[39m:\n\u001b[32m----> \u001b[39m\u001b[32m5\u001b[39m     \u001b[38;5;28;01mreturn\u001b[39;00m \u001b[43mackermann\u001b[49m\u001b[43m(\u001b[49m\u001b[43mm\u001b[49m\u001b[43m \u001b[49m\u001b[43m-\u001b[49m\u001b[43m \u001b[49m\u001b[32;43m1\u001b[39;49m\u001b[43m,\u001b[49m\u001b[43m \u001b[49m\u001b[32;43m1\u001b[39;49m\u001b[43m)\u001b[49m\n\u001b[32m      6\u001b[39m \u001b[38;5;28;01melse\u001b[39;00m:\n\u001b[32m      7\u001b[39m     \u001b[38;5;28;01mreturn\u001b[39;00m ackermann(m - \u001b[32m1\u001b[39m, ackermann(m, n - \u001b[32m1\u001b[39m))\n",
      "\u001b[31mRecursionError\u001b[39m: maximum recursion depth exceeded"
     ]
    }
   ],
   "source": [
    "print(ackermann(3, 2))\n",
    "print(ackermann(3, 3))\n",
    "print(ackermann(3, 4))\n",
    "print(ackermann(5, 5))"
   ]
  },
  {
   "cell_type": "markdown",
   "id": "3626e54d",
   "metadata": {},
   "source": [
    "### 6.12.5. Exercise"
   ]
  },
  {
   "cell_type": "code",
   "execution_count": 60,
   "id": "04bf8955",
   "metadata": {},
   "outputs": [],
   "source": [
    "def gcd(a, b):\n",
    "    if b == 0:\n",
    "        return a\n",
    "    else:\n",
    "        return gcd(b, a % b)"
   ]
  },
  {
   "cell_type": "code",
   "execution_count": 61,
   "id": "8afaefe7",
   "metadata": {},
   "outputs": [
    {
     "name": "stdout",
     "output_type": "stream",
     "text": [
      "4\n",
      "1\n"
     ]
    }
   ],
   "source": [
    "print(gcd(12, 8))\n",
    "print(gcd(13, 17))"
   ]
  }
 ],
 "metadata": {
  "kernelspec": {
   "display_name": "venv",
   "language": "python",
   "name": "python3"
  },
  "language_info": {
   "codemirror_mode": {
    "name": "ipython",
    "version": 3
   },
   "file_extension": ".py",
   "mimetype": "text/x-python",
   "name": "python",
   "nbconvert_exporter": "python",
   "pygments_lexer": "ipython3",
   "version": "3.12.9"
  }
 },
 "nbformat": 4,
 "nbformat_minor": 5
}
