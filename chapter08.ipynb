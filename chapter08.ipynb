{
 "cells": [
  {
   "cell_type": "markdown",
   "id": "f4480acd",
   "metadata": {},
   "source": [
    "# 8. Strings and Regular Expressions"
   ]
  },
  {
   "cell_type": "markdown",
   "id": "82c6c0ce",
   "metadata": {},
   "source": [
    "## 8.1. A string is a sequence"
   ]
  },
  {
   "cell_type": "code",
   "execution_count": 1,
   "id": "0261aeac",
   "metadata": {},
   "outputs": [],
   "source": [
    "fruit = 'banana'\n",
    "letter = fruit[1]"
   ]
  },
  {
   "cell_type": "code",
   "execution_count": 2,
   "id": "2f77ca22",
   "metadata": {},
   "outputs": [
    {
     "data": {
      "text/plain": [
       "'a'"
      ]
     },
     "execution_count": 2,
     "metadata": {},
     "output_type": "execute_result"
    }
   ],
   "source": [
    "letter"
   ]
  },
  {
   "cell_type": "code",
   "execution_count": 3,
   "id": "81e93d74",
   "metadata": {},
   "outputs": [
    {
     "data": {
      "text/plain": [
       "'b'"
      ]
     },
     "execution_count": 3,
     "metadata": {},
     "output_type": "execute_result"
    }
   ],
   "source": [
    "fruit[0]"
   ]
  },
  {
   "cell_type": "code",
   "execution_count": 4,
   "id": "2f06fb8f",
   "metadata": {},
   "outputs": [
    {
     "data": {
      "text/plain": [
       "'a'"
      ]
     },
     "execution_count": 4,
     "metadata": {},
     "output_type": "execute_result"
    }
   ],
   "source": [
    "i = 1\n",
    "fruit[i]"
   ]
  },
  {
   "cell_type": "code",
   "execution_count": 5,
   "id": "17d3df26",
   "metadata": {},
   "outputs": [
    {
     "data": {
      "text/plain": [
       "'n'"
      ]
     },
     "execution_count": 5,
     "metadata": {},
     "output_type": "execute_result"
    }
   ],
   "source": [
    "fruit[i + 1]"
   ]
  },
  {
   "cell_type": "code",
   "execution_count": 6,
   "id": "d1d0accf",
   "metadata": {},
   "outputs": [
    {
     "ename": "TypeError",
     "evalue": "string indices must be integers, not 'float'",
     "output_type": "error",
     "traceback": [
      "\u001b[31m---------------------------------------------------------------------------\u001b[39m",
      "\u001b[31mTypeError\u001b[39m                                 Traceback (most recent call last)",
      "\u001b[36mCell\u001b[39m\u001b[36m \u001b[39m\u001b[32mIn[6]\u001b[39m\u001b[32m, line 1\u001b[39m\n\u001b[32m----> \u001b[39m\u001b[32m1\u001b[39m \u001b[43mfruit\u001b[49m\u001b[43m[\u001b[49m\u001b[32;43m1.5\u001b[39;49m\u001b[43m]\u001b[49m\n",
      "\u001b[31mTypeError\u001b[39m: string indices must be integers, not 'float'"
     ]
    }
   ],
   "source": [
    "fruit[1.5]"
   ]
  },
  {
   "cell_type": "code",
   "execution_count": 7,
   "id": "d6bc71b0",
   "metadata": {},
   "outputs": [
    {
     "data": {
      "text/plain": [
       "6"
      ]
     },
     "execution_count": 7,
     "metadata": {},
     "output_type": "execute_result"
    }
   ],
   "source": [
    "n = len(fruit)\n",
    "n"
   ]
  },
  {
   "cell_type": "code",
   "execution_count": 8,
   "id": "20dd8c31",
   "metadata": {},
   "outputs": [
    {
     "ename": "IndexError",
     "evalue": "string index out of range",
     "output_type": "error",
     "traceback": [
      "\u001b[31m---------------------------------------------------------------------------\u001b[39m",
      "\u001b[31mIndexError\u001b[39m                                Traceback (most recent call last)",
      "\u001b[36mCell\u001b[39m\u001b[36m \u001b[39m\u001b[32mIn[8]\u001b[39m\u001b[32m, line 1\u001b[39m\n\u001b[32m----> \u001b[39m\u001b[32m1\u001b[39m \u001b[43mfruit\u001b[49m\u001b[43m[\u001b[49m\u001b[43mn\u001b[49m\u001b[43m]\u001b[49m\n",
      "\u001b[31mIndexError\u001b[39m: string index out of range"
     ]
    }
   ],
   "source": [
    "fruit[n]"
   ]
  },
  {
   "cell_type": "code",
   "execution_count": 9,
   "id": "de28b0df",
   "metadata": {},
   "outputs": [
    {
     "data": {
      "text/plain": [
       "'a'"
      ]
     },
     "execution_count": 9,
     "metadata": {},
     "output_type": "execute_result"
    }
   ],
   "source": [
    "fruit[n - 1]"
   ]
  },
  {
   "cell_type": "code",
   "execution_count": 10,
   "id": "c16341b8",
   "metadata": {},
   "outputs": [
    {
     "data": {
      "text/plain": [
       "'a'"
      ]
     },
     "execution_count": 10,
     "metadata": {},
     "output_type": "execute_result"
    }
   ],
   "source": [
    "fruit[-1]"
   ]
  },
  {
   "cell_type": "markdown",
   "id": "c82aad38",
   "metadata": {},
   "source": [
    "## 8.2. String slices"
   ]
  },
  {
   "cell_type": "code",
   "execution_count": 11,
   "id": "f24f9852",
   "metadata": {},
   "outputs": [
    {
     "data": {
      "text/plain": [
       "'ban'"
      ]
     },
     "execution_count": 11,
     "metadata": {},
     "output_type": "execute_result"
    }
   ],
   "source": [
    "fruit = 'banana'\n",
    "fruit[0:3]"
   ]
  },
  {
   "cell_type": "code",
   "execution_count": 12,
   "id": "3987247f",
   "metadata": {},
   "outputs": [
    {
     "data": {
      "text/plain": [
       "'ban'"
      ]
     },
     "execution_count": 12,
     "metadata": {},
     "output_type": "execute_result"
    }
   ],
   "source": [
    "fruit[:3]"
   ]
  },
  {
   "cell_type": "code",
   "execution_count": 13,
   "id": "6d35aab9",
   "metadata": {},
   "outputs": [
    {
     "data": {
      "text/plain": [
       "'ana'"
      ]
     },
     "execution_count": 13,
     "metadata": {},
     "output_type": "execute_result"
    }
   ],
   "source": [
    "fruit[3:]"
   ]
  },
  {
   "cell_type": "code",
   "execution_count": 14,
   "id": "bcc6a82d",
   "metadata": {},
   "outputs": [
    {
     "data": {
      "text/plain": [
       "''"
      ]
     },
     "execution_count": 14,
     "metadata": {},
     "output_type": "execute_result"
    }
   ],
   "source": [
    "fruit[3:3]"
   ]
  },
  {
   "cell_type": "markdown",
   "id": "99d1e86c",
   "metadata": {},
   "source": [
    "## 8.3. Strings are immutable"
   ]
  },
  {
   "cell_type": "code",
   "execution_count": 15,
   "id": "d733b0f8",
   "metadata": {},
   "outputs": [
    {
     "ename": "TypeError",
     "evalue": "'str' object does not support item assignment",
     "output_type": "error",
     "traceback": [
      "\u001b[31m---------------------------------------------------------------------------\u001b[39m",
      "\u001b[31mTypeError\u001b[39m                                 Traceback (most recent call last)",
      "\u001b[36mCell\u001b[39m\u001b[36m \u001b[39m\u001b[32mIn[15]\u001b[39m\u001b[32m, line 2\u001b[39m\n\u001b[32m      1\u001b[39m greeting = \u001b[33m'\u001b[39m\u001b[33mHello, world!\u001b[39m\u001b[33m'\u001b[39m\n\u001b[32m----> \u001b[39m\u001b[32m2\u001b[39m \u001b[43mgreeting\u001b[49m\u001b[43m[\u001b[49m\u001b[32;43m0\u001b[39;49m\u001b[43m]\u001b[49m = \u001b[33m'\u001b[39m\u001b[33mJ\u001b[39m\u001b[33m'\u001b[39m\n",
      "\u001b[31mTypeError\u001b[39m: 'str' object does not support item assignment"
     ]
    }
   ],
   "source": [
    "greeting = 'Hello, world!'\n",
    "greeting[0] = 'J'"
   ]
  },
  {
   "cell_type": "code",
   "execution_count": 16,
   "id": "d54d6f22",
   "metadata": {},
   "outputs": [
    {
     "data": {
      "text/plain": [
       "'Jello, world!'"
      ]
     },
     "execution_count": 16,
     "metadata": {},
     "output_type": "execute_result"
    }
   ],
   "source": [
    "new_greeting = 'J' + greeting[1:]\n",
    "new_greeting"
   ]
  },
  {
   "cell_type": "code",
   "execution_count": 17,
   "id": "33c860c1",
   "metadata": {},
   "outputs": [
    {
     "data": {
      "text/plain": [
       "'Hello, world!'"
      ]
     },
     "execution_count": 17,
     "metadata": {},
     "output_type": "execute_result"
    }
   ],
   "source": [
    "greeting"
   ]
  },
  {
   "cell_type": "markdown",
   "id": "b962ef0b",
   "metadata": {},
   "source": [
    "## 8.4. String comparison"
   ]
  },
  {
   "cell_type": "code",
   "execution_count": 18,
   "id": "28601f01",
   "metadata": {},
   "outputs": [
    {
     "name": "stdout",
     "output_type": "stream",
     "text": [
      "All right, banana.\n"
     ]
    }
   ],
   "source": [
    "word = 'banana'\n",
    "\n",
    "if word == 'banana':\n",
    "    print('All right, banana.')"
   ]
  },
  {
   "cell_type": "code",
   "execution_count": 19,
   "id": "a6674c0a",
   "metadata": {},
   "outputs": [],
   "source": [
    "def compare_word(word):\n",
    "    if word < 'banana':\n",
    "        print(word, 'comes before banana.')\n",
    "    elif word > 'banana':\n",
    "        print(word, 'comes after banana.')\n",
    "    else:\n",
    "        print('All right, banana.')"
   ]
  },
  {
   "cell_type": "code",
   "execution_count": 20,
   "id": "bd317e9e",
   "metadata": {},
   "outputs": [
    {
     "name": "stdout",
     "output_type": "stream",
     "text": [
      "apple comes before banana.\n"
     ]
    }
   ],
   "source": [
    "compare_word('apple')"
   ]
  },
  {
   "cell_type": "code",
   "execution_count": 21,
   "id": "8c929c6a",
   "metadata": {},
   "outputs": [
    {
     "name": "stdout",
     "output_type": "stream",
     "text": [
      "Pineapple comes before banana.\n"
     ]
    }
   ],
   "source": [
    "compare_word('Pineapple')"
   ]
  },
  {
   "cell_type": "markdown",
   "id": "8a178c75",
   "metadata": {},
   "source": [
    "## 8.5. String methods"
   ]
  },
  {
   "cell_type": "code",
   "execution_count": 22,
   "id": "6d6db654",
   "metadata": {},
   "outputs": [
    {
     "data": {
      "text/plain": [
       "'BANANA'"
      ]
     },
     "execution_count": 22,
     "metadata": {},
     "output_type": "execute_result"
    }
   ],
   "source": [
    "word = 'banana'\n",
    "new_word = word.upper()\n",
    "new_word"
   ]
  },
  {
   "cell_type": "markdown",
   "id": "e363eeb3",
   "metadata": {},
   "source": [
    "## 8.6. Writing files"
   ]
  },
  {
   "cell_type": "code",
   "execution_count": 23,
   "id": "05aeb19f",
   "metadata": {},
   "outputs": [],
   "source": [
    "reader = open('pg345.txt', encoding='utf-8')"
   ]
  },
  {
   "cell_type": "code",
   "execution_count": 24,
   "id": "83da793f",
   "metadata": {},
   "outputs": [],
   "source": [
    "def is_special_line(line):\n",
    "    return line.startswith('*** ')"
   ]
  },
  {
   "cell_type": "code",
   "execution_count": 25,
   "id": "e057d1b4",
   "metadata": {},
   "outputs": [
    {
     "name": "stdout",
     "output_type": "stream",
     "text": [
      "*** START OF THE PROJECT GUTENBERG EBOOK DRACULA ***\n",
      "*** END OF THE PROJECT GUTENBERG EBOOK DRACULA ***\n"
     ]
    }
   ],
   "source": [
    "for line in reader:\n",
    "    if is_special_line(line):\n",
    "        print(line.strip())"
   ]
  },
  {
   "cell_type": "code",
   "execution_count": 26,
   "id": "3dbabfe6",
   "metadata": {},
   "outputs": [],
   "source": [
    "reader = open('pg345.txt', encoding='utf-8')\n",
    "writer = open('pg345_cleaned.txt', 'w', encoding='utf-8')"
   ]
  },
  {
   "cell_type": "code",
   "execution_count": 27,
   "id": "a8154d22",
   "metadata": {},
   "outputs": [],
   "source": [
    "for line in reader:\n",
    "    if is_special_line(line):\n",
    "        break"
   ]
  },
  {
   "cell_type": "code",
   "execution_count": 28,
   "id": "cc40151e",
   "metadata": {},
   "outputs": [
    {
     "data": {
      "text/plain": [
       "'*** START OF THE PROJECT GUTENBERG EBOOK DRACULA ***\\n'"
      ]
     },
     "execution_count": 28,
     "metadata": {},
     "output_type": "execute_result"
    }
   ],
   "source": [
    "line"
   ]
  },
  {
   "cell_type": "code",
   "execution_count": 29,
   "id": "55f59022",
   "metadata": {},
   "outputs": [],
   "source": [
    "for line in reader:\n",
    "    if is_special_line(line):\n",
    "        break\n",
    "    writer.write(line)"
   ]
  },
  {
   "cell_type": "code",
   "execution_count": 30,
   "id": "bec4f07e",
   "metadata": {},
   "outputs": [
    {
     "data": {
      "text/plain": [
       "'*** END OF THE PROJECT GUTENBERG EBOOK DRACULA ***\\n'"
      ]
     },
     "execution_count": 30,
     "metadata": {},
     "output_type": "execute_result"
    }
   ],
   "source": [
    "line"
   ]
  },
  {
   "cell_type": "code",
   "execution_count": 31,
   "id": "f6cfcba4",
   "metadata": {},
   "outputs": [],
   "source": [
    "reader.close()\n",
    "writer.close()"
   ]
  },
  {
   "cell_type": "code",
   "execution_count": 32,
   "id": "3a8fb907",
   "metadata": {},
   "outputs": [
    {
     "name": "stdout",
     "output_type": "stream",
     "text": [
      "DRACULA\n",
      "_by_\n",
      "Bram Stoker\n"
     ]
    }
   ],
   "source": [
    "for line in open('pg345_cleaned.txt', encoding='utf-8'):\n",
    "    line = line.strip()\n",
    "    if len(line) > 0:\n",
    "        print(line)\n",
    "    if line.endswith('Stoker'):\n",
    "        break"
   ]
  },
  {
   "cell_type": "markdown",
   "id": "d3cc9620",
   "metadata": {},
   "source": [
    "## 8.7. Find and replace"
   ]
  },
  {
   "cell_type": "code",
   "execution_count": 33,
   "id": "1f8a0cc6",
   "metadata": {},
   "outputs": [
    {
     "data": {
      "text/plain": [
       "15475"
      ]
     },
     "execution_count": 33,
     "metadata": {},
     "output_type": "execute_result"
    }
   ],
   "source": [
    "total = 0\n",
    "for line in open('pg345_cleaned.txt', encoding='utf-8'):\n",
    "    total += 1\n",
    "\n",
    "total"
   ]
  },
  {
   "cell_type": "code",
   "execution_count": 34,
   "id": "9a3bc324",
   "metadata": {},
   "outputs": [
    {
     "data": {
      "text/plain": [
       "199"
      ]
     },
     "execution_count": 34,
     "metadata": {},
     "output_type": "execute_result"
    }
   ],
   "source": [
    "total = 0\n",
    "for line in open('pg345_cleaned.txt', encoding='utf-8'):\n",
    "    if 'Jonathan' in line:\n",
    "        total += 1\n",
    "\n",
    "total"
   ]
  },
  {
   "cell_type": "code",
   "execution_count": 35,
   "id": "9cea8246",
   "metadata": {},
   "outputs": [
    {
     "data": {
      "text/plain": [
       "200"
      ]
     },
     "execution_count": 35,
     "metadata": {},
     "output_type": "execute_result"
    }
   ],
   "source": [
    "total = 0\n",
    "for line in open('pg345_cleaned.txt', encoding='utf-8'):\n",
    "    total += line.count('Jonathan')\n",
    "\n",
    "total"
   ]
  },
  {
   "cell_type": "code",
   "execution_count": 36,
   "id": "525369f8",
   "metadata": {},
   "outputs": [],
   "source": [
    "writer = open('pg345_replaced.txt', 'w', encoding='utf-8')\n",
    "\n",
    "for line in open('pg345_cleaned.txt', encoding='utf-8'):\n",
    "    line = line.replace('Jonathan', 'Thomas')\n",
    "    writer.write(line)"
   ]
  },
  {
   "cell_type": "markdown",
   "id": "959acc6d",
   "metadata": {},
   "source": [
    "## 8.8. Regular expressions"
   ]
  },
  {
   "cell_type": "code",
   "execution_count": 37,
   "id": "0b18e4e6",
   "metadata": {},
   "outputs": [],
   "source": [
    "text = \"I am Dracula; and I bid you welcome, Mr. Harker, to my house.\""
   ]
  },
  {
   "cell_type": "code",
   "execution_count": 38,
   "id": "e669503f",
   "metadata": {},
   "outputs": [],
   "source": [
    "pattern = 'Dracula'"
   ]
  },
  {
   "cell_type": "code",
   "execution_count": 39,
   "id": "57befaab",
   "metadata": {},
   "outputs": [
    {
     "data": {
      "text/plain": [
       "<re.Match object; span=(5, 12), match='Dracula'>"
      ]
     },
     "execution_count": 39,
     "metadata": {},
     "output_type": "execute_result"
    }
   ],
   "source": [
    "import re\n",
    "\n",
    "result = re.search(pattern, text)\n",
    "result"
   ]
  },
  {
   "cell_type": "code",
   "execution_count": 40,
   "id": "2eaaaf93",
   "metadata": {},
   "outputs": [
    {
     "data": {
      "text/plain": [
       "'I am Dracula; and I bid you welcome, Mr. Harker, to my house.'"
      ]
     },
     "execution_count": 40,
     "metadata": {},
     "output_type": "execute_result"
    }
   ],
   "source": [
    "result.string"
   ]
  },
  {
   "cell_type": "code",
   "execution_count": 41,
   "id": "73b960fe",
   "metadata": {},
   "outputs": [
    {
     "data": {
      "text/plain": [
       "'Dracula'"
      ]
     },
     "execution_count": 41,
     "metadata": {},
     "output_type": "execute_result"
    }
   ],
   "source": [
    "result.group()"
   ]
  },
  {
   "cell_type": "code",
   "execution_count": 42,
   "id": "6d88b348",
   "metadata": {},
   "outputs": [
    {
     "data": {
      "text/plain": [
       "(5, 12)"
      ]
     },
     "execution_count": 42,
     "metadata": {},
     "output_type": "execute_result"
    }
   ],
   "source": [
    "result.span()"
   ]
  },
  {
   "cell_type": "code",
   "execution_count": 43,
   "id": "1de28032",
   "metadata": {},
   "outputs": [
    {
     "name": "stdout",
     "output_type": "stream",
     "text": [
      "None\n"
     ]
    }
   ],
   "source": [
    "result = re.search('Count', text)\n",
    "print(result)"
   ]
  },
  {
   "cell_type": "code",
   "execution_count": 44,
   "id": "d84f5156",
   "metadata": {},
   "outputs": [
    {
     "data": {
      "text/plain": [
       "True"
      ]
     },
     "execution_count": 44,
     "metadata": {},
     "output_type": "execute_result"
    }
   ],
   "source": [
    "result == None"
   ]
  },
  {
   "cell_type": "code",
   "execution_count": 45,
   "id": "e3ccbec6",
   "metadata": {},
   "outputs": [],
   "source": [
    "def find_first(pattern):\n",
    "    for line in open('pg345_cleaned.txt', encoding='utf-8'):\n",
    "        result = re.search(pattern, line)\n",
    "        if result != None:\n",
    "            return result"
   ]
  },
  {
   "cell_type": "code",
   "execution_count": 46,
   "id": "9d8cdff5",
   "metadata": {},
   "outputs": [
    {
     "data": {
      "text/plain": [
       "'CHAPTER I. Jonathan Harker’s Journal\\n'"
      ]
     },
     "execution_count": 46,
     "metadata": {},
     "output_type": "execute_result"
    }
   ],
   "source": [
    "result = find_first('Harker')\n",
    "result.string"
   ]
  },
  {
   "cell_type": "code",
   "execution_count": 47,
   "id": "1275b958",
   "metadata": {},
   "outputs": [
    {
     "data": {
      "text/plain": [
       "'CHAPTER V. Letters—Lucy and Mina\\n'"
      ]
     },
     "execution_count": 47,
     "metadata": {},
     "output_type": "execute_result"
    }
   ],
   "source": [
    "pattern = 'Mina|Murray'\n",
    "result = find_first(pattern)\n",
    "result.string"
   ]
  },
  {
   "cell_type": "code",
   "execution_count": 48,
   "id": "615461e7",
   "metadata": {},
   "outputs": [],
   "source": [
    "def count_matches(pattern):\n",
    "    count = 0\n",
    "    for line in open('pg345_cleaned.txt', encoding='utf-8'):\n",
    "        result = re.search(pattern, line)\n",
    "        if result != None:\n",
    "            count += 1\n",
    "    return count"
   ]
  },
  {
   "cell_type": "code",
   "execution_count": 49,
   "id": "c70ce18d",
   "metadata": {},
   "outputs": [
    {
     "data": {
      "text/plain": [
       "229"
      ]
     },
     "execution_count": 49,
     "metadata": {},
     "output_type": "execute_result"
    }
   ],
   "source": [
    "count_matches('Mina|Murray')"
   ]
  },
  {
   "cell_type": "code",
   "execution_count": 50,
   "id": "f5eead52",
   "metadata": {},
   "outputs": [
    {
     "data": {
      "text/plain": [
       "'Dracula, jumping to his feet, said:--\\n'"
      ]
     },
     "execution_count": 50,
     "metadata": {},
     "output_type": "execute_result"
    }
   ],
   "source": [
    "result = find_first('^Dracula')\n",
    "result.string"
   ]
  },
  {
   "cell_type": "code",
   "execution_count": 51,
   "id": "d339cbb8",
   "metadata": {},
   "outputs": [
    {
     "data": {
      "text/plain": [
       "'by five o’clock, we must start off; for it won’t do to leave Mrs. Harker\\n'"
      ]
     },
     "execution_count": 51,
     "metadata": {},
     "output_type": "execute_result"
    }
   ],
   "source": [
    "result = find_first('Harker$')\n",
    "result.string"
   ]
  },
  {
   "cell_type": "markdown",
   "id": "f686fc12",
   "metadata": {},
   "source": [
    "## 8.9. String substitution"
   ]
  },
  {
   "cell_type": "code",
   "execution_count": 52,
   "id": "82e2ab2e",
   "metadata": {},
   "outputs": [],
   "source": [
    "pattern = 'cent(er|re)'"
   ]
  },
  {
   "cell_type": "code",
   "execution_count": 53,
   "id": "1233822b",
   "metadata": {},
   "outputs": [
    {
     "data": {
      "text/plain": [
       "'horseshoe of the Carpathians, as if it were the centre of some sort of\\n'"
      ]
     },
     "execution_count": 53,
     "metadata": {},
     "output_type": "execute_result"
    }
   ],
   "source": [
    "result = find_first(pattern)\n",
    "result.string"
   ]
  },
  {
   "cell_type": "code",
   "execution_count": 54,
   "id": "244425de",
   "metadata": {},
   "outputs": [],
   "source": [
    "pattern = 'colou?r'"
   ]
  },
  {
   "cell_type": "code",
   "execution_count": 55,
   "id": "ef1f3c8e",
   "metadata": {},
   "outputs": [
    {
     "data": {
      "text/plain": [
       "'undergarment with long double apron, front, and back, of coloured stuff\\n'"
      ]
     },
     "execution_count": 55,
     "metadata": {},
     "output_type": "execute_result"
    }
   ],
   "source": [
    "result = find_first(pattern)\n",
    "line = result.string\n",
    "line"
   ]
  },
  {
   "cell_type": "code",
   "execution_count": 56,
   "id": "11bcb1f2",
   "metadata": {},
   "outputs": [
    {
     "data": {
      "text/plain": [
       "'undergarment with long double apron, front, and back, of colored stuff\\n'"
      ]
     },
     "execution_count": 56,
     "metadata": {},
     "output_type": "execute_result"
    }
   ],
   "source": [
    "re.sub(pattern, 'color', line)"
   ]
  },
  {
   "cell_type": "markdown",
   "id": "dde7ae62",
   "metadata": {},
   "source": [
    "## 8.10. Debugging\n",
    "\n",
    "- 윈도우 환경으로 shell commands 사용이 어려움.\n",
    "\n",
    "> ```shell  \n",
    "> !head pg345_cleaned.txt  \n",
    "> !tail pg345_cleaned.txt  \n",
    "> !head pg345_cleaned.txt > pg345_cleaned_10_lines.txt  \n",
    "> !head -100 pg345_cleaned.txt > pg345_cleaned_100_lines.txt  \n",
    "> ```  "
   ]
  },
  {
   "cell_type": "markdown",
   "id": "a5f493cc",
   "metadata": {},
   "source": [
    "## 8.11. Glossary\n",
    "\n",
    "- sequence\n",
    "- character\n",
    "- index\n",
    "- slice\n",
    "- empty string\n",
    "- object\n",
    "- immutable\n",
    "- invocation\n",
    "- regular expression\n",
    "- pattern\n",
    "- string substitution\n",
    "- shell command"
   ]
  },
  {
   "cell_type": "markdown",
   "id": "9d32eecd",
   "metadata": {},
   "source": [
    "## 8.12. Exercises"
   ]
  },
  {
   "cell_type": "markdown",
   "id": "1613ca80",
   "metadata": {},
   "source": [
    "### 8.12.1. Ask a virtual assistant\n",
    "\n",
    "- 파이썬 정규 표현식에서 가장 많이 쓰이는 특수 문자가 뭐야?\n",
    "    > 파이썬 정규 표현식에서 가장 많이 쓰이는 **특수 문자(메타 문자)**는 다음과 같아요. 자주 쓰이는 순서대로 정리해 볼게요:\n",
    "    > \n",
    "    > ### 🔟 자주 쓰이는 정규표현식 특수 문자 TOP 10\n",
    "    > \n",
    "    > | 순위  | 메타 문자 | 의미                                             |                     |       |\n",
    "    > | --- | ----- | ---------------------------------------------- | ------------------- | ----- |\n",
    "    > | 1️⃣ | `.`   | **임의의 한 문자** (줄바꿈 제외)                          |                     |       |\n",
    "    > | 2️⃣ | `^`   | **문자열의 시작**                                    |                     |       |\n",
    "    > | 3️⃣ | `$`   | **문자열의 끝**                                     |                     |       |\n",
    "    > | 4️⃣ | `*`   | **0회 이상 반복**                                   |                     |       |\n",
    "    > | 5️⃣ | `+`   | **1회 이상 반복**                                   |                     |       |\n",
    "    > | 6️⃣ | `?`   | **0회 또는 1회** (있거나 없거나)                         |                     |       |\n",
    "    > | 7️⃣ | `[]`  | **문자 집합** (ex: `[abc]`는 a, b, c 중 하나)          |                     |       |\n",
    "    > | 8️⃣ | `     | `                                              | **OR 연산** (ex: `cat | dog`) |\n",
    "    > | 9️⃣ | `()`  | **그룹화** 또는 **캡처**                              |                     |       |\n",
    "    > | 🔟  | `\\`   | **이스케이프 문자** 또는 **특수 문자 축약표현** (예: `\\d`, `\\w`) |                     |       |\n",
    "    > \n",
    "    > ### ✅ 자주 쓰이는 축약 표현 (`\\` 관련)\n",
    "    > \n",
    "    > | 표현   | 의미                     |\n",
    "    > | ---- | ---------------------- |\n",
    "    > | `\\d` | 숫자 (0-9)               |\n",
    "    > | `\\D` | 숫자가 아닌 문자              |\n",
    "    > | `\\w` | 단어 문자 (알파벳 + 숫자 + `_`) |\n",
    "    > | `\\W` | 단어 문자가 아닌 것            |\n",
    "    > | `\\s` | 공백 문자 (스페이스, 탭, 줄바꿈 등) |\n",
    "    > | `\\S` | 공백이 아닌 문자              |\n",
    "    > | `\\b` | 단어 경계                  |\n",
    "    > | `\\B` | 단어 비경계                 |\n",
    "    > \n",
    "    > ### 🎯 예시\n",
    "    > \n",
    "    > ```python\n",
    "    > import re\n",
    "    > \n",
    "    > text = \"Hello 123 World\"\n",
    "    > \n",
    "    > # 숫자 찾기\n",
    "    > re.findall(r'\\d+', text)  # ['123']\n",
    "    > \n",
    "    > # 단어 찾기\n",
    "    > re.findall(r'\\w+', text)  # ['Hello', '123', 'World']\n",
    "    > ```\n",
    "\n",
    "- 숫자 10개와 하이픈으로 이루어진 전화번호를 찾는 파이썬 정규 표현식 만들어줘.\n",
    "    > 물론이죠! 전화번호가 **숫자 10개 + 하이픈(-)** 형식이라면, 일반적인 패턴은 보통 다음과 같아요:\n",
    "    > \n",
    "    > ### 📞 전화번호 형식 예시\n",
    "    > \n",
    "    > * `010-1234-5678`\n",
    "    > * `011-987-1234`\n",
    "    > \n",
    "    > 이런 형식을 찾는 **정규 표현식**은 아래와 같습니다:\n",
    "    > \n",
    "    > ### ✅ 정규표현식 패턴\n",
    "    > \n",
    "    > ```python\n",
    "    > r'\\b\\d{2,3}-\\d{3,4}-\\d{4}\\b'\n",
    "    > ```\n",
    "    > \n",
    "    > ### 🔍 설명\n",
    "    > \n",
    "    > | 패턴        | 의미                        |\n",
    "    > | --------- | ------------------------- |\n",
    "    > | `\\b`      | 단어 경계 (필요시)               |\n",
    "    > | `\\d{2,3}` | 앞 번호: 2~3자리 (ex. 010, 02) |\n",
    "    > | `-`       | 하이픈                       |\n",
    "    > | `\\d{3,4}` | 중간 번호: 3~4자리              |\n",
    "    > | `-`       | 하이픈                       |\n",
    "    > | `\\d{4}`   | 마지막 번호: 4자리               |\n",
    "    > | `\\b`      | 단어 경계 (선택적)               |\n",
    "    > \n",
    "    > ### 🧪 예제 코드\n",
    "    > \n",
    "    > ```python\n",
    "    > import re\n",
    "    > \n",
    "    > text = \"\"\"\n",
    "    > 홍길동: 010-1234-5678\n",
    "    > 김철수: 011-987-1234\n",
    "    > 오류: 01012345678\n",
    "    > \"\"\"\n",
    "    > \n",
    "    > pattern = r'\\b\\d{2,3}-\\d{3,4}-\\d{4}\\b'\n",
    "    > matches = re.findall(pattern, text)\n",
    "    > \n",
    "    > print(matches)\n",
    "    > ```\n",
    "    > \n",
    "    > **출력:**\n",
    "    > \n",
    "    > ```\n",
    "    > ['010-1234-5678', '011-987-1234']\n",
    "    > ```\n",
    "    > \n",
    "    > ### 📌 참고\n",
    "    > \n",
    "    > * 하이픈 없이 붙은 숫자 (`01012345678`)는 위 정규식에서는 **무시**됩니다.\n",
    "    > * 만약 **하이픈이 있는 형식만 찾고자 한다면**, 이 패턴이 적합합니다.\n",
    "    > * 만약 모든 전화번호 포맷(하이픈 유무 포함)을 포괄하려면 별도로 수정해드릴 수 있어요.\n",
    "\n",
    "- 숫자와 ST 혹은 AVE로 끝나는 도로명으로 표현되는 주소를 찾는 파이썬 정규 표현식 만들어줘.\n",
    "    > 좋아요! 요청하신 조건을 정리하면 다음과 같습니다:\n",
    "    > \n",
    "    > ### 🏙️ 조건\n",
    "    > \n",
    "    > * **숫자**로 시작\n",
    "    > * **도로명** (영어 단어)\n",
    "    > * **\"ST\" 또는 \"AVE\"** 로 끝남\n",
    "    > * 예:\n",
    "    >   * `123 Main ST`\n",
    "    >   * `456 Elm AVE`\n",
    "    > \n",
    "    > ## ✅ 정규 표현식\n",
    "    > \n",
    "    > ```python\n",
    "    > r'\\b\\d+\\s+\\w+\\s+(ST|AVE)\\b'\n",
    "    > ```\n",
    "    > \n",
    "    > ### 🔍 설명\n",
    "    > \n",
    "    > | 패턴    | 의미                          |               |\n",
    "    > | ----- | --------------------------- | ------------- |\n",
    "    > | `\\b`  | 단어 경계 (선택적으로 정확한 매칭을 위해 사용) |               |\n",
    "    > | `\\d+` | 숫자 1개 이상                    |               |\n",
    "    > | `\\s+` | 공백 1개 이상                    |               |\n",
    "    > | `\\w+` | 도로명 (알파벳, 숫자, 언더스코어 포함된 단어) |               |\n",
    "    > | `\\s+` | 공백                          |               |\n",
    "    > | `(ST  | AVE)`                       | `ST` 또는 `AVE` |\n",
    "    > | `\\b`  | 단어 경계                       |               |\n",
    "    > \n",
    "    > ### 🧪 예제 코드\n",
    "    > \n",
    "    > ```python\n",
    "    > import re\n",
    "    > \n",
    "    > text = \"\"\"\n",
    "    > 123 Main ST\n",
    "    > 456 Elm AVE\n",
    "    > 789 Pine Rd\n",
    "    > 321 Oak BLVD\n",
    "    > \"\"\"\n",
    "    > \n",
    "    > pattern = r'\\b\\d+\\s+\\w+\\s+(ST|AVE)\\b'\n",
    "    > matches = re.findall(pattern, text)\n",
    "    > print(\"Matches:\", matches)\n",
    "    > \n",
    "    > # 전체 주소 추출하려면 re.findall 대신 re.finditer 사용:\n",
    "    > full_matches = [m.group() for m in re.finditer(pattern, text)]\n",
    "    > print(\"Full addresses:\", full_matches)\n",
    "    > ```\n",
    "    > \n",
    "    > **출력:**\n",
    "    > \n",
    "    > ```\n",
    "    > Matches: ['ST', 'AVE']\n",
    "    > Full addresses: ['123 Main ST', '456 Elm AVE']\n",
    "    > ```\n",
    "    > \n",
    "    > ### 🛠️ 참고\n",
    "    > \n",
    "    > * 대소문자를 구분하지 않게 하려면 `re.IGNORECASE` 옵션을 추가하세요:\n",
    "    > \n",
    "    > ```python\n",
    "    > re.findall(pattern, text, re.IGNORECASE)\n",
    "    > ```\n",
    "    > \n",
    "    > * 도로명이 두 단어 이상일 경우(`123 N Main ST`)까지 포괄하려면 정규식을 조금 확장해야 합니다. 원하시면 그 버전도 알려드릴게요.\n",
    "\n",
    "- Mr 또는 Mrs와 같은 일반적인 호칭으로 시작하고, 대문자로 시작하는 이름들이 이어지며, 일부 이름에는 하이픈이 있을 수도 있는 전체 이름을 매칭하는 파이썬 정규 표현식 만들어줘.\n",
    "    > ### ✅ 파이썬 정규 표현식 예시:\n",
    "    > \n",
    "    > ```python\n",
    "    > import re\n",
    "    > \n",
    "    > pattern = r'\\b(Mr|Mrs|Ms|Dr|Prof)\\.?\\s+([A-Z][a-z]+(-[A-Z][a-z]+)?\\s+)*[A-Z][a-z]+(-[A-Z][a-z]+)?\\b'\n",
    "    > ```\n",
    "    > \n",
    "    > ### 🔍 설명\n",
    "    > \n",
    "    > | 패턴                                 | 의미                                   |    |    |        |                     |\n",
    "    > | ---------------------------------- | ------------------------------------ | -- | -- | ------ | ------------------- |\n",
    "    > | `\\b`                               | 단어 경계                                |    |    |        |                     |\n",
    "    > | `(Mr                               | Mrs                                  | Ms | Dr | Prof)` | 일반적인 호칭 (필요시 추가 가능) |\n",
    "    > | `\\.?`                              | 점(`.`)은 선택적                          |    |    |        |                     |\n",
    "    > | `\\s+`                              | 공백                                   |    |    |        |                     |\n",
    "    > | `([A-Z][a-z]+(-[A-Z][a-z]+)?\\s+)*` | 대문자로 시작하는 이름 + 선택적 하이픈 이름 (0회 이상 반복) |    |    |        |                     |\n",
    "    > | `[A-Z][a-z]+(-[A-Z][a-z]+)?`       | 마지막 이름 (또는 성)                        |    |    |        |                     |\n",
    "    > | `\\b`                               | 단어 경계                                |    |    |        |                     |\n",
    "    > \n",
    "    > ### 🧪 예제 코드\n",
    "    > \n",
    "    > ```python\n",
    "    > import re\n",
    "    > \n",
    "    > text = \"\"\"\n",
    "    > Mr. John Smith\n",
    "    > Mrs Jane Doe-Smith\n",
    "    > Dr Albert Einstein\n",
    "    > Prof. Emily-Marie Clark\n",
    "    > Ms Anna\n",
    "    > \"\"\"\n",
    "    > \n",
    "    > pattern = r'\\b(Mr|Mrs|Ms|Dr|Prof)\\.?\\s+([A-Z][a-z]+(-[A-Z][a-z]+)?\\s+)*[A-Z][a-z]+(-[A-Z][a-z]+)?\\b'\n",
    "    > matches = re.findall(pattern, text)\n",
    "    > \n",
    "    > # 전체 매칭된 이름 추출\n",
    "    > full_matches = [m[0] for m in re.finditer(pattern, text)]\n",
    "    > print(\"Full names:\", full_matches)\n",
    "    > ```\n",
    "    > \n",
    "    > ### ✅ 출력 결과:\n",
    "    > \n",
    "    > ```\n",
    "    > Full names: ['Mr. John Smith', 'Mrs Jane Doe-Smith', 'Dr Albert Einstein', 'Prof. Emily-Marie Clark', 'Ms Anna']\n",
    "    > ```\n",
    "    > \n",
    "    > ### 📌 참고\n",
    "    > \n",
    "    > * `Mr`, `Mrs`, `Ms`, `Dr`, `Prof` 등 **필요한 호칭을 자유롭게 추가**할 수 있어요.\n",
    "    > * 이름 사이에 여러 개의 공백이 있거나, 복잡한 성을 가진 경우는 **추가적인 조정**이 필요할 수 있어요.\n",
    "    > * `re.IGNORECASE` 옵션은 보통 필요 없지만, 필요하면 함께 사용 가능합니다.\n",
    "\n",
    "- 파이썬에서 raw string이 뭐야?\n",
    "    > 좋은 질문이에요!\n",
    "    > \n",
    "    > ### 📌 파이썬에서 **raw string**이란?\n",
    "    > \n",
    "    > 문자열 앞에 접두사로 `r` 또는 `R`을 붙여 **\"있는 그대로\" 해석**되도록 만든 문자열입니다.\n",
    "    > 즉, 백슬래시(`\\`)를 **이스케이프 문자로 해석하지 않고**, **그 자체로** 사용하는 문자열이에요.\n",
    "    > \n",
    "    > ### ✅ 일반 문자열 vs Raw 문자열 비교\n",
    "    > \n",
    "    > ```python\n",
    "    > # 일반 문자열 (이스케이프 처리됨)\n",
    "    > s1 = \"Hello\\nWorld\"\n",
    "    > print(s1)\n",
    "    > ```\n",
    "    > \n",
    "    > 출력:\n",
    "    > \n",
    "    > ```\n",
    "    > Hello\n",
    "    > World\n",
    "    > ```\n",
    "    > \n",
    "    > ```python\n",
    "    > # Raw 문자열 (백슬래시를 문자 그대로 출력)\n",
    "    > s2 = r\"Hello\\nWorld\"\n",
    "    > print(s2)\n",
    "    > ```\n",
    "    > \n",
    "    > 출력:\n",
    "    > \n",
    "    > ```\n",
    "    > Hello\\nWorld\n",
    "    > ```\n",
    "    > \n",
    "    > ### 💡 왜 필요할까?\n",
    "    > \n",
    "    > #### 주로 **정규 표현식**에서 많이 사용돼요!\n",
    "    > \n",
    "    > 정규표현식에는 백슬래시가 자주 나오는데,\n",
    "    > 일반 문자열로 쓰면 `\\\\`처럼 두 번 써야 해서 복잡해져요.\n",
    "    > \n",
    "    > ```python\n",
    "    > import re\n",
    "    > \n",
    "    > # 일반 문자열 (백슬래시 2개)\n",
    "    > pattern1 = \"\\\\d+\"\n",
    "    > \n",
    "    > # raw 문자열 (그냥 백슬래시 한 개)\n",
    "    > pattern2 = r\"\\d+\"\n",
    "    > \n",
    "    > re.findall(pattern2, \"My number is 1234\")  # ['1234']\n",
    "    > ```\n",
    "    > \n",
    "    > ### 🎯 정리하면\n",
    "    > \n",
    "    > | 구분       | 의미                            |\n",
    "    > | -------- | ----------------------------- |\n",
    "    > | `\"...\"`  | 일반 문자열 (이스케이프 문자 해석)          |\n",
    "    > | `r\"...\"` | raw 문자열 (이스케이프 문자 무시, 그대로 사용) |"
   ]
  },
  {
   "cell_type": "markdown",
   "id": "c4dc218c",
   "metadata": {},
   "source": [
    "### 8.12.2. Exercise"
   ]
  },
  {
   "cell_type": "code",
   "execution_count": 57,
   "id": "1413f993",
   "metadata": {},
   "outputs": [],
   "source": [
    "def head(read_file, num_lines, write_file=None):\n",
    "    read_file_object = open(read_file, encoding='utf-8')\n",
    "    if write_file:\n",
    "        write_file_object = open(write_file, 'w', encoding='utf-8')\n",
    "    for i in range(num_lines):\n",
    "        line = read_file_object.readline()\n",
    "        if write_file:\n",
    "            write_file_object.write(line)\n",
    "        else:\n",
    "            print(line, end='')\n",
    "    \n",
    "    read_file_object.close()\n",
    "    if write_file:\n",
    "        write_file_object.close()"
   ]
  },
  {
   "cell_type": "code",
   "execution_count": 58,
   "id": "78e7cd96",
   "metadata": {},
   "outputs": [
    {
     "name": "stdout",
     "output_type": "stream",
     "text": [
      "\n",
      "\n",
      "\n",
      "\n",
      "                                DRACULA\n",
      "\n",
      "                                  _by_\n",
      "\n",
      "                              Bram Stoker\n",
      "\n"
     ]
    }
   ],
   "source": [
    "head('pg345_cleaned.txt', 10)"
   ]
  },
  {
   "cell_type": "code",
   "execution_count": 59,
   "id": "b852522d",
   "metadata": {},
   "outputs": [],
   "source": [
    "head('pg345_cleaned.txt', 100, 'pg345_cleaned_100_lines.txt')"
   ]
  },
  {
   "cell_type": "markdown",
   "id": "b577402f",
   "metadata": {},
   "source": [
    "### 8.12.3. Exercise"
   ]
  },
  {
   "cell_type": "code",
   "execution_count": 60,
   "id": "997c5354",
   "metadata": {},
   "outputs": [],
   "source": [
    "def uses_any(word, letters):\n",
    "    for letter in word.lower():\n",
    "        if letter in letters.lower():\n",
    "            return True\n",
    "    return False"
   ]
  },
  {
   "cell_type": "code",
   "execution_count": 61,
   "id": "841e6e16",
   "metadata": {},
   "outputs": [],
   "source": [
    "def check_word(word):\n",
    "    word = word.lower()\n",
    "    if 'e' not in word:\n",
    "        return False\n",
    "    if word[2] == 'e' or word[4] == 'e':\n",
    "        return False\n",
    "    if uses_any(word, 'spadclrk'):\n",
    "        return False\n",
    "    \n",
    "    return True"
   ]
  },
  {
   "cell_type": "code",
   "execution_count": 62,
   "id": "67ebf37f",
   "metadata": {},
   "outputs": [
    {
     "name": "stdout",
     "output_type": "stream",
     "text": [
      "befit\n",
      "befog\n",
      "beget\n",
      "begin\n",
      "begot\n",
      "begum\n",
      "begun\n",
      "beigy\n",
      "being\n",
      "bemix\n",
      "benni\n",
      "benny\n",
      "beton\n",
      "bewig\n",
      "bogey\n",
      "boney\n",
      "buteo\n",
      "ebbet\n",
      "ebony\n",
      "eight\n",
      "embow\n",
      "emmet\n",
      "enfin\n",
      "enjoy\n",
      "ennui\n",
      "envoi\n",
      "envoy\n",
      "enzym\n",
      "eying\n",
      "feign\n",
      "feint\n",
      "fenny\n",
      "feoff\n",
      "fogey\n",
      "fumet\n",
      "gemmy\n",
      "gemot\n",
      "genet\n",
      "genii\n",
      "genom\n",
      "given\n",
      "gooey\n",
      "hefty\n",
      "heigh\n",
      "hemin\n",
      "heugh\n",
      "homey\n",
      "honey\n",
      "hooey\n",
      "hymen\n",
      "jemmy\n",
      "jenny\n",
      "jeton\n",
      "jetty\n",
      "meiny\n",
      "mezzo\n",
      "mizen\n",
      "money\n",
      "motet\n",
      "motey\n",
      "neigh\n",
      "netty\n",
      "nomen\n",
      "numen\n",
      "often\n",
      "quiet\n",
      "tenet\n",
      "tenon\n",
      "tenth\n",
      "tenty\n",
      "teugh\n",
      "thief\n",
      "totem\n",
      "unmet\n",
      "unmew\n",
      "veiny\n",
      "venin\n",
      "venom\n",
      "vimen\n",
      "vixen\n",
      "webby\n",
      "weigh\n",
      "wenny\n",
      "winey\n",
      "witen\n",
      "wizen\n",
      "women\n",
      "woven\n",
      "xenon\n",
      "zibet\n"
     ]
    }
   ],
   "source": [
    "for line in open('words.txt'):\n",
    "    word = line.strip()\n",
    "    if len(word) == 5 and check_word(word):\n",
    "        print(word)"
   ]
  },
  {
   "cell_type": "markdown",
   "id": "842672f0",
   "metadata": {},
   "source": [
    "### 8.12.4. Exercise"
   ]
  },
  {
   "cell_type": "code",
   "execution_count": 63,
   "id": "21f8a54b",
   "metadata": {},
   "outputs": [],
   "source": [
    "def check_word2(word):\n",
    "    word = word.lower()\n",
    "    if 'e' not in word:\n",
    "        return False\n",
    "    if word[2] == 'e' or word[3] == 'e' or word[4] == 'e':\n",
    "        return False\n",
    "    if word[4] != 'm':\n",
    "        return False\n",
    "    if uses_any(word, 'spadclrk'):\n",
    "        return False\n",
    "    \n",
    "    return True"
   ]
  },
  {
   "cell_type": "code",
   "execution_count": 64,
   "id": "ce33e411",
   "metadata": {},
   "outputs": [
    {
     "name": "stdout",
     "output_type": "stream",
     "text": [
      "begum\n",
      "enzym\n",
      "genom\n",
      "venom\n"
     ]
    }
   ],
   "source": [
    "for line in open('words.txt'):\n",
    "    word = line.strip()\n",
    "    if len(word) == 5 and check_word2(word):\n",
    "        print(word)"
   ]
  },
  {
   "cell_type": "markdown",
   "id": "1e967d5a",
   "metadata": {},
   "source": [
    "### 8.12.5. Exercise"
   ]
  },
  {
   "cell_type": "code",
   "execution_count": 65,
   "id": "42af326f",
   "metadata": {},
   "outputs": [],
   "source": [
    "def clean_file(input_file, output_file):\n",
    "    reader = open(input_file, encoding='utf-8')\n",
    "    writer = open(output_file, 'w', encoding='utf-8')\n",
    "\n",
    "    for line in reader:\n",
    "        if is_special_line(line):\n",
    "            break\n",
    "\n",
    "    for line in reader:\n",
    "        if is_special_line(line):\n",
    "            break\n",
    "        writer.write(line)\n",
    "        \n",
    "    reader.close()\n",
    "    writer.close()\n",
    "\n",
    "clean_file('pg1184.txt', 'pg1184_cleaned.txt')"
   ]
  },
  {
   "cell_type": "code",
   "execution_count": 66,
   "id": "84897732",
   "metadata": {},
   "outputs": [],
   "source": [
    "def count_matches(pattern):\n",
    "    count = 0\n",
    "    for line in open('pg1184_cleaned.txt', encoding='utf-8'):\n",
    "        result = re.search(pattern, line)\n",
    "        if result:\n",
    "            count += 1\n",
    "    return count"
   ]
  },
  {
   "cell_type": "code",
   "execution_count": 67,
   "id": "548d9f12",
   "metadata": {},
   "outputs": [
    {
     "data": {
      "text/plain": [
       "223"
      ]
     },
     "execution_count": 67,
     "metadata": {},
     "output_type": "execute_result"
    }
   ],
   "source": [
    "pattern = r'\\b(pale|pales|paled|paleness|pallor)\\b'\n",
    "count_matches(pattern)"
   ]
  }
 ],
 "metadata": {
  "kernelspec": {
   "display_name": "venv",
   "language": "python",
   "name": "python3"
  },
  "language_info": {
   "codemirror_mode": {
    "name": "ipython",
    "version": 3
   },
   "file_extension": ".py",
   "mimetype": "text/x-python",
   "name": "python",
   "nbconvert_exporter": "python",
   "pygments_lexer": "ipython3",
   "version": "3.12.9"
  }
 },
 "nbformat": 4,
 "nbformat_minor": 5
}
