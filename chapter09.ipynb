{
 "cells": [
  {
   "cell_type": "markdown",
   "id": "c106ed64",
   "metadata": {},
   "source": [
    "# 9. Lists"
   ]
  },
  {
   "cell_type": "markdown",
   "id": "3be78cb3",
   "metadata": {},
   "source": [
    "## 9.1. A list is a sequence"
   ]
  },
  {
   "cell_type": "code",
   "execution_count": 1,
   "id": "b4fdb77b",
   "metadata": {},
   "outputs": [],
   "source": [
    "numbers = [42, 123]"
   ]
  },
  {
   "cell_type": "code",
   "execution_count": 2,
   "id": "a62d1e92",
   "metadata": {},
   "outputs": [],
   "source": [
    "cheeses = ['Cheddar', 'Edam', 'Gouda']"
   ]
  },
  {
   "cell_type": "code",
   "execution_count": 3,
   "id": "89b794f6",
   "metadata": {},
   "outputs": [],
   "source": [
    "t = ['spam', 2.0, 5, [10, 20]]"
   ]
  },
  {
   "cell_type": "code",
   "execution_count": 4,
   "id": "50882181",
   "metadata": {},
   "outputs": [],
   "source": [
    "empty = []"
   ]
  },
  {
   "cell_type": "code",
   "execution_count": 5,
   "id": "17abeec1",
   "metadata": {},
   "outputs": [
    {
     "data": {
      "text/plain": [
       "3"
      ]
     },
     "execution_count": 5,
     "metadata": {},
     "output_type": "execute_result"
    }
   ],
   "source": [
    "len(cheeses)"
   ]
  },
  {
   "cell_type": "markdown",
   "id": "c4f35bdf",
   "metadata": {},
   "source": [
    "## 9.2. Lists are mutable"
   ]
  },
  {
   "cell_type": "code",
   "execution_count": 6,
   "id": "e7af77bf",
   "metadata": {},
   "outputs": [
    {
     "data": {
      "text/plain": [
       "'Cheddar'"
      ]
     },
     "execution_count": 6,
     "metadata": {},
     "output_type": "execute_result"
    }
   ],
   "source": [
    "cheeses[0]"
   ]
  },
  {
   "cell_type": "code",
   "execution_count": 7,
   "id": "30c2432a",
   "metadata": {},
   "outputs": [
    {
     "data": {
      "text/plain": [
       "[42, 17]"
      ]
     },
     "execution_count": 7,
     "metadata": {},
     "output_type": "execute_result"
    }
   ],
   "source": [
    "numbers[1] = 17\n",
    "numbers"
   ]
  },
  {
   "cell_type": "code",
   "execution_count": 8,
   "id": "0c023756",
   "metadata": {},
   "outputs": [
    {
     "data": {
      "text/plain": [
       "True"
      ]
     },
     "execution_count": 8,
     "metadata": {},
     "output_type": "execute_result"
    }
   ],
   "source": [
    "'Edam' in cheeses"
   ]
  },
  {
   "cell_type": "code",
   "execution_count": 9,
   "id": "1ff0efc4",
   "metadata": {},
   "outputs": [
    {
     "data": {
      "text/plain": [
       "False"
      ]
     },
     "execution_count": 9,
     "metadata": {},
     "output_type": "execute_result"
    }
   ],
   "source": [
    "'Wensleydale' in cheeses"
   ]
  },
  {
   "cell_type": "code",
   "execution_count": 10,
   "id": "4be18019",
   "metadata": {},
   "outputs": [
    {
     "data": {
      "text/plain": [
       "4"
      ]
     },
     "execution_count": 10,
     "metadata": {},
     "output_type": "execute_result"
    }
   ],
   "source": [
    "t = ['spam', 2.0, 5, [10, 20]]\n",
    "len(t)"
   ]
  },
  {
   "cell_type": "code",
   "execution_count": 11,
   "id": "be71efa1",
   "metadata": {},
   "outputs": [
    {
     "data": {
      "text/plain": [
       "False"
      ]
     },
     "execution_count": 11,
     "metadata": {},
     "output_type": "execute_result"
    }
   ],
   "source": [
    "10 in t"
   ]
  },
  {
   "cell_type": "markdown",
   "id": "2d36a3fb",
   "metadata": {},
   "source": [
    "## 9.3. List slices"
   ]
  },
  {
   "cell_type": "code",
   "execution_count": 12,
   "id": "39988158",
   "metadata": {},
   "outputs": [
    {
     "data": {
      "text/plain": [
       "['b', 'c']"
      ]
     },
     "execution_count": 12,
     "metadata": {},
     "output_type": "execute_result"
    }
   ],
   "source": [
    "letters = ['a', 'b', 'c', 'd']\n",
    "letters[1:3]"
   ]
  },
  {
   "cell_type": "code",
   "execution_count": 13,
   "id": "1a902208",
   "metadata": {},
   "outputs": [
    {
     "data": {
      "text/plain": [
       "['a', 'b']"
      ]
     },
     "execution_count": 13,
     "metadata": {},
     "output_type": "execute_result"
    }
   ],
   "source": [
    "letters[:2]"
   ]
  },
  {
   "cell_type": "code",
   "execution_count": 14,
   "id": "63d339f2",
   "metadata": {},
   "outputs": [
    {
     "data": {
      "text/plain": [
       "['c', 'd']"
      ]
     },
     "execution_count": 14,
     "metadata": {},
     "output_type": "execute_result"
    }
   ],
   "source": [
    "letters[2:]"
   ]
  },
  {
   "cell_type": "code",
   "execution_count": 15,
   "id": "7706ae90",
   "metadata": {},
   "outputs": [
    {
     "data": {
      "text/plain": [
       "['a', 'b', 'c', 'd']"
      ]
     },
     "execution_count": 15,
     "metadata": {},
     "output_type": "execute_result"
    }
   ],
   "source": [
    "letters[:]"
   ]
  },
  {
   "cell_type": "code",
   "execution_count": 16,
   "id": "bfa95df5",
   "metadata": {},
   "outputs": [
    {
     "data": {
      "text/plain": [
       "['a', 'b', 'c', 'd']"
      ]
     },
     "execution_count": 16,
     "metadata": {},
     "output_type": "execute_result"
    }
   ],
   "source": [
    "list(letters)"
   ]
  },
  {
   "cell_type": "markdown",
   "id": "b480e6b7",
   "metadata": {},
   "source": [
    "## 9.4. List operations"
   ]
  },
  {
   "cell_type": "code",
   "execution_count": 17,
   "id": "6e5882c6",
   "metadata": {},
   "outputs": [
    {
     "data": {
      "text/plain": [
       "[1, 2, 3, 4]"
      ]
     },
     "execution_count": 17,
     "metadata": {},
     "output_type": "execute_result"
    }
   ],
   "source": [
    "t1 = [1, 2]\n",
    "t2 = [3, 4]\n",
    "t1 + t2"
   ]
  },
  {
   "cell_type": "code",
   "execution_count": 18,
   "id": "39894ac0",
   "metadata": {},
   "outputs": [
    {
     "data": {
      "text/plain": [
       "['spam', 'spam', 'spam', 'spam']"
      ]
     },
     "execution_count": 18,
     "metadata": {},
     "output_type": "execute_result"
    }
   ],
   "source": [
    "['spam'] * 4"
   ]
  },
  {
   "cell_type": "code",
   "execution_count": 19,
   "id": "5ce5a3fc",
   "metadata": {},
   "outputs": [
    {
     "data": {
      "text/plain": [
       "3"
      ]
     },
     "execution_count": 19,
     "metadata": {},
     "output_type": "execute_result"
    }
   ],
   "source": [
    "sum(t1)"
   ]
  },
  {
   "cell_type": "code",
   "execution_count": 20,
   "id": "de0fcb2d",
   "metadata": {},
   "outputs": [
    {
     "data": {
      "text/plain": [
       "1"
      ]
     },
     "execution_count": 20,
     "metadata": {},
     "output_type": "execute_result"
    }
   ],
   "source": [
    "min(t1)"
   ]
  },
  {
   "cell_type": "code",
   "execution_count": 21,
   "id": "0f2a73c1",
   "metadata": {},
   "outputs": [
    {
     "data": {
      "text/plain": [
       "4"
      ]
     },
     "execution_count": 21,
     "metadata": {},
     "output_type": "execute_result"
    }
   ],
   "source": [
    "max(t2)"
   ]
  },
  {
   "cell_type": "markdown",
   "id": "4b3fdec8",
   "metadata": {},
   "source": [
    "## 9.5. List methods"
   ]
  },
  {
   "cell_type": "code",
   "execution_count": 22,
   "id": "241c9fa5",
   "metadata": {},
   "outputs": [
    {
     "data": {
      "text/plain": [
       "['a', 'b', 'c', 'd', 'e']"
      ]
     },
     "execution_count": 22,
     "metadata": {},
     "output_type": "execute_result"
    }
   ],
   "source": [
    "letters.append('e')\n",
    "letters"
   ]
  },
  {
   "cell_type": "code",
   "execution_count": 23,
   "id": "bde1c93a",
   "metadata": {},
   "outputs": [
    {
     "data": {
      "text/plain": [
       "['a', 'b', 'c', 'd', 'e', 'f', 'g']"
      ]
     },
     "execution_count": 23,
     "metadata": {},
     "output_type": "execute_result"
    }
   ],
   "source": [
    "letters.extend(['f', 'g'])\n",
    "letters"
   ]
  },
  {
   "cell_type": "code",
   "execution_count": 24,
   "id": "173e95f5",
   "metadata": {},
   "outputs": [
    {
     "data": {
      "text/plain": [
       "'b'"
      ]
     },
     "execution_count": 24,
     "metadata": {},
     "output_type": "execute_result"
    }
   ],
   "source": [
    "t = ['a', 'b', 'c']\n",
    "t.pop(1)"
   ]
  },
  {
   "cell_type": "code",
   "execution_count": 25,
   "id": "26977aeb",
   "metadata": {},
   "outputs": [
    {
     "data": {
      "text/plain": [
       "['a', 'c']"
      ]
     },
     "execution_count": 25,
     "metadata": {},
     "output_type": "execute_result"
    }
   ],
   "source": [
    "t"
   ]
  },
  {
   "cell_type": "code",
   "execution_count": 26,
   "id": "52c01546",
   "metadata": {},
   "outputs": [],
   "source": [
    "t = ['a', 'b', 'c']\n",
    "t.remove('b')"
   ]
  },
  {
   "cell_type": "code",
   "execution_count": 27,
   "id": "b7e192e6",
   "metadata": {},
   "outputs": [
    {
     "data": {
      "text/plain": [
       "['a', 'c']"
      ]
     },
     "execution_count": 27,
     "metadata": {},
     "output_type": "execute_result"
    }
   ],
   "source": [
    "t"
   ]
  },
  {
   "cell_type": "code",
   "execution_count": 28,
   "id": "96cab208",
   "metadata": {},
   "outputs": [
    {
     "ename": "ValueError",
     "evalue": "list.remove(x): x not in list",
     "output_type": "error",
     "traceback": [
      "\u001b[31m---------------------------------------------------------------------------\u001b[39m",
      "\u001b[31mValueError\u001b[39m                                Traceback (most recent call last)",
      "\u001b[36mCell\u001b[39m\u001b[36m \u001b[39m\u001b[32mIn[28]\u001b[39m\u001b[32m, line 1\u001b[39m\n\u001b[32m----> \u001b[39m\u001b[32m1\u001b[39m \u001b[43mt\u001b[49m\u001b[43m.\u001b[49m\u001b[43mremove\u001b[49m\u001b[43m(\u001b[49m\u001b[33;43m'\u001b[39;49m\u001b[33;43md\u001b[39;49m\u001b[33;43m'\u001b[39;49m\u001b[43m)\u001b[49m\n",
      "\u001b[31mValueError\u001b[39m: list.remove(x): x not in list"
     ]
    }
   ],
   "source": [
    "t.remove('d')"
   ]
  },
  {
   "cell_type": "markdown",
   "id": "9387efbb",
   "metadata": {},
   "source": [
    "## 9.6. Lists and strings"
   ]
  },
  {
   "cell_type": "code",
   "execution_count": 29,
   "id": "782bbc49",
   "metadata": {},
   "outputs": [
    {
     "data": {
      "text/plain": [
       "['s', 'p', 'a', 'm']"
      ]
     },
     "execution_count": 29,
     "metadata": {},
     "output_type": "execute_result"
    }
   ],
   "source": [
    "s = 'spam'\n",
    "t = list(s)\n",
    "t"
   ]
  },
  {
   "cell_type": "code",
   "execution_count": 30,
   "id": "6eee5b45",
   "metadata": {},
   "outputs": [
    {
     "data": {
      "text/plain": [
       "['pining', 'for', 'the', 'fjords']"
      ]
     },
     "execution_count": 30,
     "metadata": {},
     "output_type": "execute_result"
    }
   ],
   "source": [
    "s = 'pining for the fjords'\n",
    "t = s.split()\n",
    "t"
   ]
  },
  {
   "cell_type": "code",
   "execution_count": 31,
   "id": "0e33d342",
   "metadata": {},
   "outputs": [
    {
     "data": {
      "text/plain": [
       "['ex', 'parrot']"
      ]
     },
     "execution_count": 31,
     "metadata": {},
     "output_type": "execute_result"
    }
   ],
   "source": [
    "s = 'ex-parrot'\n",
    "t = s.split('-')\n",
    "t"
   ]
  },
  {
   "cell_type": "code",
   "execution_count": 32,
   "id": "c9e38d76",
   "metadata": {},
   "outputs": [
    {
     "data": {
      "text/plain": [
       "'pining for the fjords'"
      ]
     },
     "execution_count": 32,
     "metadata": {},
     "output_type": "execute_result"
    }
   ],
   "source": [
    "delimiter = ' '\n",
    "t = ['pining', 'for', 'the', 'fjords']\n",
    "s = delimiter.join(t)\n",
    "s"
   ]
  },
  {
   "cell_type": "markdown",
   "id": "b8fc735b",
   "metadata": {},
   "source": [
    "## 9.7. Looping through a list"
   ]
  },
  {
   "cell_type": "code",
   "execution_count": 33,
   "id": "ead8fbc5",
   "metadata": {},
   "outputs": [
    {
     "name": "stdout",
     "output_type": "stream",
     "text": [
      "Cheddar\n",
      "Edam\n",
      "Gouda\n"
     ]
    }
   ],
   "source": [
    "for cheese in cheeses:\n",
    "    print(cheese)"
   ]
  },
  {
   "cell_type": "code",
   "execution_count": 34,
   "id": "5c5c5f33",
   "metadata": {},
   "outputs": [
    {
     "name": "stdout",
     "output_type": "stream",
     "text": [
      "pining\n",
      "for\n",
      "the\n",
      "fjords\n"
     ]
    }
   ],
   "source": [
    "s = 'pining for the fjords'\n",
    "\n",
    "for word in s.split():\n",
    "    print(word)"
   ]
  },
  {
   "cell_type": "code",
   "execution_count": 35,
   "id": "a5947687",
   "metadata": {},
   "outputs": [],
   "source": [
    "for x in []:\n",
    "    print('This never happens.')"
   ]
  },
  {
   "cell_type": "markdown",
   "id": "92af9dfe",
   "metadata": {},
   "source": [
    "## 9.8. Sorting lists"
   ]
  },
  {
   "cell_type": "code",
   "execution_count": 36,
   "id": "28c15670",
   "metadata": {},
   "outputs": [
    {
     "data": {
      "text/plain": [
       "['a', 'b', 'c']"
      ]
     },
     "execution_count": 36,
     "metadata": {},
     "output_type": "execute_result"
    }
   ],
   "source": [
    "scramble = ['c', 'a', 'b']\n",
    "sorted(scramble)"
   ]
  },
  {
   "cell_type": "code",
   "execution_count": 37,
   "id": "97a45faf",
   "metadata": {},
   "outputs": [
    {
     "data": {
      "text/plain": [
       "['c', 'a', 'b']"
      ]
     },
     "execution_count": 37,
     "metadata": {},
     "output_type": "execute_result"
    }
   ],
   "source": [
    "scramble"
   ]
  },
  {
   "cell_type": "code",
   "execution_count": 38,
   "id": "d2af4677",
   "metadata": {},
   "outputs": [
    {
     "data": {
      "text/plain": [
       "['e', 'e', 'l', 'r', 's', 't', 't']"
      ]
     },
     "execution_count": 38,
     "metadata": {},
     "output_type": "execute_result"
    }
   ],
   "source": [
    "sorted('letters')"
   ]
  },
  {
   "cell_type": "code",
   "execution_count": 39,
   "id": "004d765d",
   "metadata": {},
   "outputs": [
    {
     "data": {
      "text/plain": [
       "'eelrstt'"
      ]
     },
     "execution_count": 39,
     "metadata": {},
     "output_type": "execute_result"
    }
   ],
   "source": [
    "''.join(sorted('letters'))"
   ]
  },
  {
   "cell_type": "markdown",
   "id": "7ca06960",
   "metadata": {},
   "source": [
    "## 9.9. Objects and values"
   ]
  },
  {
   "cell_type": "code",
   "execution_count": 40,
   "id": "2f15076c",
   "metadata": {},
   "outputs": [],
   "source": [
    "a = 'banana'\n",
    "b = 'banana'"
   ]
  },
  {
   "cell_type": "code",
   "execution_count": 41,
   "id": "be7fea1f",
   "metadata": {},
   "outputs": [
    {
     "data": {
      "text/plain": [
       "True"
      ]
     },
     "execution_count": 41,
     "metadata": {},
     "output_type": "execute_result"
    }
   ],
   "source": [
    "a = 'banana'\n",
    "b = 'banana'\n",
    "a is b"
   ]
  },
  {
   "cell_type": "code",
   "execution_count": 42,
   "id": "bc9885fe",
   "metadata": {},
   "outputs": [
    {
     "data": {
      "text/plain": [
       "False"
      ]
     },
     "execution_count": 42,
     "metadata": {},
     "output_type": "execute_result"
    }
   ],
   "source": [
    "a = [1, 2, 3]\n",
    "b = [1, 2, 3]\n",
    "a is b"
   ]
  },
  {
   "cell_type": "markdown",
   "id": "784ea08a",
   "metadata": {},
   "source": [
    "## 9.10. Aliasing"
   ]
  },
  {
   "cell_type": "code",
   "execution_count": 43,
   "id": "e986508f",
   "metadata": {},
   "outputs": [
    {
     "data": {
      "text/plain": [
       "True"
      ]
     },
     "execution_count": 43,
     "metadata": {},
     "output_type": "execute_result"
    }
   ],
   "source": [
    "a = [1, 2, 3]\n",
    "b = a\n",
    "b is a"
   ]
  },
  {
   "cell_type": "code",
   "execution_count": 44,
   "id": "1c86f05a",
   "metadata": {},
   "outputs": [
    {
     "data": {
      "text/plain": [
       "[5, 2, 3]"
      ]
     },
     "execution_count": 44,
     "metadata": {},
     "output_type": "execute_result"
    }
   ],
   "source": [
    "b[0] = 5\n",
    "a"
   ]
  },
  {
   "cell_type": "code",
   "execution_count": 45,
   "id": "05286c17",
   "metadata": {},
   "outputs": [],
   "source": [
    "a = 'banana'\n",
    "b = 'banana'"
   ]
  },
  {
   "cell_type": "markdown",
   "id": "f53a58f0",
   "metadata": {},
   "source": [
    "## 9.11. List arguments"
   ]
  },
  {
   "cell_type": "code",
   "execution_count": 46,
   "id": "29f5a470",
   "metadata": {},
   "outputs": [],
   "source": [
    "def pop_firts(lst):\n",
    "    return lst.pop(0)"
   ]
  },
  {
   "cell_type": "code",
   "execution_count": 47,
   "id": "4af0d598",
   "metadata": {},
   "outputs": [
    {
     "data": {
      "text/plain": [
       "'a'"
      ]
     },
     "execution_count": 47,
     "metadata": {},
     "output_type": "execute_result"
    }
   ],
   "source": [
    "letters = ['a', 'b', 'c']\n",
    "pop_firts(letters)"
   ]
  },
  {
   "cell_type": "code",
   "execution_count": 48,
   "id": "4794a356",
   "metadata": {},
   "outputs": [
    {
     "data": {
      "text/plain": [
       "['b', 'c']"
      ]
     },
     "execution_count": 48,
     "metadata": {},
     "output_type": "execute_result"
    }
   ],
   "source": [
    "letters"
   ]
  },
  {
   "cell_type": "markdown",
   "id": "349e542a",
   "metadata": {},
   "source": [
    "## 9.12. Making a word list"
   ]
  },
  {
   "cell_type": "code",
   "execution_count": 49,
   "id": "398e1f53",
   "metadata": {},
   "outputs": [
    {
     "data": {
      "text/plain": [
       "113783"
      ]
     },
     "execution_count": 49,
     "metadata": {},
     "output_type": "execute_result"
    }
   ],
   "source": [
    "word_list = []\n",
    "\n",
    "for line in open('words.txt', encoding='utf-8'):\n",
    "    word = line.strip()\n",
    "    word_list.append(word)\n",
    "\n",
    "len(word_list)"
   ]
  },
  {
   "cell_type": "code",
   "execution_count": 50,
   "id": "894ee2e5",
   "metadata": {},
   "outputs": [
    {
     "data": {
      "text/plain": [
       "1016511"
      ]
     },
     "execution_count": 50,
     "metadata": {},
     "output_type": "execute_result"
    }
   ],
   "source": [
    "string = open('words.txt', encoding='utf-8').read()\n",
    "len(string)"
   ]
  },
  {
   "cell_type": "code",
   "execution_count": 51,
   "id": "4379fa8a",
   "metadata": {},
   "outputs": [
    {
     "data": {
      "text/plain": [
       "113783"
      ]
     },
     "execution_count": 51,
     "metadata": {},
     "output_type": "execute_result"
    }
   ],
   "source": [
    "word_list = string.split()\n",
    "len(word_list)"
   ]
  },
  {
   "cell_type": "code",
   "execution_count": 52,
   "id": "3d671dbf",
   "metadata": {},
   "outputs": [
    {
     "data": {
      "text/plain": [
       "True"
      ]
     },
     "execution_count": 52,
     "metadata": {},
     "output_type": "execute_result"
    }
   ],
   "source": [
    "'demotic' in word_list"
   ]
  },
  {
   "cell_type": "code",
   "execution_count": 53,
   "id": "7ce6bb2a",
   "metadata": {},
   "outputs": [
    {
     "data": {
      "text/plain": [
       "False"
      ]
     },
     "execution_count": 53,
     "metadata": {},
     "output_type": "execute_result"
    }
   ],
   "source": [
    "'contrafibularities' in word_list"
   ]
  },
  {
   "cell_type": "markdown",
   "id": "12fad342",
   "metadata": {},
   "source": [
    "## 9.13. Debugging"
   ]
  },
  {
   "cell_type": "code",
   "execution_count": 54,
   "id": "fcbcfbdc",
   "metadata": {},
   "outputs": [
    {
     "data": {
      "text/plain": [
       "'plumage'"
      ]
     },
     "execution_count": 54,
     "metadata": {},
     "output_type": "execute_result"
    }
   ],
   "source": [
    "word = 'plumage!'\n",
    "word = word.strip('!')\n",
    "word"
   ]
  },
  {
   "cell_type": "code",
   "execution_count": 55,
   "id": "c1f1decd",
   "metadata": {},
   "outputs": [],
   "source": [
    "t = [1, 2, 3]\n",
    "t = t.remove(3)     # WRONG!"
   ]
  },
  {
   "cell_type": "code",
   "execution_count": 56,
   "id": "9a559c1a",
   "metadata": {},
   "outputs": [
    {
     "ename": "AttributeError",
     "evalue": "'NoneType' object has no attribute 'remove'",
     "output_type": "error",
     "traceback": [
      "\u001b[31m---------------------------------------------------------------------------\u001b[39m",
      "\u001b[31mAttributeError\u001b[39m                            Traceback (most recent call last)",
      "\u001b[36mCell\u001b[39m\u001b[36m \u001b[39m\u001b[32mIn[56]\u001b[39m\u001b[32m, line 1\u001b[39m\n\u001b[32m----> \u001b[39m\u001b[32m1\u001b[39m \u001b[43mt\u001b[49m\u001b[43m.\u001b[49m\u001b[43mremove\u001b[49m(\u001b[32m2\u001b[39m)\n",
      "\u001b[31mAttributeError\u001b[39m: 'NoneType' object has no attribute 'remove'"
     ]
    }
   ],
   "source": [
    "t.remove(2)"
   ]
  },
  {
   "cell_type": "markdown",
   "id": "488e7f74",
   "metadata": {},
   "source": [
    "## 9.14. Glossary\n",
    "\n",
    "- list\n",
    "- element\n",
    "- nested list\n",
    "- delimiter\n",
    "- equivalent\n",
    "- identical\n",
    "- reference\n",
    "- aliased\n",
    "- attribute"
   ]
  },
  {
   "cell_type": "markdown",
   "id": "c7d80e18",
   "metadata": {},
   "source": [
    "## 9.15. Exercises"
   ]
  },
  {
   "cell_type": "markdown",
   "id": "eccf6008",
   "metadata": {},
   "source": [
    "### 9.15.1. Ask a virtual assistant\n",
    "\n",
    "- contrafibularities가 어디에서 나온 단어야?\n",
    "    > \"**Contrafibularities**\"는 실제로 존재하는 정식 영어 단어는 아니고, **영국의 코미디 프로그램**에서 만들어진 **유머러스한 가짜 단어**입니다.\n",
    "    > \n",
    "    > ### 기원\n",
    "    > \n",
    "    > 이 단어는 **BBC**의 유명한 코미디 쇼 **\"The Two Ronnies\"** 중 하나인 스케치 **\"The Phantom Raspberry Blower of Old London Town\"** 또는 그와 유사한 코미디에서 등장했습니다. 특히 **Ronnie Barker**가 자주 사용하는 **말장난성 가짜 단어** 중 하나로 알려져 있습니다.\n",
    "    > \n",
    "    > ### 의미\n",
    "    > \n",
    "    > **Contrafibularities**는 의미 없는, 또는 과장된 복잡한 말을 흉내 내기 위해 만든 **\"pseudo-intellectual nonsense word\"**입니다. 즉, 말이 어렵고 지적인 것처럼 보이지만 사실 아무 의미도 없는 말입니다.\n",
    "    > \n",
    "    > 이런 단어는 영국식 유머에서 자주 사용되며, **정중하거나 지적인 척 하는 말투를 풍자**할 때 쓰입니다.\n",
    "    > \n",
    "    > ### 예시 (풍자적 대화)\n",
    "    > \n",
    "    > > A: How are you today, sir?\n",
    "    > > B: Oh, no contrafibularities, I assure you!\n",
    "    > \n",
    "    > 여기서 \"contrafibularities\"는 그냥 “문제 없어”, “별일 없어”라는 의미로 쓰이지만, 그 자체는 말도 안 되는 단어죠.\n",
    "    > \n",
    "    > ### 결론\n",
    "    > \n",
    "    > **\"Contrafibularities\"는 실제 단어가 아니라, 코미디에서 지어낸 말장난 단어**입니다. 영국식 유머 특유의 장난기 있는 언어유희로, 실생활에서는 쓰이지 않습니다.\n",
    "\n",
    "- anaspeptic는 어디서 유래된 단어야?\n",
    "    > \"**Anaspeptic**\" 역시 실제로 존재하는 정식 영어 단어는 아니며, **유머를 위해 만들어진 가짜 단어 (nonsense word)**입니다. 이 단어도 마찬가지로 **영국 코미디 프로그램**에서 유래했습니다.\n",
    "    > \n",
    "    > ## 🔍 유래\n",
    "    > \n",
    "    > \"**Anaspeptic**\"는 **Ronnie Barker**가 출연한 유명한 영국 코미디 쇼 **\"The Two Ronnies\"** 중 하나에서 사용된 **말장난 단어**입니다.\n",
    "    > \n",
    "    > 가장 유명한 예는 다음과 같은 말에서 나옵니다:\n",
    "    > \n",
    "    > > “I am sure you will find it most **anaspeptic**, **frasmotic**, even **compunctuous** to the highest degree.”\n",
    "    > \n",
    "    > 이런 식으로 말도 안 되는 형용사를 줄줄이 나열해서, 듣는 사람에게 **지적이고 전문적인 말처럼 보이지만, 실은 아무 의미도 없는** 유머를 주는 게 핵심입니다.\n",
    "    > \n",
    "    > ## 🤓 분석 (어원처럼 보이게 만든 방식)\n",
    "    > \n",
    "    > \"Anaspeptic\"는 실제 영어 단어들처럼 보이도록 만들어졌습니다:\n",
    "    > \n",
    "    > * 접두사 **\"ana-\"**: 그리스어에서 \"위로\", \"반대로\" 등으로 쓰이는 실제 접두사.\n",
    "    > * 어근 **\"-speptic\"**: 실제로는 존재하지 않지만, **\"antiseptic\"**이나 **\"dyspeptic\"** 같은 단어를 연상시킴.\n",
    "    > \n",
    "    > 이처럼 진짜 영어 단어의 구조를 흉내 내서, **진지하고 전문적인 말처럼 들리게 만드는 말장난**입니다.\n",
    "    > \n",
    "    > ## ✅ 결론\n",
    "    > \n",
    "    > * **\"Anaspeptic\"는 실제 단어가 아니라, 풍자 코미디에서 만들어진 가짜 단어**입니다.\n",
    "    > * **\"The Two Ronnies\"** 같은 영국 코미디 쇼에서 쓰인 **유머성 조어(nonsense word)**로, 일부러 복잡하게 말하는 걸 풍자하기 위한 표현입니다.\n",
    "    > * 이런 단어들은 **진지한 척 하는 말투나 과장된 언어 사용을 웃기게 풍자**하기 위해 자주 사용됩니다.\n",
    "\n",
    "- 실제로 위의 두 단어는 영국 TV쇼 Black Adder의 시즌 3, 에피소드 2 \"Ink and Incapability\"에서 나온 단어로 현재 2025년 10월 7일 chatGPT 기준(GPT-4o (Omni))으로도 정확하지 않은 대답을 하고 있음"
   ]
  },
  {
   "cell_type": "markdown",
   "id": "3d2db976",
   "metadata": {},
   "source": [
    "### 9.15.2. Exercise"
   ]
  },
  {
   "cell_type": "code",
   "execution_count": 57,
   "id": "83d36288",
   "metadata": {},
   "outputs": [],
   "source": [
    "def is_anagram(str1, str2):\n",
    "    return sorted(str1) == sorted(str2)"
   ]
  },
  {
   "cell_type": "code",
   "execution_count": 58,
   "id": "4996dc72",
   "metadata": {},
   "outputs": [
    {
     "name": "stdout",
     "output_type": "stream",
     "text": [
      "skate\n",
      "stake\n",
      "steak\n",
      "takes\n",
      "teaks\n"
     ]
    }
   ],
   "source": [
    "for word in word_list:\n",
    "    if is_anagram(word, 'takes'):\n",
    "        print(word)"
   ]
  },
  {
   "cell_type": "markdown",
   "id": "0912143f",
   "metadata": {},
   "source": [
    "### 9.15.3. Exercise"
   ]
  },
  {
   "cell_type": "code",
   "execution_count": 59,
   "id": "e2c77434",
   "metadata": {},
   "outputs": [
    {
     "data": {
      "text/plain": [
       "<reversed at 0x2ac41c3d9c0>"
      ]
     },
     "execution_count": 59,
     "metadata": {},
     "output_type": "execute_result"
    }
   ],
   "source": [
    "reversed('parrot')"
   ]
  },
  {
   "cell_type": "code",
   "execution_count": 60,
   "id": "28d09ab9",
   "metadata": {},
   "outputs": [
    {
     "data": {
      "text/plain": [
       "['t', 'o', 'r', 'r', 'a', 'p']"
      ]
     },
     "execution_count": 60,
     "metadata": {},
     "output_type": "execute_result"
    }
   ],
   "source": [
    "list(reversed('parrot'))"
   ]
  },
  {
   "cell_type": "code",
   "execution_count": 61,
   "id": "9fd0707f",
   "metadata": {},
   "outputs": [
    {
     "data": {
      "text/plain": [
       "'torrap'"
      ]
     },
     "execution_count": 61,
     "metadata": {},
     "output_type": "execute_result"
    }
   ],
   "source": [
    "''.join(reversed('parrot'))"
   ]
  },
  {
   "cell_type": "code",
   "execution_count": 62,
   "id": "b7fc6261",
   "metadata": {},
   "outputs": [],
   "source": [
    "def reverse_word(word):\n",
    "    return ''.join(reversed(word))"
   ]
  },
  {
   "cell_type": "code",
   "execution_count": 63,
   "id": "a3ecbada",
   "metadata": {},
   "outputs": [],
   "source": [
    "def is_palindrome(word):\n",
    "    return word == reverse_word(word)"
   ]
  },
  {
   "cell_type": "code",
   "execution_count": 64,
   "id": "39116b6f",
   "metadata": {},
   "outputs": [
    {
     "name": "stdout",
     "output_type": "stream",
     "text": [
      "deified\n",
      "halalah\n",
      "reifier\n",
      "repaper\n",
      "reviver\n",
      "rotator\n",
      "sememes\n"
     ]
    }
   ],
   "source": [
    "for word in word_list:\n",
    "    if len(word) >= 7 and is_palindrome(word):\n",
    "        print(word)"
   ]
  },
  {
   "cell_type": "markdown",
   "id": "f8adb385",
   "metadata": {},
   "source": [
    "### 9.15.4. Exercise"
   ]
  },
  {
   "cell_type": "code",
   "execution_count": 65,
   "id": "30bf6d91",
   "metadata": {},
   "outputs": [],
   "source": [
    "def reverse_sentence(sentence):\n",
    "    return ' '.join(reversed(sentence.split())).capitalize()"
   ]
  },
  {
   "cell_type": "code",
   "execution_count": 66,
   "id": "6e1e70e2",
   "metadata": {},
   "outputs": [
    {
     "data": {
      "text/plain": [
       "'Sentence this reverse'"
      ]
     },
     "execution_count": 66,
     "metadata": {},
     "output_type": "execute_result"
    }
   ],
   "source": [
    "reverse_sentence(\"Reverse this sentence\")"
   ]
  },
  {
   "cell_type": "code",
   "execution_count": 67,
   "id": "3d4d2158",
   "metadata": {},
   "outputs": [
    {
     "data": {
      "text/plain": [
       "'Python'"
      ]
     },
     "execution_count": 67,
     "metadata": {},
     "output_type": "execute_result"
    }
   ],
   "source": [
    "reverse_sentence('Python')"
   ]
  },
  {
   "cell_type": "code",
   "execution_count": 68,
   "id": "5f72db37",
   "metadata": {},
   "outputs": [
    {
     "data": {
      "text/plain": [
       "''"
      ]
     },
     "execution_count": 68,
     "metadata": {},
     "output_type": "execute_result"
    }
   ],
   "source": [
    "reverse_sentence('')"
   ]
  },
  {
   "cell_type": "code",
   "execution_count": 69,
   "id": "36627217",
   "metadata": {},
   "outputs": [
    {
     "data": {
      "text/plain": [
       "'One for all and all for one'"
      ]
     },
     "execution_count": 69,
     "metadata": {},
     "output_type": "execute_result"
    }
   ],
   "source": [
    "reverse_sentence('One for all and all for one')"
   ]
  },
  {
   "cell_type": "markdown",
   "id": "03df7b47",
   "metadata": {},
   "source": [
    "### 9.15.5. Exercise"
   ]
  },
  {
   "cell_type": "code",
   "execution_count": 70,
   "id": "67b57075",
   "metadata": {},
   "outputs": [],
   "source": [
    "def total_length(str_list):\n",
    "    total = 0\n",
    "    for str in str_list:\n",
    "        total += len(str)\n",
    "    return total"
   ]
  },
  {
   "cell_type": "code",
   "execution_count": 71,
   "id": "3f88b36f",
   "metadata": {},
   "outputs": [
    {
     "data": {
      "text/plain": [
       "902728"
      ]
     },
     "execution_count": 71,
     "metadata": {},
     "output_type": "execute_result"
    }
   ],
   "source": [
    "total_length(word_list)"
   ]
  }
 ],
 "metadata": {
  "kernelspec": {
   "display_name": "venv",
   "language": "python",
   "name": "python3"
  },
  "language_info": {
   "codemirror_mode": {
    "name": "ipython",
    "version": 3
   },
   "file_extension": ".py",
   "mimetype": "text/x-python",
   "name": "python",
   "nbconvert_exporter": "python",
   "pygments_lexer": "ipython3",
   "version": "3.12.9"
  }
 },
 "nbformat": 4,
 "nbformat_minor": 5
}
