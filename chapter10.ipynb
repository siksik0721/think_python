{
 "cells": [
  {
   "cell_type": "markdown",
   "id": "eeb1efaf",
   "metadata": {},
   "source": [
    "# 10. Dictionaries"
   ]
  },
  {
   "cell_type": "markdown",
   "id": "a287129f",
   "metadata": {},
   "source": [
    "## 10.1. A dictionary is a mapping"
   ]
  },
  {
   "cell_type": "code",
   "execution_count": 1,
   "id": "ce53ae07",
   "metadata": {},
   "outputs": [],
   "source": [
    "lst = ['zero', 'one', 'two']"
   ]
  },
  {
   "cell_type": "code",
   "execution_count": 2,
   "id": "2b2bb2af",
   "metadata": {},
   "outputs": [
    {
     "data": {
      "text/plain": [
       "'one'"
      ]
     },
     "execution_count": 2,
     "metadata": {},
     "output_type": "execute_result"
    }
   ],
   "source": [
    "lst[1]"
   ]
  },
  {
   "cell_type": "code",
   "execution_count": 3,
   "id": "bb8e4c01",
   "metadata": {},
   "outputs": [
    {
     "data": {
      "text/plain": [
       "{}"
      ]
     },
     "execution_count": 3,
     "metadata": {},
     "output_type": "execute_result"
    }
   ],
   "source": [
    "numbers = {}\n",
    "numbers"
   ]
  },
  {
   "cell_type": "code",
   "execution_count": 4,
   "id": "cabd8b52",
   "metadata": {},
   "outputs": [],
   "source": [
    "numbers['zero'] = 0"
   ]
  },
  {
   "cell_type": "code",
   "execution_count": 5,
   "id": "4f93946b",
   "metadata": {},
   "outputs": [
    {
     "data": {
      "text/plain": [
       "{'zero': 0}"
      ]
     },
     "execution_count": 5,
     "metadata": {},
     "output_type": "execute_result"
    }
   ],
   "source": [
    "numbers"
   ]
  },
  {
   "cell_type": "code",
   "execution_count": 6,
   "id": "6643aa27",
   "metadata": {},
   "outputs": [
    {
     "data": {
      "text/plain": [
       "{'zero': 0, 'one': 1, 'two': 2}"
      ]
     },
     "execution_count": 6,
     "metadata": {},
     "output_type": "execute_result"
    }
   ],
   "source": [
    "numbers['one'] = 1\n",
    "numbers['two'] = 2\n",
    "numbers"
   ]
  },
  {
   "cell_type": "code",
   "execution_count": 7,
   "id": "849c6254",
   "metadata": {},
   "outputs": [
    {
     "data": {
      "text/plain": [
       "2"
      ]
     },
     "execution_count": 7,
     "metadata": {},
     "output_type": "execute_result"
    }
   ],
   "source": [
    "numbers['two']"
   ]
  },
  {
   "cell_type": "code",
   "execution_count": 8,
   "id": "3cc92beb",
   "metadata": {},
   "outputs": [
    {
     "ename": "KeyError",
     "evalue": "'three'",
     "output_type": "error",
     "traceback": [
      "\u001b[31m---------------------------------------------------------------------------\u001b[39m",
      "\u001b[31mKeyError\u001b[39m                                  Traceback (most recent call last)",
      "\u001b[36mCell\u001b[39m\u001b[36m \u001b[39m\u001b[32mIn[8]\u001b[39m\u001b[32m, line 1\u001b[39m\n\u001b[32m----> \u001b[39m\u001b[32m1\u001b[39m \u001b[43mnumbers\u001b[49m\u001b[43m[\u001b[49m\u001b[33;43m'\u001b[39;49m\u001b[33;43mthree\u001b[39;49m\u001b[33;43m'\u001b[39;49m\u001b[43m]\u001b[49m\n",
      "\u001b[31mKeyError\u001b[39m: 'three'"
     ]
    }
   ],
   "source": [
    "numbers['three']"
   ]
  },
  {
   "cell_type": "code",
   "execution_count": 9,
   "id": "82e8ac91",
   "metadata": {},
   "outputs": [
    {
     "data": {
      "text/plain": [
       "3"
      ]
     },
     "execution_count": 9,
     "metadata": {},
     "output_type": "execute_result"
    }
   ],
   "source": [
    "len(numbers)"
   ]
  },
  {
   "cell_type": "markdown",
   "id": "1e0e07a8",
   "metadata": {},
   "source": [
    "## 10.2. Creating dictionaries"
   ]
  },
  {
   "cell_type": "code",
   "execution_count": 10,
   "id": "3c690e14",
   "metadata": {},
   "outputs": [],
   "source": [
    "numbers = {'zero': 0, 'one': 1, 'two': 2}"
   ]
  },
  {
   "cell_type": "code",
   "execution_count": 11,
   "id": "56ea7b82",
   "metadata": {},
   "outputs": [
    {
     "data": {
      "text/plain": [
       "{}"
      ]
     },
     "execution_count": 11,
     "metadata": {},
     "output_type": "execute_result"
    }
   ],
   "source": [
    "empty = dict()\n",
    "empty"
   ]
  },
  {
   "cell_type": "code",
   "execution_count": 12,
   "id": "9c0132a7",
   "metadata": {},
   "outputs": [
    {
     "data": {
      "text/plain": [
       "{'zero': 0, 'one': 1, 'two': 2}"
      ]
     },
     "execution_count": 12,
     "metadata": {},
     "output_type": "execute_result"
    }
   ],
   "source": [
    "numbers_copy = dict(numbers)\n",
    "numbers_copy"
   ]
  },
  {
   "cell_type": "markdown",
   "id": "6babaaa9",
   "metadata": {},
   "source": [
    "## 10.3. The in operator"
   ]
  },
  {
   "cell_type": "code",
   "execution_count": 13,
   "id": "efb3261d",
   "metadata": {},
   "outputs": [
    {
     "data": {
      "text/plain": [
       "True"
      ]
     },
     "execution_count": 13,
     "metadata": {},
     "output_type": "execute_result"
    }
   ],
   "source": [
    "'one' in numbers"
   ]
  },
  {
   "cell_type": "code",
   "execution_count": 14,
   "id": "be8ecf58",
   "metadata": {},
   "outputs": [
    {
     "data": {
      "text/plain": [
       "False"
      ]
     },
     "execution_count": 14,
     "metadata": {},
     "output_type": "execute_result"
    }
   ],
   "source": [
    "1 in numbers"
   ]
  },
  {
   "cell_type": "code",
   "execution_count": 15,
   "id": "62dd714e",
   "metadata": {},
   "outputs": [
    {
     "data": {
      "text/plain": [
       "True"
      ]
     },
     "execution_count": 15,
     "metadata": {},
     "output_type": "execute_result"
    }
   ],
   "source": [
    "1 in numbers.values()"
   ]
  },
  {
   "cell_type": "code",
   "execution_count": 16,
   "id": "52cbe301",
   "metadata": {},
   "outputs": [
    {
     "data": {
      "text/plain": [
       "113783"
      ]
     },
     "execution_count": 16,
     "metadata": {},
     "output_type": "execute_result"
    }
   ],
   "source": [
    "word_list = open('words.txt', encoding='utf-8').read().split()\n",
    "len(word_list)"
   ]
  },
  {
   "cell_type": "code",
   "execution_count": 17,
   "id": "2aaae466",
   "metadata": {},
   "outputs": [],
   "source": [
    "def reverse_word(word):\n",
    "    return ''.join(reversed(word))"
   ]
  },
  {
   "cell_type": "code",
   "execution_count": 18,
   "id": "64d715ed",
   "metadata": {},
   "outputs": [],
   "source": [
    "def too_slow():\n",
    "    count = 0\n",
    "    for word in word_list:\n",
    "        if reverse_word(word) in word_list:\n",
    "            count += 1\n",
    "    return count"
   ]
  },
  {
   "cell_type": "code",
   "execution_count": 19,
   "id": "e1ef0467",
   "metadata": {},
   "outputs": [
    {
     "data": {
      "text/plain": [
       "12946571089"
      ]
     },
     "execution_count": 19,
     "metadata": {},
     "output_type": "execute_result"
    }
   ],
   "source": [
    "len(word_list) ** 2"
   ]
  },
  {
   "cell_type": "code",
   "execution_count": 20,
   "id": "8f99ab3b",
   "metadata": {},
   "outputs": [],
   "source": [
    "word_dict = {}\n",
    "for word in word_list:\n",
    "    word_dict[word] = 1"
   ]
  },
  {
   "cell_type": "code",
   "execution_count": 21,
   "id": "abd26301",
   "metadata": {},
   "outputs": [],
   "source": [
    "def much_faster():\n",
    "    count = 0\n",
    "    for word in word_dict:\n",
    "        if reverse_word(word) in word_dict:\n",
    "            count += 1\n",
    "    return count"
   ]
  },
  {
   "cell_type": "markdown",
   "id": "4b0bb36e",
   "metadata": {},
   "source": [
    "## 10.4. A collection of counters"
   ]
  },
  {
   "cell_type": "code",
   "execution_count": 22,
   "id": "94f0b956",
   "metadata": {},
   "outputs": [],
   "source": [
    "counter = {}"
   ]
  },
  {
   "cell_type": "code",
   "execution_count": 23,
   "id": "1c11ccdc",
   "metadata": {},
   "outputs": [],
   "source": [
    "counter['a'] = 1"
   ]
  },
  {
   "cell_type": "code",
   "execution_count": 24,
   "id": "3b850724",
   "metadata": {},
   "outputs": [],
   "source": [
    "counter['a'] += 1"
   ]
  },
  {
   "cell_type": "code",
   "execution_count": 25,
   "id": "7071e07b",
   "metadata": {},
   "outputs": [
    {
     "data": {
      "text/plain": [
       "{'a': 2}"
      ]
     },
     "execution_count": 25,
     "metadata": {},
     "output_type": "execute_result"
    }
   ],
   "source": [
    "counter"
   ]
  },
  {
   "cell_type": "code",
   "execution_count": 26,
   "id": "baac3176",
   "metadata": {},
   "outputs": [],
   "source": [
    "def value_counts(string):\n",
    "    counter = {}\n",
    "    for letter in string:\n",
    "        if letter not in counter:\n",
    "            counter[letter] = 1\n",
    "        else:\n",
    "            counter[letter] += 1\n",
    "    return counter"
   ]
  },
  {
   "cell_type": "code",
   "execution_count": 27,
   "id": "4de6379d",
   "metadata": {},
   "outputs": [
    {
     "data": {
      "text/plain": [
       "{'b': 1, 'r': 2, 'o': 2, 'n': 1, 't': 1, 's': 2, 'a': 1, 'u': 2}"
      ]
     },
     "execution_count": 27,
     "metadata": {},
     "output_type": "execute_result"
    }
   ],
   "source": [
    "counter = value_counts('brontosaurus')\n",
    "counter"
   ]
  },
  {
   "cell_type": "markdown",
   "id": "79b3b7ff",
   "metadata": {},
   "source": [
    "## 10.5. Looping and dictionaries"
   ]
  },
  {
   "cell_type": "code",
   "execution_count": 28,
   "id": "ee59fa3e",
   "metadata": {},
   "outputs": [
    {
     "data": {
      "text/plain": [
       "{'b': 1, 'a': 3, 'n': 2}"
      ]
     },
     "execution_count": 28,
     "metadata": {},
     "output_type": "execute_result"
    }
   ],
   "source": [
    "counter = value_counts('banana')\n",
    "counter"
   ]
  },
  {
   "cell_type": "code",
   "execution_count": 29,
   "id": "bec3c31d",
   "metadata": {},
   "outputs": [
    {
     "name": "stdout",
     "output_type": "stream",
     "text": [
      "b\n",
      "a\n",
      "n\n"
     ]
    }
   ],
   "source": [
    "for key in counter:\n",
    "    print(key)"
   ]
  },
  {
   "cell_type": "code",
   "execution_count": 30,
   "id": "49a5aae5",
   "metadata": {},
   "outputs": [
    {
     "name": "stdout",
     "output_type": "stream",
     "text": [
      "1\n",
      "3\n",
      "2\n"
     ]
    }
   ],
   "source": [
    "for value in counter.values():\n",
    "    print(value)"
   ]
  },
  {
   "cell_type": "code",
   "execution_count": 31,
   "id": "cc26c78c",
   "metadata": {},
   "outputs": [
    {
     "name": "stdout",
     "output_type": "stream",
     "text": [
      "b 1\n",
      "a 3\n",
      "n 2\n"
     ]
    }
   ],
   "source": [
    "for key in counter:\n",
    "    value = counter[key]\n",
    "    print(key, value)"
   ]
  },
  {
   "cell_type": "markdown",
   "id": "5ce592ea",
   "metadata": {},
   "source": [
    "## 10.6. Lists and dictionaries"
   ]
  },
  {
   "cell_type": "code",
   "execution_count": 32,
   "id": "97250ce2",
   "metadata": {},
   "outputs": [
    {
     "data": {
      "text/plain": [
       "{4: ['r', 'o', 'u', 's']}"
      ]
     },
     "execution_count": 32,
     "metadata": {},
     "output_type": "execute_result"
    }
   ],
   "source": [
    "d = {4: ['r', 'o', 'u', 's']}\n",
    "d"
   ]
  },
  {
   "cell_type": "code",
   "execution_count": 33,
   "id": "3592881c",
   "metadata": {},
   "outputs": [
    {
     "ename": "TypeError",
     "evalue": "unhashable type: 'list'",
     "output_type": "error",
     "traceback": [
      "\u001b[31m---------------------------------------------------------------------------\u001b[39m",
      "\u001b[31mTypeError\u001b[39m                                 Traceback (most recent call last)",
      "\u001b[36mCell\u001b[39m\u001b[36m \u001b[39m\u001b[32mIn[33]\u001b[39m\u001b[32m, line 2\u001b[39m\n\u001b[32m      1\u001b[39m letters = \u001b[38;5;28mlist\u001b[39m(\u001b[33m'\u001b[39m\u001b[33mabcd\u001b[39m\u001b[33m'\u001b[39m)\n\u001b[32m----> \u001b[39m\u001b[32m2\u001b[39m \u001b[43md\u001b[49m\u001b[43m[\u001b[49m\u001b[43mletters\u001b[49m\u001b[43m]\u001b[49m = \u001b[32m4\u001b[39m\n",
      "\u001b[31mTypeError\u001b[39m: unhashable type: 'list'"
     ]
    }
   ],
   "source": [
    "letters = list('abcd')\n",
    "d[letters] = 4"
   ]
  },
  {
   "cell_type": "markdown",
   "id": "3ce86b20",
   "metadata": {},
   "source": [
    "## 10.7. Accumulating a list"
   ]
  },
  {
   "cell_type": "code",
   "execution_count": 34,
   "id": "8c2c2aff",
   "metadata": {},
   "outputs": [],
   "source": [
    "def is_palindrome(word):\n",
    "    \"\"\"Check if a word is a palindrome.\"\"\"\n",
    "    return reverse_word(word) == word"
   ]
  },
  {
   "cell_type": "code",
   "execution_count": 35,
   "id": "9a7bc195",
   "metadata": {},
   "outputs": [
    {
     "data": {
      "text/plain": [
       "91"
      ]
     },
     "execution_count": 35,
     "metadata": {},
     "output_type": "execute_result"
    }
   ],
   "source": [
    "count = 0\n",
    "\n",
    "for word in word_dict:\n",
    "    if is_palindrome(word):\n",
    "        count += 1\n",
    "\n",
    "count"
   ]
  },
  {
   "cell_type": "code",
   "execution_count": 36,
   "id": "19803aec",
   "metadata": {},
   "outputs": [
    {
     "data": {
      "text/plain": [
       "['aa', 'aba', 'aga', 'aha', 'ala', 'alula', 'ama', 'ana', 'anna', 'ava']"
      ]
     },
     "execution_count": 36,
     "metadata": {},
     "output_type": "execute_result"
    }
   ],
   "source": [
    "palindromes = []\n",
    "\n",
    "for word in word_dict:\n",
    "    if is_palindrome(word):\n",
    "        palindromes.append(word)\n",
    "\n",
    "palindromes[:10]"
   ]
  },
  {
   "cell_type": "code",
   "execution_count": 37,
   "id": "5d3e94c5",
   "metadata": {},
   "outputs": [
    {
     "data": {
      "text/plain": [
       "['deified', 'halalah', 'reifier', 'repaper', 'reviver', 'rotator', 'sememes']"
      ]
     },
     "execution_count": 37,
     "metadata": {},
     "output_type": "execute_result"
    }
   ],
   "source": [
    "long_palindromes = []\n",
    "\n",
    "for word in palindromes:\n",
    "    if len(word) >= 7:\n",
    "        long_palindromes.append(word)\n",
    "\n",
    "long_palindromes"
   ]
  },
  {
   "cell_type": "markdown",
   "id": "28cc6c27",
   "metadata": {},
   "source": [
    "## 10.8. Memos"
   ]
  },
  {
   "cell_type": "code",
   "execution_count": 38,
   "id": "216ba35d",
   "metadata": {},
   "outputs": [],
   "source": [
    "def fibonacci(n):\n",
    "    if n == 0:\n",
    "        return 0\n",
    "    \n",
    "    if n == 1:\n",
    "        return 1\n",
    "    \n",
    "    return fibonacci(n - 1) + fibonacci(n - 2)"
   ]
  },
  {
   "cell_type": "code",
   "execution_count": 39,
   "id": "68d01115",
   "metadata": {},
   "outputs": [],
   "source": [
    "known = {0:0, 1:1}\n",
    "\n",
    "def fibonacci_memo(n):\n",
    "    if n in known:\n",
    "        return known[n]\n",
    "    \n",
    "    res = fibonacci_memo(n - 1) + fibonacci_memo(n - 2)\n",
    "    known[n] = res\n",
    "    return res"
   ]
  },
  {
   "cell_type": "code",
   "execution_count": 40,
   "id": "838c1cd1",
   "metadata": {},
   "outputs": [
    {
     "data": {
      "text/plain": [
       "102334155"
      ]
     },
     "execution_count": 40,
     "metadata": {},
     "output_type": "execute_result"
    }
   ],
   "source": [
    "fibonacci(40)"
   ]
  },
  {
   "cell_type": "code",
   "execution_count": 41,
   "id": "0392784d",
   "metadata": {},
   "outputs": [
    {
     "data": {
      "text/plain": [
       "102334155"
      ]
     },
     "execution_count": 41,
     "metadata": {},
     "output_type": "execute_result"
    }
   ],
   "source": [
    "fibonacci_memo(40)"
   ]
  },
  {
   "cell_type": "markdown",
   "id": "df45bc33",
   "metadata": {},
   "source": [
    "## 10.9. Debugging\n",
    "\n",
    "- 크기가 큰 dataset에 대한 debugging\n",
    "    1. 입력 크기 감소\n",
    "        - 처음엔 작은 크기의 입력으로 시작하고, 점차 늘려가면서 확인\n",
    "    2. 요약 및 타입 확인\n",
    "        - 모든 경우를 출력하여 확인하지 말고 요약해서 확인\n",
    "        - 런타임 오류 방지를 위해 타입을 확인\n",
    "    3. 자체 검사 작성\n",
    "        - 정상 검사(sanity check): 나올 수 있는 값인지 정상 여부 검사\n",
    "        - 일관성 검사(consistency check): 서로 다른 방식으로 계산한 결과를 비교하여 일관성 확인\n",
    "    4. 출력 형식 지정\n",
    "        - `pprint` 등을 활용하여 사람이 읽기 쉬운 형식으로 표시"
   ]
  },
  {
   "cell_type": "markdown",
   "id": "ea754a60",
   "metadata": {},
   "source": [
    "## 10.10. Glossary\n",
    "\n",
    "- dictionary\n",
    "- item\n",
    "- key\n",
    "- value\n",
    "- mapping\n",
    "- hash table\n",
    "- hashable\n",
    "- hash function\n",
    "- accumulator\n",
    "- filtering\n",
    "- call graph\n",
    "- memo"
   ]
  },
  {
   "cell_type": "markdown",
   "id": "8bf906e7",
   "metadata": {},
   "source": [
    "## 10.11. Exercises"
   ]
  },
  {
   "cell_type": "markdown",
   "id": "f8cffb8d",
   "metadata": {},
   "source": [
    "### 10.11.1. Ask an assistant\n",
    "\n",
    "- 왜 파이썬 딕셔너리의 키는 hashable해야 하지?\n",
    "    > 좋은 질문이에요! 파이썬 딕셔너리에서 **키(key)가 hashable해야 하는 이유**는 딕셔너리의 **구현 방식**과 관련이 있습니다. 간단히 말하면, 파이썬 딕셔너리는 내부적으로 **해시 테이블(Hash Table)** 구조를 사용하기 때문입니다.\n",
    "    > \n",
    "    > ### 🔍 해시 테이블이란?\n",
    "    > \n",
    "    > 해시 테이블은 다음과 같은 방식으로 데이터를 저장하는 자료구조입니다:\n",
    "    > \n",
    "    > 1. **키(key)**에 대해 `hash()` 함수를 적용해 **해시값(hash value)**을 구함.\n",
    "    > 2. 이 해시값을 기반으로 **어디에 저장할지(인덱스)**를 계산함.\n",
    "    > 3. 그 위치에 **값(value)**를 저장함.\n",
    "    > \n",
    "    > 이렇게 하면 검색(lookup) 속도가 매우 빠릅니다 — 평균 시간복잡도는 O(1)입니다.\n",
    "    > \n",
    "    > ### ✅ 키가 hashable해야 하는 이유\n",
    "    > \n",
    "    > 딕셔너리 키는 다음 두 가지 조건을 만족해야 합니다:\n",
    "    > \n",
    "    > 1. **해시 가능해야 함 (`__hash__()` 메서드를 가지고 있어야 함)**\n",
    "    >    그래야 딕셔너리가 내부에서 키의 해시값을 계산해서 어디에 저장할지 결정할 수 있어요.\n",
    "    > 2. **불변(immutable)해야 함 (동등 비교 시 일관성 유지)**\n",
    "    >    키가 변할 수 있다면, 이미 저장된 위치에서 검색이 불가능해질 수 있어요.\n",
    "    >    예: 리스트는 내용을 바꿀 수 있기 때문에 해시값이 바뀔 수도 있고, 이는 딕셔너리 입장에서 큰 문제입니다.\n",
    "    > \n",
    "    > ### 📌 예시\n",
    "    > \n",
    "    > ```python\n",
    "    > my_dict = {}\n",
    "    > my_dict[[1, 2, 3]] = \"hello\"\n",
    "    > ```\n",
    "    > \n",
    "    > 이 코드는 실행 시 다음과 같은 에러를 냅니다:\n",
    "    > \n",
    "    > ```\n",
    "    > TypeError: unhashable type: 'list'\n",
    "    > ```\n",
    "    > \n",
    "    > 왜냐하면 리스트는 mutable하고, 해시 불가능하기 때문입니다.\n",
    "    > \n",
    "    > 반면에 튜플은 immutable이고 hashable이면 키로 쓸 수 있어요:\n",
    "    > \n",
    "    > ```python\n",
    "    > my_dict = {}\n",
    "    > my_dict[(1, 2, 3)] = \"hello\"  # OK\n",
    "    > ```\n",
    "    > \n",
    "    > ### 🤔 어떤 객체가 hashable한가?\n",
    "    > \n",
    "    > 파이썬에서 `hashable`하려면 다음 조건을 만족해야 합니다:\n",
    "    > \n",
    "    > * `__hash__()` 메서드가 정의되어 있어야 함.\n",
    "    > * `__eq__()`와 함께 일관되게 작동해야 함.\n",
    "    > * 객체가 immutable해야 함 (보통은).\n",
    "    > \n",
    "    > ### 🧠 요약\n",
    "    > \n",
    "    > | 조건              | 이유                   |\n",
    "    > | --------------- | -------------------- |\n",
    "    > | `__hash__()` 구현 | 딕셔너리가 키의 위치를 계산하기 위해 |\n",
    "    > | `__eq__()` 구현   | 키가 같다는 걸 판단하기 위해     |\n",
    "    > | 불변성 (immutable) | 해시값이 변하지 않도록 하기 위해   |\n",
    "\n",
    "- 파이썬에서 문자열 리스트로 set을 만들고 문자열이 set의 원소인지 어떻게 확인해?\n",
    "    > 파이썬에서 **문자열 리스트로 `set`을 만들고**, 특정 문자열이 **그 `set`의 원소인지 확인하는 방법**은 아주 간단합니다. 아래에 예제와 함께 설명드릴게요.\n",
    "    > \n",
    "    > ### ✅ 1. 문자열 리스트로 `set` 만들기\n",
    "    > \n",
    "    > ```python\n",
    "    > words = [\"apple\", \"banana\", \"cherry\"]\n",
    "    > word_set = set(words)\n",
    "    > ```\n",
    "    > \n",
    "    > 이렇게 하면 `word_set`은 중복 없는 문자열들의 집합(set)이 됩니다:\n",
    "    > \n",
    "    > ```python\n",
    "    > {'apple', 'banana', 'cherry'}\n",
    "    > ```\n",
    "    > \n",
    "    > ### ✅ 2. 문자열이 set에 있는지 확인하기\n",
    "    > \n",
    "    > ```python\n",
    "    > \"banana\" in word_set   # True\n",
    "    > \"orange\" in word_set   # False\n",
    "    > ```\n",
    "    > \n",
    "    > `in` 연산자는 집합에 **해당 값이 존재하는지 여부**를 Boolean 값으로 반환합니다.\n",
    "    > \n",
    "    > ### 🔍 전체 예제\n",
    "    > \n",
    "    > ```python\n",
    "    > words = [\"apple\", \"banana\", \"cherry\"]\n",
    "    > word_set = set(words)\n",
    "    > \n",
    "    > # 문자열 확인\n",
    "    > print(\"banana\" in word_set)  # 출력: True\n",
    "    > print(\"orange\" in word_set)  # 출력: False\n",
    "    > ```\n",
    "    > \n",
    "    > ### ⏱️ 성능 팁\n",
    "    > \n",
    "    > `set`은 평균적으로 검색 속도가 **O(1)**이기 때문에, 리스트보다 **훨씬 빠르게** 원소 존재 여부를 확인할 수 있습니다.\n",
    "    > \n",
    "    > 예:\n",
    "    > ```python\n",
    "    > \"banana\" in words      # 리스트 검색 → O(n)\n",
    "    > \"banana\" in word_set   # 셋 검색 → O(1)\n",
    "    > ```\n",
    "    > \n",
    "    > 필요하면 리스트에서 바로 확인하는 것도 가능하지만, 많은 검색을 해야 한다면 `set`을 사용하는 게 훨씬 효율적이에요."
   ]
  },
  {
   "cell_type": "markdown",
   "id": "2f1e1605",
   "metadata": {},
   "source": [
    "### 10.11.2. Exercise"
   ]
  },
  {
   "cell_type": "code",
   "execution_count": 42,
   "id": "2c8e1b9c",
   "metadata": {},
   "outputs": [],
   "source": [
    "counter = value_counts('brontosaurus')"
   ]
  },
  {
   "cell_type": "code",
   "execution_count": 43,
   "id": "141d16ff",
   "metadata": {},
   "outputs": [
    {
     "data": {
      "text/plain": [
       "1"
      ]
     },
     "execution_count": 43,
     "metadata": {},
     "output_type": "execute_result"
    }
   ],
   "source": [
    "counter.get('b', 0)"
   ]
  },
  {
   "cell_type": "code",
   "execution_count": 44,
   "id": "2d6daabc",
   "metadata": {},
   "outputs": [
    {
     "data": {
      "text/plain": [
       "0"
      ]
     },
     "execution_count": 44,
     "metadata": {},
     "output_type": "execute_result"
    }
   ],
   "source": [
    "counter.get('c', 0)"
   ]
  },
  {
   "cell_type": "code",
   "execution_count": 45,
   "id": "e3ad94fe",
   "metadata": {},
   "outputs": [],
   "source": [
    "def value_counts(string):\n",
    "    counter = {}\n",
    "    for letter in string:\n",
    "        counter[letter] = counter.get(letter, 0) + 1\n",
    "    return counter"
   ]
  },
  {
   "cell_type": "code",
   "execution_count": 46,
   "id": "15ba3def",
   "metadata": {},
   "outputs": [
    {
     "data": {
      "text/plain": [
       "{'b': 1, 'r': 2, 'o': 2, 'n': 1, 't': 1, 's': 2, 'a': 1, 'u': 2}"
      ]
     },
     "execution_count": 46,
     "metadata": {},
     "output_type": "execute_result"
    }
   ],
   "source": [
    "counter = value_counts('brontosaurus')\n",
    "counter"
   ]
  },
  {
   "cell_type": "markdown",
   "id": "678a61b3",
   "metadata": {},
   "source": [
    "### 10.11.3. Exercise"
   ]
  },
  {
   "cell_type": "code",
   "execution_count": 47,
   "id": "c3e4b1bd",
   "metadata": {},
   "outputs": [],
   "source": [
    "def has_duplicates(seq):\n",
    "    counter = {}\n",
    "    for s in seq:\n",
    "        if s in counter:\n",
    "            return True\n",
    "        else:\n",
    "            counter[s] = True\n",
    "    return False"
   ]
  },
  {
   "cell_type": "code",
   "execution_count": 48,
   "id": "adf1aba1",
   "metadata": {},
   "outputs": [
    {
     "data": {
      "text/plain": [
       "['ambidextrously',\n",
       " 'lycanthropies',\n",
       " 'metalworkings',\n",
       " 'multibranched',\n",
       " 'unpredictably']"
      ]
     },
     "execution_count": 48,
     "metadata": {},
     "output_type": "execute_result"
    }
   ],
   "source": [
    "no_repeats = []\n",
    "\n",
    "for word in word_dict:\n",
    "    if len(word) > 12 and not has_duplicates(word):\n",
    "        no_repeats.append(word)\n",
    "\n",
    "no_repeats"
   ]
  },
  {
   "cell_type": "markdown",
   "id": "878d3f3f",
   "metadata": {},
   "source": [
    "### 10.11.4. Exercise"
   ]
  },
  {
   "cell_type": "code",
   "execution_count": 49,
   "id": "bdc50b65",
   "metadata": {},
   "outputs": [],
   "source": [
    "def find_repeats(counter):\n",
    "    \"\"\"Makes a list of keys with values greater than 1.\n",
    "    \n",
    "    counter: dictionary that maps from keys to counts\n",
    "    \n",
    "    returns: list of keys\n",
    "    \"\"\"\n",
    "    repeats = []\n",
    "    for key in counter:\n",
    "        if counter[key] > 1:\n",
    "            repeats.append(key)\n",
    "    return repeats"
   ]
  },
  {
   "cell_type": "code",
   "execution_count": 50,
   "id": "26f14e2d",
   "metadata": {},
   "outputs": [
    {
     "data": {
      "text/plain": [
       "{'b': 1, 'a': 3, 'n': 2}"
      ]
     },
     "execution_count": 50,
     "metadata": {},
     "output_type": "execute_result"
    }
   ],
   "source": [
    "counter1 = value_counts('banana')\n",
    "counter1"
   ]
  },
  {
   "cell_type": "code",
   "execution_count": 51,
   "id": "514a3d27",
   "metadata": {},
   "outputs": [
    {
     "data": {
      "text/plain": [
       "['a', 'n']"
      ]
     },
     "execution_count": 51,
     "metadata": {},
     "output_type": "execute_result"
    }
   ],
   "source": [
    "repeats = find_repeats(counter1)\n",
    "repeats"
   ]
  },
  {
   "cell_type": "code",
   "execution_count": 52,
   "id": "845fbd8d",
   "metadata": {},
   "outputs": [
    {
     "data": {
      "text/plain": [
       "[1, 2]"
      ]
     },
     "execution_count": 52,
     "metadata": {},
     "output_type": "execute_result"
    }
   ],
   "source": [
    "counter1 = value_counts([1, 2, 3, 2, 1])\n",
    "repeats = find_repeats(counter1)\n",
    "repeats"
   ]
  },
  {
   "cell_type": "markdown",
   "id": "ff64e799",
   "metadata": {},
   "source": [
    "### 10.11.5. Exercise"
   ]
  },
  {
   "cell_type": "code",
   "execution_count": 53,
   "id": "0d1631dc",
   "metadata": {},
   "outputs": [],
   "source": [
    "counter1 = value_counts('brontosaurus')\n",
    "counter2 = value_counts('apatosaurus')"
   ]
  },
  {
   "cell_type": "code",
   "execution_count": 54,
   "id": "8ceaf714",
   "metadata": {},
   "outputs": [],
   "source": [
    "def add_counters(counter1, counter2):\n",
    "    rslt = dict(counter1)\n",
    "    for key in counter2:\n",
    "        if key in rslt:\n",
    "            rslt[key] += counter2[key]\n",
    "        else:\n",
    "            rslt[key] = counter2[key]\n",
    "    return rslt"
   ]
  },
  {
   "cell_type": "code",
   "execution_count": 55,
   "id": "2f4a04f1",
   "metadata": {},
   "outputs": [
    {
     "data": {
      "text/plain": [
       "{'b': 1, 'r': 3, 'o': 3, 'n': 1, 't': 2, 's': 4, 'a': 4, 'u': 4, 'p': 1}"
      ]
     },
     "execution_count": 55,
     "metadata": {},
     "output_type": "execute_result"
    }
   ],
   "source": [
    "add_counters(counter1, counter2)"
   ]
  },
  {
   "cell_type": "markdown",
   "id": "85e5e76d",
   "metadata": {},
   "source": [
    "### 10.11.6. Exercise"
   ]
  },
  {
   "cell_type": "code",
   "execution_count": 56,
   "id": "4c02f855",
   "metadata": {},
   "outputs": [
    {
     "data": {
      "text/plain": [
       "'shoe'"
      ]
     },
     "execution_count": 56,
     "metadata": {},
     "output_type": "execute_result"
    }
   ],
   "source": [
    "word = 'schooled'\n",
    "first = word[0:None:2]\n",
    "first"
   ]
  },
  {
   "cell_type": "code",
   "execution_count": 57,
   "id": "a844db50",
   "metadata": {},
   "outputs": [
    {
     "data": {
      "text/plain": [
       "'cold'"
      ]
     },
     "execution_count": 57,
     "metadata": {},
     "output_type": "execute_result"
    }
   ],
   "source": [
    "second = word[1::2]\n",
    "second"
   ]
  },
  {
   "cell_type": "code",
   "execution_count": 58,
   "id": "64c3e30e",
   "metadata": {},
   "outputs": [],
   "source": [
    "def is_interlocking(word):\n",
    "    first = word[::2]\n",
    "    second = word[1::2]\n",
    "    return first in word_dict and second in word_dict"
   ]
  },
  {
   "cell_type": "code",
   "execution_count": 59,
   "id": "ed3f2623",
   "metadata": {},
   "outputs": [
    {
     "name": "stdout",
     "output_type": "stream",
     "text": [
      "adroitly aril doty\n",
      "agrarians arras gain\n",
      "alienees aine lees\n",
      "arrestee arse rete\n",
      "arrestees arses rete\n",
      "ballooned blond aloe\n",
      "barmaids brad amis\n",
      "baudrons burn ados\n",
      "beakless bals ekes\n",
      "beamless bals emes\n",
      "bloodred bode lord\n",
      "blueness buns lees\n",
      "booklets bolt okes\n",
      "burseeds bred uses\n",
      "calliope clip aloe\n",
      "calliopes clips aloe\n",
      "cellules clue ells\n",
      "cheerier cere heir\n",
      "colludes clue olds\n",
      "cookless cols okes\n",
      "coolness cons oles\n",
      "countess cuts ones\n",
      "couplets cult opes\n",
      "dainties dite anis\n",
      "doorless dols ores\n",
      "dourness duns ores\n",
      "fairness fins ares\n",
      "fleetest fets leet\n",
      "fleetness fetes lens\n",
      "foulness funs oles\n",
      "freeness fens rees\n",
      "friended fine redd\n",
      "furrings frig urns\n",
      "goalless gals oles\n",
      "greeniest genet reis\n",
      "greyness gens ryes\n",
      "grounded gone rudd\n",
      "hooklets holt okes\n",
      "ignitron into girn\n",
      "isleless ills sees\n",
      "mailless mils ales\n",
      "moonless mols ones\n",
      "moonlets molt ones\n",
      "moonsets most ones\n",
      "neutrals nurl etas\n",
      "oghamist ohms gait\n",
      "parietes pree aits\n",
      "peakless pals ekes\n",
      "plainness panes lins\n",
      "playless pals lyes\n",
      "pleonasm pens loam\n",
      "poorness pons ores\n",
      "psalmist pams slit\n",
      "rainouts riot anus\n",
      "ruinable rial unbe\n",
      "sapiences specs aine\n",
      "schooled shoe cold\n",
      "scurries sure cris\n",
      "seamless sals emes\n",
      "seigneurs sinus eger\n",
      "shoalest sols haet\n",
      "shoalier sole hair\n",
      "skerries sere kris\n",
      "smearier sere mair\n",
      "soapless sals opes\n",
      "sourness suns ores\n",
      "spoonies sone pois\n",
      "spurning sunn prig\n",
      "stainless sanes tils\n",
      "sweetest sets weet\n",
      "tailless tils ales\n",
      "tautness tuns ates\n",
      "terrenes tree erns\n",
      "theorems term hoes\n",
      "trientes tine rets\n",
      "triolets tilt roes\n",
      "trueness tuns rees\n",
      "vainness vins anes\n",
      "voidness vins odes\n",
      "weakness wans ekes\n",
      "weirdness wides erns\n",
      "weirdoes wide eros\n"
     ]
    }
   ],
   "source": [
    "for word in word_list:\n",
    "    if len(word) >= 8 and is_interlocking(word):\n",
    "        first = word[0::2]\n",
    "        second = word[1::2]\n",
    "        print(word, first, second)"
   ]
  }
 ],
 "metadata": {
  "kernelspec": {
   "display_name": "venv",
   "language": "python",
   "name": "python3"
  },
  "language_info": {
   "codemirror_mode": {
    "name": "ipython",
    "version": 3
   },
   "file_extension": ".py",
   "mimetype": "text/x-python",
   "name": "python",
   "nbconvert_exporter": "python",
   "pygments_lexer": "ipython3",
   "version": "3.12.9"
  }
 },
 "nbformat": 4,
 "nbformat_minor": 5
}
